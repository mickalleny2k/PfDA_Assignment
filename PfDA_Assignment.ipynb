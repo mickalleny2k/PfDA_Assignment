{
 "cells": [
  {
   "cell_type": "markdown",
   "id": "64987554",
   "metadata": {},
   "source": [
    "# Programming for Data Analysis Assignment"
   ]
  },
  {
   "cell_type": "code",
   "execution_count": 1,
   "id": "812b1dba",
   "metadata": {
    "scrolled": true
   },
   "outputs": [
    {
     "data": {
      "text/plain": [
       "11"
      ]
     },
     "execution_count": 1,
     "metadata": {},
     "output_type": "execute_result"
    }
   ],
   "source": [
    "import numpy as np\n",
    "rng = np.random.default_rng()\n",
    "rng.integers(10,25)"
   ]
  },
  {
   "cell_type": "code",
   "execution_count": 2,
   "id": "bee009cd",
   "metadata": {},
   "outputs": [
    {
     "data": {
      "text/plain": [
       "array([ 8, 86, 19,  6, 43, 10, 76, 51, 38,  2], dtype=int64)"
      ]
     },
     "execution_count": 2,
     "metadata": {},
     "output_type": "execute_result"
    }
   ],
   "source": [
    "rng = np.random.default_rng()\n",
    "rng.integers(100, size=10)"
   ]
  },
  {
   "cell_type": "code",
   "execution_count": 3,
   "id": "cc6b2daa",
   "metadata": {},
   "outputs": [
    {
     "data": {
      "text/plain": [
       "array([93, 97, 74, 53, 83, 62, 83, 93, 83, 88], dtype=int64)"
      ]
     },
     "execution_count": 3,
     "metadata": {},
     "output_type": "execute_result"
    }
   ],
   "source": [
    "rng = np.random.default_rng()\n",
    "rng.integers(50,100, size=10)"
   ]
  },
  {
   "cell_type": "code",
   "execution_count": 4,
   "id": "8957aebb",
   "metadata": {},
   "outputs": [
    {
     "data": {
      "text/plain": [
       "array([[49, 13,  4, 21],\n",
       "       [ 0, 72, 21, 88]], dtype=int64)"
      ]
     },
     "execution_count": 4,
     "metadata": {},
     "output_type": "execute_result"
    }
   ],
   "source": [
    "rng = np.random.default_rng()\n",
    "rng.integers(100, size=(2,4))"
   ]
  },
  {
   "cell_type": "code",
   "execution_count": 5,
   "id": "191be29f",
   "metadata": {},
   "outputs": [
    {
     "data": {
      "text/plain": [
       "0.9751576196664847"
      ]
     },
     "execution_count": 5,
     "metadata": {},
     "output_type": "execute_result"
    }
   ],
   "source": [
    "rng = np.random.default_rng()\n",
    "rng.random()"
   ]
  },
  {
   "cell_type": "code",
   "execution_count": 6,
   "id": "4e63d121",
   "metadata": {},
   "outputs": [
    {
     "data": {
      "text/plain": [
       "array([0.88512978, 0.99307354, 0.85073516, 0.07726932, 0.77412002])"
      ]
     },
     "execution_count": 6,
     "metadata": {},
     "output_type": "execute_result"
    }
   ],
   "source": [
    "rng = np.random.default_rng()\n",
    "rng.random(5)"
   ]
  },
  {
   "cell_type": "code",
   "execution_count": 7,
   "id": "feecd71f",
   "metadata": {},
   "outputs": [
    {
     "data": {
      "text/plain": [
       "array([[9.03976582e-01, 5.02118255e-02, 3.80782106e-01, 3.41497930e-02],\n",
       "       [3.08083258e-02, 4.87629515e-01, 6.62425324e-01, 7.71090116e-01],\n",
       "       [2.47572710e-01, 5.71702726e-04, 5.27706534e-01, 2.83186468e-01],\n",
       "       [7.23913685e-01, 5.80430972e-01, 9.46112104e-01, 3.26983640e-01],\n",
       "       [2.92954539e-01, 6.62600242e-01, 6.74496817e-01, 2.87054296e-01]])"
      ]
     },
     "execution_count": 7,
     "metadata": {},
     "output_type": "execute_result"
    }
   ],
   "source": [
    "rng = np.random.default_rng()\n",
    "rng.random((5,4))"
   ]
  },
  {
   "cell_type": "code",
   "execution_count": 8,
   "id": "51464077",
   "metadata": {},
   "outputs": [],
   "source": [
    "rng = np.random.default_rng()\n",
    "x = rng.random(1000000)"
   ]
  },
  {
   "cell_type": "code",
   "execution_count": 9,
   "id": "b723593d",
   "metadata": {},
   "outputs": [
    {
     "data": {
      "text/plain": [
       "(array([ 99577., 100405.,  99833.,  99811.,  99819., 100182., 100067.,\n",
       "        100195.,  99942., 100169.]),\n",
       " array([3.26884607e-06, 1.00002932e-01, 2.00002595e-01, 3.00002258e-01,\n",
       "        4.00001921e-01, 5.00001584e-01, 6.00001247e-01, 7.00000911e-01,\n",
       "        8.00000574e-01, 9.00000237e-01, 9.99999900e-01]),\n",
       " <BarContainer object of 10 artists>)"
      ]
     },
     "execution_count": 9,
     "metadata": {},
     "output_type": "execute_result"
    },
    {
     "data": {
      "image/png": "[encoded data removed]",
      "text/plain": [
       "<Figure size 640x480 with 1 Axes>"
      ]
     },
     "metadata": {},
     "output_type": "display_data"
    }
   ],
   "source": [
    "import matplotlib.pyplot as plt\n",
    "plt.hist(x)\n"
   ]
  },
  {
   "cell_type": "code",
   "execution_count": null,
   "id": "f45da923",
   "metadata": {},
   "outputs": [],
   "source": [
    "mu, sigma = 0, 0.1 # mean and standard deviation\n",
    "s = np.random.default_rng().normal(mu, sigma, 1000)\n",
    "plt.hist(s)"
   ]
  },
  {
   "cell_type": "code",
   "execution_count": null,
   "id": "59dc93f2",
   "metadata": {},
   "outputs": [],
   "source": [
    "y = np.random.normal(0.0,1.0,10000)\n",
    "plt.hist(y)"
   ]
  },
  {
   "cell_type": "code",
   "execution_count": null,
   "id": "36b3bab7",
   "metadata": {},
   "outputs": [],
   "source": [
    "rng = np.random.default_rng(seed=43)\n",
    "x = rng.random()\n",
    "print(x)"
   ]
  },
  {
   "cell_type": "code",
   "execution_count": null,
   "id": "ae3bcd52",
   "metadata": {},
   "outputs": [],
   "source": [
    "rng = np.random.default_rng(seed=44)\n",
    "x = rng.integers(10)\n",
    "print(x)"
   ]
  },
  {
   "cell_type": "code",
   "execution_count": null,
   "id": "37fc5829",
   "metadata": {},
   "outputs": [],
   "source": [
    "rng = np.random.default_rng(seed=43)\n",
    "x = rng.random((2,4))\n",
    "print(x)"
   ]
  },
  {
   "cell_type": "code",
   "execution_count": null,
   "id": "c7a41e3f",
   "metadata": {},
   "outputs": [],
   "source": [
    "rng = np.random.default_rng(seed=43)\n",
    "x = rng.integers(50,100,size=(3,3))\n",
    "print(x)"
   ]
  }
 ],
 "metadata": {
  "kernelspec": {
   "display_name": "Python 3 (ipykernel)",
   "language": "python",
   "name": "python3"
  },
  "language_info": {
   "codemirror_mode": {
    "name": "ipython",
    "version": 3
   },
   "file_extension": ".py",
   "mimetype": "text/x-python",
   "name": "python",
   "nbconvert_exporter": "python",
   "pygments_lexer": "ipython3",
   "version": "3.9.13"
  }
 },
 "nbformat": 4,
 "nbformat_minor": 5
}
