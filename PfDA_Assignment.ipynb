{
 "cells": [
  {
   "cell_type": "markdown",
   "id": "64987554",
   "metadata": {},
   "source": [
    "# Programming for Data Analysis Assignment"
   ]
  },
  {
   "cell_type": "markdown",
   "id": "c11963e4",
   "metadata": {},
   "source": [
    "![pic](https://moriohcdn.b-cdn.net/ff3cc511fb.png)"
   ]
  },
  {
   "cell_type": "markdown",
   "id": "11b8ba76",
   "metadata": {},
   "source": [
    "# PROBLEM STATEMENT\n",
    "For this project you must create a data set by simulating a real-world phenomenon of\n",
    "your choosing. You may pick any phenomenon you wish – you might pick one that is\n",
    "of interest to you in your personal or professional life. Then, rather than collect data\n",
    "related to the phenomenon, you should model and synthesise such data using Python.\n",
    "We suggest you use the numpy.random package for this purpose.\n",
    "Specifically, in this project you should:\n",
    "• Choose a real-world phenomenon that can be measured and for which you could\n",
    "collect at least one-hundred data points across at least four different variables.\n",
    "• Investigate the types of variables involved, their likely distributions, and their\n",
    "relationships with each other.\n",
    "• Synthesise/simulate a data set as closely matching their properties as possible.\n",
    "• Detail your research and implement the simulation in a Jupyter notebook – the\n",
    "data set itself can simply be displayed in an output cell within the notebook.\n",
    "Note that this project is about simulation – you must synthesise a data set. Some\n",
    "students may already have some real-world data sets in their own files. It is okay to\n",
    "base your synthesised data set on these should you wish (please reference it if you do),\n",
    "but the main task in this project is to create a synthesised data set. The next section\n",
    "gives an example project idea."
   ]
  },
  {
   "cell_type": "markdown",
   "id": "d3160625",
   "metadata": {},
   "source": [
    "# INTRODUCTION\n",
    "As a golf enthusiast myself I picked the real-world phenomenon of the performance of golfers \n",
    "playing professionally on the PGA TOUR and DP World Tour. After some research, I decide that the most interesting\n",
    "variable related to this is the Average Score of each player calculated over the 2022/2023 season - this is going to be\n",
    "one of my variables (Average Score). The other variables are rank, strokes and rounds."
   ]
  },
  {
   "cell_type": "markdown",
   "id": "dc763b2d",
   "metadata": {},
   "source": [
    "# INVESTIGATION OF REAL WORLD DATA PHENOMENON\n",
    "## COLLECTION OF DATA POINTS"
   ]
  },
  {
   "cell_type": "code",
   "execution_count": null,
   "id": "32c66952",
   "metadata": {},
   "outputs": [],
   "source": [
    "import numpy as np\n",
    "import pandas as pd\n",
    "from sklearn.linear_model import LinearRegression\n",
    "import scipy\n",
    "from scipy.stats import norm\n",
    "import math\n",
    "import seaborn as sns\n",
    "import matplotlib.pyplot as plt"
   ]
  },
  {
   "cell_type": "code",
   "execution_count": null,
   "id": "251d8295",
   "metadata": {},
   "outputs": [],
   "source": [
    "# https://www.pgatour.com/stats/detail/120\n",
    "df = pd.read_csv('pgatour_2022-2023_actualaveragescore.csv')\n",
    "df"
   ]
  },
  {
   "cell_type": "code",
   "execution_count": null,
   "id": "5ef1c441",
   "metadata": {},
   "outputs": [],
   "source": [
    "df = df.drop('MOVEMENT',axis=1)"
   ]
  },
  {
   "cell_type": "code",
   "execution_count": null,
   "id": "f964c323",
   "metadata": {},
   "outputs": [],
   "source": [
    "df = df.drop('PLAYER_ID',axis=1)"
   ]
  },
  {
   "cell_type": "code",
   "execution_count": null,
   "id": "744c86e6",
   "metadata": {},
   "outputs": [],
   "source": [
    "df"
   ]
  },
  {
   "cell_type": "code",
   "execution_count": null,
   "id": "5e803b6c",
   "metadata": {},
   "outputs": [],
   "source": [
    "df[\"TOUR\"] = \"PGA TOUR\"\n",
    "df"
   ]
  },
  {
   "cell_type": "markdown",
   "id": "28edee5f",
   "metadata": {},
   "source": [
    "##  DISTRIBUTIONS\n",
    "- Normal Distribution\n",
    "- Uniform distribution"
   ]
  },
  {
   "cell_type": "code",
   "execution_count": null,
   "id": "ad1f5f32",
   "metadata": {},
   "outputs": [],
   "source": [
    "# Average Score follows a Normal Distribution\n",
    "# Plot Average Score data from pgatour_golfstats_2022-2023_averagescore.csv\n",
    "AVG = df.AVG\n",
    "plt.hist(AVG)\n",
    "plt.show()"
   ]
  },
  {
   "cell_type": "code",
   "execution_count": null,
   "id": "904b8ee3",
   "metadata": {},
   "outputs": [],
   "source": [
    "RANK = df.RANK\n",
    "RANK"
   ]
  },
  {
   "cell_type": "code",
   "execution_count": null,
   "id": "e79da1a4",
   "metadata": {},
   "outputs": [],
   "source": [
    "RANK = np.array(RANK)"
   ]
  },
  {
   "cell_type": "code",
   "execution_count": null,
   "id": "8049c465",
   "metadata": {},
   "outputs": [],
   "source": [
    "# RANK is uniformly distributed\n",
    "plt.hist(RANK)\n",
    "plt.show()"
   ]
  },
  {
   "cell_type": "markdown",
   "id": "e86e15f6",
   "metadata": {},
   "source": [
    "#  SYNTHESIZE / SIMULATE A DATA SET"
   ]
  },
  {
   "cell_type": "code",
   "execution_count": null,
   "id": "28a5ab47",
   "metadata": {},
   "outputs": [],
   "source": [
    "syn_rank =np.arange(1,192,1)\n",
    "syn_rank"
   ]
  },
  {
   "cell_type": "code",
   "execution_count": null,
   "id": "9f0b79fa",
   "metadata": {},
   "outputs": [],
   "source": [
    "x, counts = np.unique(syn_rank, return_counts=True)\n",
    "x, counts"
   ]
  },
  {
   "cell_type": "code",
   "execution_count": null,
   "id": "53e018d9",
   "metadata": {},
   "outputs": [],
   "source": [
    "plt.hist(syn_rank)\n",
    "plt.show()"
   ]
  },
  {
   "cell_type": "code",
   "execution_count": null,
   "id": "aed7598b",
   "metadata": {},
   "outputs": [],
   "source": [
    "low = 1\n",
    "high = 191\n",
    "size = 191"
   ]
  },
  {
   "cell_type": "code",
   "execution_count": null,
   "id": "22cb3f58",
   "metadata": {},
   "outputs": [],
   "source": [
    "rng = np.random.default_rng()\n",
    "rand_ints = rng.integers(low=low, high=high+1, size=size)\n",
    "rand_ints"
   ]
  },
  {
   "cell_type": "code",
   "execution_count": null,
   "id": "613f0b25",
   "metadata": {},
   "outputs": [],
   "source": [
    "x, counts = np.unique(rand_ints, return_counts=True)\n",
    "x, counts"
   ]
  },
  {
   "cell_type": "code",
   "execution_count": null,
   "id": "413bdc66",
   "metadata": {},
   "outputs": [],
   "source": [
    "# Create an empty plot.\n",
    "fig, ax = plt.subplots(figsize=(12, 3))\n",
    "\n",
    "# Plot a bar chart.\n",
    "ax.bar(x, counts);"
   ]
  },
  {
   "cell_type": "code",
   "execution_count": null,
   "id": "8eaeb9d5",
   "metadata": {},
   "outputs": [],
   "source": [
    "plt.hist(rand_ints)\n",
    "plt.show()"
   ]
  },
  {
   "cell_type": "code",
   "execution_count": null,
   "id": "f0b0ebd4",
   "metadata": {},
   "outputs": [],
   "source": [
    "# Create an empty plot.\n",
    "fig, ax = plt.subplots(figsize=(12, 3))\n",
    "\n",
    "# Plot a bar chart.\n",
    "ax.bar(x, counts);"
   ]
  },
  {
   "cell_type": "code",
   "execution_count": null,
   "id": "a215e9a2",
   "metadata": {},
   "outputs": [],
   "source": [
    "np.random.randint(1,191)"
   ]
  },
  {
   "cell_type": "code",
   "execution_count": null,
   "id": "1a0b4478",
   "metadata": {},
   "outputs": [],
   "source": [
    "L = [np.random.randint(1,191) for i in range(191)]\n",
    "L"
   ]
  },
  {
   "cell_type": "code",
   "execution_count": null,
   "id": "451fcb35",
   "metadata": {},
   "outputs": [],
   "source": [
    "plt.hist(L)\n",
    "plt.show()"
   ]
  },
  {
   "cell_type": "code",
   "execution_count": null,
   "id": "59dc2611",
   "metadata": {},
   "outputs": [],
   "source": [
    "mean = df.AVG.mean()\n",
    "mean"
   ]
  },
  {
   "cell_type": "code",
   "execution_count": null,
   "id": "861da679",
   "metadata": {},
   "outputs": [],
   "source": [
    "std = df.AVG.std()\n",
    "std"
   ]
  },
  {
   "cell_type": "code",
   "execution_count": null,
   "id": "b98049b5",
   "metadata": {},
   "outputs": [],
   "source": [
    "size = len(df.index)\n",
    "size"
   ]
  },
  {
   "cell_type": "code",
   "execution_count": null,
   "id": "421792d4",
   "metadata": {},
   "outputs": [],
   "source": [
    "# Synthesize a random normal distribution for Average Score\n",
    "norm_y = np.random.normal(mean,std,size)\n",
    "norm_y"
   ]
  },
  {
   "cell_type": "code",
   "execution_count": null,
   "id": "d8364260",
   "metadata": {},
   "outputs": [],
   "source": [
    "df = df.rename(columns={'TOTAL STROKES': 'STROKES', 'TOTAL ROUNDS': 'ROUNDS'})\n",
    "df"
   ]
  },
  {
   "cell_type": "code",
   "execution_count": null,
   "id": "fd722475",
   "metadata": {},
   "outputs": [],
   "source": [
    "# Total Strokes follows a Normal Distribution\n",
    "# Plot Total Strokes data from pgatour_golfstats_2022-2023_averagescore.csv\n",
    "STROKES = df.STROKES\n",
    "plt.hist(STROKES)\n",
    "plt.show()"
   ]
  },
  {
   "cell_type": "code",
   "execution_count": null,
   "id": "ce010a6f",
   "metadata": {},
   "outputs": [],
   "source": [
    "mean_strokes = df.STROKES.mean()\n",
    "mean_strokes"
   ]
  },
  {
   "cell_type": "code",
   "execution_count": null,
   "id": "5c2d1a93",
   "metadata": {},
   "outputs": [],
   "source": [
    "std_strokes = df.STROKES.std()\n",
    "std_strokes"
   ]
  },
  {
   "cell_type": "code",
   "execution_count": null,
   "id": "3a39c64f",
   "metadata": {},
   "outputs": [],
   "source": [
    "# Synthesize a random normal distribution for STROKES\n",
    "norm_strokes = np.random.normal(mean_strokes,std_strokes,size)\n",
    "norm_strokes"
   ]
  },
  {
   "cell_type": "code",
   "execution_count": null,
   "id": "5b9fc83b",
   "metadata": {},
   "outputs": [],
   "source": [
    "# ROUNDS follows a Normal Distribution\n",
    "# Plot ROUNDS data from pgatour_golfstats_2022-2023_averagescore.csv\n",
    "ROUNDS = df.ROUNDS\n",
    "plt.hist(ROUNDS)\n",
    "plt.show()"
   ]
  },
  {
   "cell_type": "code",
   "execution_count": null,
   "id": "0446f371",
   "metadata": {},
   "outputs": [],
   "source": [
    "mean_rounds = df.ROUNDS.mean()\n",
    "mean_rounds"
   ]
  },
  {
   "cell_type": "code",
   "execution_count": null,
   "id": "ff63e43e",
   "metadata": {},
   "outputs": [],
   "source": [
    "std_rounds = df.ROUNDS.std()\n",
    "std_rounds"
   ]
  },
  {
   "cell_type": "code",
   "execution_count": null,
   "id": "9ba2acea",
   "metadata": {},
   "outputs": [],
   "source": [
    "# Synthesize a random normal distribution for ROUNDS\n",
    "norm_rounds = np.random.normal(mean_rounds,std_rounds,size)\n",
    "norm_rounds"
   ]
  },
  {
   "cell_type": "markdown",
   "id": "ef42dc49",
   "metadata": {},
   "source": [
    "##  DATA FRAME OF SYNTHESIZED DATA"
   ]
  },
  {
   "cell_type": "code",
   "execution_count": null,
   "id": "bf2a4b32",
   "metadata": {},
   "outputs": [],
   "source": [
    "syn_df = pd.DataFrame(dict(RANK=np.arange(1,192,1),\n",
    "                       AVERAGE=np.random.normal(mean,std,size), STROKES=np.random.normal(mean_strokes,std_strokes,size), ROUNDS = np.random.normal(mean_rounds,std_rounds,size)),\n",
    "                  columns=['RANK', 'AVERAGE', 'STROKES', 'ROUNDS'])\n",
    "syn_df"
   ]
  },
  {
   "cell_type": "markdown",
   "id": "2f3563c0",
   "metadata": {},
   "source": [
    "## DATA TYPES"
   ]
  },
  {
   "cell_type": "code",
   "execution_count": null,
   "id": "c2e90421",
   "metadata": {},
   "outputs": [],
   "source": [
    "syn_df.dtypes"
   ]
  },
  {
   "cell_type": "code",
   "execution_count": null,
   "id": "0821ae8a",
   "metadata": {},
   "outputs": [],
   "source": [
    "#https://stackoverflow.com/questions/66969078/set-decimal-precision-of-a-pandas-dataframe-column-with-a-datatype-of-decimal\n",
    "syn_df.AVERAGE = syn_df.AVERAGE.round(2)\n",
    "syn_df.AVERAGE"
   ]
  },
  {
   "cell_type": "markdown",
   "id": "a6fb5c8b",
   "metadata": {},
   "source": [
    "**Integers**\n",
    "\n",
    "$\\mathbb{Z} = \\{ \\ldots, -3, -2, -1, 0, 1, 2, 3, \\ldots \\}$"
   ]
  },
  {
   "cell_type": "markdown",
   "id": "6ba73d5e",
   "metadata": {},
   "source": [
    "**Naturals**\n",
    "\n",
    "$\\mathbb{N} = \\{1, 2, 3, \\ldots\\}$\n",
    "\n",
    "$\\mathbb{N}_0 = \\{0, 1, 2, 3, \\ldots\\}$"
   ]
  },
  {
   "cell_type": "markdown",
   "id": "e5bfce3a",
   "metadata": {},
   "source": [
    "**Reals**\n",
    "\n",
    "$ \\mathbb{R} $\n",
    "\n",
    "![Real Number Line](https://upload.wikimedia.org/wikipedia/commons/thumb/d/d7/Real_number_line.svg/689px-Real_number_line.svg.png)"
   ]
  },
  {
   "cell_type": "code",
   "execution_count": null,
   "id": "a9a338ae",
   "metadata": {},
   "outputs": [],
   "source": [
    "syn_df.STROKES = syn_df.STROKES.astype(int)\n",
    "syn_df.ROUNDS = syn_df.ROUNDS.astype(int)\n",
    "syn_df"
   ]
  },
  {
   "cell_type": "code",
   "execution_count": null,
   "id": "dfa17340",
   "metadata": {},
   "outputs": [],
   "source": [
    "syn_df[\"TOUR\"] = \"PGA TOUR\"\n",
    "syn_df"
   ]
  },
  {
   "cell_type": "code",
   "execution_count": null,
   "id": "b75ca9cc",
   "metadata": {},
   "outputs": [],
   "source": [
    "#syn_df = syn_df.sort_values(['Average'], ascending=False)\n",
    "#syn_df"
   ]
  },
  {
   "cell_type": "code",
   "execution_count": null,
   "id": "035115a9",
   "metadata": {},
   "outputs": [],
   "source": [
    "#df = df.rename(columns={'TOTAL STROKES': 'STROKES', 'oldName2': 'newName2'})\n",
    "#strokes = df.TOTAL STROKES\n",
    "#plt.hist(strokes)\n",
    "#plt.show()"
   ]
  },
  {
   "cell_type": "code",
   "execution_count": null,
   "id": "4e990503",
   "metadata": {},
   "outputs": [],
   "source": [
    "plt.plot(df.AVG)\n",
    "plt.show()"
   ]
  },
  {
   "cell_type": "code",
   "execution_count": null,
   "id": "2579a64d",
   "metadata": {},
   "outputs": [],
   "source": [
    "plt.scatter(RANK,AVG)\n",
    "plt.show()"
   ]
  },
  {
   "cell_type": "code",
   "execution_count": null,
   "id": "94845e60",
   "metadata": {},
   "outputs": [],
   "source": [
    "RANK = np.array(RANK)\n",
    "RANK"
   ]
  },
  {
   "cell_type": "code",
   "execution_count": null,
   "id": "df30efb8",
   "metadata": {},
   "outputs": [],
   "source": [
    "AVG = np.array(AVG)\n",
    "AVG"
   ]
  },
  {
   "cell_type": "markdown",
   "id": "b86a0808",
   "metadata": {},
   "source": [
    "## BEST-FIT DISTRIBUTION"
   ]
  },
  {
   "cell_type": "code",
   "execution_count": null,
   "id": "997423f4",
   "metadata": {},
   "outputs": [],
   "source": [
    "from scipy import stats\n",
    "dist = stats.norm\n",
    "data = AVG\n",
    "bounds = [(68, 73), (0, 191)]\n",
    "res = stats.fit(dist, data, bounds)\n",
    "res"
   ]
  },
  {
   "cell_type": "code",
   "execution_count": null,
   "id": "4e33b55f",
   "metadata": {},
   "outputs": [],
   "source": [
    "res.params"
   ]
  },
  {
   "cell_type": "code",
   "execution_count": null,
   "id": "64775837",
   "metadata": {},
   "outputs": [],
   "source": [
    "res.plot()\n",
    "plt.show()"
   ]
  },
  {
   "cell_type": "code",
   "execution_count": null,
   "id": "ef27cd2f",
   "metadata": {},
   "outputs": [],
   "source": [
    "import seaborn as sns\n",
    "from scipy.stats import norm\n",
    "\n",
    "data = norm.rvs(70.30324607329841,0.6373654137997954,size=191) # you can use a pandas series or a list if you want\n",
    "\n",
    "sns.distplot(data)\n",
    "plt.show()"
   ]
  },
  {
   "cell_type": "markdown",
   "id": "ca6261ca",
   "metadata": {},
   "source": [
    "#  CORRELATION and LINEAR REGRESSION"
   ]
  },
  {
   "cell_type": "code",
   "execution_count": null,
   "id": "178fad32",
   "metadata": {},
   "outputs": [],
   "source": [
    "correlation = np.corrcoef(RANK, AVG)\n",
    "correlation"
   ]
  },
  {
   "cell_type": "code",
   "execution_count": null,
   "id": "8be8dc56",
   "metadata": {},
   "outputs": [],
   "source": [
    "x = RANK.reshape(-1,1)\n",
    "y = AVG.reshape(-1,1)"
   ]
  },
  {
   "cell_type": "code",
   "execution_count": null,
   "id": "3d70950e",
   "metadata": {},
   "outputs": [],
   "source": [
    "lr = LinearRegression()\n",
    "lr.fit(x,y)"
   ]
  },
  {
   "cell_type": "code",
   "execution_count": null,
   "id": "5eb68bd9",
   "metadata": {},
   "outputs": [],
   "source": [
    "lr.predict([[5]])"
   ]
  },
  {
   "cell_type": "code",
   "execution_count": null,
   "id": "7798337e",
   "metadata": {},
   "outputs": [],
   "source": [
    "pred_y = lr.predict(x)\n",
    "pred_y"
   ]
  },
  {
   "cell_type": "code",
   "execution_count": null,
   "id": "39ed1433",
   "metadata": {},
   "outputs": [],
   "source": [
    "plt.plot(x,pred_y )\n",
    "plt.show()"
   ]
  },
  {
   "cell_type": "code",
   "execution_count": null,
   "id": "f63d85c6",
   "metadata": {},
   "outputs": [],
   "source": [
    "colour=\"red\"\n",
    "plt.scatter(x,y)\n",
    "plt.plot(x,pred_y,colour )\n",
    "plt.show()"
   ]
  },
  {
   "cell_type": "code",
   "execution_count": null,
   "id": "0a29b051",
   "metadata": {},
   "outputs": [],
   "source": [
    "df.AVG"
   ]
  },
  {
   "cell_type": "code",
   "execution_count": null,
   "id": "4faa1f17",
   "metadata": {},
   "outputs": [],
   "source": [
    "df.describe()"
   ]
  },
  {
   "cell_type": "code",
   "execution_count": null,
   "id": "d21a077b",
   "metadata": {},
   "outputs": [],
   "source": [
    "count = df.count()\n",
    "count"
   ]
  },
  {
   "cell_type": "code",
   "execution_count": null,
   "id": "1e68660a",
   "metadata": {},
   "outputs": [],
   "source": [
    "# Plot random normal distribution for Average Score\n",
    "plt.hist(y)\n",
    "plt.show()"
   ]
  },
  {
   "cell_type": "code",
   "execution_count": null,
   "id": "0e57c0b6",
   "metadata": {},
   "outputs": [],
   "source": [
    "x = np.array(x)\n",
    "x"
   ]
  },
  {
   "cell_type": "code",
   "execution_count": null,
   "id": "9b183a0d",
   "metadata": {},
   "outputs": [],
   "source": [
    "y = np.array(y)\n",
    "y"
   ]
  },
  {
   "cell_type": "code",
   "execution_count": null,
   "id": "bd7072ae",
   "metadata": {},
   "outputs": [],
   "source": [
    "#from scipy import stats\n",
    "#dist = stats.norm\n",
    "#data = y\n",
    "#res = stats.fit(dist, data,bounds=[(69,73), (0, 50)])\n",
    "#res"
   ]
  },
  {
   "cell_type": "code",
   "execution_count": null,
   "id": "14b16a57",
   "metadata": {},
   "outputs": [],
   "source": [
    "#res.params"
   ]
  },
  {
   "cell_type": "code",
   "execution_count": null,
   "id": "fcfd7a5e",
   "metadata": {},
   "outputs": [],
   "source": [
    "#res.plot()\n",
    "#plt.show()"
   ]
  },
  {
   "cell_type": "code",
   "execution_count": null,
   "id": "75e329bc",
   "metadata": {},
   "outputs": [],
   "source": [
    "#data = y\n",
    "\n",
    "#sns.distplot(data)\n",
    "#plt.show()"
   ]
  },
  {
   "cell_type": "code",
   "execution_count": null,
   "id": "f62e4073",
   "metadata": {},
   "outputs": [],
   "source": [
    "#ks.test(df, \"pnorm\", mean=mean, sd=std)"
   ]
  },
  {
   "cell_type": "code",
   "execution_count": null,
   "id": "7b9c5137",
   "metadata": {},
   "outputs": [],
   "source": [
    "#fitdist(y, \"norm\")"
   ]
  },
  {
   "cell_type": "code",
   "execution_count": null,
   "id": "e47cc5a2",
   "metadata": {},
   "outputs": [],
   "source": [
    "x = df.RANK\n",
    "plt.scatter(x,y)\n",
    "plt.show()"
   ]
  },
  {
   "cell_type": "code",
   "execution_count": null,
   "id": "09cc8b55",
   "metadata": {},
   "outputs": [],
   "source": [
    "#correlation = np.corrcoef(x, y)\n",
    "#correlation"
   ]
  },
  {
   "cell_type": "code",
   "execution_count": null,
   "id": "4015ae29",
   "metadata": {},
   "outputs": [],
   "source": []
  },
  {
   "cell_type": "code",
   "execution_count": null,
   "id": "231b64ef",
   "metadata": {},
   "outputs": [],
   "source": []
  },
  {
   "cell_type": "code",
   "execution_count": null,
   "id": "496a7586",
   "metadata": {},
   "outputs": [],
   "source": [
    "#x = x.reshape(-1,1)\n",
    "#y = y.reshape(-1,1)"
   ]
  },
  {
   "cell_type": "code",
   "execution_count": null,
   "id": "610f8676",
   "metadata": {},
   "outputs": [],
   "source": [
    "#lr = LinearRegression()\n",
    "#lr.fit(x,y)"
   ]
  },
  {
   "cell_type": "code",
   "execution_count": null,
   "id": "78684742",
   "metadata": {},
   "outputs": [],
   "source": [
    "#pred_y = lr.predict(x)\n",
    "#pred_y"
   ]
  },
  {
   "cell_type": "code",
   "execution_count": null,
   "id": "98599b17",
   "metadata": {},
   "outputs": [],
   "source": [
    "#plt.plot(x,pred_y )\n",
    "#plt.show()"
   ]
  },
  {
   "cell_type": "code",
   "execution_count": null,
   "id": "ecc35380",
   "metadata": {},
   "outputs": [],
   "source": [
    "#colour=\"red\"\n",
    "#plt.scatter(x,y)\n",
    "#plt.plot(x,pred_y,colour )\n",
    "#plt.show()"
   ]
  },
  {
   "cell_type": "code",
   "execution_count": null,
   "id": "b06e6c74",
   "metadata": {},
   "outputs": [],
   "source": [
    "# Synthesize a poisson distribution for Average Score\n",
    "p = np.random.default_rng().poisson(mean, 191)\n",
    "p"
   ]
  },
  {
   "cell_type": "code",
   "execution_count": null,
   "id": "cd68247a",
   "metadata": {},
   "outputs": [],
   "source": [
    "# Plot poisson distribution for Average Score\n",
    "plt.hist(p)\n",
    "plt.show()"
   ]
  },
  {
   "cell_type": "code",
   "execution_count": null,
   "id": "52bbe28d",
   "metadata": {},
   "outputs": [],
   "source": [
    "plt.scatter(x,p)\n",
    "plt.show()"
   ]
  },
  {
   "cell_type": "markdown",
   "id": "4fd94226",
   "metadata": {},
   "source": [
    "## SEABORN PAIRPLOTS"
   ]
  },
  {
   "cell_type": "code",
   "execution_count": null,
   "id": "1d26f1a4",
   "metadata": {},
   "outputs": [],
   "source": [
    "sns.pairplot(data=df)"
   ]
  },
  {
   "cell_type": "code",
   "execution_count": null,
   "id": "3b303f82",
   "metadata": {},
   "outputs": [],
   "source": [
    "#correlation = np.corrcoef(x, p)\n",
    "#correlation"
   ]
  },
  {
   "cell_type": "code",
   "execution_count": null,
   "id": "1cab077a",
   "metadata": {},
   "outputs": [],
   "source": [
    "# https://www.pgatour.com/stats/detail/101\n",
    "df1 = pd.read_csv('pgatour_golfstats_2022-2023_driving.csv')\n",
    "df1"
   ]
  },
  {
   "cell_type": "code",
   "execution_count": null,
   "id": "070e3e60",
   "metadata": {},
   "outputs": [],
   "source": [
    "df1 = df1.drop('MOVEMENT', axis=1)\n",
    "df1 = df1.drop('PLAYER_ID', axis=1)"
   ]
  },
  {
   "cell_type": "code",
   "execution_count": null,
   "id": "0b6fecbe",
   "metadata": {},
   "outputs": [],
   "source": [
    "df1[\"TOUR\"] = \"PGA TOUR\"\n",
    "df1"
   ]
  },
  {
   "cell_type": "code",
   "execution_count": null,
   "id": "9f6d7873",
   "metadata": {},
   "outputs": [],
   "source": [
    "x = df1.RANK\n",
    "y = df1.AVG\n",
    "# Creating histogram \n",
    "fig, ax = plt.subplots(1, 1) \n",
    "ax.plot(x,y) \n",
    "  \n",
    "# Set title \n",
    "ax.set_title(\"Longest Drivers on PGA TOUR\") \n",
    "  \n",
    "# adding labels \n",
    "ax.set_xlabel('RANK') \n",
    "ax.set_ylabel('Driving Distance') \n",
    "\n",
    "plt.show()"
   ]
  },
  {
   "cell_type": "code",
   "execution_count": null,
   "id": "b801646c",
   "metadata": {},
   "outputs": [],
   "source": [
    "plt.scatter(x,y)\n",
    "plt.show()"
   ]
  },
  {
   "cell_type": "code",
   "execution_count": null,
   "id": "71bd1d1f",
   "metadata": {},
   "outputs": [],
   "source": [
    "correlation = np.corrcoef(x, y)\n",
    "correlation"
   ]
  },
  {
   "cell_type": "code",
   "execution_count": null,
   "id": "c7272a1c",
   "metadata": {},
   "outputs": [],
   "source": [
    "# Plot Driving Distance data from pgatour_golfstats_2022-2023_driving.csv\n",
    "# Creating histogram \n",
    "fig, ax = plt.subplots(1, 1) \n",
    "ax.hist(y) \n",
    "  \n",
    "# Set title \n",
    "ax.set_title(\"PGA TOUR\") \n",
    "  \n",
    "# adding labels \n",
    "ax.set_xlabel('Driving Distance') \n",
    "ax.set_ylabel('Number of Players') \n",
    "\n",
    "plt.show()"
   ]
  },
  {
   "cell_type": "code",
   "execution_count": null,
   "id": "4e9cc941",
   "metadata": {},
   "outputs": [],
   "source": [
    "sns.pairplot(data=df1)"
   ]
  },
  {
   "cell_type": "code",
   "execution_count": null,
   "id": "e4c25b20",
   "metadata": {},
   "outputs": [],
   "source": [
    "df1.AVG"
   ]
  },
  {
   "cell_type": "code",
   "execution_count": null,
   "id": "a01547a6",
   "metadata": {},
   "outputs": [],
   "source": [
    "std = df1.AVG.std()\n",
    "std"
   ]
  },
  {
   "cell_type": "code",
   "execution_count": null,
   "id": "841db014",
   "metadata": {},
   "outputs": [],
   "source": [
    "mean = df1.AVG.mean()\n",
    "mean"
   ]
  },
  {
   "cell_type": "code",
   "execution_count": null,
   "id": "7fbd6326",
   "metadata": {},
   "outputs": [],
   "source": [
    "df1.describe()"
   ]
  },
  {
   "cell_type": "code",
   "execution_count": null,
   "id": "fa49c97f",
   "metadata": {},
   "outputs": [],
   "source": [
    "count = df1.count()\n",
    "count"
   ]
  },
  {
   "cell_type": "code",
   "execution_count": null,
   "id": "d0716673",
   "metadata": {},
   "outputs": [],
   "source": [
    "# Synthesize a random normal distribution for Driving Distance\n",
    "# I choose mu of 300.5 because this is the average drivage distance in pgatour_golfstats_2022-2023_driving.csv\n",
    "mu, sigma = 300.96, 8.66 # mean and standard deviation\n",
    "s = np.random.default_rng().normal(mu, sigma, 189)\n",
    "s"
   ]
  },
  {
   "cell_type": "code",
   "execution_count": null,
   "id": "fc8c922a",
   "metadata": {},
   "outputs": [],
   "source": [
    "x, counts = np.unique(s, return_counts=True)\n",
    "x\n"
   ]
  },
  {
   "cell_type": "code",
   "execution_count": null,
   "id": "77e148ad",
   "metadata": {},
   "outputs": [],
   "source": [
    "counts"
   ]
  },
  {
   "cell_type": "code",
   "execution_count": null,
   "id": "2cc66594",
   "metadata": {},
   "outputs": [],
   "source": [
    "# Plot random normal distribution for Driving Distance\n",
    "# Creating histogram \n",
    "fig, ax = plt.subplots(1, 1) \n",
    "ax.hist(s) \n",
    "  \n",
    "# Set title \n",
    "ax.set_title(\"Normal Distribution\") \n",
    "  \n",
    "# adding labels \n",
    "ax.set_xlabel('Driving Distance') \n",
    "ax.set_ylabel('Number of Players') \n",
    "\n",
    "plt.show()"
   ]
  },
  {
   "cell_type": "code",
   "execution_count": null,
   "id": "b860af72",
   "metadata": {},
   "outputs": [],
   "source": [
    "plt.plot(np.random.default_rng().normal(mu, sigma, 189))\n",
    "plt.show()"
   ]
  },
  {
   "cell_type": "code",
   "execution_count": null,
   "id": "aae70e33",
   "metadata": {},
   "outputs": [],
   "source": [
    "colour=\"red\"\n",
    "# Plot between -10 and 10 with .001 steps.\n",
    "x_axis = np.arange(260, 340, 1)\n",
    "# Mean = 0, SD = 2.\n",
    "plt.plot(x_axis, norm.pdf(x_axis,300.96402116402106,8.66203975287581),colour)\n",
    "plt.show()"
   ]
  },
  {
   "cell_type": "code",
   "execution_count": null,
   "id": "b3b7849d",
   "metadata": {},
   "outputs": [],
   "source": [
    "#def my_gauss(x, sigma=sigma, h=h, mean=mean):\n",
    "#    from math import exp, pow\n",
    "#    variance = pow(sigma, 2)\n",
    "#    return h * exp(-pow(x-mean, 2)/(2*variance))"
   ]
  },
  {
   "cell_type": "code",
   "execution_count": null,
   "id": "09a4b83c",
   "metadata": {},
   "outputs": [],
   "source": [
    "#h = 40\n",
    "#mean = mean\n",
    "#variance = pow(sigma, 2)\n",
    "#sigma = math.sqrt(variance)\n",
    "#x = np.linspace(mu - 3*sigma, mu + 3*sigma, 1)\n",
    "#plt.plot(x, scipy.stats.norm.pdf(x, mu, sigma))\n",
    "#plt.show()\n",
    "#my_gauss"
   ]
  },
  {
   "cell_type": "code",
   "execution_count": null,
   "id": "b48e72b7",
   "metadata": {},
   "outputs": [],
   "source": [
    "value = np.random.normal(loc=300.96402116402106,scale=8.66203975287581,size=189)\n",
    "sns.displot(value)\n",
    "sns.lineplot(value)"
   ]
  },
  {
   "cell_type": "code",
   "execution_count": null,
   "id": "a11f6348",
   "metadata": {},
   "outputs": [],
   "source": [
    "# Synthesize a poisson distribution for Driving Distance\n",
    "mu=300.96402116402106\n",
    "p = np.random.default_rng().poisson(mu, len(df1.index))\n",
    "p"
   ]
  },
  {
   "cell_type": "code",
   "execution_count": null,
   "id": "65954b64",
   "metadata": {},
   "outputs": [],
   "source": [
    "# Plot poisson distribution for Driving Distance\n",
    "\n",
    "# Creating histogram \n",
    "fig, ax = plt.subplots(1, 1) \n",
    "ax.hist(p) \n",
    "  \n",
    "# Set title \n",
    "ax.set_title(\"Poisson Distribution\") \n",
    "  \n",
    "# adding labels \n",
    "ax.set_xlabel('Driving Distance') \n",
    "ax.set_ylabel('Number of Players') \n",
    "\n",
    "plt.show()"
   ]
  },
  {
   "cell_type": "code",
   "execution_count": null,
   "id": "5f513fa0",
   "metadata": {},
   "outputs": [],
   "source": [
    "dataframe1 = pd.read_excel('dpworldtour_2022-2023_scoringaverage.xlsx')\n",
    "dataframe1"
   ]
  },
  {
   "cell_type": "code",
   "execution_count": null,
   "id": "b9edea4a",
   "metadata": {},
   "outputs": [],
   "source": [
    "dataframe1 = dataframe1.drop('COUNTRY',axis=1)"
   ]
  },
  {
   "cell_type": "code",
   "execution_count": null,
   "id": "ff46dd4d",
   "metadata": {},
   "outputs": [],
   "source": [
    "dataframe1"
   ]
  },
  {
   "cell_type": "code",
   "execution_count": null,
   "id": "68b57bea",
   "metadata": {},
   "outputs": [],
   "source": [
    "print(dataframe1.columns)"
   ]
  },
  {
   "cell_type": "code",
   "execution_count": null,
   "id": "d79b1fbb",
   "metadata": {},
   "outputs": [],
   "source": [
    "#dataframe1.columns = ['RANK', 'Unnamed: 1', 'PLAYER', 'ROUNDS', 'AVG', 'TOUR']\n",
    "dataframe1.columns"
   ]
  },
  {
   "cell_type": "code",
   "execution_count": null,
   "id": "dde840ea",
   "metadata": {},
   "outputs": [],
   "source": [
    "dataframe1.iloc[0]"
   ]
  },
  {
   "cell_type": "code",
   "execution_count": null,
   "id": "8cba4791",
   "metadata": {},
   "outputs": [],
   "source": [
    "concat = pd.concat([df, dataframe1], ignore_index=True)\n",
    "concat"
   ]
  },
  {
   "cell_type": "code",
   "execution_count": null,
   "id": "65344a16",
   "metadata": {},
   "outputs": [],
   "source": [
    "pgatour = concat[concat['TOUR']=='PGA TOUR']\n",
    "dpworldtour = concat[concat['TOUR']=='DP World Tour']"
   ]
  },
  {
   "cell_type": "code",
   "execution_count": null,
   "id": "1ed3e27e",
   "metadata": {},
   "outputs": [],
   "source": [
    "pgatour.mean()"
   ]
  },
  {
   "cell_type": "code",
   "execution_count": null,
   "id": "ed14f6d7",
   "metadata": {},
   "outputs": [],
   "source": [
    "dpworldtour.mean()"
   ]
  },
  {
   "cell_type": "code",
   "execution_count": null,
   "id": "74349c2b",
   "metadata": {},
   "outputs": [],
   "source": [
    "mean_groupby = concat.groupby(['TOUR']).AVG.mean()\n",
    "mean_groupby"
   ]
  },
  {
   "cell_type": "code",
   "execution_count": null,
   "id": "1fd8a808",
   "metadata": {},
   "outputs": [],
   "source": [
    "sns.pairplot(data = concat)\n",
    "sns.pairplot(concat, hue=\"TOUR\", palette=\"rainbow\")"
   ]
  },
  {
   "cell_type": "code",
   "execution_count": null,
   "id": "dcc2b9f5",
   "metadata": {},
   "outputs": [],
   "source": []
  },
  {
   "cell_type": "markdown",
   "id": "a8ce4ab5",
   "metadata": {},
   "source": [
    "## TIME SERIES"
   ]
  },
  {
   "cell_type": "code",
   "execution_count": null,
   "id": "51d8c85d",
   "metadata": {},
   "outputs": [],
   "source": [
    "dataframe2 = pd.read_excel('Shane Lowry_2022-2-23_Results_time-series.xlsx')\n",
    "dataframe2"
   ]
  },
  {
   "cell_type": "code",
   "execution_count": null,
   "id": "788f874f",
   "metadata": {},
   "outputs": [],
   "source": [
    "dataframe2['datetime'] = pd.to_datetime(dataframe2['DATE'])\n",
    "dataframe2"
   ]
  },
  {
   "cell_type": "code",
   "execution_count": null,
   "id": "a204e3a4",
   "metadata": {},
   "outputs": [],
   "source": [
    "dataframe2['datetime']"
   ]
  },
  {
   "cell_type": "code",
   "execution_count": null,
   "id": "cc7e5d1c",
   "metadata": {},
   "outputs": [],
   "source": [
    "import seaborn as sns\n",
    "sns.lineplot(data=dataframe2, x=\"datetime\", y=\"WINNINGS\")"
   ]
  },
  {
   "cell_type": "code",
   "execution_count": null,
   "id": "bf82d080",
   "metadata": {},
   "outputs": [],
   "source": [
    "dti = pd.date_range(\"2022-10-23\", periods=52, freq=\"W\")\n",
    "len(dti)\n",
    "dti"
   ]
  },
  {
   "cell_type": "code",
   "execution_count": null,
   "id": "c6605179",
   "metadata": {},
   "outputs": [],
   "source": [
    "winnings = dataframe2['WINNINGS']\n",
    "winnings"
   ]
  },
  {
   "cell_type": "code",
   "execution_count": null,
   "id": "2d9df4f8",
   "metadata": {},
   "outputs": [],
   "source": [
    "dataframe2['WINNINGS'] = dataframe2['WINNINGS'].replace({r'\\$':''}, regex = True)\n",
    "dataframe2['WINNINGS'] = dataframe2['WINNINGS'].replace({r'\\,':''}, regex = True)\n",
    "dataframe2['WINNINGS'] = dataframe2['WINNINGS'].replace({r'\\-':'0'}, regex = True)\n",
    "winnings = dataframe2['WINNINGS']\n",
    "winnings"
   ]
  },
  {
   "cell_type": "code",
   "execution_count": null,
   "id": "479cd407",
   "metadata": {},
   "outputs": [],
   "source": [
    "dataframe2['WINNINGS'] = pd.to_numeric(dataframe2['WINNINGS'])\n",
    "dataframe2['WINNINGS']"
   ]
  },
  {
   "cell_type": "code",
   "execution_count": null,
   "id": "5b26db03",
   "metadata": {},
   "outputs": [],
   "source": [
    "sns.lineplot(data=dataframe2, x=\"datetime\", y=\"WINNINGS\")"
   ]
  },
  {
   "cell_type": "code",
   "execution_count": null,
   "id": "7443fb6a",
   "metadata": {},
   "outputs": [],
   "source": [
    "#sns.pairplot(data=dataframe2)"
   ]
  },
  {
   "cell_type": "code",
   "execution_count": null,
   "id": "741fccc2",
   "metadata": {},
   "outputs": [],
   "source": [
    "mean = dataframe2.WINNINGS.mean()\n",
    "mean"
   ]
  },
  {
   "cell_type": "code",
   "execution_count": null,
   "id": "b651a5e5",
   "metadata": {},
   "outputs": [],
   "source": [
    "sigma = dataframe2.WINNINGS.std()\n",
    "sigma"
   ]
  },
  {
   "cell_type": "code",
   "execution_count": null,
   "id": "43f49d79",
   "metadata": {},
   "outputs": [],
   "source": [
    "rng = np.random.default_rng() \n",
    "d = rng.poisson(mean, len(dti))\n",
    "df = pd.DataFrame(data=d, index = dti)\n",
    "df.head()"
   ]
  },
  {
   "cell_type": "code",
   "execution_count": null,
   "id": "f9d2446e",
   "metadata": {},
   "outputs": [],
   "source": [
    "df.columns =['WINNINGS']\n",
    "df.head()"
   ]
  },
  {
   "cell_type": "code",
   "execution_count": null,
   "id": "4a0bc90c",
   "metadata": {},
   "outputs": [],
   "source": [
    "sns.lineplot(data=df, x=df.index, y=\"WINNINGS\")"
   ]
  },
  {
   "cell_type": "code",
   "execution_count": null,
   "id": "81bc00e1",
   "metadata": {},
   "outputs": [],
   "source": [
    "df.plot(y=\"WINNINGS\")"
   ]
  },
  {
   "cell_type": "code",
   "execution_count": null,
   "id": "363257ce",
   "metadata": {},
   "outputs": [],
   "source": [
    "d = rng.normal(mean,sigma,len(dti))\n",
    "df = pd.DataFrame(data=d, index = dti)\n",
    "df.head()"
   ]
  },
  {
   "cell_type": "code",
   "execution_count": null,
   "id": "564a74cd",
   "metadata": {},
   "outputs": [],
   "source": [
    "df.columns =['WINNINGS']\n",
    "df.head()"
   ]
  },
  {
   "cell_type": "code",
   "execution_count": null,
   "id": "e0131934",
   "metadata": {},
   "outputs": [],
   "source": [
    "df.plot(y=\"WINNINGS\")"
   ]
  },
  {
   "cell_type": "code",
   "execution_count": null,
   "id": "7d80167d",
   "metadata": {},
   "outputs": [],
   "source": [
    "sns.lineplot(data=df, x=df.index, y=\"WINNINGS\")"
   ]
  },
  {
   "cell_type": "code",
   "execution_count": null,
   "id": "c9a78466",
   "metadata": {},
   "outputs": [],
   "source": [
    "#sns.pairplot(data=df)"
   ]
  },
  {
   "cell_type": "code",
   "execution_count": null,
   "id": "c7c94311",
   "metadata": {},
   "outputs": [],
   "source": [
    "def my_gauss(x, sigma=sigma, h=450000, mean=mean):\n",
    "    from math import exp, pow\n",
    "    variance = pow(sigma, 2)\n",
    "    return h * exp(-pow(x-mean, 2)/(2*variance))"
   ]
  },
  {
   "cell_type": "code",
   "execution_count": null,
   "id": "6c37938e",
   "metadata": {},
   "outputs": [],
   "source": [
    "x=df.WINNINGS\n",
    "yg = [my_gauss(xi) for xi in x]\n",
    "yg"
   ]
  },
  {
   "cell_type": "code",
   "execution_count": null,
   "id": "44cbbc02",
   "metadata": {},
   "outputs": [],
   "source": [
    "plt.hist(yg)"
   ]
  },
  {
   "cell_type": "code",
   "execution_count": null,
   "id": "1af6b88d",
   "metadata": {},
   "outputs": [],
   "source": [
    "# Range of x values for plotting.\n",
    "x = np.linspace(250, 350, 189)\n",
    "x"
   ]
  },
  {
   "cell_type": "code",
   "execution_count": null,
   "id": "e7821ff8",
   "metadata": {},
   "outputs": [],
   "source": [
    "#f(x)"
   ]
  },
  {
   "cell_type": "code",
   "execution_count": null,
   "id": "86eaae04",
   "metadata": {},
   "outputs": [],
   "source": [
    "# Create empty plot.\n",
    "#fig, ax = plt.subplots(figsize=(12, 4))\n",
    "\n",
    "# Plot f(x).\n",
    "#ax.plot(x, f(x));"
   ]
  },
  {
   "cell_type": "code",
   "execution_count": null,
   "id": "812b1dba",
   "metadata": {
    "scrolled": true
   },
   "outputs": [],
   "source": [
    "rng.integers(10,25)"
   ]
  },
  {
   "cell_type": "code",
   "execution_count": null,
   "id": "bee009cd",
   "metadata": {},
   "outputs": [],
   "source": [
    "rng.integers(100, size=10)"
   ]
  },
  {
   "cell_type": "code",
   "execution_count": null,
   "id": "cc6b2daa",
   "metadata": {},
   "outputs": [],
   "source": [
    "rng.integers(50,100, size=10)"
   ]
  },
  {
   "cell_type": "code",
   "execution_count": null,
   "id": "8957aebb",
   "metadata": {},
   "outputs": [],
   "source": [
    "rng.integers(100, size=(2,4))"
   ]
  },
  {
   "cell_type": "code",
   "execution_count": null,
   "id": "191be29f",
   "metadata": {},
   "outputs": [],
   "source": [
    "rng.random()"
   ]
  },
  {
   "cell_type": "code",
   "execution_count": null,
   "id": "4e63d121",
   "metadata": {},
   "outputs": [],
   "source": [
    "rng.random(5)"
   ]
  },
  {
   "cell_type": "code",
   "execution_count": null,
   "id": "feecd71f",
   "metadata": {},
   "outputs": [],
   "source": [
    "rng.random((5,4))"
   ]
  },
  {
   "cell_type": "code",
   "execution_count": null,
   "id": "51464077",
   "metadata": {},
   "outputs": [],
   "source": [
    "x = rng.random(1000000)\n",
    "x"
   ]
  },
  {
   "cell_type": "code",
   "execution_count": null,
   "id": "b723593d",
   "metadata": {},
   "outputs": [],
   "source": [
    "import matplotlib.pyplot as plt\n",
    "plt.hist(x)\n",
    "plt.show()"
   ]
  },
  {
   "cell_type": "code",
   "execution_count": null,
   "id": "299fd182",
   "metadata": {},
   "outputs": [],
   "source": [
    "rng = np.random.default_rng(seed=43)\n",
    "x = rng.random()\n",
    "print(x)"
   ]
  },
  {
   "cell_type": "code",
   "execution_count": null,
   "id": "24b45be7",
   "metadata": {},
   "outputs": [],
   "source": [
    "rng = np.random.default_rng(seed=44)\n",
    "x = rng.integers(10)\n",
    "print(x)"
   ]
  },
  {
   "cell_type": "code",
   "execution_count": null,
   "id": "f9bb8a58",
   "metadata": {},
   "outputs": [],
   "source": [
    "rng = np.random.default_rng(seed=43)\n",
    "x = rng.random((2,4))\n",
    "print(x)"
   ]
  },
  {
   "cell_type": "code",
   "execution_count": null,
   "id": "25e7a0e0",
   "metadata": {},
   "outputs": [],
   "source": [
    "rng = np.random.default_rng(seed=43)\n",
    "x = rng.integers(50,100,size=(3,3))\n",
    "print(x)"
   ]
  },
  {
   "cell_type": "markdown",
   "id": "b0e134fb",
   "metadata": {},
   "source": [
    "# RESULTS"
   ]
  },
  {
   "cell_type": "markdown",
   "id": "c5db2682",
   "metadata": {},
   "source": [
    "# CONCLUSION"
   ]
  },
  {
   "cell_type": "markdown",
   "id": "5980076c",
   "metadata": {},
   "source": [
    "# REFERENCES / RESEARCH\n",
    "\n",
    "Set decimal precision of a pandas dataframe column with a datatype of Decimal\n",
    "https://stackoverflow.com/questions/66969078/set-decimal-precision-of-a-pandas-dataframe-column-with-a-datatype-of-decimal\n",
    "\n",
    "Populate Pandas Dataframe with normal distribution\n",
    "https://stackoverflow.com/questions/58996519/populate-pandas-dataframe-with-normal-distribution\n",
    "\n",
    "How to create a DataFrame of random integers with Pandas?\n",
    "https://stackoverflow.com/questions/32752292/how-to-create-a-dataframe-of-random-integers-with-pandas\n",
    "\n",
    "Discrete uniform distribution\n",
    "https://en.wikipedia.org/wiki/Discrete_uniform_distribution\n",
    "\n",
    "Normal distribution\n",
    "https://en.wikipedia.org/wiki/Normal_distribution\n",
    "\n",
    "How to choose number of bins in numpy.histogram?\n",
    "https://stackoverflow.com/questions/47607250/how-to-choose-number-of-bins-in-numpy-histogram\n",
    "\n",
    "Count number of elements in a specific bin\n",
    "https://stackoverflow.com/questions/55482071/count-number-of-elements-in-a-specific-bin\n",
    "\n",
    "Exploratory data analysis in Python.\n",
    "https://nbviewer.org/github/Tanu-N-Prabhu/Python/blob/master/Exploratory_data_Analysis.ipynb\n",
    "\n",
    "How to add a new column to an existing DataFrame\n",
    "https://stackoverflow.com/questions/12555323/how-to-add-a-new-column-to-an-existing-dataframe\n",
    "\n",
    "GOLF STATISTICS\n",
    "https://datagolf.com/\n",
    "\n",
    "The synthetic data platform for developers.\n",
    "https://gretel.ai/\n",
    "\n",
    "Change the data type of a column or a Pandas Series\n",
    "https://www.geeksforgeeks.org/change-the-data-type-of-a-column-or-a-pandas-series/\n",
    "\n",
    "Fitting a Normal distribution to 1D data\n",
    "https://stackoverflow.com/questions/20011122/fitting-a-normal-distribution-to-1d-data\n",
    "\n",
    "SCIPY FIT FUNCTION\n",
    "https://docs.scipy.org/doc/scipy/reference/generated/scipy.stats.fit.html#scipy.stats.fit\n",
    "\n",
    "Fitting empirical distribution to theoretical ones with Scipy (Python)?\n",
    "https://stackoverflow.com/questions/6620471/fitting-empirical-distribution-to-theoretical-ones-with-scipy-python\n",
    "\n",
    "SK LEARN Linear Regression\n",
    "https://scikit-learn.org/stable/modules/generated/sklearn.linear_model.LinearRegression.html\n",
    "\n",
    "API for numpy.random.Generator.poisson distribution method\n",
    "https://numpy.org/doc/stable/reference/random/generated/numpy.random.Generator.poisson.html#numpy.random.Generator.poisson\n",
    "\n",
    "API for pandas.DataFrame\n",
    "https://pandas.pydata.org/pandas-docs/stable/reference/api/pandas.DataFrame.html#pandas.DataFrame\n",
    "\n",
    "Pandas Time Series function\n",
    "https://pandas.pydata.org/pandas-docs/stable/user_guide/timeseries.html\n",
    "\n",
    "Remove Dollar Sign from Entire Python Pandas Dataframe\n",
    "https://stackoverflow.com/questions/43096522/remove-dollar-sign-from-entire-python-pandas-dataframe\n",
    "\n",
    "Merge, join, concatenate and compare Dataframes\n",
    "https://pandas.pydata.org/pandas-docs/stable/user_guide/merging.html"
   ]
  }
 ],
 "metadata": {
  "kernelspec": {
   "display_name": "Python 3 (ipykernel)",
   "language": "python",
   "name": "python3"
  },
  "language_info": {
   "codemirror_mode": {
    "name": "ipython",
    "version": 3
   },
   "file_extension": ".py",
   "mimetype": "text/x-python",
   "name": "python",
   "nbconvert_exporter": "python",
   "pygments_lexer": "ipython3",
   "version": "3.9.13"
  }
 },
 "nbformat": 4,
 "nbformat_minor": 5
}
