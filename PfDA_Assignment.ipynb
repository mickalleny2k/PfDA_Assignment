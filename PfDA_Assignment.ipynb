{
 "cells": [
  {
   "cell_type": "markdown",
   "id": "64987554",
   "metadata": {},
   "source": [
    "# Programming for Data Analysis Assignment"
   ]
  },
  {
   "cell_type": "code",
   "execution_count": 1,
   "id": "32c66952",
   "metadata": {},
   "outputs": [
    {
     "data": {
      "text/html": [
       "<div>\n",
       "<style scoped>\n",
       "    .dataframe tbody tr th:only-of-type {\n",
       "        vertical-align: middle;\n",
       "    }\n",
       "\n",
       "    .dataframe tbody tr th {\n",
       "        vertical-align: top;\n",
       "    }\n",
       "\n",
       "    .dataframe thead th {\n",
       "        text-align: right;\n",
       "    }\n",
       "</style>\n",
       "<table border=\"1\" class=\"dataframe\">\n",
       "  <thead>\n",
       "    <tr style=\"text-align: right;\">\n",
       "      <th></th>\n",
       "      <th>RANK</th>\n",
       "      <th>MOVEMENT</th>\n",
       "      <th>PLAYER_ID</th>\n",
       "      <th>PLAYER</th>\n",
       "      <th>AVG</th>\n",
       "      <th>TOTAL STROKES</th>\n",
       "      <th>TOTAL ADJUSTMENT</th>\n",
       "      <th>TOTAL ROUNDS</th>\n",
       "    </tr>\n",
       "  </thead>\n",
       "  <tbody>\n",
       "    <tr>\n",
       "      <th>0</th>\n",
       "      <td>1</td>\n",
       "      <td>0</td>\n",
       "      <td>46046</td>\n",
       "      <td>Scottie Scheffler</td>\n",
       "      <td>68.629</td>\n",
       "      <td>6007</td>\n",
       "      <td>32.329</td>\n",
       "      <td>88</td>\n",
       "    </tr>\n",
       "    <tr>\n",
       "      <th>1</th>\n",
       "      <td>2</td>\n",
       "      <td>0</td>\n",
       "      <td>28237</td>\n",
       "      <td>Rory McIlroy</td>\n",
       "      <td>68.777</td>\n",
       "      <td>4411</td>\n",
       "      <td>-9.244</td>\n",
       "      <td>64</td>\n",
       "    </tr>\n",
       "    <tr>\n",
       "      <th>2</th>\n",
       "      <td>3</td>\n",
       "      <td>0</td>\n",
       "      <td>46970</td>\n",
       "      <td>Jon Rahm</td>\n",
       "      <td>69.037</td>\n",
       "      <td>4886</td>\n",
       "      <td>15.615</td>\n",
       "      <td>71</td>\n",
       "    </tr>\n",
       "    <tr>\n",
       "      <th>3</th>\n",
       "      <td>4</td>\n",
       "      <td>0</td>\n",
       "      <td>46717</td>\n",
       "      <td>Viktor Hovland</td>\n",
       "      <td>69.123</td>\n",
       "      <td>6065</td>\n",
       "      <td>17.843</td>\n",
       "      <td>88</td>\n",
       "    </tr>\n",
       "    <tr>\n",
       "      <th>4</th>\n",
       "      <td>5</td>\n",
       "      <td>0</td>\n",
       "      <td>48081</td>\n",
       "      <td>Xander Schauffele</td>\n",
       "      <td>69.127</td>\n",
       "      <td>5595</td>\n",
       "      <td>4.323</td>\n",
       "      <td>81</td>\n",
       "    </tr>\n",
       "    <tr>\n",
       "      <th>...</th>\n",
       "      <td>...</td>\n",
       "      <td>...</td>\n",
       "      <td>...</td>\n",
       "      <td>...</td>\n",
       "      <td>...</td>\n",
       "      <td>...</td>\n",
       "      <td>...</td>\n",
       "      <td>...</td>\n",
       "    </tr>\n",
       "    <tr>\n",
       "      <th>184</th>\n",
       "      <td>185</td>\n",
       "      <td>-2</td>\n",
       "      <td>51950</td>\n",
       "      <td>Max McGreevy</td>\n",
       "      <td>72.603</td>\n",
       "      <td>6170</td>\n",
       "      <td>73.869</td>\n",
       "      <td>86</td>\n",
       "    </tr>\n",
       "    <tr>\n",
       "      <th>185</th>\n",
       "      <td>186</td>\n",
       "      <td>-2</td>\n",
       "      <td>28420</td>\n",
       "      <td>Ryan Brehm</td>\n",
       "      <td>72.739</td>\n",
       "      <td>5740</td>\n",
       "      <td>79.134</td>\n",
       "      <td>80</td>\n",
       "    </tr>\n",
       "    <tr>\n",
       "      <th>186</th>\n",
       "      <td>187</td>\n",
       "      <td>-2</td>\n",
       "      <td>32662</td>\n",
       "      <td>Michael Gligic</td>\n",
       "      <td>72.775</td>\n",
       "      <td>4953</td>\n",
       "      <td>68.445</td>\n",
       "      <td>69</td>\n",
       "    </tr>\n",
       "    <tr>\n",
       "      <th>187</th>\n",
       "      <td>188</td>\n",
       "      <td>-2</td>\n",
       "      <td>27095</td>\n",
       "      <td>Nick Watney</td>\n",
       "      <td>72.936</td>\n",
       "      <td>5052</td>\n",
       "      <td>53.529</td>\n",
       "      <td>70</td>\n",
       "    </tr>\n",
       "    <tr>\n",
       "      <th>188</th>\n",
       "      <td>189</td>\n",
       "      <td>-2</td>\n",
       "      <td>51491</td>\n",
       "      <td>Brandon Matthews</td>\n",
       "      <td>73.153</td>\n",
       "      <td>4262</td>\n",
       "      <td>54.054</td>\n",
       "      <td>59</td>\n",
       "    </tr>\n",
       "  </tbody>\n",
       "</table>\n",
       "<p>189 rows × 8 columns</p>\n",
       "</div>"
      ],
      "text/plain": [
       "     RANK  MOVEMENT  PLAYER_ID             PLAYER     AVG  TOTAL STROKES  \\\n",
       "0       1         0      46046  Scottie Scheffler  68.629           6007   \n",
       "1       2         0      28237       Rory McIlroy  68.777           4411   \n",
       "2       3         0      46970           Jon Rahm  69.037           4886   \n",
       "3       4         0      46717     Viktor Hovland  69.123           6065   \n",
       "4       5         0      48081  Xander Schauffele  69.127           5595   \n",
       "..    ...       ...        ...                ...     ...            ...   \n",
       "184   185        -2      51950       Max McGreevy  72.603           6170   \n",
       "185   186        -2      28420         Ryan Brehm  72.739           5740   \n",
       "186   187        -2      32662     Michael Gligic  72.775           4953   \n",
       "187   188        -2      27095        Nick Watney  72.936           5052   \n",
       "188   189        -2      51491   Brandon Matthews  73.153           4262   \n",
       "\n",
       "     TOTAL ADJUSTMENT  TOTAL ROUNDS  \n",
       "0              32.329            88  \n",
       "1              -9.244            64  \n",
       "2              15.615            71  \n",
       "3              17.843            88  \n",
       "4               4.323            81  \n",
       "..                ...           ...  \n",
       "184            73.869            86  \n",
       "185            79.134            80  \n",
       "186            68.445            69  \n",
       "187            53.529            70  \n",
       "188            54.054            59  \n",
       "\n",
       "[189 rows x 8 columns]"
      ]
     },
     "execution_count": 1,
     "metadata": {},
     "output_type": "execute_result"
    }
   ],
   "source": [
    "import numpy as np\n",
    "import pandas as pd\n",
    "\n",
    "# https://www.pgatour.com/stats/detail/120\n",
    "df = pd.read_csv('pgatour_golfstats_2022-2023_averagescore.csv')\n",
    "df"
   ]
  },
  {
   "cell_type": "code",
   "execution_count": 2,
   "id": "4e990503",
   "metadata": {},
   "outputs": [
    {
     "data": {
      "image/png": "[encoded data removed]",
      "text/plain": [
       "<Figure size 640x480 with 1 Axes>"
      ]
     },
     "metadata": {},
     "output_type": "display_data"
    }
   ],
   "source": [
    "import matplotlib.pyplot as plt\n",
    "x = df.AVG\n",
    "plt.plot(df.AVG)\n",
    "plt.show()"
   ]
  },
  {
   "cell_type": "code",
   "execution_count": 3,
   "id": "7906d4e6",
   "metadata": {},
   "outputs": [
    {
     "data": {
      "image/png": "[encoded data removed]",
      "text/plain": [
       "<Figure size 640x480 with 1 Axes>"
      ]
     },
     "metadata": {},
     "output_type": "display_data"
    }
   ],
   "source": [
    "# Plot Average Score data from pgatour_golfstats_2022-2023_averagescore.csv\n",
    "plt.hist(x, bins=10)\n",
    "plt.show()"
   ]
  },
  {
   "cell_type": "code",
   "execution_count": 4,
   "id": "55aa91dd",
   "metadata": {},
   "outputs": [
    {
     "data": {
      "text/plain": [
       "0      68.629\n",
       "1      68.777\n",
       "2      69.037\n",
       "3      69.123\n",
       "4      69.127\n",
       "        ...  \n",
       "184    72.603\n",
       "185    72.739\n",
       "186    72.775\n",
       "187    72.936\n",
       "188    73.153\n",
       "Name: AVG, Length: 189, dtype: float64"
      ]
     },
     "execution_count": 4,
     "metadata": {},
     "output_type": "execute_result"
    }
   ],
   "source": [
    "df.AVG"
   ]
  },
  {
   "cell_type": "code",
   "execution_count": 5,
   "id": "7d9ba81a",
   "metadata": {},
   "outputs": [
    {
     "data": {
      "text/plain": [
       "0.8301339718593281"
      ]
     },
     "execution_count": 5,
     "metadata": {},
     "output_type": "execute_result"
    }
   ],
   "source": [
    "std = df.AVG.std()\n",
    "std"
   ]
  },
  {
   "cell_type": "code",
   "execution_count": 6,
   "id": "a127e546",
   "metadata": {},
   "outputs": [
    {
     "data": {
      "text/plain": [
       "70.96867724867725"
      ]
     },
     "execution_count": 6,
     "metadata": {},
     "output_type": "execute_result"
    }
   ],
   "source": [
    "mean = df.AVG.mean()\n",
    "mean"
   ]
  },
  {
   "cell_type": "code",
   "execution_count": 7,
   "id": "4faa1f17",
   "metadata": {},
   "outputs": [
    {
     "data": {
      "text/html": [
       "<div>\n",
       "<style scoped>\n",
       "    .dataframe tbody tr th:only-of-type {\n",
       "        vertical-align: middle;\n",
       "    }\n",
       "\n",
       "    .dataframe tbody tr th {\n",
       "        vertical-align: top;\n",
       "    }\n",
       "\n",
       "    .dataframe thead th {\n",
       "        text-align: right;\n",
       "    }\n",
       "</style>\n",
       "<table border=\"1\" class=\"dataframe\">\n",
       "  <thead>\n",
       "    <tr style=\"text-align: right;\">\n",
       "      <th></th>\n",
       "      <th>RANK</th>\n",
       "      <th>MOVEMENT</th>\n",
       "      <th>PLAYER_ID</th>\n",
       "      <th>AVG</th>\n",
       "      <th>TOTAL STROKES</th>\n",
       "      <th>TOTAL ADJUSTMENT</th>\n",
       "      <th>TOTAL ROUNDS</th>\n",
       "    </tr>\n",
       "  </thead>\n",
       "  <tbody>\n",
       "    <tr>\n",
       "      <th>count</th>\n",
       "      <td>189.000000</td>\n",
       "      <td>189.000000</td>\n",
       "      <td>189.000000</td>\n",
       "      <td>189.000000</td>\n",
       "      <td>189.000000</td>\n",
       "      <td>189.000000</td>\n",
       "      <td>189.000000</td>\n",
       "    </tr>\n",
       "    <tr>\n",
       "      <th>mean</th>\n",
       "      <td>94.957672</td>\n",
       "      <td>-0.449735</td>\n",
       "      <td>39114.994709</td>\n",
       "      <td>70.968677</td>\n",
       "      <td>5977.037037</td>\n",
       "      <td>53.245196</td>\n",
       "      <td>85.026455</td>\n",
       "    </tr>\n",
       "    <tr>\n",
       "      <th>std</th>\n",
       "      <td>54.705579</td>\n",
       "      <td>3.487647</td>\n",
       "      <td>10294.967774</td>\n",
       "      <td>0.830134</td>\n",
       "      <td>1123.886273</td>\n",
       "      <td>26.348952</td>\n",
       "      <td>16.241670</td>\n",
       "    </tr>\n",
       "    <tr>\n",
       "      <th>min</th>\n",
       "      <td>1.000000</td>\n",
       "      <td>-13.000000</td>\n",
       "      <td>12716.000000</td>\n",
       "      <td>68.629000</td>\n",
       "      <td>3198.000000</td>\n",
       "      <td>-18.811000</td>\n",
       "      <td>45.000000</td>\n",
       "    </tr>\n",
       "    <tr>\n",
       "      <th>25%</th>\n",
       "      <td>48.000000</td>\n",
       "      <td>-2.000000</td>\n",
       "      <td>31560.000000</td>\n",
       "      <td>70.461000</td>\n",
       "      <td>5217.000000</td>\n",
       "      <td>35.723000</td>\n",
       "      <td>74.000000</td>\n",
       "    </tr>\n",
       "    <tr>\n",
       "      <th>50%</th>\n",
       "      <td>94.000000</td>\n",
       "      <td>0.000000</td>\n",
       "      <td>36699.000000</td>\n",
       "      <td>70.966000</td>\n",
       "      <td>6065.000000</td>\n",
       "      <td>55.784000</td>\n",
       "      <td>86.000000</td>\n",
       "    </tr>\n",
       "    <tr>\n",
       "      <th>75%</th>\n",
       "      <td>142.000000</td>\n",
       "      <td>2.000000</td>\n",
       "      <td>48117.000000</td>\n",
       "      <td>71.524000</td>\n",
       "      <td>6799.000000</td>\n",
       "      <td>73.356000</td>\n",
       "      <td>96.000000</td>\n",
       "    </tr>\n",
       "    <tr>\n",
       "      <th>max</th>\n",
       "      <td>189.000000</td>\n",
       "      <td>19.000000</td>\n",
       "      <td>59018.000000</td>\n",
       "      <td>73.153000</td>\n",
       "      <td>8450.000000</td>\n",
       "      <td>106.517000</td>\n",
       "      <td>122.000000</td>\n",
       "    </tr>\n",
       "  </tbody>\n",
       "</table>\n",
       "</div>"
      ],
      "text/plain": [
       "             RANK    MOVEMENT     PLAYER_ID         AVG  TOTAL STROKES  \\\n",
       "count  189.000000  189.000000    189.000000  189.000000     189.000000   \n",
       "mean    94.957672   -0.449735  39114.994709   70.968677    5977.037037   \n",
       "std     54.705579    3.487647  10294.967774    0.830134    1123.886273   \n",
       "min      1.000000  -13.000000  12716.000000   68.629000    3198.000000   \n",
       "25%     48.000000   -2.000000  31560.000000   70.461000    5217.000000   \n",
       "50%     94.000000    0.000000  36699.000000   70.966000    6065.000000   \n",
       "75%    142.000000    2.000000  48117.000000   71.524000    6799.000000   \n",
       "max    189.000000   19.000000  59018.000000   73.153000    8450.000000   \n",
       "\n",
       "       TOTAL ADJUSTMENT  TOTAL ROUNDS  \n",
       "count        189.000000    189.000000  \n",
       "mean          53.245196     85.026455  \n",
       "std           26.348952     16.241670  \n",
       "min          -18.811000     45.000000  \n",
       "25%           35.723000     74.000000  \n",
       "50%           55.784000     86.000000  \n",
       "75%           73.356000     96.000000  \n",
       "max          106.517000    122.000000  "
      ]
     },
     "execution_count": 7,
     "metadata": {},
     "output_type": "execute_result"
    }
   ],
   "source": [
    "df.describe()"
   ]
  },
  {
   "cell_type": "code",
   "execution_count": 8,
   "id": "d21a077b",
   "metadata": {},
   "outputs": [
    {
     "data": {
      "text/plain": [
       "RANK                189\n",
       "MOVEMENT            189\n",
       "PLAYER_ID           189\n",
       "PLAYER              189\n",
       "AVG                 189\n",
       "TOTAL STROKES       189\n",
       "TOTAL ADJUSTMENT    189\n",
       "TOTAL ROUNDS        189\n",
       "dtype: int64"
      ]
     },
     "execution_count": 8,
     "metadata": {},
     "output_type": "execute_result"
    }
   ],
   "source": [
    "count = df.count()\n",
    "count"
   ]
  },
  {
   "cell_type": "code",
   "execution_count": 9,
   "id": "c5930fbf",
   "metadata": {},
   "outputs": [
    {
     "data": {
      "text/plain": [
       "array([70.1852922 , 70.86970634, 70.73510139, 72.33336937, 70.50861539,\n",
       "       70.3876152 , 71.314391  , 71.58366696, 70.81448583, 69.71550263,\n",
       "       70.41809714, 69.73453221, 69.79771557, 70.52281863, 70.99727982,\n",
       "       70.66631101, 70.81633423, 70.57629998, 71.76518355, 70.73758672,\n",
       "       72.79729502, 70.50344531, 72.05221928, 72.11498795, 71.02132145,\n",
       "       70.94744381, 72.08759927, 70.77382915, 70.66007177, 71.70501313,\n",
       "       71.27020457, 69.86457477, 71.71172826, 71.63441387, 72.12145515,\n",
       "       70.48186158, 70.54008725, 70.60027599, 70.10084134, 71.74697736,\n",
       "       71.36930667, 70.87213335, 70.75027377, 70.68382277, 71.838627  ,\n",
       "       71.41817457, 70.87782018, 71.1150672 , 70.18871178, 70.17578771,\n",
       "       69.87000824, 68.76388634, 69.36673554, 70.92791024, 70.99987754,\n",
       "       70.53958144, 71.92202567, 72.22691358, 70.81754432, 72.27719916,\n",
       "       71.38029402, 70.9877735 , 71.50649936, 70.32412578, 71.69771788,\n",
       "       72.1603022 , 72.14156908, 70.82677813, 71.32495803, 70.81904123,\n",
       "       70.76663851, 70.76764581, 71.23150482, 70.70903303, 72.46845612,\n",
       "       70.49670175, 71.23905095, 70.74147316, 71.92459686, 71.08544517,\n",
       "       70.80299682, 70.73167098, 70.04774063, 70.46922475, 69.5374869 ,\n",
       "       71.33544297, 70.58809149, 70.38007503, 71.42030387, 70.7999792 ,\n",
       "       71.37593472, 70.26974449, 70.30177085, 69.8770154 , 71.68566091,\n",
       "       69.71863236, 70.75659368, 70.47629485, 70.4276717 , 70.68035577,\n",
       "       69.67431539, 71.67300137, 71.25431766, 70.93687754, 70.39996985,\n",
       "       71.20653011, 69.50041815, 70.62448187, 70.47150105, 70.30288376,\n",
       "       72.4169941 , 71.60636393, 73.17880511, 70.053025  , 71.87533648,\n",
       "       71.66839613, 71.35534999, 71.59815523, 69.93008176, 71.50082236,\n",
       "       69.93748905, 71.0554174 , 70.54517473, 69.86589631, 71.04102323,\n",
       "       71.42779124, 70.24214797, 70.51211279, 72.18300839, 71.40871476,\n",
       "       70.01325058, 72.06901675, 70.31591678, 71.11726242, 72.28589119,\n",
       "       72.11583556, 72.65441868, 70.89442476, 71.73679052, 71.2939702 ,\n",
       "       70.90151245, 71.84081563, 70.66258931, 70.27523428, 70.69688172,\n",
       "       71.7157886 , 70.19575348, 70.46322484, 70.42886654, 70.70700671,\n",
       "       69.24506957, 72.46618953, 71.4496636 , 71.75149221, 71.60768986,\n",
       "       71.17429729, 71.59783139, 71.15990916, 70.96381186, 71.05075086,\n",
       "       71.40839544, 70.26847239, 69.94545699, 70.60010403, 70.32001098,\n",
       "       70.39398002, 71.28323564, 70.73526932, 71.56860073, 71.10280947,\n",
       "       72.06738735, 71.21417425, 70.99402114, 73.32384135, 69.70002969,\n",
       "       71.64454146, 69.38431601, 72.2611773 , 70.17348257, 71.71743751,\n",
       "       69.59551029, 71.51634917, 71.28173154, 73.11337117, 69.23096572,\n",
       "       71.88353773, 72.40094744, 69.91363224, 69.73227737])"
      ]
     },
     "execution_count": 9,
     "metadata": {},
     "output_type": "execute_result"
    }
   ],
   "source": [
    "# Synthesize a random normal distribution for Average Score\n",
    "# I choose mu of 70.96 because this is the average score in pgatour_golfstats_2022-2023_averagescore.csv\n",
    "y = np.random.normal(mean,std,189)\n",
    "y"
   ]
  },
  {
   "cell_type": "code",
   "execution_count": 10,
   "id": "27821c8c",
   "metadata": {},
   "outputs": [
    {
     "data": {
      "image/png": "[encoded data removed]",
      "text/plain": [
       "<Figure size 640x480 with 1 Axes>"
      ]
     },
     "metadata": {},
     "output_type": "display_data"
    }
   ],
   "source": [
    "# Plot random normal distribution for Average Score\n",
    "plt.hist(y)\n",
    "plt.show()"
   ]
  },
  {
   "cell_type": "code",
   "execution_count": 11,
   "id": "deab9778",
   "metadata": {},
   "outputs": [
    {
     "data": {
      "text/plain": [
       "array([77, 52, 60, 61, 66, 64, 87, 63, 86, 72, 89, 71, 57, 81, 83, 47, 68,\n",
       "       67, 80, 66, 68, 66, 59, 52, 67, 77, 67, 64, 78, 71, 66, 79, 67, 69,\n",
       "       83, 69, 70, 62, 79, 82, 58, 59, 82, 70, 76, 64, 60, 84, 56, 72, 87,\n",
       "       61, 79, 65, 64, 88, 72, 78, 71, 70, 69, 63, 72, 82, 75, 76, 93, 74,\n",
       "       78, 73, 84, 84, 68, 69, 89, 59, 79, 79, 60, 68, 73, 93, 71, 68, 65,\n",
       "       62, 63, 73, 79, 76, 57, 62, 59, 58, 65, 73, 83, 63, 52, 69, 73, 84,\n",
       "       79, 82, 55, 80, 76, 83, 61, 71, 69, 70, 57, 70, 55, 70, 74, 71, 86,\n",
       "       68, 64, 50, 68, 84, 59, 85, 65, 77, 65, 77, 75, 70, 94, 70, 63, 72,\n",
       "       80, 67, 70, 72, 70, 86, 66, 76, 72, 86, 58, 73, 72, 80, 70, 71, 65,\n",
       "       95, 78, 62, 88, 69, 68, 70, 78, 69, 72, 73, 90, 75, 82, 67, 78, 70,\n",
       "       80, 74, 65, 73, 84, 74, 61, 76, 73, 72, 63, 70, 80, 68, 58, 65, 63,\n",
       "       79, 84], dtype=int64)"
      ]
     },
     "execution_count": 11,
     "metadata": {},
     "output_type": "execute_result"
    }
   ],
   "source": [
    "# Synthesize a poisson distribution for Average Score\n",
    "p = np.random.default_rng().poisson(mean, 189)\n",
    "p"
   ]
  },
  {
   "cell_type": "code",
   "execution_count": 12,
   "id": "ecccce05",
   "metadata": {},
   "outputs": [
    {
     "data": {
      "image/png": "[encoded data removed]",
      "text/plain": [
       "<Figure size 640x480 with 1 Axes>"
      ]
     },
     "metadata": {},
     "output_type": "display_data"
    }
   ],
   "source": [
    "# Plot poisson distribution for Average Score\n",
    "plt.hist(p)\n",
    "plt.show()"
   ]
  },
  {
   "cell_type": "code",
   "execution_count": 13,
   "id": "1cab077a",
   "metadata": {},
   "outputs": [
    {
     "data": {
      "text/html": [
       "<div>\n",
       "<style scoped>\n",
       "    .dataframe tbody tr th:only-of-type {\n",
       "        vertical-align: middle;\n",
       "    }\n",
       "\n",
       "    .dataframe tbody tr th {\n",
       "        vertical-align: top;\n",
       "    }\n",
       "\n",
       "    .dataframe thead th {\n",
       "        text-align: right;\n",
       "    }\n",
       "</style>\n",
       "<table border=\"1\" class=\"dataframe\">\n",
       "  <thead>\n",
       "    <tr style=\"text-align: right;\">\n",
       "      <th></th>\n",
       "      <th>RANK</th>\n",
       "      <th>MOVEMENT</th>\n",
       "      <th>PLAYER_ID</th>\n",
       "      <th>PLAYER</th>\n",
       "      <th>AVG</th>\n",
       "      <th>TOTAL DISTANCE</th>\n",
       "      <th>TOTAL DRIVES</th>\n",
       "    </tr>\n",
       "  </thead>\n",
       "  <tbody>\n",
       "    <tr>\n",
       "      <th>0</th>\n",
       "      <td>1</td>\n",
       "      <td>0</td>\n",
       "      <td>28237</td>\n",
       "      <td>Rory McIlroy</td>\n",
       "      <td>326.3</td>\n",
       "      <td>41771</td>\n",
       "      <td>128</td>\n",
       "    </tr>\n",
       "    <tr>\n",
       "      <th>1</th>\n",
       "      <td>2</td>\n",
       "      <td>0</td>\n",
       "      <td>51491</td>\n",
       "      <td>Brandon Matthews</td>\n",
       "      <td>321.3</td>\n",
       "      <td>37915</td>\n",
       "      <td>118</td>\n",
       "    </tr>\n",
       "    <tr>\n",
       "      <th>2</th>\n",
       "      <td>3</td>\n",
       "      <td>0</td>\n",
       "      <td>52372</td>\n",
       "      <td>Cameron Champ</td>\n",
       "      <td>318.8</td>\n",
       "      <td>47180</td>\n",
       "      <td>148</td>\n",
       "    </tr>\n",
       "    <tr>\n",
       "      <th>3</th>\n",
       "      <td>4</td>\n",
       "      <td>0</td>\n",
       "      <td>52453</td>\n",
       "      <td>Nicolai Hojgaard</td>\n",
       "      <td>317.7</td>\n",
       "      <td>29227</td>\n",
       "      <td>92</td>\n",
       "    </tr>\n",
       "    <tr>\n",
       "      <th>4</th>\n",
       "      <td>5</td>\n",
       "      <td>0</td>\n",
       "      <td>57366</td>\n",
       "      <td>Cameron Young</td>\n",
       "      <td>316.5</td>\n",
       "      <td>51902</td>\n",
       "      <td>164</td>\n",
       "    </tr>\n",
       "    <tr>\n",
       "      <th>...</th>\n",
       "      <td>...</td>\n",
       "      <td>...</td>\n",
       "      <td>...</td>\n",
       "      <td>...</td>\n",
       "      <td>...</td>\n",
       "      <td>...</td>\n",
       "      <td>...</td>\n",
       "    </tr>\n",
       "    <tr>\n",
       "      <th>184</th>\n",
       "      <td>185</td>\n",
       "      <td>-2</td>\n",
       "      <td>30927</td>\n",
       "      <td>Brendon Todd</td>\n",
       "      <td>282.8</td>\n",
       "      <td>54300</td>\n",
       "      <td>192</td>\n",
       "    </tr>\n",
       "    <tr>\n",
       "      <th>185</th>\n",
       "      <td>186</td>\n",
       "      <td>-2</td>\n",
       "      <td>40058</td>\n",
       "      <td>Zac Blair</td>\n",
       "      <td>282.4</td>\n",
       "      <td>42920</td>\n",
       "      <td>152</td>\n",
       "    </tr>\n",
       "    <tr>\n",
       "      <th>186</th>\n",
       "      <td>187</td>\n",
       "      <td>-2</td>\n",
       "      <td>31202</td>\n",
       "      <td>William McGirt</td>\n",
       "      <td>281.0</td>\n",
       "      <td>25292</td>\n",
       "      <td>90</td>\n",
       "    </tr>\n",
       "    <tr>\n",
       "      <th>187</th>\n",
       "      <td>188</td>\n",
       "      <td>-2</td>\n",
       "      <td>34409</td>\n",
       "      <td>David Lingmerth</td>\n",
       "      <td>279.2</td>\n",
       "      <td>45789</td>\n",
       "      <td>164</td>\n",
       "    </tr>\n",
       "    <tr>\n",
       "      <th>188</th>\n",
       "      <td>189</td>\n",
       "      <td>-2</td>\n",
       "      <td>31560</td>\n",
       "      <td>Brian Stuard</td>\n",
       "      <td>272.5</td>\n",
       "      <td>36510</td>\n",
       "      <td>134</td>\n",
       "    </tr>\n",
       "  </tbody>\n",
       "</table>\n",
       "<p>189 rows × 7 columns</p>\n",
       "</div>"
      ],
      "text/plain": [
       "     RANK  MOVEMENT  PLAYER_ID            PLAYER    AVG  TOTAL DISTANCE  \\\n",
       "0       1         0      28237      Rory McIlroy  326.3           41771   \n",
       "1       2         0      51491  Brandon Matthews  321.3           37915   \n",
       "2       3         0      52372     Cameron Champ  318.8           47180   \n",
       "3       4         0      52453  Nicolai Hojgaard  317.7           29227   \n",
       "4       5         0      57366     Cameron Young  316.5           51902   \n",
       "..    ...       ...        ...               ...    ...             ...   \n",
       "184   185        -2      30927      Brendon Todd  282.8           54300   \n",
       "185   186        -2      40058         Zac Blair  282.4           42920   \n",
       "186   187        -2      31202    William McGirt  281.0           25292   \n",
       "187   188        -2      34409   David Lingmerth  279.2           45789   \n",
       "188   189        -2      31560      Brian Stuard  272.5           36510   \n",
       "\n",
       "     TOTAL DRIVES  \n",
       "0             128  \n",
       "1             118  \n",
       "2             148  \n",
       "3              92  \n",
       "4             164  \n",
       "..            ...  \n",
       "184           192  \n",
       "185           152  \n",
       "186            90  \n",
       "187           164  \n",
       "188           134  \n",
       "\n",
       "[189 rows x 7 columns]"
      ]
     },
     "execution_count": 13,
     "metadata": {},
     "output_type": "execute_result"
    }
   ],
   "source": [
    "# https://www.pgatour.com/stats/detail/101\n",
    "df1 = pd.read_csv('pgatour_golfstats_2022-2023_driving.csv')\n",
    "df1"
   ]
  },
  {
   "cell_type": "code",
   "execution_count": 14,
   "id": "9f6d7873",
   "metadata": {},
   "outputs": [
    {
     "data": {
      "image/png": "[encoded data removed]",
      "text/plain": [
       "<Figure size 640x480 with 1 Axes>"
      ]
     },
     "metadata": {},
     "output_type": "display_data"
    }
   ],
   "source": [
    "x = df1.RANK\n",
    "y = df1.AVG\n",
    "plt.plot(x,y)\n",
    "plt.show()"
   ]
  },
  {
   "cell_type": "code",
   "execution_count": 15,
   "id": "c7272a1c",
   "metadata": {},
   "outputs": [
    {
     "data": {
      "image/png": "[encoded data removed]",
      "text/plain": [
       "<Figure size 640x480 with 1 Axes>"
      ]
     },
     "metadata": {},
     "output_type": "display_data"
    }
   ],
   "source": [
    "# Plot Driving Distance data from pgatour_golfstats_2022-2023_driving.csv\n",
    "plt.hist(y, bins=10)\n",
    "plt.show()"
   ]
  },
  {
   "cell_type": "code",
   "execution_count": 16,
   "id": "d3bb882f",
   "metadata": {},
   "outputs": [
    {
     "data": {
      "text/plain": [
       "0      326.3\n",
       "1      321.3\n",
       "2      318.8\n",
       "3      317.7\n",
       "4      316.5\n",
       "       ...  \n",
       "184    282.8\n",
       "185    282.4\n",
       "186    281.0\n",
       "187    279.2\n",
       "188    272.5\n",
       "Name: AVG, Length: 189, dtype: float64"
      ]
     },
     "execution_count": 16,
     "metadata": {},
     "output_type": "execute_result"
    }
   ],
   "source": [
    "df1.AVG"
   ]
  },
  {
   "cell_type": "code",
   "execution_count": 17,
   "id": "a01547a6",
   "metadata": {},
   "outputs": [
    {
     "data": {
      "text/plain": [
       "8.66203975287581"
      ]
     },
     "execution_count": 17,
     "metadata": {},
     "output_type": "execute_result"
    }
   ],
   "source": [
    "std = df1.AVG.std()\n",
    "std"
   ]
  },
  {
   "cell_type": "code",
   "execution_count": 18,
   "id": "841db014",
   "metadata": {},
   "outputs": [
    {
     "data": {
      "text/plain": [
       "300.96402116402106"
      ]
     },
     "execution_count": 18,
     "metadata": {},
     "output_type": "execute_result"
    }
   ],
   "source": [
    "mean = df1.AVG.mean()\n",
    "mean"
   ]
  },
  {
   "cell_type": "code",
   "execution_count": 19,
   "id": "7fbd6326",
   "metadata": {},
   "outputs": [
    {
     "data": {
      "text/html": [
       "<div>\n",
       "<style scoped>\n",
       "    .dataframe tbody tr th:only-of-type {\n",
       "        vertical-align: middle;\n",
       "    }\n",
       "\n",
       "    .dataframe tbody tr th {\n",
       "        vertical-align: top;\n",
       "    }\n",
       "\n",
       "    .dataframe thead th {\n",
       "        text-align: right;\n",
       "    }\n",
       "</style>\n",
       "<table border=\"1\" class=\"dataframe\">\n",
       "  <thead>\n",
       "    <tr style=\"text-align: right;\">\n",
       "      <th></th>\n",
       "      <th>RANK</th>\n",
       "      <th>MOVEMENT</th>\n",
       "      <th>PLAYER_ID</th>\n",
       "      <th>AVG</th>\n",
       "      <th>TOTAL DISTANCE</th>\n",
       "      <th>TOTAL DRIVES</th>\n",
       "    </tr>\n",
       "  </thead>\n",
       "  <tbody>\n",
       "    <tr>\n",
       "      <th>count</th>\n",
       "      <td>189.000000</td>\n",
       "      <td>189.000000</td>\n",
       "      <td>189.000000</td>\n",
       "      <td>189.000000</td>\n",
       "      <td>189.000000</td>\n",
       "      <td>189.00000</td>\n",
       "    </tr>\n",
       "    <tr>\n",
       "      <th>mean</th>\n",
       "      <td>94.719577</td>\n",
       "      <td>-0.904762</td>\n",
       "      <td>39114.994709</td>\n",
       "      <td>300.964021</td>\n",
       "      <td>51175.285714</td>\n",
       "      <td>170.05291</td>\n",
       "    </tr>\n",
       "    <tr>\n",
       "      <th>std</th>\n",
       "      <td>54.711144</td>\n",
       "      <td>1.968212</td>\n",
       "      <td>10294.967774</td>\n",
       "      <td>8.662040</td>\n",
       "      <td>9840.011169</td>\n",
       "      <td>32.48334</td>\n",
       "    </tr>\n",
       "    <tr>\n",
       "      <th>min</th>\n",
       "      <td>1.000000</td>\n",
       "      <td>-5.000000</td>\n",
       "      <td>12716.000000</td>\n",
       "      <td>272.500000</td>\n",
       "      <td>25292.000000</td>\n",
       "      <td>90.00000</td>\n",
       "    </tr>\n",
       "    <tr>\n",
       "      <th>25%</th>\n",
       "      <td>48.000000</td>\n",
       "      <td>-2.000000</td>\n",
       "      <td>31560.000000</td>\n",
       "      <td>295.200000</td>\n",
       "      <td>44589.000000</td>\n",
       "      <td>148.00000</td>\n",
       "    </tr>\n",
       "    <tr>\n",
       "      <th>50%</th>\n",
       "      <td>94.000000</td>\n",
       "      <td>-1.000000</td>\n",
       "      <td>36699.000000</td>\n",
       "      <td>300.800000</td>\n",
       "      <td>51338.000000</td>\n",
       "      <td>172.00000</td>\n",
       "    </tr>\n",
       "    <tr>\n",
       "      <th>75%</th>\n",
       "      <td>142.000000</td>\n",
       "      <td>0.000000</td>\n",
       "      <td>48117.000000</td>\n",
       "      <td>306.400000</td>\n",
       "      <td>57791.000000</td>\n",
       "      <td>192.00000</td>\n",
       "    </tr>\n",
       "    <tr>\n",
       "      <th>max</th>\n",
       "      <td>189.000000</td>\n",
       "      <td>7.000000</td>\n",
       "      <td>59018.000000</td>\n",
       "      <td>326.300000</td>\n",
       "      <td>72978.000000</td>\n",
       "      <td>244.00000</td>\n",
       "    </tr>\n",
       "  </tbody>\n",
       "</table>\n",
       "</div>"
      ],
      "text/plain": [
       "             RANK    MOVEMENT     PLAYER_ID         AVG  TOTAL DISTANCE  \\\n",
       "count  189.000000  189.000000    189.000000  189.000000      189.000000   \n",
       "mean    94.719577   -0.904762  39114.994709  300.964021    51175.285714   \n",
       "std     54.711144    1.968212  10294.967774    8.662040     9840.011169   \n",
       "min      1.000000   -5.000000  12716.000000  272.500000    25292.000000   \n",
       "25%     48.000000   -2.000000  31560.000000  295.200000    44589.000000   \n",
       "50%     94.000000   -1.000000  36699.000000  300.800000    51338.000000   \n",
       "75%    142.000000    0.000000  48117.000000  306.400000    57791.000000   \n",
       "max    189.000000    7.000000  59018.000000  326.300000    72978.000000   \n",
       "\n",
       "       TOTAL DRIVES  \n",
       "count     189.00000  \n",
       "mean      170.05291  \n",
       "std        32.48334  \n",
       "min        90.00000  \n",
       "25%       148.00000  \n",
       "50%       172.00000  \n",
       "75%       192.00000  \n",
       "max       244.00000  "
      ]
     },
     "execution_count": 19,
     "metadata": {},
     "output_type": "execute_result"
    }
   ],
   "source": [
    "df1.describe()"
   ]
  },
  {
   "cell_type": "code",
   "execution_count": 20,
   "id": "fa49c97f",
   "metadata": {},
   "outputs": [
    {
     "data": {
      "text/plain": [
       "RANK              189\n",
       "MOVEMENT          189\n",
       "PLAYER_ID         189\n",
       "PLAYER            189\n",
       "AVG               189\n",
       "TOTAL DISTANCE    189\n",
       "TOTAL DRIVES      189\n",
       "dtype: int64"
      ]
     },
     "execution_count": 20,
     "metadata": {},
     "output_type": "execute_result"
    }
   ],
   "source": [
    "count = df1.count()\n",
    "count"
   ]
  },
  {
   "cell_type": "code",
   "execution_count": 21,
   "id": "d0716673",
   "metadata": {},
   "outputs": [
    {
     "data": {
      "text/plain": [
       "array([304.18111094, 306.01044938, 292.94529885, 299.62528769,\n",
       "       295.13281449, 311.26815176, 289.55236822, 315.91930478,\n",
       "       290.03459055, 304.9753658 , 305.19440612, 310.55222038,\n",
       "       299.97033998, 292.1743655 , 314.96208214, 309.86199752,\n",
       "       305.04885077, 297.87571132, 301.52899846, 304.9946468 ,\n",
       "       311.02220154, 289.03737716, 297.8689922 , 295.79293457,\n",
       "       303.78467302, 295.31524066, 295.18313949, 314.4789164 ,\n",
       "       275.51005097, 294.72435667, 310.47504209, 301.8374851 ,\n",
       "       313.11719201, 299.02888099, 315.2028615 , 301.32293673,\n",
       "       300.60302143, 318.78421997, 301.35622356, 310.54176655,\n",
       "       321.44215857, 294.57058864, 295.87807079, 294.25208599,\n",
       "       302.65842155, 309.55926947, 291.17611298, 316.81096175,\n",
       "       290.87245364, 302.00592681, 299.81573458, 303.56143547,\n",
       "       299.49642999, 290.76447491, 291.91615572, 287.25683334,\n",
       "       301.4498885 , 295.15786451, 316.45534104, 304.6559164 ,\n",
       "       296.31268786, 300.39036223, 300.73520037, 305.83295172,\n",
       "       309.55832662, 296.97202635, 295.24615918, 293.95337193,\n",
       "       319.2484828 , 308.02034756, 303.76368862, 293.56458209,\n",
       "       283.19814629, 298.01838397, 296.2043741 , 289.95404071,\n",
       "       320.65313255, 301.69851052, 322.90799319, 283.81644259,\n",
       "       296.06785003, 318.60665285, 311.82892789, 305.39708419,\n",
       "       305.11074703, 298.05105448, 310.12586569, 293.98344881,\n",
       "       299.89342288, 290.90744609, 307.66250999, 293.8401256 ,\n",
       "       300.36965989, 296.34359292, 304.19001845, 302.66118442,\n",
       "       289.65788389, 300.57875441, 308.63277475, 294.67534034,\n",
       "       303.21848835, 304.2364092 , 304.00924708, 298.56447356,\n",
       "       307.51312604, 311.18884518, 298.82768976, 295.34739479,\n",
       "       293.25934839, 310.78799342, 297.58817777, 298.67755305,\n",
       "       323.12016642, 295.84764928, 299.67753054, 309.43271349,\n",
       "       310.28610018, 287.20402023, 301.615567  , 280.53438133,\n",
       "       315.50007723, 295.83292388, 313.55060901, 302.15181522,\n",
       "       291.97377171, 310.33774005, 310.5987684 , 301.77960078,\n",
       "       302.06048413, 310.00322785, 293.81045214, 302.05621754,\n",
       "       298.97827121, 301.84621182, 303.7302457 , 303.41719453,\n",
       "       305.67668775, 303.22677626, 299.03194833, 294.77896984,\n",
       "       298.16626637, 312.10453278, 289.88820508, 317.40596081,\n",
       "       315.50081385, 297.04190277, 295.73073863, 313.80428391,\n",
       "       295.25352384, 292.25234041, 317.32589444, 298.7224552 ,\n",
       "       300.60734274, 308.62494202, 294.61097366, 304.9628409 ,\n",
       "       302.71537349, 310.6531862 , 289.09006783, 310.73237518,\n",
       "       314.51177036, 300.5681614 , 303.5251706 , 305.96002711,\n",
       "       307.7996878 , 297.33175133, 304.18889977, 294.49702547,\n",
       "       303.08161425, 304.95793209, 283.8546581 , 283.58438539,\n",
       "       300.69695713, 306.64083109, 290.72252874, 289.29546921,\n",
       "       295.75429803, 302.79073593, 299.22414591, 302.18743372,\n",
       "       315.55766515, 301.9026379 , 305.07959802, 310.41429987,\n",
       "       301.31960781, 291.89078644, 284.89789657, 314.50785706,\n",
       "       298.73644634])"
      ]
     },
     "execution_count": 21,
     "metadata": {},
     "output_type": "execute_result"
    }
   ],
   "source": [
    "# Synthesize a random normal distribution for Driving Distance\n",
    "# I choose mu of 300.5 because this is the average drivage distance in pgatour_golfstats_2022-2023_driving.csv\n",
    "mu, sigma = 300.96, 8.66 # mean and standard deviation\n",
    "s = np.random.default_rng().normal(mu, sigma, 189)\n",
    "s"
   ]
  },
  {
   "cell_type": "code",
   "execution_count": 22,
   "id": "b10cd2a1",
   "metadata": {},
   "outputs": [
    {
     "data": {
      "image/png": "[encoded data removed]",
      "text/plain": [
       "<Figure size 640x480 with 1 Axes>"
      ]
     },
     "metadata": {},
     "output_type": "display_data"
    }
   ],
   "source": [
    "# Plot random normal distribution for Driving Distance\n",
    "plt.hist(s)\n",
    "plt.show()"
   ]
  },
  {
   "cell_type": "code",
   "execution_count": 23,
   "id": "dd11a3f5",
   "metadata": {},
   "outputs": [
    {
     "data": {
      "text/plain": [
       "array([333, 324, 290, 293, 274, 294, 318, 303, 300, 325, 325, 284, 274,\n",
       "       286, 291, 306, 268, 311, 299, 274, 315, 305, 289, 295, 267, 314,\n",
       "       306, 284, 315, 295, 301, 317, 328, 307, 283, 291, 325, 285, 283,\n",
       "       310, 292, 275, 265, 301, 298, 304, 289, 317, 271, 275, 320, 308,\n",
       "       337, 363, 292, 306, 299, 307, 294, 297, 307, 310, 273, 307, 317,\n",
       "       308, 302, 295, 304, 279, 300, 291, 273, 311, 296, 289, 277, 274,\n",
       "       333, 283, 301, 343, 296, 316, 278, 299, 283, 285, 302, 324, 295,\n",
       "       292, 292, 311, 287, 280, 341, 302, 292, 282, 320, 257, 294, 320,\n",
       "       296, 345, 304, 253, 315, 302, 315, 285, 300, 300, 305, 302, 296,\n",
       "       304, 312, 289, 325, 273, 313, 320, 337, 295, 329, 296, 307, 300,\n",
       "       284, 321, 303, 304, 321, 332, 296, 285, 298, 287, 293, 319, 317,\n",
       "       309, 275, 260, 283, 297, 296, 281, 319, 336, 329, 312, 321, 319,\n",
       "       298, 312, 329, 289, 286, 290, 308, 302, 285, 319, 322, 305, 318,\n",
       "       304, 298, 304, 298, 299, 296, 322, 292, 275, 298, 309, 300, 280,\n",
       "       309, 298, 288, 303, 327, 279, 274], dtype=int64)"
      ]
     },
     "execution_count": 23,
     "metadata": {},
     "output_type": "execute_result"
    }
   ],
   "source": [
    "# Synthesize a poisson distribution for Driving Distance\n",
    "p = np.random.default_rng().poisson(mu,189)\n",
    "p"
   ]
  },
  {
   "cell_type": "code",
   "execution_count": 24,
   "id": "5764af03",
   "metadata": {},
   "outputs": [
    {
     "data": {
      "image/png": "[encoded data removed]",
      "text/plain": [
       "<Figure size 640x480 with 1 Axes>"
      ]
     },
     "metadata": {},
     "output_type": "display_data"
    }
   ],
   "source": [
    "# Plot poisson distribution for Driving Distance\n",
    "plt.hist(p)\n",
    "plt.show()"
   ]
  },
  {
   "cell_type": "code",
   "execution_count": 25,
   "id": "c7c94311",
   "metadata": {},
   "outputs": [],
   "source": [
    "def f(x):\n",
    "  A = 1.0 / np.sqrt(2.0 * np.pi)\n",
    "  B = np.exp(-(x**2) / 2.0)\n",
    "  return A * B"
   ]
  },
  {
   "cell_type": "code",
   "execution_count": 26,
   "id": "e5e8b5a0",
   "metadata": {},
   "outputs": [
    {
     "data": {
      "text/plain": [
       "0.3989422804014327"
      ]
     },
     "execution_count": 26,
     "metadata": {},
     "output_type": "execute_result"
    }
   ],
   "source": [
    "f(0.0)"
   ]
  },
  {
   "cell_type": "code",
   "execution_count": 27,
   "id": "454c628c",
   "metadata": {},
   "outputs": [
    {
     "data": {
      "text/plain": [
       "0.0044318484119380075"
      ]
     },
     "execution_count": 27,
     "metadata": {},
     "output_type": "execute_result"
    }
   ],
   "source": [
    "f(3.0)"
   ]
  },
  {
   "cell_type": "code",
   "execution_count": 28,
   "id": "44cbbc02",
   "metadata": {},
   "outputs": [
    {
     "data": {
      "text/plain": [
       "0.0"
      ]
     },
     "execution_count": 28,
     "metadata": {},
     "output_type": "execute_result"
    }
   ],
   "source": [
    "f(300.0)"
   ]
  },
  {
   "cell_type": "code",
   "execution_count": 29,
   "id": "1af6b88d",
   "metadata": {},
   "outputs": [
    {
     "data": {
      "image/png": "[encoded data removed]",
      "text/plain": [
       "<Figure size 1200x400 with 1 Axes>"
      ]
     },
     "metadata": {},
     "output_type": "display_data"
    }
   ],
   "source": [
    "# Range of x values for plotting.\n",
    "x = np.linspace(-5.0, 5.0, 1001)\n",
    "\n",
    "# Create empty plot.\n",
    "fig, ax = plt.subplots(figsize=(12, 4))\n",
    "\n",
    "# Plot f(x).\n",
    "ax.plot(x, f(x));"
   ]
  },
  {
   "cell_type": "code",
   "execution_count": 30,
   "id": "81c028a8",
   "metadata": {},
   "outputs": [
    {
     "data": {
      "image/png": "[encoded data removed]",
      "text/plain": [
       "<Figure size 1200x400 with 1 Axes>"
      ]
     },
     "metadata": {},
     "output_type": "display_data"
    }
   ],
   "source": [
    "# Range of x values for plotting.\n",
    "x = np.linspace(250.0, 350.0,350)\n",
    "y=  np.random.normal(300,20,350)\n",
    "\n",
    "# Create empty plot.\n",
    "fig, ax = plt.subplots(figsize=(12, 4))\n",
    "\n",
    "# Plot f(x).\n",
    "ax.hist(x)\n",
    "\n",
    "# Plot histogram of randomly generated normal values from above.\n",
    "ax.plot(x, y)\n",
    "\n",
    "plt.show()"
   ]
  },
  {
   "cell_type": "code",
   "execution_count": 31,
   "id": "812b1dba",
   "metadata": {
    "scrolled": true
   },
   "outputs": [
    {
     "data": {
      "text/plain": [
       "12"
      ]
     },
     "execution_count": 31,
     "metadata": {},
     "output_type": "execute_result"
    }
   ],
   "source": [
    "import numpy as np\n",
    "rng = np.random.default_rng()\n",
    "rng.integers(10,25)"
   ]
  },
  {
   "cell_type": "code",
   "execution_count": 32,
   "id": "bee009cd",
   "metadata": {},
   "outputs": [
    {
     "data": {
      "text/plain": [
       "array([50, 36, 86, 38, 73, 71, 73, 94, 55, 99], dtype=int64)"
      ]
     },
     "execution_count": 32,
     "metadata": {},
     "output_type": "execute_result"
    }
   ],
   "source": [
    "rng = np.random.default_rng()\n",
    "rng.integers(100, size=10)"
   ]
  },
  {
   "cell_type": "code",
   "execution_count": 33,
   "id": "cc6b2daa",
   "metadata": {},
   "outputs": [
    {
     "data": {
      "text/plain": [
       "array([65, 71, 80, 93, 77, 70, 80, 57, 95, 86], dtype=int64)"
      ]
     },
     "execution_count": 33,
     "metadata": {},
     "output_type": "execute_result"
    }
   ],
   "source": [
    "rng = np.random.default_rng()\n",
    "rng.integers(50,100, size=10)"
   ]
  },
  {
   "cell_type": "code",
   "execution_count": 34,
   "id": "8957aebb",
   "metadata": {},
   "outputs": [
    {
     "data": {
      "text/plain": [
       "array([[ 8, 73, 60, 65],\n",
       "       [ 6, 51, 27, 94]], dtype=int64)"
      ]
     },
     "execution_count": 34,
     "metadata": {},
     "output_type": "execute_result"
    }
   ],
   "source": [
    "rng = np.random.default_rng()\n",
    "rng.integers(100, size=(2,4))"
   ]
  },
  {
   "cell_type": "code",
   "execution_count": 35,
   "id": "191be29f",
   "metadata": {},
   "outputs": [
    {
     "data": {
      "text/plain": [
       "0.6235462855100643"
      ]
     },
     "execution_count": 35,
     "metadata": {},
     "output_type": "execute_result"
    }
   ],
   "source": [
    "rng = np.random.default_rng()\n",
    "rng.random()"
   ]
  },
  {
   "cell_type": "code",
   "execution_count": 36,
   "id": "4e63d121",
   "metadata": {},
   "outputs": [
    {
     "data": {
      "text/plain": [
       "array([0.7948405 , 0.59465011, 0.40770348, 0.47788421, 0.80953573])"
      ]
     },
     "execution_count": 36,
     "metadata": {},
     "output_type": "execute_result"
    }
   ],
   "source": [
    "rng = np.random.default_rng()\n",
    "rng.random(5)"
   ]
  },
  {
   "cell_type": "code",
   "execution_count": 37,
   "id": "feecd71f",
   "metadata": {},
   "outputs": [
    {
     "data": {
      "text/plain": [
       "array([[0.06675323, 0.1895296 , 0.4163766 , 0.75894809],\n",
       "       [0.853645  , 0.07513116, 0.5833451 , 0.1005552 ],\n",
       "       [0.5472474 , 0.12807188, 0.33894482, 0.22551579],\n",
       "       [0.02287089, 0.85199816, 0.12692673, 0.81472591],\n",
       "       [0.33926148, 0.07101864, 0.18298819, 0.96048957]])"
      ]
     },
     "execution_count": 37,
     "metadata": {},
     "output_type": "execute_result"
    }
   ],
   "source": [
    "rng = np.random.default_rng()\n",
    "rng.random((5,4))"
   ]
  },
  {
   "cell_type": "code",
   "execution_count": 38,
   "id": "51464077",
   "metadata": {},
   "outputs": [],
   "source": [
    "rng = np.random.default_rng()\n",
    "x = rng.random(1000000)"
   ]
  },
  {
   "cell_type": "code",
   "execution_count": 39,
   "id": "b723593d",
   "metadata": {},
   "outputs": [
    {
     "data": {
      "image/png": "[encoded data removed]",
      "text/plain": [
       "<Figure size 640x480 with 1 Axes>"
      ]
     },
     "metadata": {},
     "output_type": "display_data"
    }
   ],
   "source": [
    "import matplotlib.pyplot as plt\n",
    "plt.hist(x)\n",
    "plt.show()"
   ]
  },
  {
   "cell_type": "code",
   "execution_count": 40,
   "id": "299fd182",
   "metadata": {},
   "outputs": [
    {
     "name": "stdout",
     "output_type": "stream",
     "text": [
      "0.6522992627009107\n"
     ]
    }
   ],
   "source": [
    "rng = np.random.default_rng(seed=43)\n",
    "x = rng.random()\n",
    "print(x)"
   ]
  },
  {
   "cell_type": "code",
   "execution_count": 41,
   "id": "24b45be7",
   "metadata": {},
   "outputs": [
    {
     "name": "stdout",
     "output_type": "stream",
     "text": [
      "6\n"
     ]
    }
   ],
   "source": [
    "rng = np.random.default_rng(seed=44)\n",
    "x = rng.integers(10)\n",
    "print(x)"
   ]
  },
  {
   "cell_type": "code",
   "execution_count": 42,
   "id": "f9bb8a58",
   "metadata": {},
   "outputs": [
    {
     "name": "stdout",
     "output_type": "stream",
     "text": [
      "[[0.65229926 0.04377532 0.02002959 0.83921258]\n",
      " [0.58714305 0.22470523 0.75179227 0.2636922 ]]\n"
     ]
    }
   ],
   "source": [
    "rng = np.random.default_rng(seed=43)\n",
    "x = rng.random((2,4))\n",
    "print(x)"
   ]
  },
  {
   "cell_type": "code",
   "execution_count": 43,
   "id": "25e7a0e0",
   "metadata": {},
   "outputs": [
    {
     "name": "stdout",
     "output_type": "stream",
     "text": [
      "[[75 82 70]\n",
      " [52 78 51]\n",
      " [63 91 73]]\n"
     ]
    }
   ],
   "source": [
    "rng = np.random.default_rng(seed=43)\n",
    "x = rng.integers(50,100,size=(3,3))\n",
    "print(x)"
   ]
  }
 ],
 "metadata": {
  "kernelspec": {
   "display_name": "Python 3 (ipykernel)",
   "language": "python",
   "name": "python3"
  },
  "language_info": {
   "codemirror_mode": {
    "name": "ipython",
    "version": 3
   },
   "file_extension": ".py",
   "mimetype": "text/x-python",
   "name": "python",
   "nbconvert_exporter": "python",
   "pygments_lexer": "ipython3",
   "version": "3.9.13"
  }
 },
 "nbformat": 4,
 "nbformat_minor": 5
}
