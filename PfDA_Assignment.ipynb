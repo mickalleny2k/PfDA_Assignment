{
 "cells": [
  {
   "cell_type": "markdown",
   "id": "64987554",
   "metadata": {},
   "source": [
    "# Programming for Data Analysis Assignment"
   ]
  },
  {
   "cell_type": "code",
   "execution_count": 1,
   "id": "32c66952",
   "metadata": {},
   "outputs": [
    {
     "data": {
      "text/html": [
       "<div>\n",
       "<style scoped>\n",
       "    .dataframe tbody tr th:only-of-type {\n",
       "        vertical-align: middle;\n",
       "    }\n",
       "\n",
       "    .dataframe tbody tr th {\n",
       "        vertical-align: top;\n",
       "    }\n",
       "\n",
       "    .dataframe thead th {\n",
       "        text-align: right;\n",
       "    }\n",
       "</style>\n",
       "<table border=\"1\" class=\"dataframe\">\n",
       "  <thead>\n",
       "    <tr style=\"text-align: right;\">\n",
       "      <th></th>\n",
       "      <th>RANK</th>\n",
       "      <th>MOVEMENT</th>\n",
       "      <th>PLAYER_ID</th>\n",
       "      <th>PLAYER</th>\n",
       "      <th>AVG</th>\n",
       "      <th>TOTAL STROKES</th>\n",
       "      <th>TOTAL ADJUSTMENT</th>\n",
       "      <th>TOTAL ROUNDS</th>\n",
       "    </tr>\n",
       "  </thead>\n",
       "  <tbody>\n",
       "    <tr>\n",
       "      <th>0</th>\n",
       "      <td>1</td>\n",
       "      <td>0</td>\n",
       "      <td>46046</td>\n",
       "      <td>Scottie Scheffler</td>\n",
       "      <td>68.629</td>\n",
       "      <td>6007</td>\n",
       "      <td>32.329</td>\n",
       "      <td>88</td>\n",
       "    </tr>\n",
       "    <tr>\n",
       "      <th>1</th>\n",
       "      <td>2</td>\n",
       "      <td>0</td>\n",
       "      <td>28237</td>\n",
       "      <td>Rory McIlroy</td>\n",
       "      <td>68.777</td>\n",
       "      <td>4411</td>\n",
       "      <td>-9.244</td>\n",
       "      <td>64</td>\n",
       "    </tr>\n",
       "    <tr>\n",
       "      <th>2</th>\n",
       "      <td>3</td>\n",
       "      <td>0</td>\n",
       "      <td>46970</td>\n",
       "      <td>Jon Rahm</td>\n",
       "      <td>69.037</td>\n",
       "      <td>4886</td>\n",
       "      <td>15.615</td>\n",
       "      <td>71</td>\n",
       "    </tr>\n",
       "    <tr>\n",
       "      <th>3</th>\n",
       "      <td>4</td>\n",
       "      <td>0</td>\n",
       "      <td>46717</td>\n",
       "      <td>Viktor Hovland</td>\n",
       "      <td>69.123</td>\n",
       "      <td>6065</td>\n",
       "      <td>17.843</td>\n",
       "      <td>88</td>\n",
       "    </tr>\n",
       "    <tr>\n",
       "      <th>4</th>\n",
       "      <td>5</td>\n",
       "      <td>0</td>\n",
       "      <td>48081</td>\n",
       "      <td>Xander Schauffele</td>\n",
       "      <td>69.127</td>\n",
       "      <td>5595</td>\n",
       "      <td>4.323</td>\n",
       "      <td>81</td>\n",
       "    </tr>\n",
       "    <tr>\n",
       "      <th>...</th>\n",
       "      <td>...</td>\n",
       "      <td>...</td>\n",
       "      <td>...</td>\n",
       "      <td>...</td>\n",
       "      <td>...</td>\n",
       "      <td>...</td>\n",
       "      <td>...</td>\n",
       "      <td>...</td>\n",
       "    </tr>\n",
       "    <tr>\n",
       "      <th>184</th>\n",
       "      <td>185</td>\n",
       "      <td>-2</td>\n",
       "      <td>51950</td>\n",
       "      <td>Max McGreevy</td>\n",
       "      <td>72.603</td>\n",
       "      <td>6170</td>\n",
       "      <td>73.869</td>\n",
       "      <td>86</td>\n",
       "    </tr>\n",
       "    <tr>\n",
       "      <th>185</th>\n",
       "      <td>186</td>\n",
       "      <td>-2</td>\n",
       "      <td>28420</td>\n",
       "      <td>Ryan Brehm</td>\n",
       "      <td>72.739</td>\n",
       "      <td>5740</td>\n",
       "      <td>79.134</td>\n",
       "      <td>80</td>\n",
       "    </tr>\n",
       "    <tr>\n",
       "      <th>186</th>\n",
       "      <td>187</td>\n",
       "      <td>-2</td>\n",
       "      <td>32662</td>\n",
       "      <td>Michael Gligic</td>\n",
       "      <td>72.775</td>\n",
       "      <td>4953</td>\n",
       "      <td>68.445</td>\n",
       "      <td>69</td>\n",
       "    </tr>\n",
       "    <tr>\n",
       "      <th>187</th>\n",
       "      <td>188</td>\n",
       "      <td>-2</td>\n",
       "      <td>27095</td>\n",
       "      <td>Nick Watney</td>\n",
       "      <td>72.936</td>\n",
       "      <td>5052</td>\n",
       "      <td>53.529</td>\n",
       "      <td>70</td>\n",
       "    </tr>\n",
       "    <tr>\n",
       "      <th>188</th>\n",
       "      <td>189</td>\n",
       "      <td>-2</td>\n",
       "      <td>51491</td>\n",
       "      <td>Brandon Matthews</td>\n",
       "      <td>73.153</td>\n",
       "      <td>4262</td>\n",
       "      <td>54.054</td>\n",
       "      <td>59</td>\n",
       "    </tr>\n",
       "  </tbody>\n",
       "</table>\n",
       "<p>189 rows × 8 columns</p>\n",
       "</div>"
      ],
      "text/plain": [
       "     RANK  MOVEMENT  PLAYER_ID             PLAYER     AVG  TOTAL STROKES  \\\n",
       "0       1         0      46046  Scottie Scheffler  68.629           6007   \n",
       "1       2         0      28237       Rory McIlroy  68.777           4411   \n",
       "2       3         0      46970           Jon Rahm  69.037           4886   \n",
       "3       4         0      46717     Viktor Hovland  69.123           6065   \n",
       "4       5         0      48081  Xander Schauffele  69.127           5595   \n",
       "..    ...       ...        ...                ...     ...            ...   \n",
       "184   185        -2      51950       Max McGreevy  72.603           6170   \n",
       "185   186        -2      28420         Ryan Brehm  72.739           5740   \n",
       "186   187        -2      32662     Michael Gligic  72.775           4953   \n",
       "187   188        -2      27095        Nick Watney  72.936           5052   \n",
       "188   189        -2      51491   Brandon Matthews  73.153           4262   \n",
       "\n",
       "     TOTAL ADJUSTMENT  TOTAL ROUNDS  \n",
       "0              32.329            88  \n",
       "1              -9.244            64  \n",
       "2              15.615            71  \n",
       "3              17.843            88  \n",
       "4               4.323            81  \n",
       "..                ...           ...  \n",
       "184            73.869            86  \n",
       "185            79.134            80  \n",
       "186            68.445            69  \n",
       "187            53.529            70  \n",
       "188            54.054            59  \n",
       "\n",
       "[189 rows x 8 columns]"
      ]
     },
     "execution_count": 1,
     "metadata": {},
     "output_type": "execute_result"
    }
   ],
   "source": [
    "import numpy as np\n",
    "import pandas as pd\n",
    "\n",
    "# https://www.pgatour.com/stats/detail/120\n",
    "df = pd.read_csv('pgatour_golfstats_2022-2023_averagescore.csv')\n",
    "df"
   ]
  },
  {
   "cell_type": "code",
   "execution_count": 2,
   "id": "4e990503",
   "metadata": {},
   "outputs": [
    {
     "data": {
      "image/png": "[encoded data removed]",
      "text/plain": [
       "<Figure size 640x480 with 1 Axes>"
      ]
     },
     "metadata": {},
     "output_type": "display_data"
    }
   ],
   "source": [
    "import matplotlib.pyplot as plt\n",
    "x = df.AVG\n",
    "plt.plot(df.AVG)\n",
    "plt.show()"
   ]
  },
  {
   "cell_type": "code",
   "execution_count": 3,
   "id": "7906d4e6",
   "metadata": {},
   "outputs": [
    {
     "data": {
      "image/png": "[encoded data removed]",
      "text/plain": [
       "<Figure size 640x480 with 1 Axes>"
      ]
     },
     "metadata": {},
     "output_type": "display_data"
    }
   ],
   "source": [
    "# Plot Average Score data from pgatour_golfstats_2022-2023_averagescore.csv\n",
    "plt.hist(x, bins=10)\n",
    "plt.show()"
   ]
  },
  {
   "cell_type": "code",
   "execution_count": 4,
   "id": "0d240e84",
   "metadata": {},
   "outputs": [
    {
     "data": {
      "text/plain": [
       "0      68.629\n",
       "1      68.777\n",
       "2      69.037\n",
       "3      69.123\n",
       "4      69.127\n",
       "        ...  \n",
       "184    72.603\n",
       "185    72.739\n",
       "186    72.775\n",
       "187    72.936\n",
       "188    73.153\n",
       "Name: AVG, Length: 189, dtype: float64"
      ]
     },
     "execution_count": 4,
     "metadata": {},
     "output_type": "execute_result"
    }
   ],
   "source": [
    "df.AVG"
   ]
  },
  {
   "cell_type": "code",
   "execution_count": 5,
   "id": "7d9ba81a",
   "metadata": {},
   "outputs": [
    {
     "data": {
      "text/plain": [
       "0.8301339718593281"
      ]
     },
     "execution_count": 5,
     "metadata": {},
     "output_type": "execute_result"
    }
   ],
   "source": [
    "std = df.AVG.std()\n",
    "std"
   ]
  },
  {
   "cell_type": "code",
   "execution_count": 6,
   "id": "a127e546",
   "metadata": {},
   "outputs": [
    {
     "data": {
      "text/plain": [
       "70.96867724867725"
      ]
     },
     "execution_count": 6,
     "metadata": {},
     "output_type": "execute_result"
    }
   ],
   "source": [
    "mean = df.AVG.mean()\n",
    "mean"
   ]
  },
  {
   "cell_type": "code",
   "execution_count": 7,
   "id": "4faa1f17",
   "metadata": {},
   "outputs": [
    {
     "data": {
      "text/html": [
       "<div>\n",
       "<style scoped>\n",
       "    .dataframe tbody tr th:only-of-type {\n",
       "        vertical-align: middle;\n",
       "    }\n",
       "\n",
       "    .dataframe tbody tr th {\n",
       "        vertical-align: top;\n",
       "    }\n",
       "\n",
       "    .dataframe thead th {\n",
       "        text-align: right;\n",
       "    }\n",
       "</style>\n",
       "<table border=\"1\" class=\"dataframe\">\n",
       "  <thead>\n",
       "    <tr style=\"text-align: right;\">\n",
       "      <th></th>\n",
       "      <th>RANK</th>\n",
       "      <th>MOVEMENT</th>\n",
       "      <th>PLAYER_ID</th>\n",
       "      <th>AVG</th>\n",
       "      <th>TOTAL STROKES</th>\n",
       "      <th>TOTAL ADJUSTMENT</th>\n",
       "      <th>TOTAL ROUNDS</th>\n",
       "    </tr>\n",
       "  </thead>\n",
       "  <tbody>\n",
       "    <tr>\n",
       "      <th>count</th>\n",
       "      <td>189.000000</td>\n",
       "      <td>189.000000</td>\n",
       "      <td>189.000000</td>\n",
       "      <td>189.000000</td>\n",
       "      <td>189.000000</td>\n",
       "      <td>189.000000</td>\n",
       "      <td>189.000000</td>\n",
       "    </tr>\n",
       "    <tr>\n",
       "      <th>mean</th>\n",
       "      <td>94.957672</td>\n",
       "      <td>-0.449735</td>\n",
       "      <td>39114.994709</td>\n",
       "      <td>70.968677</td>\n",
       "      <td>5977.037037</td>\n",
       "      <td>53.245196</td>\n",
       "      <td>85.026455</td>\n",
       "    </tr>\n",
       "    <tr>\n",
       "      <th>std</th>\n",
       "      <td>54.705579</td>\n",
       "      <td>3.487647</td>\n",
       "      <td>10294.967774</td>\n",
       "      <td>0.830134</td>\n",
       "      <td>1123.886273</td>\n",
       "      <td>26.348952</td>\n",
       "      <td>16.241670</td>\n",
       "    </tr>\n",
       "    <tr>\n",
       "      <th>min</th>\n",
       "      <td>1.000000</td>\n",
       "      <td>-13.000000</td>\n",
       "      <td>12716.000000</td>\n",
       "      <td>68.629000</td>\n",
       "      <td>3198.000000</td>\n",
       "      <td>-18.811000</td>\n",
       "      <td>45.000000</td>\n",
       "    </tr>\n",
       "    <tr>\n",
       "      <th>25%</th>\n",
       "      <td>48.000000</td>\n",
       "      <td>-2.000000</td>\n",
       "      <td>31560.000000</td>\n",
       "      <td>70.461000</td>\n",
       "      <td>5217.000000</td>\n",
       "      <td>35.723000</td>\n",
       "      <td>74.000000</td>\n",
       "    </tr>\n",
       "    <tr>\n",
       "      <th>50%</th>\n",
       "      <td>94.000000</td>\n",
       "      <td>0.000000</td>\n",
       "      <td>36699.000000</td>\n",
       "      <td>70.966000</td>\n",
       "      <td>6065.000000</td>\n",
       "      <td>55.784000</td>\n",
       "      <td>86.000000</td>\n",
       "    </tr>\n",
       "    <tr>\n",
       "      <th>75%</th>\n",
       "      <td>142.000000</td>\n",
       "      <td>2.000000</td>\n",
       "      <td>48117.000000</td>\n",
       "      <td>71.524000</td>\n",
       "      <td>6799.000000</td>\n",
       "      <td>73.356000</td>\n",
       "      <td>96.000000</td>\n",
       "    </tr>\n",
       "    <tr>\n",
       "      <th>max</th>\n",
       "      <td>189.000000</td>\n",
       "      <td>19.000000</td>\n",
       "      <td>59018.000000</td>\n",
       "      <td>73.153000</td>\n",
       "      <td>8450.000000</td>\n",
       "      <td>106.517000</td>\n",
       "      <td>122.000000</td>\n",
       "    </tr>\n",
       "  </tbody>\n",
       "</table>\n",
       "</div>"
      ],
      "text/plain": [
       "             RANK    MOVEMENT     PLAYER_ID         AVG  TOTAL STROKES  \\\n",
       "count  189.000000  189.000000    189.000000  189.000000     189.000000   \n",
       "mean    94.957672   -0.449735  39114.994709   70.968677    5977.037037   \n",
       "std     54.705579    3.487647  10294.967774    0.830134    1123.886273   \n",
       "min      1.000000  -13.000000  12716.000000   68.629000    3198.000000   \n",
       "25%     48.000000   -2.000000  31560.000000   70.461000    5217.000000   \n",
       "50%     94.000000    0.000000  36699.000000   70.966000    6065.000000   \n",
       "75%    142.000000    2.000000  48117.000000   71.524000    6799.000000   \n",
       "max    189.000000   19.000000  59018.000000   73.153000    8450.000000   \n",
       "\n",
       "       TOTAL ADJUSTMENT  TOTAL ROUNDS  \n",
       "count        189.000000    189.000000  \n",
       "mean          53.245196     85.026455  \n",
       "std           26.348952     16.241670  \n",
       "min          -18.811000     45.000000  \n",
       "25%           35.723000     74.000000  \n",
       "50%           55.784000     86.000000  \n",
       "75%           73.356000     96.000000  \n",
       "max          106.517000    122.000000  "
      ]
     },
     "execution_count": 7,
     "metadata": {},
     "output_type": "execute_result"
    }
   ],
   "source": [
    "df.describe()"
   ]
  },
  {
   "cell_type": "code",
   "execution_count": 8,
   "id": "d21a077b",
   "metadata": {},
   "outputs": [
    {
     "data": {
      "text/plain": [
       "RANK                189\n",
       "MOVEMENT            189\n",
       "PLAYER_ID           189\n",
       "PLAYER              189\n",
       "AVG                 189\n",
       "TOTAL STROKES       189\n",
       "TOTAL ADJUSTMENT    189\n",
       "TOTAL ROUNDS        189\n",
       "dtype: int64"
      ]
     },
     "execution_count": 8,
     "metadata": {},
     "output_type": "execute_result"
    }
   ],
   "source": [
    "count = df.count()\n",
    "count"
   ]
  },
  {
   "cell_type": "code",
   "execution_count": 9,
   "id": "c5930fbf",
   "metadata": {},
   "outputs": [
    {
     "data": {
      "text/plain": [
       "array([69.60081624, 71.51837163, 71.63946947, 69.76852858, 72.99597624,\n",
       "       70.79531329, 70.6412234 , 72.3304598 , 72.25680225, 71.43896539,\n",
       "       72.04390305, 70.63174561, 71.26640932, 71.66243183, 71.26544391,\n",
       "       70.91545085, 71.55362738, 71.69058112, 71.11636051, 70.48312957,\n",
       "       70.69043216, 71.99399923, 70.79747157, 72.0959708 , 70.49798087,\n",
       "       70.95067974, 71.71938321, 72.63802898, 69.2383636 , 72.13016124,\n",
       "       70.81920124, 71.78786779, 70.83750006, 70.76502794, 70.93080182,\n",
       "       70.92537983, 70.78279648, 70.08533827, 70.68193214, 70.16496042,\n",
       "       72.48579011, 70.9125651 , 71.04418685, 69.95112676, 71.14042837,\n",
       "       70.24034377, 70.17905668, 70.6873937 , 69.82194643, 69.74542907,\n",
       "       72.08274297, 70.16801226, 72.09346505, 70.47607351, 70.04597818,\n",
       "       71.17500415, 72.3662274 , 72.11869159, 71.76015011, 72.48119352,\n",
       "       70.81374754, 69.93984024, 71.30428882, 71.8430962 , 71.70202745,\n",
       "       71.95615338, 72.092267  , 71.19291163, 70.64916528, 70.707474  ,\n",
       "       71.3301908 , 70.32873238, 72.6400767 , 70.58455186, 71.28232435,\n",
       "       71.50977184, 71.32827787, 69.24479019, 70.54196123, 70.65558069,\n",
       "       71.64805563, 71.74419206, 72.39112486, 71.30696828, 70.84203335,\n",
       "       71.17655514, 71.03007908, 71.56831671, 71.0207534 , 71.52114213,\n",
       "       70.30248878, 72.43626307, 69.78433914, 71.45219529, 71.17957173,\n",
       "       71.80264841, 70.59928486, 72.26184644, 70.88764355, 71.67669769,\n",
       "       72.76894931, 71.49323373, 71.34683874, 70.48876868, 70.54444354,\n",
       "       70.09626506, 69.6081843 , 71.22260757, 70.74239966, 69.48219582,\n",
       "       71.2885384 , 71.00530305, 70.7988925 , 71.2184898 , 71.08873438,\n",
       "       71.68568447, 69.95330892, 71.55430229, 72.04650116, 71.63629535,\n",
       "       71.70106002, 70.72538465, 70.4086988 , 70.25870053, 70.80144964,\n",
       "       72.00076571, 70.06727743, 71.15212922, 71.94335507, 71.84607686,\n",
       "       70.16264003, 72.63973542, 69.42348141, 70.57009227, 70.41843081,\n",
       "       72.44598644, 70.79397029, 70.08256589, 71.55569852, 71.06561287,\n",
       "       71.0853309 , 70.31375623, 69.96631925, 70.21641181, 69.35228563,\n",
       "       71.17249857, 71.14335094, 71.11321439, 69.82295109, 69.78234031,\n",
       "       72.0115051 , 70.61222939, 70.67899978, 71.58937513, 69.56168745,\n",
       "       72.61528129, 71.15381728, 71.1229309 , 69.80197449, 71.96710517,\n",
       "       70.75041943, 71.25775242, 72.17037316, 71.0652449 , 72.1234465 ,\n",
       "       70.25291038, 70.08544005, 71.90788373, 69.42983297, 70.79779923,\n",
       "       71.79136162, 71.40888419, 71.389155  , 70.53065093, 71.07829352,\n",
       "       71.46660565, 70.11346013, 69.45032971, 71.27002339, 69.98954996,\n",
       "       70.87079477, 70.82684839, 71.5316965 , 70.53459528, 70.77616708,\n",
       "       71.42363006, 70.17280278, 70.59116177, 69.92463   ])"
      ]
     },
     "execution_count": 9,
     "metadata": {},
     "output_type": "execute_result"
    }
   ],
   "source": [
    "# Synthesize a random normal distribution for Average Score\n",
    "# I choose mu of 70.96 because this is the average score in pgatour_golfstats_2022-2023_averagescore.csv\n",
    "y = np.random.normal(mean,std,189)\n",
    "y"
   ]
  },
  {
   "cell_type": "code",
   "execution_count": 10,
   "id": "f14b0237",
   "metadata": {},
   "outputs": [
    {
     "data": {
      "image/png": "[encoded data removed]",
      "text/plain": [
       "<Figure size 640x480 with 1 Axes>"
      ]
     },
     "metadata": {},
     "output_type": "display_data"
    }
   ],
   "source": [
    "# Plot random normal distribution for Average Score\n",
    "plt.hist(y)\n",
    "plt.show()"
   ]
  },
  {
   "cell_type": "code",
   "execution_count": 11,
   "id": "a30bfcf8",
   "metadata": {},
   "outputs": [
    {
     "data": {
      "text/plain": [
       "array([72, 70, 82, 61, 71, 90, 50, 83, 72, 75, 77, 68, 86, 70, 66, 68, 81,\n",
       "       77, 68, 68, 79, 63, 65, 84, 81, 61, 73, 75, 72, 64, 69, 61, 67, 72,\n",
       "       75, 80, 66, 63, 61, 63, 75, 72, 68, 80, 74, 63, 60, 67, 78, 72, 92,\n",
       "       75, 81, 70, 55, 81, 61, 71, 82, 89, 77, 65, 69, 69, 89, 68, 74, 49,\n",
       "       68, 63, 78, 61, 74, 78, 67, 60, 69, 54, 83, 73, 70, 82, 78, 52, 73,\n",
       "       73, 70, 76, 63, 70, 62, 64, 55, 72, 60, 79, 68, 64, 69, 65, 77, 68,\n",
       "       68, 73, 85, 75, 56, 66, 75, 63, 78, 66, 87, 64, 64, 50, 64, 75, 58,\n",
       "       66, 78, 76, 67, 68, 63, 64, 81, 62, 75, 82, 93, 62, 68, 83, 79, 66,\n",
       "       68, 69, 72, 93, 75, 80, 64, 74, 67, 76, 79, 65, 72, 69, 68, 62, 63,\n",
       "       69, 63, 75, 73, 81, 61, 63, 76, 80, 66, 83, 53, 79, 68, 73, 68, 70,\n",
       "       61, 57, 66, 77, 59, 74, 68, 91, 83, 90, 80, 74, 71, 57, 80, 62, 74,\n",
       "       55, 79], dtype=int64)"
      ]
     },
     "execution_count": 11,
     "metadata": {},
     "output_type": "execute_result"
    }
   ],
   "source": [
    "# Synthesize a poisson distribution for Average Score\n",
    "p = np.random.default_rng().poisson(mean, 189)\n",
    "p"
   ]
  },
  {
   "cell_type": "code",
   "execution_count": 12,
   "id": "1699603d",
   "metadata": {},
   "outputs": [
    {
     "data": {
      "image/png": "[encoded data removed]",
      "text/plain": [
       "<Figure size 640x480 with 1 Axes>"
      ]
     },
     "metadata": {},
     "output_type": "display_data"
    }
   ],
   "source": [
    "# Plot poisson distribution for Average Score\n",
    "plt.hist(p)\n",
    "plt.show()"
   ]
  },
  {
   "cell_type": "code",
   "execution_count": 13,
   "id": "1cab077a",
   "metadata": {},
   "outputs": [
    {
     "data": {
      "text/html": [
       "<div>\n",
       "<style scoped>\n",
       "    .dataframe tbody tr th:only-of-type {\n",
       "        vertical-align: middle;\n",
       "    }\n",
       "\n",
       "    .dataframe tbody tr th {\n",
       "        vertical-align: top;\n",
       "    }\n",
       "\n",
       "    .dataframe thead th {\n",
       "        text-align: right;\n",
       "    }\n",
       "</style>\n",
       "<table border=\"1\" class=\"dataframe\">\n",
       "  <thead>\n",
       "    <tr style=\"text-align: right;\">\n",
       "      <th></th>\n",
       "      <th>RANK</th>\n",
       "      <th>MOVEMENT</th>\n",
       "      <th>PLAYER_ID</th>\n",
       "      <th>PLAYER</th>\n",
       "      <th>AVG</th>\n",
       "      <th>TOTAL DISTANCE</th>\n",
       "      <th>TOTAL DRIVES</th>\n",
       "    </tr>\n",
       "  </thead>\n",
       "  <tbody>\n",
       "    <tr>\n",
       "      <th>0</th>\n",
       "      <td>1</td>\n",
       "      <td>0</td>\n",
       "      <td>28237</td>\n",
       "      <td>Rory McIlroy</td>\n",
       "      <td>326.3</td>\n",
       "      <td>41771</td>\n",
       "      <td>128</td>\n",
       "    </tr>\n",
       "    <tr>\n",
       "      <th>1</th>\n",
       "      <td>2</td>\n",
       "      <td>0</td>\n",
       "      <td>51491</td>\n",
       "      <td>Brandon Matthews</td>\n",
       "      <td>321.3</td>\n",
       "      <td>37915</td>\n",
       "      <td>118</td>\n",
       "    </tr>\n",
       "    <tr>\n",
       "      <th>2</th>\n",
       "      <td>3</td>\n",
       "      <td>0</td>\n",
       "      <td>52372</td>\n",
       "      <td>Cameron Champ</td>\n",
       "      <td>318.8</td>\n",
       "      <td>47180</td>\n",
       "      <td>148</td>\n",
       "    </tr>\n",
       "    <tr>\n",
       "      <th>3</th>\n",
       "      <td>4</td>\n",
       "      <td>0</td>\n",
       "      <td>52453</td>\n",
       "      <td>Nicolai Hojgaard</td>\n",
       "      <td>317.7</td>\n",
       "      <td>29227</td>\n",
       "      <td>92</td>\n",
       "    </tr>\n",
       "    <tr>\n",
       "      <th>4</th>\n",
       "      <td>5</td>\n",
       "      <td>0</td>\n",
       "      <td>57366</td>\n",
       "      <td>Cameron Young</td>\n",
       "      <td>316.5</td>\n",
       "      <td>51902</td>\n",
       "      <td>164</td>\n",
       "    </tr>\n",
       "    <tr>\n",
       "      <th>...</th>\n",
       "      <td>...</td>\n",
       "      <td>...</td>\n",
       "      <td>...</td>\n",
       "      <td>...</td>\n",
       "      <td>...</td>\n",
       "      <td>...</td>\n",
       "      <td>...</td>\n",
       "    </tr>\n",
       "    <tr>\n",
       "      <th>184</th>\n",
       "      <td>185</td>\n",
       "      <td>-2</td>\n",
       "      <td>30927</td>\n",
       "      <td>Brendon Todd</td>\n",
       "      <td>282.8</td>\n",
       "      <td>54300</td>\n",
       "      <td>192</td>\n",
       "    </tr>\n",
       "    <tr>\n",
       "      <th>185</th>\n",
       "      <td>186</td>\n",
       "      <td>-2</td>\n",
       "      <td>40058</td>\n",
       "      <td>Zac Blair</td>\n",
       "      <td>282.4</td>\n",
       "      <td>42920</td>\n",
       "      <td>152</td>\n",
       "    </tr>\n",
       "    <tr>\n",
       "      <th>186</th>\n",
       "      <td>187</td>\n",
       "      <td>-2</td>\n",
       "      <td>31202</td>\n",
       "      <td>William McGirt</td>\n",
       "      <td>281.0</td>\n",
       "      <td>25292</td>\n",
       "      <td>90</td>\n",
       "    </tr>\n",
       "    <tr>\n",
       "      <th>187</th>\n",
       "      <td>188</td>\n",
       "      <td>-2</td>\n",
       "      <td>34409</td>\n",
       "      <td>David Lingmerth</td>\n",
       "      <td>279.2</td>\n",
       "      <td>45789</td>\n",
       "      <td>164</td>\n",
       "    </tr>\n",
       "    <tr>\n",
       "      <th>188</th>\n",
       "      <td>189</td>\n",
       "      <td>-2</td>\n",
       "      <td>31560</td>\n",
       "      <td>Brian Stuard</td>\n",
       "      <td>272.5</td>\n",
       "      <td>36510</td>\n",
       "      <td>134</td>\n",
       "    </tr>\n",
       "  </tbody>\n",
       "</table>\n",
       "<p>189 rows × 7 columns</p>\n",
       "</div>"
      ],
      "text/plain": [
       "     RANK  MOVEMENT  PLAYER_ID            PLAYER    AVG  TOTAL DISTANCE  \\\n",
       "0       1         0      28237      Rory McIlroy  326.3           41771   \n",
       "1       2         0      51491  Brandon Matthews  321.3           37915   \n",
       "2       3         0      52372     Cameron Champ  318.8           47180   \n",
       "3       4         0      52453  Nicolai Hojgaard  317.7           29227   \n",
       "4       5         0      57366     Cameron Young  316.5           51902   \n",
       "..    ...       ...        ...               ...    ...             ...   \n",
       "184   185        -2      30927      Brendon Todd  282.8           54300   \n",
       "185   186        -2      40058         Zac Blair  282.4           42920   \n",
       "186   187        -2      31202    William McGirt  281.0           25292   \n",
       "187   188        -2      34409   David Lingmerth  279.2           45789   \n",
       "188   189        -2      31560      Brian Stuard  272.5           36510   \n",
       "\n",
       "     TOTAL DRIVES  \n",
       "0             128  \n",
       "1             118  \n",
       "2             148  \n",
       "3              92  \n",
       "4             164  \n",
       "..            ...  \n",
       "184           192  \n",
       "185           152  \n",
       "186            90  \n",
       "187           164  \n",
       "188           134  \n",
       "\n",
       "[189 rows x 7 columns]"
      ]
     },
     "execution_count": 13,
     "metadata": {},
     "output_type": "execute_result"
    }
   ],
   "source": [
    "# https://www.pgatour.com/stats/detail/101\n",
    "df1 = pd.read_csv('pgatour_golfstats_2022-2023_driving.csv')\n",
    "df1"
   ]
  },
  {
   "cell_type": "code",
   "execution_count": 14,
   "id": "9f6d7873",
   "metadata": {},
   "outputs": [
    {
     "data": {
      "image/png": "[encoded data removed]",
      "text/plain": [
       "<Figure size 640x480 with 1 Axes>"
      ]
     },
     "metadata": {},
     "output_type": "display_data"
    }
   ],
   "source": [
    "x = df1.RANK\n",
    "y = df1.AVG\n",
    "plt.plot(x,y)\n",
    "plt.show()"
   ]
  },
  {
   "cell_type": "code",
   "execution_count": 15,
   "id": "c7272a1c",
   "metadata": {},
   "outputs": [
    {
     "data": {
      "image/png": "[encoded data removed]",
      "text/plain": [
       "<Figure size 640x480 with 1 Axes>"
      ]
     },
     "metadata": {},
     "output_type": "display_data"
    }
   ],
   "source": [
    "# Plot Driving Distance data from pgatour_golfstats_2022-2023_driving.csv\n",
    "plt.hist(y, bins=10)\n",
    "plt.show()"
   ]
  },
  {
   "cell_type": "code",
   "execution_count": 16,
   "id": "318bef55",
   "metadata": {},
   "outputs": [
    {
     "data": {
      "text/plain": [
       "0      326.3\n",
       "1      321.3\n",
       "2      318.8\n",
       "3      317.7\n",
       "4      316.5\n",
       "       ...  \n",
       "184    282.8\n",
       "185    282.4\n",
       "186    281.0\n",
       "187    279.2\n",
       "188    272.5\n",
       "Name: AVG, Length: 189, dtype: float64"
      ]
     },
     "execution_count": 16,
     "metadata": {},
     "output_type": "execute_result"
    }
   ],
   "source": [
    "df1.AVG"
   ]
  },
  {
   "cell_type": "code",
   "execution_count": 17,
   "id": "a01547a6",
   "metadata": {},
   "outputs": [
    {
     "data": {
      "text/plain": [
       "8.66203975287581"
      ]
     },
     "execution_count": 17,
     "metadata": {},
     "output_type": "execute_result"
    }
   ],
   "source": [
    "std = df1.AVG.std()\n",
    "std"
   ]
  },
  {
   "cell_type": "code",
   "execution_count": 18,
   "id": "841db014",
   "metadata": {},
   "outputs": [
    {
     "data": {
      "text/plain": [
       "300.96402116402106"
      ]
     },
     "execution_count": 18,
     "metadata": {},
     "output_type": "execute_result"
    }
   ],
   "source": [
    "mean = df1.AVG.mean()\n",
    "mean"
   ]
  },
  {
   "cell_type": "code",
   "execution_count": 19,
   "id": "7fbd6326",
   "metadata": {},
   "outputs": [
    {
     "data": {
      "text/html": [
       "<div>\n",
       "<style scoped>\n",
       "    .dataframe tbody tr th:only-of-type {\n",
       "        vertical-align: middle;\n",
       "    }\n",
       "\n",
       "    .dataframe tbody tr th {\n",
       "        vertical-align: top;\n",
       "    }\n",
       "\n",
       "    .dataframe thead th {\n",
       "        text-align: right;\n",
       "    }\n",
       "</style>\n",
       "<table border=\"1\" class=\"dataframe\">\n",
       "  <thead>\n",
       "    <tr style=\"text-align: right;\">\n",
       "      <th></th>\n",
       "      <th>RANK</th>\n",
       "      <th>MOVEMENT</th>\n",
       "      <th>PLAYER_ID</th>\n",
       "      <th>AVG</th>\n",
       "      <th>TOTAL DISTANCE</th>\n",
       "      <th>TOTAL DRIVES</th>\n",
       "    </tr>\n",
       "  </thead>\n",
       "  <tbody>\n",
       "    <tr>\n",
       "      <th>count</th>\n",
       "      <td>189.000000</td>\n",
       "      <td>189.000000</td>\n",
       "      <td>189.000000</td>\n",
       "      <td>189.000000</td>\n",
       "      <td>189.000000</td>\n",
       "      <td>189.00000</td>\n",
       "    </tr>\n",
       "    <tr>\n",
       "      <th>mean</th>\n",
       "      <td>94.719577</td>\n",
       "      <td>-0.904762</td>\n",
       "      <td>39114.994709</td>\n",
       "      <td>300.964021</td>\n",
       "      <td>51175.285714</td>\n",
       "      <td>170.05291</td>\n",
       "    </tr>\n",
       "    <tr>\n",
       "      <th>std</th>\n",
       "      <td>54.711144</td>\n",
       "      <td>1.968212</td>\n",
       "      <td>10294.967774</td>\n",
       "      <td>8.662040</td>\n",
       "      <td>9840.011169</td>\n",
       "      <td>32.48334</td>\n",
       "    </tr>\n",
       "    <tr>\n",
       "      <th>min</th>\n",
       "      <td>1.000000</td>\n",
       "      <td>-5.000000</td>\n",
       "      <td>12716.000000</td>\n",
       "      <td>272.500000</td>\n",
       "      <td>25292.000000</td>\n",
       "      <td>90.00000</td>\n",
       "    </tr>\n",
       "    <tr>\n",
       "      <th>25%</th>\n",
       "      <td>48.000000</td>\n",
       "      <td>-2.000000</td>\n",
       "      <td>31560.000000</td>\n",
       "      <td>295.200000</td>\n",
       "      <td>44589.000000</td>\n",
       "      <td>148.00000</td>\n",
       "    </tr>\n",
       "    <tr>\n",
       "      <th>50%</th>\n",
       "      <td>94.000000</td>\n",
       "      <td>-1.000000</td>\n",
       "      <td>36699.000000</td>\n",
       "      <td>300.800000</td>\n",
       "      <td>51338.000000</td>\n",
       "      <td>172.00000</td>\n",
       "    </tr>\n",
       "    <tr>\n",
       "      <th>75%</th>\n",
       "      <td>142.000000</td>\n",
       "      <td>0.000000</td>\n",
       "      <td>48117.000000</td>\n",
       "      <td>306.400000</td>\n",
       "      <td>57791.000000</td>\n",
       "      <td>192.00000</td>\n",
       "    </tr>\n",
       "    <tr>\n",
       "      <th>max</th>\n",
       "      <td>189.000000</td>\n",
       "      <td>7.000000</td>\n",
       "      <td>59018.000000</td>\n",
       "      <td>326.300000</td>\n",
       "      <td>72978.000000</td>\n",
       "      <td>244.00000</td>\n",
       "    </tr>\n",
       "  </tbody>\n",
       "</table>\n",
       "</div>"
      ],
      "text/plain": [
       "             RANK    MOVEMENT     PLAYER_ID         AVG  TOTAL DISTANCE  \\\n",
       "count  189.000000  189.000000    189.000000  189.000000      189.000000   \n",
       "mean    94.719577   -0.904762  39114.994709  300.964021    51175.285714   \n",
       "std     54.711144    1.968212  10294.967774    8.662040     9840.011169   \n",
       "min      1.000000   -5.000000  12716.000000  272.500000    25292.000000   \n",
       "25%     48.000000   -2.000000  31560.000000  295.200000    44589.000000   \n",
       "50%     94.000000   -1.000000  36699.000000  300.800000    51338.000000   \n",
       "75%    142.000000    0.000000  48117.000000  306.400000    57791.000000   \n",
       "max    189.000000    7.000000  59018.000000  326.300000    72978.000000   \n",
       "\n",
       "       TOTAL DRIVES  \n",
       "count     189.00000  \n",
       "mean      170.05291  \n",
       "std        32.48334  \n",
       "min        90.00000  \n",
       "25%       148.00000  \n",
       "50%       172.00000  \n",
       "75%       192.00000  \n",
       "max       244.00000  "
      ]
     },
     "execution_count": 19,
     "metadata": {},
     "output_type": "execute_result"
    }
   ],
   "source": [
    "df1.describe()"
   ]
  },
  {
   "cell_type": "code",
   "execution_count": 20,
   "id": "fa49c97f",
   "metadata": {},
   "outputs": [
    {
     "data": {
      "text/plain": [
       "RANK              189\n",
       "MOVEMENT          189\n",
       "PLAYER_ID         189\n",
       "PLAYER            189\n",
       "AVG               189\n",
       "TOTAL DISTANCE    189\n",
       "TOTAL DRIVES      189\n",
       "dtype: int64"
      ]
     },
     "execution_count": 20,
     "metadata": {},
     "output_type": "execute_result"
    }
   ],
   "source": [
    "count = df1.count()\n",
    "count"
   ]
  },
  {
   "cell_type": "code",
   "execution_count": 21,
   "id": "d0716673",
   "metadata": {},
   "outputs": [
    {
     "data": {
      "text/plain": [
       "array([316.46301345, 300.24361841, 308.68512257, 302.96145528,\n",
       "       309.38963456, 308.45571069, 293.20959749, 302.63349123,\n",
       "       301.08600279, 317.46864952, 297.72275854, 312.98393428,\n",
       "       307.4105164 , 309.77894864, 301.043642  , 310.68220936,\n",
       "       297.28030005, 313.90430096, 300.14193013, 292.68944426,\n",
       "       298.53165264, 299.0621511 , 284.59190401, 318.65942638,\n",
       "       306.25504944, 309.71185888, 309.17919952, 310.91082081,\n",
       "       297.08874019, 300.75356941, 300.07836049, 291.53595766,\n",
       "       312.02811619, 295.40426063, 293.27397573, 306.85505586,\n",
       "       296.67552556, 289.78772308, 294.46174007, 285.89916462,\n",
       "       296.99681577, 309.74738136, 300.00602372, 284.22662949,\n",
       "       309.96110535, 293.25907397, 279.05550477, 296.1666542 ,\n",
       "       307.69969783, 298.77216813, 302.40846046, 288.57460995,\n",
       "       306.80941182, 302.53312525, 298.38584783, 317.44297611,\n",
       "       311.42576071, 306.18704791, 293.04572933, 293.24402353,\n",
       "       312.27535341, 301.92275923, 294.14200243, 303.64991688,\n",
       "       320.86593528, 293.57693851, 295.59627109, 300.15031432,\n",
       "       292.33388166, 296.30897252, 299.9502255 , 312.99143987,\n",
       "       302.37816019, 314.57529276, 300.5003718 , 311.81756379,\n",
       "       310.60092248, 296.15625992, 304.6207817 , 301.99037033,\n",
       "       288.94144635, 292.44621473, 296.42008362, 306.20448487,\n",
       "       308.17978062, 298.79289509, 290.26484824, 290.19329605,\n",
       "       306.39995572, 306.47668184, 299.36354396, 287.54844128,\n",
       "       299.47641836, 311.67752067, 302.94100843, 301.40344037,\n",
       "       310.87227255, 311.03070081, 318.72356271, 288.71984902,\n",
       "       301.67186146, 294.47209609, 315.2273746 , 308.54973844,\n",
       "       310.80968154, 293.45417216, 299.66967953, 310.27197601,\n",
       "       305.33127642, 305.04560382, 301.07370522, 291.84185037,\n",
       "       297.78077066, 288.39858155, 304.69096737, 296.9504147 ,\n",
       "       303.17103969, 299.28364018, 302.76740177, 306.49575726,\n",
       "       303.20286721, 316.80196581, 287.95256727, 302.44443921,\n",
       "       315.15665251, 290.03258526, 307.32488702, 310.79597382,\n",
       "       299.5261152 , 297.5711478 , 301.68160984, 323.60827454,\n",
       "       306.92589261, 299.70601509, 316.8135799 , 307.61325493,\n",
       "       299.65237132, 291.42816379, 293.56236464, 296.90251531,\n",
       "       298.34077227, 276.02573909, 310.26464719, 299.96779154,\n",
       "       297.62029482, 307.99148644, 305.26539278, 298.40598279,\n",
       "       292.32559569, 303.72413989, 303.46579943, 303.28324179,\n",
       "       309.84022911, 299.09122509, 313.96911734, 283.62694411,\n",
       "       302.34361144, 299.09248945, 300.3099304 , 283.61568176,\n",
       "       300.32707557, 304.73554529, 302.31323777, 303.64017029,\n",
       "       296.14775204, 292.9487321 , 305.73081836, 301.26109339,\n",
       "       300.19794425, 308.24979   , 295.06762785, 286.90612454,\n",
       "       316.26438841, 292.4516344 , 295.4033645 , 305.30923643,\n",
       "       305.66393641, 309.37402309, 305.9444908 , 287.0017887 ,\n",
       "       309.62145737, 308.58503867, 301.69214004, 299.02648584,\n",
       "       303.94377787, 293.65465446, 300.46419054, 288.46107639,\n",
       "       305.94780583])"
      ]
     },
     "execution_count": 21,
     "metadata": {},
     "output_type": "execute_result"
    }
   ],
   "source": [
    "# Synthesize a random normal distribution for Driving Distance\n",
    "# I choose mu of 300.5 because this is the average drivage distance in pgatour_golfstats_2022-2023_driving.csv\n",
    "mu, sigma = 300.96, 8.66 # mean and standard deviation\n",
    "s = np.random.default_rng().normal(mu, sigma, 189)\n",
    "s"
   ]
  },
  {
   "cell_type": "code",
   "execution_count": 22,
   "id": "cad48a1a",
   "metadata": {},
   "outputs": [
    {
     "data": {
      "image/png": "[encoded data removed]",
      "text/plain": [
       "<Figure size 640x480 with 1 Axes>"
      ]
     },
     "metadata": {},
     "output_type": "display_data"
    }
   ],
   "source": [
    "# Plot random normal distribution for Driving Distance\n",
    "plt.hist(s)\n",
    "plt.show()"
   ]
  },
  {
   "cell_type": "code",
   "execution_count": 23,
   "id": "d772c28a",
   "metadata": {},
   "outputs": [
    {
     "data": {
      "text/plain": [
       "array([312, 321, 300, 315, 315, 288, 297, 293, 322, 295, 291, 311, 278,\n",
       "       284, 295, 285, 314, 309, 301, 297, 315, 308, 316, 316, 323, 296,\n",
       "       274, 301, 294, 288, 279, 281, 318, 296, 285, 297, 274, 315, 301,\n",
       "       301, 299, 295, 276, 271, 302, 305, 295, 272, 301, 295, 283, 310,\n",
       "       307, 323, 296, 301, 299, 289, 312, 259, 301, 299, 331, 322, 319,\n",
       "       280, 318, 282, 279, 304, 311, 308, 286, 316, 311, 329, 280, 299,\n",
       "       269, 301, 344, 309, 325, 285, 331, 293, 300, 291, 313, 330, 304,\n",
       "       295, 290, 281, 304, 311, 294, 309, 285, 307, 288, 287, 284, 322,\n",
       "       298, 316, 307, 299, 283, 303, 297, 304, 305, 290, 312, 299, 279,\n",
       "       294, 289, 294, 307, 318, 292, 299, 290, 320, 281, 355, 290, 303,\n",
       "       262, 314, 324, 331, 343, 310, 314, 305, 289, 316, 292, 287, 287,\n",
       "       277, 323, 287, 302, 303, 286, 282, 287, 288, 321, 327, 304, 296,\n",
       "       312, 287, 309, 328, 301, 270, 312, 307, 314, 325, 276, 329, 301,\n",
       "       277, 321, 294, 321, 293, 311, 333, 323, 296, 291, 296, 312, 287,\n",
       "       302, 307, 276, 316, 313, 293, 327], dtype=int64)"
      ]
     },
     "execution_count": 23,
     "metadata": {},
     "output_type": "execute_result"
    }
   ],
   "source": [
    "# Synthesize a poisson distribution for Driving Distance\n",
    "p = np.random.default_rng().poisson(mu,189)\n",
    "p"
   ]
  },
  {
   "cell_type": "code",
   "execution_count": 24,
   "id": "e9334034",
   "metadata": {},
   "outputs": [
    {
     "data": {
      "image/png": "[encoded data removed]",
      "text/plain": [
       "<Figure size 640x480 with 1 Axes>"
      ]
     },
     "metadata": {},
     "output_type": "display_data"
    }
   ],
   "source": [
    "# Plot poisson distribution for Driving Distance\n",
    "plt.hist(p)\n",
    "plt.show()"
   ]
  },
  {
   "cell_type": "code",
   "execution_count": 25,
   "id": "54edc24e",
   "metadata": {},
   "outputs": [
    {
     "data": {
      "text/html": [
       "<div>\n",
       "<style scoped>\n",
       "    .dataframe tbody tr th:only-of-type {\n",
       "        vertical-align: middle;\n",
       "    }\n",
       "\n",
       "    .dataframe tbody tr th {\n",
       "        vertical-align: top;\n",
       "    }\n",
       "\n",
       "    .dataframe thead th {\n",
       "        text-align: right;\n",
       "    }\n",
       "</style>\n",
       "<table border=\"1\" class=\"dataframe\">\n",
       "  <thead>\n",
       "    <tr style=\"text-align: right;\">\n",
       "      <th></th>\n",
       "      <th>1</th>\n",
       "      <th>Unnamed: 1</th>\n",
       "      <th>MCILROY, Rory</th>\n",
       "      <th>30</th>\n",
       "      <th>68.8</th>\n",
       "      <th>DP World Tour</th>\n",
       "    </tr>\n",
       "  </thead>\n",
       "  <tbody>\n",
       "    <tr>\n",
       "      <th>0</th>\n",
       "      <td>2</td>\n",
       "      <td>NaN</td>\n",
       "      <td>BJÖRK, Alexander</td>\n",
       "      <td>88</td>\n",
       "      <td>69.53</td>\n",
       "      <td>DP World Tour</td>\n",
       "    </tr>\n",
       "    <tr>\n",
       "      <th>1</th>\n",
       "      <td>3</td>\n",
       "      <td>NaN</td>\n",
       "      <td>HØJGAARD, Nicolai</td>\n",
       "      <td>61</td>\n",
       "      <td>69.59</td>\n",
       "      <td>DP World Tour</td>\n",
       "    </tr>\n",
       "    <tr>\n",
       "      <th>2</th>\n",
       "      <td>4</td>\n",
       "      <td>NaN</td>\n",
       "      <td>KIMSEY, Nathan</td>\n",
       "      <td>76</td>\n",
       "      <td>69.74</td>\n",
       "      <td>DP World Tour</td>\n",
       "    </tr>\n",
       "    <tr>\n",
       "      <th>3</th>\n",
       "      <td>5</td>\n",
       "      <td>NaN</td>\n",
       "      <td>OLESEN, Thorbjørn</td>\n",
       "      <td>84</td>\n",
       "      <td>69.80</td>\n",
       "      <td>DP World Tour</td>\n",
       "    </tr>\n",
       "    <tr>\n",
       "      <th>4</th>\n",
       "      <td>6</td>\n",
       "      <td>NaN</td>\n",
       "      <td>MERONK, Adrian</td>\n",
       "      <td>77</td>\n",
       "      <td>69.81</td>\n",
       "      <td>DP World Tour</td>\n",
       "    </tr>\n",
       "    <tr>\n",
       "      <th>...</th>\n",
       "      <td>...</td>\n",
       "      <td>...</td>\n",
       "      <td>...</td>\n",
       "      <td>...</td>\n",
       "      <td>...</td>\n",
       "      <td>...</td>\n",
       "    </tr>\n",
       "    <tr>\n",
       "      <th>168</th>\n",
       "      <td>170</td>\n",
       "      <td>NaN</td>\n",
       "      <td>MURPHY, John</td>\n",
       "      <td>51</td>\n",
       "      <td>73.86</td>\n",
       "      <td>DP World Tour</td>\n",
       "    </tr>\n",
       "    <tr>\n",
       "      <th>169</th>\n",
       "      <td>171</td>\n",
       "      <td>NaN</td>\n",
       "      <td>LI, Haotong</td>\n",
       "      <td>43</td>\n",
       "      <td>74.07</td>\n",
       "      <td>DP World Tour</td>\n",
       "    </tr>\n",
       "    <tr>\n",
       "      <th>170</th>\n",
       "      <td>172</td>\n",
       "      <td>NaN</td>\n",
       "      <td>WINDRED, Blake</td>\n",
       "      <td>34</td>\n",
       "      <td>74.18</td>\n",
       "      <td>DP World Tour</td>\n",
       "    </tr>\n",
       "    <tr>\n",
       "      <th>171</th>\n",
       "      <td>173</td>\n",
       "      <td>NaN</td>\n",
       "      <td>CHENGYAO, Ma</td>\n",
       "      <td>40</td>\n",
       "      <td>74.83</td>\n",
       "      <td>DP World Tour</td>\n",
       "    </tr>\n",
       "    <tr>\n",
       "      <th>172</th>\n",
       "      <td>174</td>\n",
       "      <td>NaN</td>\n",
       "      <td>EDÉN, Tobias</td>\n",
       "      <td>41</td>\n",
       "      <td>75.07</td>\n",
       "      <td>DP World Tour</td>\n",
       "    </tr>\n",
       "  </tbody>\n",
       "</table>\n",
       "<p>173 rows × 6 columns</p>\n",
       "</div>"
      ],
      "text/plain": [
       "       1  Unnamed: 1      MCILROY, Rory  30   68.8  DP World Tour\n",
       "0      2         NaN   BJÖRK, Alexander  88  69.53  DP World Tour\n",
       "1      3         NaN  HØJGAARD, Nicolai  61  69.59  DP World Tour\n",
       "2      4         NaN     KIMSEY, Nathan  76  69.74  DP World Tour\n",
       "3      5         NaN  OLESEN, Thorbjørn  84  69.80  DP World Tour\n",
       "4      6         NaN     MERONK, Adrian  77  69.81  DP World Tour\n",
       "..   ...         ...                ...  ..    ...            ...\n",
       "168  170         NaN       MURPHY, John  51  73.86  DP World Tour\n",
       "169  171         NaN        LI, Haotong  43  74.07  DP World Tour\n",
       "170  172         NaN     WINDRED, Blake  34  74.18  DP World Tour\n",
       "171  173         NaN       CHENGYAO, Ma  40  74.83  DP World Tour\n",
       "172  174         NaN       EDÉN, Tobias  41  75.07  DP World Tour\n",
       "\n",
       "[173 rows x 6 columns]"
      ]
     },
     "execution_count": 25,
     "metadata": {},
     "output_type": "execute_result"
    }
   ],
   "source": [
    "dataframe1 = pd.read_excel('dpworldtour_2022-2023_scoringaverage.xlsx')\n",
    "dataframe1"
   ]
  },
  {
   "cell_type": "code",
   "execution_count": 26,
   "id": "f478a89c",
   "metadata": {},
   "outputs": [
    {
     "data": {
      "text/html": [
       "<div>\n",
       "<style scoped>\n",
       "    .dataframe tbody tr th:only-of-type {\n",
       "        vertical-align: middle;\n",
       "    }\n",
       "\n",
       "    .dataframe tbody tr th {\n",
       "        vertical-align: top;\n",
       "    }\n",
       "\n",
       "    .dataframe thead th {\n",
       "        text-align: right;\n",
       "    }\n",
       "</style>\n",
       "<table border=\"1\" class=\"dataframe\">\n",
       "  <thead>\n",
       "    <tr style=\"text-align: right;\">\n",
       "      <th></th>\n",
       "      <th>DATE</th>\n",
       "      <th>TOURNAMENT</th>\n",
       "      <th>POS</th>\n",
       "      <th>R1</th>\n",
       "      <th>R2</th>\n",
       "      <th>R3</th>\n",
       "      <th>R4</th>\n",
       "      <th>R5</th>\n",
       "      <th>TOTAL</th>\n",
       "      <th>TO PAR</th>\n",
       "      <th>RANK</th>\n",
       "      <th>PTS</th>\n",
       "      <th>Unnamed: 12</th>\n",
       "      <th>RANK.1</th>\n",
       "      <th>PTS.1</th>\n",
       "      <th>WINNINGS</th>\n",
       "      <th>Unnamed: 16</th>\n",
       "    </tr>\n",
       "  </thead>\n",
       "  <tbody>\n",
       "    <tr>\n",
       "      <th>0</th>\n",
       "      <td>10.23.2022</td>\n",
       "      <td>THE CJ CUP in South Carolina</td>\n",
       "      <td>T23</td>\n",
       "      <td>68</td>\n",
       "      <td>67</td>\n",
       "      <td>71</td>\n",
       "      <td>72</td>\n",
       "      <td>-</td>\n",
       "      <td>278.0</td>\n",
       "      <td>-6</td>\n",
       "      <td>99</td>\n",
       "      <td>34.833</td>\n",
       "      <td>NaN</td>\n",
       "      <td>-</td>\n",
       "      <td>-</td>\n",
       "      <td>$88,305.00</td>\n",
       "      <td>NaN</td>\n",
       "    </tr>\n",
       "    <tr>\n",
       "      <th>1</th>\n",
       "      <td>12.4.2022</td>\n",
       "      <td>Hero World Challenge*</td>\n",
       "      <td>18</td>\n",
       "      <td>74</td>\n",
       "      <td>77</td>\n",
       "      <td>71</td>\n",
       "      <td>71</td>\n",
       "      <td>-</td>\n",
       "      <td>293.0</td>\n",
       "      <td>5</td>\n",
       "      <td>-</td>\n",
       "      <td>-</td>\n",
       "      <td>NaN</td>\n",
       "      <td>-</td>\n",
       "      <td>-</td>\n",
       "      <td>$102,000.00</td>\n",
       "      <td>-</td>\n",
       "    </tr>\n",
       "    <tr>\n",
       "      <th>2</th>\n",
       "      <td>2.12.2023</td>\n",
       "      <td>WM Phoenix Open</td>\n",
       "      <td>CUT</td>\n",
       "      <td>75</td>\n",
       "      <td>76</td>\n",
       "      <td>-</td>\n",
       "      <td>-</td>\n",
       "      <td>-</td>\n",
       "      <td>151.0</td>\n",
       "      <td>9</td>\n",
       "      <td>180</td>\n",
       "      <td>-</td>\n",
       "      <td>NaN</td>\n",
       "      <td>-</td>\n",
       "      <td>-</td>\n",
       "      <td>-</td>\n",
       "      <td>NaN</td>\n",
       "    </tr>\n",
       "    <tr>\n",
       "      <th>3</th>\n",
       "      <td>2.19.2023</td>\n",
       "      <td>The Genesis Invitational</td>\n",
       "      <td>T14</td>\n",
       "      <td>69</td>\n",
       "      <td>69</td>\n",
       "      <td>71</td>\n",
       "      <td>68</td>\n",
       "      <td>-</td>\n",
       "      <td>277.0</td>\n",
       "      <td>-7</td>\n",
       "      <td>131</td>\n",
       "      <td>58.25</td>\n",
       "      <td>NaN</td>\n",
       "      <td>-</td>\n",
       "      <td>-</td>\n",
       "      <td>$355,000.00</td>\n",
       "      <td>NaN</td>\n",
       "    </tr>\n",
       "    <tr>\n",
       "      <th>4</th>\n",
       "      <td>2.26.2023</td>\n",
       "      <td>The Honda Classic</td>\n",
       "      <td>T5</td>\n",
       "      <td>68</td>\n",
       "      <td>68</td>\n",
       "      <td>65</td>\n",
       "      <td>70</td>\n",
       "      <td>-</td>\n",
       "      <td>271.0</td>\n",
       "      <td>-9</td>\n",
       "      <td>89</td>\n",
       "      <td>93</td>\n",
       "      <td>NaN</td>\n",
       "      <td>-</td>\n",
       "      <td>-</td>\n",
       "      <td>$288,120.00</td>\n",
       "      <td>NaN</td>\n",
       "    </tr>\n",
       "    <tr>\n",
       "      <th>5</th>\n",
       "      <td>3.5.2023</td>\n",
       "      <td>Arnold Palmer Invitational presented by Master...</td>\n",
       "      <td>67</td>\n",
       "      <td>72</td>\n",
       "      <td>70</td>\n",
       "      <td>80</td>\n",
       "      <td>71</td>\n",
       "      <td>-</td>\n",
       "      <td>293.0</td>\n",
       "      <td>5</td>\n",
       "      <td>97</td>\n",
       "      <td>4.08</td>\n",
       "      <td>NaN</td>\n",
       "      <td>-</td>\n",
       "      <td>-</td>\n",
       "      <td>$42,600.00</td>\n",
       "      <td>NaN</td>\n",
       "    </tr>\n",
       "    <tr>\n",
       "      <th>6</th>\n",
       "      <td>3.12.2023</td>\n",
       "      <td>THE PLAYERS Championship</td>\n",
       "      <td>T35</td>\n",
       "      <td>77</td>\n",
       "      <td>69</td>\n",
       "      <td>68</td>\n",
       "      <td>70</td>\n",
       "      <td>-</td>\n",
       "      <td>284.0</td>\n",
       "      <td>-4</td>\n",
       "      <td>96</td>\n",
       "      <td>19.267</td>\n",
       "      <td>NaN</td>\n",
       "      <td>-</td>\n",
       "      <td>-</td>\n",
       "      <td>$114,166.67</td>\n",
       "      <td>NaN</td>\n",
       "    </tr>\n",
       "    <tr>\n",
       "      <th>7</th>\n",
       "      <td>3.26.2023</td>\n",
       "      <td>World Golf Championships-Dell Technologies Mat...</td>\n",
       "      <td>T31</td>\n",
       "      <td>-</td>\n",
       "      <td>-</td>\n",
       "      <td>-</td>\n",
       "      <td>-</td>\n",
       "      <td>-</td>\n",
       "      <td>0.0</td>\n",
       "      <td>NaN</td>\n",
       "      <td>97</td>\n",
       "      <td>17.729</td>\n",
       "      <td>NaN</td>\n",
       "      <td>-</td>\n",
       "      <td>-</td>\n",
       "      <td>$113,761.91</td>\n",
       "      <td>NaN</td>\n",
       "    </tr>\n",
       "    <tr>\n",
       "      <th>8</th>\n",
       "      <td>4.9.2023</td>\n",
       "      <td>Masters Tournament</td>\n",
       "      <td>T16</td>\n",
       "      <td>68</td>\n",
       "      <td>72</td>\n",
       "      <td>73</td>\n",
       "      <td>73</td>\n",
       "      <td>-</td>\n",
       "      <td>286.0</td>\n",
       "      <td>-2</td>\n",
       "      <td>88</td>\n",
       "      <td>52.886</td>\n",
       "      <td>NaN</td>\n",
       "      <td>-</td>\n",
       "      <td>-</td>\n",
       "      <td>$261,000.00</td>\n",
       "      <td>-</td>\n",
       "    </tr>\n",
       "    <tr>\n",
       "      <th>9</th>\n",
       "      <td>4.16.2023</td>\n",
       "      <td>RBC Heritage</td>\n",
       "      <td>T67</td>\n",
       "      <td>70</td>\n",
       "      <td>69</td>\n",
       "      <td>74</td>\n",
       "      <td>72</td>\n",
       "      <td>-</td>\n",
       "      <td>285.0</td>\n",
       "      <td>1</td>\n",
       "      <td>90</td>\n",
       "      <td>3.3</td>\n",
       "      <td>NaN</td>\n",
       "      <td>-</td>\n",
       "      <td>-</td>\n",
       "      <td>$41,600.00</td>\n",
       "      <td>NaN</td>\n",
       "    </tr>\n",
       "    <tr>\n",
       "      <th>10</th>\n",
       "      <td>5.7.2023</td>\n",
       "      <td>Wells Fargo Championship</td>\n",
       "      <td>CUT</td>\n",
       "      <td>72</td>\n",
       "      <td>72</td>\n",
       "      <td>-</td>\n",
       "      <td>-</td>\n",
       "      <td>-</td>\n",
       "      <td>144.0</td>\n",
       "      <td>2</td>\n",
       "      <td>99</td>\n",
       "      <td>-</td>\n",
       "      <td>NaN</td>\n",
       "      <td>-</td>\n",
       "      <td>-</td>\n",
       "      <td>-</td>\n",
       "      <td>NaN</td>\n",
       "    </tr>\n",
       "    <tr>\n",
       "      <th>11</th>\n",
       "      <td>5.21.2023</td>\n",
       "      <td>PGA Championship</td>\n",
       "      <td>T12</td>\n",
       "      <td>73</td>\n",
       "      <td>67</td>\n",
       "      <td>71</td>\n",
       "      <td>69</td>\n",
       "      <td>-</td>\n",
       "      <td>280.0</td>\n",
       "      <td>E</td>\n",
       "      <td>89</td>\n",
       "      <td>68</td>\n",
       "      <td>NaN</td>\n",
       "      <td>-</td>\n",
       "      <td>-</td>\n",
       "      <td>$365,000.00</td>\n",
       "      <td>-</td>\n",
       "    </tr>\n",
       "    <tr>\n",
       "      <th>12</th>\n",
       "      <td>6.4.2023</td>\n",
       "      <td>the Memorial Tournament presented by Workday</td>\n",
       "      <td>T16</td>\n",
       "      <td>69</td>\n",
       "      <td>76</td>\n",
       "      <td>70</td>\n",
       "      <td>73</td>\n",
       "      <td>-</td>\n",
       "      <td>288.0</td>\n",
       "      <td>E</td>\n",
       "      <td>88</td>\n",
       "      <td>50.925</td>\n",
       "      <td>NaN</td>\n",
       "      <td>-</td>\n",
       "      <td>-</td>\n",
       "      <td>$275,500.00</td>\n",
       "      <td>NaN</td>\n",
       "    </tr>\n",
       "    <tr>\n",
       "      <th>13</th>\n",
       "      <td>6.11.2023</td>\n",
       "      <td>RBC Canadian Open</td>\n",
       "      <td>T43</td>\n",
       "      <td>72</td>\n",
       "      <td>69</td>\n",
       "      <td>70</td>\n",
       "      <td>73</td>\n",
       "      <td>-</td>\n",
       "      <td>284.0</td>\n",
       "      <td>-4</td>\n",
       "      <td>87</td>\n",
       "      <td>10.714</td>\n",
       "      <td>NaN</td>\n",
       "      <td>-</td>\n",
       "      <td>-</td>\n",
       "      <td>$28,530.00</td>\n",
       "      <td>NaN</td>\n",
       "    </tr>\n",
       "    <tr>\n",
       "      <th>14</th>\n",
       "      <td>6.18.2023</td>\n",
       "      <td>U.S. Open</td>\n",
       "      <td>T20</td>\n",
       "      <td>72</td>\n",
       "      <td>70</td>\n",
       "      <td>68</td>\n",
       "      <td>71</td>\n",
       "      <td>-</td>\n",
       "      <td>281.0</td>\n",
       "      <td>1</td>\n",
       "      <td>81</td>\n",
       "      <td>44.443</td>\n",
       "      <td>NaN</td>\n",
       "      <td>-</td>\n",
       "      <td>-</td>\n",
       "      <td>$200,152.00</td>\n",
       "      <td>-</td>\n",
       "    </tr>\n",
       "    <tr>\n",
       "      <th>15</th>\n",
       "      <td>6.25.2023</td>\n",
       "      <td>Travelers Championship</td>\n",
       "      <td>T19</td>\n",
       "      <td>64</td>\n",
       "      <td>69</td>\n",
       "      <td>69</td>\n",
       "      <td>64</td>\n",
       "      <td>-</td>\n",
       "      <td>266.0</td>\n",
       "      <td>-14</td>\n",
       "      <td>74</td>\n",
       "      <td>43</td>\n",
       "      <td>NaN</td>\n",
       "      <td>-</td>\n",
       "      <td>-</td>\n",
       "      <td>$245,800.00</td>\n",
       "      <td>NaN</td>\n",
       "    </tr>\n",
       "    <tr>\n",
       "      <th>16</th>\n",
       "      <td>7.16.2023</td>\n",
       "      <td>Genesis Scottish Open</td>\n",
       "      <td>T12</td>\n",
       "      <td>71</td>\n",
       "      <td>64</td>\n",
       "      <td>65</td>\n",
       "      <td>73</td>\n",
       "      <td>-</td>\n",
       "      <td>273.0</td>\n",
       "      <td>-7</td>\n",
       "      <td>72</td>\n",
       "      <td>55.714</td>\n",
       "      <td>NaN</td>\n",
       "      <td>-</td>\n",
       "      <td>-</td>\n",
       "      <td>$151,007.14</td>\n",
       "      <td>NaN</td>\n",
       "    </tr>\n",
       "    <tr>\n",
       "      <th>17</th>\n",
       "      <td>7.23.2023</td>\n",
       "      <td>The Open Championship</td>\n",
       "      <td>CUT</td>\n",
       "      <td>72</td>\n",
       "      <td>77</td>\n",
       "      <td>-</td>\n",
       "      <td>-</td>\n",
       "      <td>-</td>\n",
       "      <td>149.0</td>\n",
       "      <td>7</td>\n",
       "      <td>73</td>\n",
       "      <td>-</td>\n",
       "      <td>NaN</td>\n",
       "      <td>-</td>\n",
       "      <td>-</td>\n",
       "      <td>-</td>\n",
       "      <td>-</td>\n",
       "    </tr>\n",
       "    <tr>\n",
       "      <th>18</th>\n",
       "      <td>8.6.2023</td>\n",
       "      <td>Wyndham Championship</td>\n",
       "      <td>T51</td>\n",
       "      <td>68</td>\n",
       "      <td>69</td>\n",
       "      <td>70</td>\n",
       "      <td>70</td>\n",
       "      <td>-</td>\n",
       "      <td>277.0</td>\n",
       "      <td>-3</td>\n",
       "      <td>78</td>\n",
       "      <td>6.629</td>\n",
       "      <td>NaN</td>\n",
       "      <td>-</td>\n",
       "      <td>-</td>\n",
       "      <td>$18,164.00</td>\n",
       "      <td>NaN</td>\n",
       "    </tr>\n",
       "    <tr>\n",
       "      <th>19</th>\n",
       "      <td>10.1.2023</td>\n",
       "      <td>Ryder Cup*</td>\n",
       "      <td>1</td>\n",
       "      <td>-</td>\n",
       "      <td>-</td>\n",
       "      <td>-</td>\n",
       "      <td>-</td>\n",
       "      <td>-</td>\n",
       "      <td>NaN</td>\n",
       "      <td>NaN</td>\n",
       "      <td>-</td>\n",
       "      <td>-</td>\n",
       "      <td>NaN</td>\n",
       "      <td>-</td>\n",
       "      <td>-</td>\n",
       "      <td>-</td>\n",
       "      <td>NaN</td>\n",
       "    </tr>\n",
       "  </tbody>\n",
       "</table>\n",
       "</div>"
      ],
      "text/plain": [
       "          DATE                                         TOURNAMENT  POS  R1  \\\n",
       "0   10.23.2022                       THE CJ CUP in South Carolina  T23  68   \n",
       "1    12.4.2022                              Hero World Challenge*   18  74   \n",
       "2    2.12.2023                                    WM Phoenix Open  CUT  75   \n",
       "3    2.19.2023                           The Genesis Invitational  T14  69   \n",
       "4    2.26.2023                                  The Honda Classic   T5  68   \n",
       "5     3.5.2023  Arnold Palmer Invitational presented by Master...   67  72   \n",
       "6    3.12.2023                           THE PLAYERS Championship  T35  77   \n",
       "7    3.26.2023  World Golf Championships-Dell Technologies Mat...  T31   -   \n",
       "8     4.9.2023                                 Masters Tournament  T16  68   \n",
       "9    4.16.2023                                       RBC Heritage  T67  70   \n",
       "10    5.7.2023                           Wells Fargo Championship  CUT  72   \n",
       "11   5.21.2023                                   PGA Championship  T12  73   \n",
       "12    6.4.2023       the Memorial Tournament presented by Workday  T16  69   \n",
       "13   6.11.2023                                  RBC Canadian Open  T43  72   \n",
       "14   6.18.2023                                          U.S. Open  T20  72   \n",
       "15   6.25.2023                             Travelers Championship  T19  64   \n",
       "16   7.16.2023                              Genesis Scottish Open  T12  71   \n",
       "17   7.23.2023                              The Open Championship  CUT  72   \n",
       "18    8.6.2023                               Wyndham Championship  T51  68   \n",
       "19   10.1.2023                                         Ryder Cup*    1   -   \n",
       "\n",
       "    R2  R3  R4 R5  TOTAL TO PAR RANK     PTS  Unnamed: 12 RANK.1 PTS.1  \\\n",
       "0   67  71  72  -  278.0     -6   99  34.833          NaN      -     -   \n",
       "1   77  71  71  -  293.0      5    -       -          NaN      -     -   \n",
       "2   76   -   -  -  151.0      9  180       -          NaN      -     -   \n",
       "3   69  71  68  -  277.0     -7  131   58.25          NaN      -     -   \n",
       "4   68  65  70  -  271.0     -9   89      93          NaN      -     -   \n",
       "5   70  80  71  -  293.0      5   97    4.08          NaN      -     -   \n",
       "6   69  68  70  -  284.0     -4   96  19.267          NaN      -     -   \n",
       "7    -   -   -  -    0.0    NaN   97  17.729          NaN      -     -   \n",
       "8   72  73  73  -  286.0     -2   88  52.886          NaN      -     -   \n",
       "9   69  74  72  -  285.0      1   90     3.3          NaN      -     -   \n",
       "10  72   -   -  -  144.0      2   99       -          NaN      -     -   \n",
       "11  67  71  69  -  280.0      E   89      68          NaN      -     -   \n",
       "12  76  70  73  -  288.0      E   88  50.925          NaN      -     -   \n",
       "13  69  70  73  -  284.0     -4   87  10.714          NaN      -     -   \n",
       "14  70  68  71  -  281.0      1   81  44.443          NaN      -     -   \n",
       "15  69  69  64  -  266.0    -14   74      43          NaN      -     -   \n",
       "16  64  65  73  -  273.0     -7   72  55.714          NaN      -     -   \n",
       "17  77   -   -  -  149.0      7   73       -          NaN      -     -   \n",
       "18  69  70  70  -  277.0     -3   78   6.629          NaN      -     -   \n",
       "19   -   -   -  -    NaN    NaN    -       -          NaN      -     -   \n",
       "\n",
       "       WINNINGS Unnamed: 16  \n",
       "0    $88,305.00         NaN  \n",
       "1   $102,000.00           -  \n",
       "2             -         NaN  \n",
       "3   $355,000.00         NaN  \n",
       "4   $288,120.00         NaN  \n",
       "5    $42,600.00         NaN  \n",
       "6   $114,166.67         NaN  \n",
       "7   $113,761.91         NaN  \n",
       "8   $261,000.00           -  \n",
       "9    $41,600.00         NaN  \n",
       "10            -         NaN  \n",
       "11  $365,000.00           -  \n",
       "12  $275,500.00         NaN  \n",
       "13   $28,530.00         NaN  \n",
       "14  $200,152.00           -  \n",
       "15  $245,800.00         NaN  \n",
       "16  $151,007.14         NaN  \n",
       "17            -           -  \n",
       "18   $18,164.00         NaN  \n",
       "19            -         NaN  "
      ]
     },
     "execution_count": 26,
     "metadata": {},
     "output_type": "execute_result"
    }
   ],
   "source": [
    "dataframe2 = pd.read_excel('Shane Lowry_2022-2-23_Results_time-series.xlsx')\n",
    "dataframe2"
   ]
  },
  {
   "cell_type": "code",
   "execution_count": 27,
   "id": "09bda521",
   "metadata": {},
   "outputs": [
    {
     "data": {
      "text/html": [
       "<div>\n",
       "<style scoped>\n",
       "    .dataframe tbody tr th:only-of-type {\n",
       "        vertical-align: middle;\n",
       "    }\n",
       "\n",
       "    .dataframe tbody tr th {\n",
       "        vertical-align: top;\n",
       "    }\n",
       "\n",
       "    .dataframe thead th {\n",
       "        text-align: right;\n",
       "    }\n",
       "</style>\n",
       "<table border=\"1\" class=\"dataframe\">\n",
       "  <thead>\n",
       "    <tr style=\"text-align: right;\">\n",
       "      <th></th>\n",
       "      <th>DATE</th>\n",
       "      <th>TOURNAMENT</th>\n",
       "      <th>POS</th>\n",
       "      <th>R1</th>\n",
       "      <th>R2</th>\n",
       "      <th>R3</th>\n",
       "      <th>R4</th>\n",
       "      <th>R5</th>\n",
       "      <th>TOTAL</th>\n",
       "      <th>TO PAR</th>\n",
       "      <th>RANK</th>\n",
       "      <th>PTS</th>\n",
       "      <th>Unnamed: 12</th>\n",
       "      <th>RANK.1</th>\n",
       "      <th>PTS.1</th>\n",
       "      <th>WINNINGS</th>\n",
       "      <th>Unnamed: 16</th>\n",
       "      <th>datetime</th>\n",
       "    </tr>\n",
       "  </thead>\n",
       "  <tbody>\n",
       "    <tr>\n",
       "      <th>0</th>\n",
       "      <td>10.23.2022</td>\n",
       "      <td>THE CJ CUP in South Carolina</td>\n",
       "      <td>T23</td>\n",
       "      <td>68</td>\n",
       "      <td>67</td>\n",
       "      <td>71</td>\n",
       "      <td>72</td>\n",
       "      <td>-</td>\n",
       "      <td>278.0</td>\n",
       "      <td>-6</td>\n",
       "      <td>99</td>\n",
       "      <td>34.833</td>\n",
       "      <td>NaN</td>\n",
       "      <td>-</td>\n",
       "      <td>-</td>\n",
       "      <td>$88,305.00</td>\n",
       "      <td>NaN</td>\n",
       "      <td>2022-10-23</td>\n",
       "    </tr>\n",
       "    <tr>\n",
       "      <th>1</th>\n",
       "      <td>12.4.2022</td>\n",
       "      <td>Hero World Challenge*</td>\n",
       "      <td>18</td>\n",
       "      <td>74</td>\n",
       "      <td>77</td>\n",
       "      <td>71</td>\n",
       "      <td>71</td>\n",
       "      <td>-</td>\n",
       "      <td>293.0</td>\n",
       "      <td>5</td>\n",
       "      <td>-</td>\n",
       "      <td>-</td>\n",
       "      <td>NaN</td>\n",
       "      <td>-</td>\n",
       "      <td>-</td>\n",
       "      <td>$102,000.00</td>\n",
       "      <td>-</td>\n",
       "      <td>2022-12-04</td>\n",
       "    </tr>\n",
       "    <tr>\n",
       "      <th>2</th>\n",
       "      <td>2.12.2023</td>\n",
       "      <td>WM Phoenix Open</td>\n",
       "      <td>CUT</td>\n",
       "      <td>75</td>\n",
       "      <td>76</td>\n",
       "      <td>-</td>\n",
       "      <td>-</td>\n",
       "      <td>-</td>\n",
       "      <td>151.0</td>\n",
       "      <td>9</td>\n",
       "      <td>180</td>\n",
       "      <td>-</td>\n",
       "      <td>NaN</td>\n",
       "      <td>-</td>\n",
       "      <td>-</td>\n",
       "      <td>-</td>\n",
       "      <td>NaN</td>\n",
       "      <td>2023-02-12</td>\n",
       "    </tr>\n",
       "    <tr>\n",
       "      <th>3</th>\n",
       "      <td>2.19.2023</td>\n",
       "      <td>The Genesis Invitational</td>\n",
       "      <td>T14</td>\n",
       "      <td>69</td>\n",
       "      <td>69</td>\n",
       "      <td>71</td>\n",
       "      <td>68</td>\n",
       "      <td>-</td>\n",
       "      <td>277.0</td>\n",
       "      <td>-7</td>\n",
       "      <td>131</td>\n",
       "      <td>58.25</td>\n",
       "      <td>NaN</td>\n",
       "      <td>-</td>\n",
       "      <td>-</td>\n",
       "      <td>$355,000.00</td>\n",
       "      <td>NaN</td>\n",
       "      <td>2023-02-19</td>\n",
       "    </tr>\n",
       "    <tr>\n",
       "      <th>4</th>\n",
       "      <td>2.26.2023</td>\n",
       "      <td>The Honda Classic</td>\n",
       "      <td>T5</td>\n",
       "      <td>68</td>\n",
       "      <td>68</td>\n",
       "      <td>65</td>\n",
       "      <td>70</td>\n",
       "      <td>-</td>\n",
       "      <td>271.0</td>\n",
       "      <td>-9</td>\n",
       "      <td>89</td>\n",
       "      <td>93</td>\n",
       "      <td>NaN</td>\n",
       "      <td>-</td>\n",
       "      <td>-</td>\n",
       "      <td>$288,120.00</td>\n",
       "      <td>NaN</td>\n",
       "      <td>2023-02-26</td>\n",
       "    </tr>\n",
       "    <tr>\n",
       "      <th>5</th>\n",
       "      <td>3.5.2023</td>\n",
       "      <td>Arnold Palmer Invitational presented by Master...</td>\n",
       "      <td>67</td>\n",
       "      <td>72</td>\n",
       "      <td>70</td>\n",
       "      <td>80</td>\n",
       "      <td>71</td>\n",
       "      <td>-</td>\n",
       "      <td>293.0</td>\n",
       "      <td>5</td>\n",
       "      <td>97</td>\n",
       "      <td>4.08</td>\n",
       "      <td>NaN</td>\n",
       "      <td>-</td>\n",
       "      <td>-</td>\n",
       "      <td>$42,600.00</td>\n",
       "      <td>NaN</td>\n",
       "      <td>2023-03-05</td>\n",
       "    </tr>\n",
       "    <tr>\n",
       "      <th>6</th>\n",
       "      <td>3.12.2023</td>\n",
       "      <td>THE PLAYERS Championship</td>\n",
       "      <td>T35</td>\n",
       "      <td>77</td>\n",
       "      <td>69</td>\n",
       "      <td>68</td>\n",
       "      <td>70</td>\n",
       "      <td>-</td>\n",
       "      <td>284.0</td>\n",
       "      <td>-4</td>\n",
       "      <td>96</td>\n",
       "      <td>19.267</td>\n",
       "      <td>NaN</td>\n",
       "      <td>-</td>\n",
       "      <td>-</td>\n",
       "      <td>$114,166.67</td>\n",
       "      <td>NaN</td>\n",
       "      <td>2023-03-12</td>\n",
       "    </tr>\n",
       "    <tr>\n",
       "      <th>7</th>\n",
       "      <td>3.26.2023</td>\n",
       "      <td>World Golf Championships-Dell Technologies Mat...</td>\n",
       "      <td>T31</td>\n",
       "      <td>-</td>\n",
       "      <td>-</td>\n",
       "      <td>-</td>\n",
       "      <td>-</td>\n",
       "      <td>-</td>\n",
       "      <td>0.0</td>\n",
       "      <td>NaN</td>\n",
       "      <td>97</td>\n",
       "      <td>17.729</td>\n",
       "      <td>NaN</td>\n",
       "      <td>-</td>\n",
       "      <td>-</td>\n",
       "      <td>$113,761.91</td>\n",
       "      <td>NaN</td>\n",
       "      <td>2023-03-26</td>\n",
       "    </tr>\n",
       "    <tr>\n",
       "      <th>8</th>\n",
       "      <td>4.9.2023</td>\n",
       "      <td>Masters Tournament</td>\n",
       "      <td>T16</td>\n",
       "      <td>68</td>\n",
       "      <td>72</td>\n",
       "      <td>73</td>\n",
       "      <td>73</td>\n",
       "      <td>-</td>\n",
       "      <td>286.0</td>\n",
       "      <td>-2</td>\n",
       "      <td>88</td>\n",
       "      <td>52.886</td>\n",
       "      <td>NaN</td>\n",
       "      <td>-</td>\n",
       "      <td>-</td>\n",
       "      <td>$261,000.00</td>\n",
       "      <td>-</td>\n",
       "      <td>2023-04-09</td>\n",
       "    </tr>\n",
       "    <tr>\n",
       "      <th>9</th>\n",
       "      <td>4.16.2023</td>\n",
       "      <td>RBC Heritage</td>\n",
       "      <td>T67</td>\n",
       "      <td>70</td>\n",
       "      <td>69</td>\n",
       "      <td>74</td>\n",
       "      <td>72</td>\n",
       "      <td>-</td>\n",
       "      <td>285.0</td>\n",
       "      <td>1</td>\n",
       "      <td>90</td>\n",
       "      <td>3.3</td>\n",
       "      <td>NaN</td>\n",
       "      <td>-</td>\n",
       "      <td>-</td>\n",
       "      <td>$41,600.00</td>\n",
       "      <td>NaN</td>\n",
       "      <td>2023-04-16</td>\n",
       "    </tr>\n",
       "    <tr>\n",
       "      <th>10</th>\n",
       "      <td>5.7.2023</td>\n",
       "      <td>Wells Fargo Championship</td>\n",
       "      <td>CUT</td>\n",
       "      <td>72</td>\n",
       "      <td>72</td>\n",
       "      <td>-</td>\n",
       "      <td>-</td>\n",
       "      <td>-</td>\n",
       "      <td>144.0</td>\n",
       "      <td>2</td>\n",
       "      <td>99</td>\n",
       "      <td>-</td>\n",
       "      <td>NaN</td>\n",
       "      <td>-</td>\n",
       "      <td>-</td>\n",
       "      <td>-</td>\n",
       "      <td>NaN</td>\n",
       "      <td>2023-05-07</td>\n",
       "    </tr>\n",
       "    <tr>\n",
       "      <th>11</th>\n",
       "      <td>5.21.2023</td>\n",
       "      <td>PGA Championship</td>\n",
       "      <td>T12</td>\n",
       "      <td>73</td>\n",
       "      <td>67</td>\n",
       "      <td>71</td>\n",
       "      <td>69</td>\n",
       "      <td>-</td>\n",
       "      <td>280.0</td>\n",
       "      <td>E</td>\n",
       "      <td>89</td>\n",
       "      <td>68</td>\n",
       "      <td>NaN</td>\n",
       "      <td>-</td>\n",
       "      <td>-</td>\n",
       "      <td>$365,000.00</td>\n",
       "      <td>-</td>\n",
       "      <td>2023-05-21</td>\n",
       "    </tr>\n",
       "    <tr>\n",
       "      <th>12</th>\n",
       "      <td>6.4.2023</td>\n",
       "      <td>the Memorial Tournament presented by Workday</td>\n",
       "      <td>T16</td>\n",
       "      <td>69</td>\n",
       "      <td>76</td>\n",
       "      <td>70</td>\n",
       "      <td>73</td>\n",
       "      <td>-</td>\n",
       "      <td>288.0</td>\n",
       "      <td>E</td>\n",
       "      <td>88</td>\n",
       "      <td>50.925</td>\n",
       "      <td>NaN</td>\n",
       "      <td>-</td>\n",
       "      <td>-</td>\n",
       "      <td>$275,500.00</td>\n",
       "      <td>NaN</td>\n",
       "      <td>2023-06-04</td>\n",
       "    </tr>\n",
       "    <tr>\n",
       "      <th>13</th>\n",
       "      <td>6.11.2023</td>\n",
       "      <td>RBC Canadian Open</td>\n",
       "      <td>T43</td>\n",
       "      <td>72</td>\n",
       "      <td>69</td>\n",
       "      <td>70</td>\n",
       "      <td>73</td>\n",
       "      <td>-</td>\n",
       "      <td>284.0</td>\n",
       "      <td>-4</td>\n",
       "      <td>87</td>\n",
       "      <td>10.714</td>\n",
       "      <td>NaN</td>\n",
       "      <td>-</td>\n",
       "      <td>-</td>\n",
       "      <td>$28,530.00</td>\n",
       "      <td>NaN</td>\n",
       "      <td>2023-06-11</td>\n",
       "    </tr>\n",
       "    <tr>\n",
       "      <th>14</th>\n",
       "      <td>6.18.2023</td>\n",
       "      <td>U.S. Open</td>\n",
       "      <td>T20</td>\n",
       "      <td>72</td>\n",
       "      <td>70</td>\n",
       "      <td>68</td>\n",
       "      <td>71</td>\n",
       "      <td>-</td>\n",
       "      <td>281.0</td>\n",
       "      <td>1</td>\n",
       "      <td>81</td>\n",
       "      <td>44.443</td>\n",
       "      <td>NaN</td>\n",
       "      <td>-</td>\n",
       "      <td>-</td>\n",
       "      <td>$200,152.00</td>\n",
       "      <td>-</td>\n",
       "      <td>2023-06-18</td>\n",
       "    </tr>\n",
       "    <tr>\n",
       "      <th>15</th>\n",
       "      <td>6.25.2023</td>\n",
       "      <td>Travelers Championship</td>\n",
       "      <td>T19</td>\n",
       "      <td>64</td>\n",
       "      <td>69</td>\n",
       "      <td>69</td>\n",
       "      <td>64</td>\n",
       "      <td>-</td>\n",
       "      <td>266.0</td>\n",
       "      <td>-14</td>\n",
       "      <td>74</td>\n",
       "      <td>43</td>\n",
       "      <td>NaN</td>\n",
       "      <td>-</td>\n",
       "      <td>-</td>\n",
       "      <td>$245,800.00</td>\n",
       "      <td>NaN</td>\n",
       "      <td>2023-06-25</td>\n",
       "    </tr>\n",
       "    <tr>\n",
       "      <th>16</th>\n",
       "      <td>7.16.2023</td>\n",
       "      <td>Genesis Scottish Open</td>\n",
       "      <td>T12</td>\n",
       "      <td>71</td>\n",
       "      <td>64</td>\n",
       "      <td>65</td>\n",
       "      <td>73</td>\n",
       "      <td>-</td>\n",
       "      <td>273.0</td>\n",
       "      <td>-7</td>\n",
       "      <td>72</td>\n",
       "      <td>55.714</td>\n",
       "      <td>NaN</td>\n",
       "      <td>-</td>\n",
       "      <td>-</td>\n",
       "      <td>$151,007.14</td>\n",
       "      <td>NaN</td>\n",
       "      <td>2023-07-16</td>\n",
       "    </tr>\n",
       "    <tr>\n",
       "      <th>17</th>\n",
       "      <td>7.23.2023</td>\n",
       "      <td>The Open Championship</td>\n",
       "      <td>CUT</td>\n",
       "      <td>72</td>\n",
       "      <td>77</td>\n",
       "      <td>-</td>\n",
       "      <td>-</td>\n",
       "      <td>-</td>\n",
       "      <td>149.0</td>\n",
       "      <td>7</td>\n",
       "      <td>73</td>\n",
       "      <td>-</td>\n",
       "      <td>NaN</td>\n",
       "      <td>-</td>\n",
       "      <td>-</td>\n",
       "      <td>-</td>\n",
       "      <td>-</td>\n",
       "      <td>2023-07-23</td>\n",
       "    </tr>\n",
       "    <tr>\n",
       "      <th>18</th>\n",
       "      <td>8.6.2023</td>\n",
       "      <td>Wyndham Championship</td>\n",
       "      <td>T51</td>\n",
       "      <td>68</td>\n",
       "      <td>69</td>\n",
       "      <td>70</td>\n",
       "      <td>70</td>\n",
       "      <td>-</td>\n",
       "      <td>277.0</td>\n",
       "      <td>-3</td>\n",
       "      <td>78</td>\n",
       "      <td>6.629</td>\n",
       "      <td>NaN</td>\n",
       "      <td>-</td>\n",
       "      <td>-</td>\n",
       "      <td>$18,164.00</td>\n",
       "      <td>NaN</td>\n",
       "      <td>2023-08-06</td>\n",
       "    </tr>\n",
       "    <tr>\n",
       "      <th>19</th>\n",
       "      <td>10.1.2023</td>\n",
       "      <td>Ryder Cup*</td>\n",
       "      <td>1</td>\n",
       "      <td>-</td>\n",
       "      <td>-</td>\n",
       "      <td>-</td>\n",
       "      <td>-</td>\n",
       "      <td>-</td>\n",
       "      <td>NaN</td>\n",
       "      <td>NaN</td>\n",
       "      <td>-</td>\n",
       "      <td>-</td>\n",
       "      <td>NaN</td>\n",
       "      <td>-</td>\n",
       "      <td>-</td>\n",
       "      <td>-</td>\n",
       "      <td>NaN</td>\n",
       "      <td>2023-10-01</td>\n",
       "    </tr>\n",
       "  </tbody>\n",
       "</table>\n",
       "</div>"
      ],
      "text/plain": [
       "          DATE                                         TOURNAMENT  POS  R1  \\\n",
       "0   10.23.2022                       THE CJ CUP in South Carolina  T23  68   \n",
       "1    12.4.2022                              Hero World Challenge*   18  74   \n",
       "2    2.12.2023                                    WM Phoenix Open  CUT  75   \n",
       "3    2.19.2023                           The Genesis Invitational  T14  69   \n",
       "4    2.26.2023                                  The Honda Classic   T5  68   \n",
       "5     3.5.2023  Arnold Palmer Invitational presented by Master...   67  72   \n",
       "6    3.12.2023                           THE PLAYERS Championship  T35  77   \n",
       "7    3.26.2023  World Golf Championships-Dell Technologies Mat...  T31   -   \n",
       "8     4.9.2023                                 Masters Tournament  T16  68   \n",
       "9    4.16.2023                                       RBC Heritage  T67  70   \n",
       "10    5.7.2023                           Wells Fargo Championship  CUT  72   \n",
       "11   5.21.2023                                   PGA Championship  T12  73   \n",
       "12    6.4.2023       the Memorial Tournament presented by Workday  T16  69   \n",
       "13   6.11.2023                                  RBC Canadian Open  T43  72   \n",
       "14   6.18.2023                                          U.S. Open  T20  72   \n",
       "15   6.25.2023                             Travelers Championship  T19  64   \n",
       "16   7.16.2023                              Genesis Scottish Open  T12  71   \n",
       "17   7.23.2023                              The Open Championship  CUT  72   \n",
       "18    8.6.2023                               Wyndham Championship  T51  68   \n",
       "19   10.1.2023                                         Ryder Cup*    1   -   \n",
       "\n",
       "    R2  R3  R4 R5  TOTAL TO PAR RANK     PTS  Unnamed: 12 RANK.1 PTS.1  \\\n",
       "0   67  71  72  -  278.0     -6   99  34.833          NaN      -     -   \n",
       "1   77  71  71  -  293.0      5    -       -          NaN      -     -   \n",
       "2   76   -   -  -  151.0      9  180       -          NaN      -     -   \n",
       "3   69  71  68  -  277.0     -7  131   58.25          NaN      -     -   \n",
       "4   68  65  70  -  271.0     -9   89      93          NaN      -     -   \n",
       "5   70  80  71  -  293.0      5   97    4.08          NaN      -     -   \n",
       "6   69  68  70  -  284.0     -4   96  19.267          NaN      -     -   \n",
       "7    -   -   -  -    0.0    NaN   97  17.729          NaN      -     -   \n",
       "8   72  73  73  -  286.0     -2   88  52.886          NaN      -     -   \n",
       "9   69  74  72  -  285.0      1   90     3.3          NaN      -     -   \n",
       "10  72   -   -  -  144.0      2   99       -          NaN      -     -   \n",
       "11  67  71  69  -  280.0      E   89      68          NaN      -     -   \n",
       "12  76  70  73  -  288.0      E   88  50.925          NaN      -     -   \n",
       "13  69  70  73  -  284.0     -4   87  10.714          NaN      -     -   \n",
       "14  70  68  71  -  281.0      1   81  44.443          NaN      -     -   \n",
       "15  69  69  64  -  266.0    -14   74      43          NaN      -     -   \n",
       "16  64  65  73  -  273.0     -7   72  55.714          NaN      -     -   \n",
       "17  77   -   -  -  149.0      7   73       -          NaN      -     -   \n",
       "18  69  70  70  -  277.0     -3   78   6.629          NaN      -     -   \n",
       "19   -   -   -  -    NaN    NaN    -       -          NaN      -     -   \n",
       "\n",
       "       WINNINGS Unnamed: 16   datetime  \n",
       "0    $88,305.00         NaN 2022-10-23  \n",
       "1   $102,000.00           - 2022-12-04  \n",
       "2             -         NaN 2023-02-12  \n",
       "3   $355,000.00         NaN 2023-02-19  \n",
       "4   $288,120.00         NaN 2023-02-26  \n",
       "5    $42,600.00         NaN 2023-03-05  \n",
       "6   $114,166.67         NaN 2023-03-12  \n",
       "7   $113,761.91         NaN 2023-03-26  \n",
       "8   $261,000.00           - 2023-04-09  \n",
       "9    $41,600.00         NaN 2023-04-16  \n",
       "10            -         NaN 2023-05-07  \n",
       "11  $365,000.00           - 2023-05-21  \n",
       "12  $275,500.00         NaN 2023-06-04  \n",
       "13   $28,530.00         NaN 2023-06-11  \n",
       "14  $200,152.00           - 2023-06-18  \n",
       "15  $245,800.00         NaN 2023-06-25  \n",
       "16  $151,007.14         NaN 2023-07-16  \n",
       "17            -           - 2023-07-23  \n",
       "18   $18,164.00         NaN 2023-08-06  \n",
       "19            -         NaN 2023-10-01  "
      ]
     },
     "execution_count": 27,
     "metadata": {},
     "output_type": "execute_result"
    }
   ],
   "source": [
    "dataframe2['datetime'] = pd.to_datetime(dataframe2['DATE'])\n",
    "dataframe2"
   ]
  },
  {
   "cell_type": "code",
   "execution_count": 28,
   "id": "60c52ca4",
   "metadata": {},
   "outputs": [
    {
     "data": {
      "text/plain": [
       "0    2022-10-23\n",
       "1    2022-12-04\n",
       "2    2023-02-12\n",
       "3    2023-02-19\n",
       "4    2023-02-26\n",
       "5    2023-03-05\n",
       "6    2023-03-12\n",
       "7    2023-03-26\n",
       "8    2023-04-09\n",
       "9    2023-04-16\n",
       "10   2023-05-07\n",
       "11   2023-05-21\n",
       "12   2023-06-04\n",
       "13   2023-06-11\n",
       "14   2023-06-18\n",
       "15   2023-06-25\n",
       "16   2023-07-16\n",
       "17   2023-07-23\n",
       "18   2023-08-06\n",
       "19   2023-10-01\n",
       "Name: datetime, dtype: datetime64[ns]"
      ]
     },
     "execution_count": 28,
     "metadata": {},
     "output_type": "execute_result"
    }
   ],
   "source": [
    "dataframe2['datetime']"
   ]
  },
  {
   "cell_type": "code",
   "execution_count": 29,
   "id": "935eb28b",
   "metadata": {},
   "outputs": [
    {
     "data": {
      "text/plain": [
       "<AxesSubplot:xlabel='datetime', ylabel='WINNINGS'>"
      ]
     },
     "execution_count": 29,
     "metadata": {},
     "output_type": "execute_result"
    },
    {
     "data": {
      "image/png": "[encoded data removed]",
      "text/plain": [
       "<Figure size 640x480 with 1 Axes>"
      ]
     },
     "metadata": {},
     "output_type": "display_data"
    }
   ],
   "source": [
    "import seaborn as sns\n",
    "sns.lineplot(data=dataframe2, x=\"datetime\", y=\"WINNINGS\")"
   ]
  },
  {
   "cell_type": "code",
   "execution_count": 30,
   "id": "b0787ee8",
   "metadata": {},
   "outputs": [
    {
     "data": {
      "text/plain": [
       "DatetimeIndex(['2022-10-23', '2022-10-30', '2022-11-06', '2022-11-13',\n",
       "               '2022-11-20', '2022-11-27', '2022-12-04', '2022-12-11',\n",
       "               '2022-12-18', '2022-12-25', '2023-01-01', '2023-01-08',\n",
       "               '2023-01-15', '2023-01-22', '2023-01-29', '2023-02-05',\n",
       "               '2023-02-12', '2023-02-19', '2023-02-26', '2023-03-05',\n",
       "               '2023-03-12', '2023-03-19', '2023-03-26', '2023-04-02',\n",
       "               '2023-04-09', '2023-04-16', '2023-04-23', '2023-04-30',\n",
       "               '2023-05-07', '2023-05-14', '2023-05-21', '2023-05-28',\n",
       "               '2023-06-04', '2023-06-11', '2023-06-18', '2023-06-25',\n",
       "               '2023-07-02', '2023-07-09', '2023-07-16', '2023-07-23',\n",
       "               '2023-07-30', '2023-08-06', '2023-08-13', '2023-08-20',\n",
       "               '2023-08-27', '2023-09-03', '2023-09-10', '2023-09-17',\n",
       "               '2023-09-24', '2023-10-01', '2023-10-08', '2023-10-15'],\n",
       "              dtype='datetime64[ns]', freq='W-SUN')"
      ]
     },
     "execution_count": 30,
     "metadata": {},
     "output_type": "execute_result"
    }
   ],
   "source": [
    "dti = pd.date_range(\"2022-10-23\", periods=52, freq=\"W\")\n",
    "len(dti)\n",
    "dti"
   ]
  },
  {
   "cell_type": "code",
   "execution_count": 31,
   "id": "679fab4a",
   "metadata": {},
   "outputs": [
    {
     "data": {
      "text/plain": [
       "0      $88,305.00\n",
       "1     $102,000.00\n",
       "2               -\n",
       "3     $355,000.00\n",
       "4     $288,120.00\n",
       "5      $42,600.00\n",
       "6     $114,166.67\n",
       "7     $113,761.91\n",
       "8     $261,000.00\n",
       "9      $41,600.00\n",
       "10              -\n",
       "11    $365,000.00\n",
       "12    $275,500.00\n",
       "13     $28,530.00\n",
       "14    $200,152.00\n",
       "15    $245,800.00\n",
       "16    $151,007.14\n",
       "17              -\n",
       "18     $18,164.00\n",
       "19              -\n",
       "Name: WINNINGS, dtype: object"
      ]
     },
     "execution_count": 31,
     "metadata": {},
     "output_type": "execute_result"
    }
   ],
   "source": [
    "winnings = dataframe2['WINNINGS']\n",
    "winnings"
   ]
  },
  {
   "cell_type": "code",
   "execution_count": 32,
   "id": "f8e622cc",
   "metadata": {},
   "outputs": [
    {
     "data": {
      "text/plain": [
       "0      88305.00\n",
       "1     102000.00\n",
       "2             0\n",
       "3     355000.00\n",
       "4     288120.00\n",
       "5      42600.00\n",
       "6     114166.67\n",
       "7     113761.91\n",
       "8     261000.00\n",
       "9      41600.00\n",
       "10            0\n",
       "11    365000.00\n",
       "12    275500.00\n",
       "13     28530.00\n",
       "14    200152.00\n",
       "15    245800.00\n",
       "16    151007.14\n",
       "17            0\n",
       "18     18164.00\n",
       "19            0\n",
       "Name: WINNINGS, dtype: object"
      ]
     },
     "execution_count": 32,
     "metadata": {},
     "output_type": "execute_result"
    }
   ],
   "source": [
    "dataframe2['WINNINGS'] = dataframe2['WINNINGS'].replace({r'\\$':''}, regex = True)\n",
    "dataframe2['WINNINGS'] = dataframe2['WINNINGS'].replace({r'\\,':''}, regex = True)\n",
    "dataframe2['WINNINGS'] = dataframe2['WINNINGS'].replace({r'\\-':'0'}, regex = True)\n",
    "winnings = dataframe2['WINNINGS']\n",
    "winnings"
   ]
  },
  {
   "cell_type": "code",
   "execution_count": 33,
   "id": "0c613955",
   "metadata": {},
   "outputs": [
    {
     "data": {
      "text/plain": [
       "0      88305.00\n",
       "1     102000.00\n",
       "2          0.00\n",
       "3     355000.00\n",
       "4     288120.00\n",
       "5      42600.00\n",
       "6     114166.67\n",
       "7     113761.91\n",
       "8     261000.00\n",
       "9      41600.00\n",
       "10         0.00\n",
       "11    365000.00\n",
       "12    275500.00\n",
       "13     28530.00\n",
       "14    200152.00\n",
       "15    245800.00\n",
       "16    151007.14\n",
       "17         0.00\n",
       "18     18164.00\n",
       "19         0.00\n",
       "Name: WINNINGS, dtype: float64"
      ]
     },
     "execution_count": 33,
     "metadata": {},
     "output_type": "execute_result"
    }
   ],
   "source": [
    "dataframe2['WINNINGS'] = pd.to_numeric(dataframe2['WINNINGS'])\n",
    "dataframe2['WINNINGS']"
   ]
  },
  {
   "cell_type": "code",
   "execution_count": 34,
   "id": "e871cbe0",
   "metadata": {},
   "outputs": [
    {
     "data": {
      "text/plain": [
       "134535.336"
      ]
     },
     "execution_count": 34,
     "metadata": {},
     "output_type": "execute_result"
    }
   ],
   "source": [
    "mean = dataframe2.WINNINGS.mean()\n",
    "mean"
   ]
  },
  {
   "cell_type": "code",
   "execution_count": 35,
   "id": "9ee700b8",
   "metadata": {},
   "outputs": [
    {
     "data": {
      "text/plain": [
       "124907.89379401015"
      ]
     },
     "execution_count": 35,
     "metadata": {},
     "output_type": "execute_result"
    }
   ],
   "source": [
    "sigma = dataframe2.WINNINGS.std()\n",
    "sigma"
   ]
  },
  {
   "cell_type": "code",
   "execution_count": 36,
   "id": "848d7634",
   "metadata": {},
   "outputs": [
    {
     "data": {
      "text/html": [
       "<div>\n",
       "<style scoped>\n",
       "    .dataframe tbody tr th:only-of-type {\n",
       "        vertical-align: middle;\n",
       "    }\n",
       "\n",
       "    .dataframe tbody tr th {\n",
       "        vertical-align: top;\n",
       "    }\n",
       "\n",
       "    .dataframe thead th {\n",
       "        text-align: right;\n",
       "    }\n",
       "</style>\n",
       "<table border=\"1\" class=\"dataframe\">\n",
       "  <thead>\n",
       "    <tr style=\"text-align: right;\">\n",
       "      <th></th>\n",
       "      <th>0</th>\n",
       "    </tr>\n",
       "  </thead>\n",
       "  <tbody>\n",
       "    <tr>\n",
       "      <th>2022-10-23</th>\n",
       "      <td>135078</td>\n",
       "    </tr>\n",
       "    <tr>\n",
       "      <th>2022-10-30</th>\n",
       "      <td>133553</td>\n",
       "    </tr>\n",
       "    <tr>\n",
       "      <th>2022-11-06</th>\n",
       "      <td>134738</td>\n",
       "    </tr>\n",
       "    <tr>\n",
       "      <th>2022-11-13</th>\n",
       "      <td>134393</td>\n",
       "    </tr>\n",
       "    <tr>\n",
       "      <th>2022-11-20</th>\n",
       "      <td>134944</td>\n",
       "    </tr>\n",
       "  </tbody>\n",
       "</table>\n",
       "</div>"
      ],
      "text/plain": [
       "                 0\n",
       "2022-10-23  135078\n",
       "2022-10-30  133553\n",
       "2022-11-06  134738\n",
       "2022-11-13  134393\n",
       "2022-11-20  134944"
      ]
     },
     "execution_count": 36,
     "metadata": {},
     "output_type": "execute_result"
    }
   ],
   "source": [
    "rng = np.random.default_rng() \n",
    "d = rng.poisson(mean, len(dti))\n",
    "df = pd.DataFrame(data=d, index = dti)\n",
    "df.head()"
   ]
  },
  {
   "cell_type": "code",
   "execution_count": 37,
   "id": "46c16af1",
   "metadata": {},
   "outputs": [
    {
     "data": {
      "text/html": [
       "<div>\n",
       "<style scoped>\n",
       "    .dataframe tbody tr th:only-of-type {\n",
       "        vertical-align: middle;\n",
       "    }\n",
       "\n",
       "    .dataframe tbody tr th {\n",
       "        vertical-align: top;\n",
       "    }\n",
       "\n",
       "    .dataframe thead th {\n",
       "        text-align: right;\n",
       "    }\n",
       "</style>\n",
       "<table border=\"1\" class=\"dataframe\">\n",
       "  <thead>\n",
       "    <tr style=\"text-align: right;\">\n",
       "      <th></th>\n",
       "      <th>WINNINGS</th>\n",
       "    </tr>\n",
       "  </thead>\n",
       "  <tbody>\n",
       "    <tr>\n",
       "      <th>2022-10-23</th>\n",
       "      <td>135078</td>\n",
       "    </tr>\n",
       "    <tr>\n",
       "      <th>2022-10-30</th>\n",
       "      <td>133553</td>\n",
       "    </tr>\n",
       "    <tr>\n",
       "      <th>2022-11-06</th>\n",
       "      <td>134738</td>\n",
       "    </tr>\n",
       "    <tr>\n",
       "      <th>2022-11-13</th>\n",
       "      <td>134393</td>\n",
       "    </tr>\n",
       "    <tr>\n",
       "      <th>2022-11-20</th>\n",
       "      <td>134944</td>\n",
       "    </tr>\n",
       "  </tbody>\n",
       "</table>\n",
       "</div>"
      ],
      "text/plain": [
       "            WINNINGS\n",
       "2022-10-23    135078\n",
       "2022-10-30    133553\n",
       "2022-11-06    134738\n",
       "2022-11-13    134393\n",
       "2022-11-20    134944"
      ]
     },
     "execution_count": 37,
     "metadata": {},
     "output_type": "execute_result"
    }
   ],
   "source": [
    "df.columns =['WINNINGS']\n",
    "df.head()"
   ]
  },
  {
   "cell_type": "code",
   "execution_count": 38,
   "id": "0dfbc740",
   "metadata": {},
   "outputs": [
    {
     "data": {
      "text/plain": [
       "<AxesSubplot:>"
      ]
     },
     "execution_count": 38,
     "metadata": {},
     "output_type": "execute_result"
    },
    {
     "data": {
      "image/png": "[encoded data removed]",
      "text/plain": [
       "<Figure size 640x480 with 1 Axes>"
      ]
     },
     "metadata": {},
     "output_type": "display_data"
    }
   ],
   "source": [
    "df.plot(y=\"WINNINGS\")"
   ]
  },
  {
   "cell_type": "code",
   "execution_count": 39,
   "id": "326a8a3a",
   "metadata": {},
   "outputs": [
    {
     "data": {
      "text/html": [
       "<div>\n",
       "<style scoped>\n",
       "    .dataframe tbody tr th:only-of-type {\n",
       "        vertical-align: middle;\n",
       "    }\n",
       "\n",
       "    .dataframe tbody tr th {\n",
       "        vertical-align: top;\n",
       "    }\n",
       "\n",
       "    .dataframe thead th {\n",
       "        text-align: right;\n",
       "    }\n",
       "</style>\n",
       "<table border=\"1\" class=\"dataframe\">\n",
       "  <thead>\n",
       "    <tr style=\"text-align: right;\">\n",
       "      <th></th>\n",
       "      <th>0</th>\n",
       "    </tr>\n",
       "  </thead>\n",
       "  <tbody>\n",
       "    <tr>\n",
       "      <th>2022-10-23</th>\n",
       "      <td>137890.175828</td>\n",
       "    </tr>\n",
       "    <tr>\n",
       "      <th>2022-10-30</th>\n",
       "      <td>340118.278026</td>\n",
       "    </tr>\n",
       "    <tr>\n",
       "      <th>2022-11-06</th>\n",
       "      <td>-57361.993771</td>\n",
       "    </tr>\n",
       "    <tr>\n",
       "      <th>2022-11-13</th>\n",
       "      <td>48292.264651</td>\n",
       "    </tr>\n",
       "    <tr>\n",
       "      <th>2022-11-20</th>\n",
       "      <td>208892.270599</td>\n",
       "    </tr>\n",
       "  </tbody>\n",
       "</table>\n",
       "</div>"
      ],
      "text/plain": [
       "                        0\n",
       "2022-10-23  137890.175828\n",
       "2022-10-30  340118.278026\n",
       "2022-11-06  -57361.993771\n",
       "2022-11-13   48292.264651\n",
       "2022-11-20  208892.270599"
      ]
     },
     "execution_count": 39,
     "metadata": {},
     "output_type": "execute_result"
    }
   ],
   "source": [
    "d = rng.normal(mean,sigma,len(dti))\n",
    "df = pd.DataFrame(data=d, index = dti)\n",
    "df.head()"
   ]
  },
  {
   "cell_type": "code",
   "execution_count": 40,
   "id": "f2268b93",
   "metadata": {},
   "outputs": [
    {
     "data": {
      "text/html": [
       "<div>\n",
       "<style scoped>\n",
       "    .dataframe tbody tr th:only-of-type {\n",
       "        vertical-align: middle;\n",
       "    }\n",
       "\n",
       "    .dataframe tbody tr th {\n",
       "        vertical-align: top;\n",
       "    }\n",
       "\n",
       "    .dataframe thead th {\n",
       "        text-align: right;\n",
       "    }\n",
       "</style>\n",
       "<table border=\"1\" class=\"dataframe\">\n",
       "  <thead>\n",
       "    <tr style=\"text-align: right;\">\n",
       "      <th></th>\n",
       "      <th>WINNINGS</th>\n",
       "    </tr>\n",
       "  </thead>\n",
       "  <tbody>\n",
       "    <tr>\n",
       "      <th>2022-10-23</th>\n",
       "      <td>137890.175828</td>\n",
       "    </tr>\n",
       "    <tr>\n",
       "      <th>2022-10-30</th>\n",
       "      <td>340118.278026</td>\n",
       "    </tr>\n",
       "    <tr>\n",
       "      <th>2022-11-06</th>\n",
       "      <td>-57361.993771</td>\n",
       "    </tr>\n",
       "    <tr>\n",
       "      <th>2022-11-13</th>\n",
       "      <td>48292.264651</td>\n",
       "    </tr>\n",
       "    <tr>\n",
       "      <th>2022-11-20</th>\n",
       "      <td>208892.270599</td>\n",
       "    </tr>\n",
       "  </tbody>\n",
       "</table>\n",
       "</div>"
      ],
      "text/plain": [
       "                 WINNINGS\n",
       "2022-10-23  137890.175828\n",
       "2022-10-30  340118.278026\n",
       "2022-11-06  -57361.993771\n",
       "2022-11-13   48292.264651\n",
       "2022-11-20  208892.270599"
      ]
     },
     "execution_count": 40,
     "metadata": {},
     "output_type": "execute_result"
    }
   ],
   "source": [
    "df.columns =['WINNINGS']\n",
    "df.head()"
   ]
  },
  {
   "cell_type": "code",
   "execution_count": 41,
   "id": "f63ebb92",
   "metadata": {},
   "outputs": [
    {
     "data": {
      "text/plain": [
       "<AxesSubplot:>"
      ]
     },
     "execution_count": 41,
     "metadata": {},
     "output_type": "execute_result"
    },
    {
     "data": {
      "image/png": "[encoded data removed]",
      "text/plain": [
       "<Figure size 640x480 with 1 Axes>"
      ]
     },
     "metadata": {},
     "output_type": "display_data"
    }
   ],
   "source": [
    "df.plot(y=\"WINNINGS\")"
   ]
  },
  {
   "cell_type": "code",
   "execution_count": 42,
   "id": "c7c94311",
   "metadata": {},
   "outputs": [],
   "source": [
    "def f(x):\n",
    "  A = 1.0 / np.sqrt(2.0 * np.pi)\n",
    "  B = np.exp(-(x**2) / 2.0)\n",
    "  return A * B"
   ]
  },
  {
   "cell_type": "code",
   "execution_count": 43,
   "id": "e5e8b5a0",
   "metadata": {},
   "outputs": [
    {
     "data": {
      "text/plain": [
       "0.3989422804014327"
      ]
     },
     "execution_count": 43,
     "metadata": {},
     "output_type": "execute_result"
    }
   ],
   "source": [
    "f(0.0)"
   ]
  },
  {
   "cell_type": "code",
   "execution_count": 44,
   "id": "454c628c",
   "metadata": {},
   "outputs": [
    {
     "data": {
      "text/plain": [
       "0.0044318484119380075"
      ]
     },
     "execution_count": 44,
     "metadata": {},
     "output_type": "execute_result"
    }
   ],
   "source": [
    "f(3.0)"
   ]
  },
  {
   "cell_type": "code",
   "execution_count": 45,
   "id": "44cbbc02",
   "metadata": {},
   "outputs": [
    {
     "data": {
      "text/plain": [
       "0.0"
      ]
     },
     "execution_count": 45,
     "metadata": {},
     "output_type": "execute_result"
    }
   ],
   "source": [
    "f(300.0)"
   ]
  },
  {
   "cell_type": "code",
   "execution_count": 46,
   "id": "1af6b88d",
   "metadata": {},
   "outputs": [
    {
     "data": {
      "image/png": "[encoded data removed]",
      "text/plain": [
       "<Figure size 1200x400 with 1 Axes>"
      ]
     },
     "metadata": {},
     "output_type": "display_data"
    }
   ],
   "source": [
    "# Range of x values for plotting.\n",
    "x = np.linspace(-5.0, 5.0, 1001)\n",
    "\n",
    "# Create empty plot.\n",
    "fig, ax = plt.subplots(figsize=(12, 4))\n",
    "\n",
    "# Plot f(x).\n",
    "ax.plot(x, f(x));"
   ]
  },
  {
   "cell_type": "code",
   "execution_count": 47,
   "id": "81c028a8",
   "metadata": {},
   "outputs": [
    {
     "data": {
      "image/png": "[encoded data removed]",
      "text/plain": [
       "<Figure size 1200x400 with 1 Axes>"
      ]
     },
     "metadata": {},
     "output_type": "display_data"
    }
   ],
   "source": [
    "# Range of x values for plotting.\n",
    "x = np.linspace(250.0, 350.0,350)\n",
    "y=  np.random.normal(300,20,350)\n",
    "\n",
    "# Create empty plot.\n",
    "fig, ax = plt.subplots(figsize=(12, 4))\n",
    "\n",
    "# Plot f(x).\n",
    "ax.hist(x)\n",
    "\n",
    "# Plot histogram of randomly generated normal values from above.\n",
    "ax.plot(x, y)\n",
    "\n",
    "plt.show()"
   ]
  },
  {
   "cell_type": "code",
   "execution_count": 48,
   "id": "812b1dba",
   "metadata": {
    "scrolled": true
   },
   "outputs": [
    {
     "data": {
      "text/plain": [
       "19"
      ]
     },
     "execution_count": 48,
     "metadata": {},
     "output_type": "execute_result"
    }
   ],
   "source": [
    "import numpy as np\n",
    "rng.integers(10,25)"
   ]
  },
  {
   "cell_type": "code",
   "execution_count": 49,
   "id": "bee009cd",
   "metadata": {},
   "outputs": [
    {
     "data": {
      "text/plain": [
       "array([74, 62, 48, 39, 98, 67, 24,  8, 57, 70], dtype=int64)"
      ]
     },
     "execution_count": 49,
     "metadata": {},
     "output_type": "execute_result"
    }
   ],
   "source": [
    "rng.integers(100, size=10)"
   ]
  },
  {
   "cell_type": "code",
   "execution_count": 50,
   "id": "cc6b2daa",
   "metadata": {},
   "outputs": [
    {
     "data": {
      "text/plain": [
       "array([76, 77, 50, 58, 96, 51, 79, 61, 69, 80], dtype=int64)"
      ]
     },
     "execution_count": 50,
     "metadata": {},
     "output_type": "execute_result"
    }
   ],
   "source": [
    "rng.integers(50,100, size=10)"
   ]
  },
  {
   "cell_type": "code",
   "execution_count": 51,
   "id": "8957aebb",
   "metadata": {},
   "outputs": [
    {
     "data": {
      "text/plain": [
       "array([[61, 82, 15, 17],\n",
       "       [96,  7, 41, 56]], dtype=int64)"
      ]
     },
     "execution_count": 51,
     "metadata": {},
     "output_type": "execute_result"
    }
   ],
   "source": [
    "rng.integers(100, size=(2,4))"
   ]
  },
  {
   "cell_type": "code",
   "execution_count": 52,
   "id": "191be29f",
   "metadata": {},
   "outputs": [
    {
     "data": {
      "text/plain": [
       "0.1548984786279345"
      ]
     },
     "execution_count": 52,
     "metadata": {},
     "output_type": "execute_result"
    }
   ],
   "source": [
    "rng.random()"
   ]
  },
  {
   "cell_type": "code",
   "execution_count": 53,
   "id": "4e63d121",
   "metadata": {},
   "outputs": [
    {
     "data": {
      "text/plain": [
       "array([0.62484859, 0.31659033, 0.56686779, 0.23658176, 0.24002891])"
      ]
     },
     "execution_count": 53,
     "metadata": {},
     "output_type": "execute_result"
    }
   ],
   "source": [
    "rng.random(5)"
   ]
  },
  {
   "cell_type": "code",
   "execution_count": 54,
   "id": "feecd71f",
   "metadata": {},
   "outputs": [
    {
     "data": {
      "text/plain": [
       "array([[0.81830207, 0.03408164, 0.92306411, 0.39358552],\n",
       "       [0.86572276, 0.08105795, 0.66754497, 0.61000365],\n",
       "       [0.8310228 , 0.96742883, 0.39279521, 0.92742462],\n",
       "       [0.08174011, 0.33372365, 0.97989392, 0.4491933 ],\n",
       "       [0.46579677, 0.05893596, 0.44412332, 0.55352256]])"
      ]
     },
     "execution_count": 54,
     "metadata": {},
     "output_type": "execute_result"
    }
   ],
   "source": [
    "rng.random((5,4))"
   ]
  },
  {
   "cell_type": "code",
   "execution_count": 55,
   "id": "51464077",
   "metadata": {},
   "outputs": [
    {
     "data": {
      "text/plain": [
       "array([0.85541898, 0.50142307, 0.83408851, ..., 0.77138842, 0.72471238,\n",
       "       0.98801895])"
      ]
     },
     "execution_count": 55,
     "metadata": {},
     "output_type": "execute_result"
    }
   ],
   "source": [
    "x = rng.random(1000000)\n",
    "x"
   ]
  },
  {
   "cell_type": "code",
   "execution_count": 56,
   "id": "b723593d",
   "metadata": {},
   "outputs": [
    {
     "data": {
      "image/png": "[encoded data removed]",
      "text/plain": [
       "<Figure size 640x480 with 1 Axes>"
      ]
     },
     "metadata": {},
     "output_type": "display_data"
    }
   ],
   "source": [
    "import matplotlib.pyplot as plt\n",
    "plt.hist(x)\n",
    "plt.show()"
   ]
  },
  {
   "cell_type": "code",
   "execution_count": 57,
   "id": "299fd182",
   "metadata": {},
   "outputs": [
    {
     "name": "stdout",
     "output_type": "stream",
     "text": [
      "0.6522992627009107\n"
     ]
    }
   ],
   "source": [
    "rng = np.random.default_rng(seed=43)\n",
    "x = rng.random()\n",
    "print(x)"
   ]
  },
  {
   "cell_type": "code",
   "execution_count": 58,
   "id": "24b45be7",
   "metadata": {},
   "outputs": [
    {
     "name": "stdout",
     "output_type": "stream",
     "text": [
      "6\n"
     ]
    }
   ],
   "source": [
    "rng = np.random.default_rng(seed=44)\n",
    "x = rng.integers(10)\n",
    "print(x)"
   ]
  },
  {
   "cell_type": "code",
   "execution_count": 59,
   "id": "f9bb8a58",
   "metadata": {},
   "outputs": [
    {
     "name": "stdout",
     "output_type": "stream",
     "text": [
      "[[0.65229926 0.04377532 0.02002959 0.83921258]\n",
      " [0.58714305 0.22470523 0.75179227 0.2636922 ]]\n"
     ]
    }
   ],
   "source": [
    "rng = np.random.default_rng(seed=43)\n",
    "x = rng.random((2,4))\n",
    "print(x)"
   ]
  },
  {
   "cell_type": "code",
   "execution_count": 60,
   "id": "25e7a0e0",
   "metadata": {},
   "outputs": [
    {
     "name": "stdout",
     "output_type": "stream",
     "text": [
      "[[75 82 70]\n",
      " [52 78 51]\n",
      " [63 91 73]]\n"
     ]
    }
   ],
   "source": [
    "rng = np.random.default_rng(seed=43)\n",
    "x = rng.integers(50,100,size=(3,3))\n",
    "print(x)"
   ]
  }
 ],
 "metadata": {
  "kernelspec": {
   "display_name": "Python 3 (ipykernel)",
   "language": "python",
   "name": "python3"
  },
  "language_info": {
   "codemirror_mode": {
    "name": "ipython",
    "version": 3
   },
   "file_extension": ".py",
   "mimetype": "text/x-python",
   "name": "python",
   "nbconvert_exporter": "python",
   "pygments_lexer": "ipython3",
   "version": "3.9.13"
  }
 },
 "nbformat": 4,
 "nbformat_minor": 5
}
