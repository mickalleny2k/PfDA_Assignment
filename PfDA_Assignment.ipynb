{
 "cells": [
  {
   "cell_type": "markdown",
   "id": "64987554",
   "metadata": {},
   "source": [
    "# Programming for Data Analysis Assignment"
   ]
  },
  {
   "cell_type": "code",
   "execution_count": 1,
   "id": "32c66952",
   "metadata": {},
   "outputs": [],
   "source": [
    "import numpy as np\n",
    "import pandas as pd\n",
    "from sklearn.linear_model import LinearRegression"
   ]
  },
  {
   "cell_type": "code",
   "execution_count": 2,
   "id": "7e3d7d00",
   "metadata": {},
   "outputs": [
    {
     "data": {
      "text/html": [
       "<div>\n",
       "<style scoped>\n",
       "    .dataframe tbody tr th:only-of-type {\n",
       "        vertical-align: middle;\n",
       "    }\n",
       "\n",
       "    .dataframe tbody tr th {\n",
       "        vertical-align: top;\n",
       "    }\n",
       "\n",
       "    .dataframe thead th {\n",
       "        text-align: right;\n",
       "    }\n",
       "</style>\n",
       "<table border=\"1\" class=\"dataframe\">\n",
       "  <thead>\n",
       "    <tr style=\"text-align: right;\">\n",
       "      <th></th>\n",
       "      <th>RANK</th>\n",
       "      <th>MOVEMENT</th>\n",
       "      <th>PLAYER_ID</th>\n",
       "      <th>PLAYER</th>\n",
       "      <th>AVG</th>\n",
       "      <th>TOTAL STROKES</th>\n",
       "      <th>TOTAL ADJUSTMENT</th>\n",
       "      <th>TOTAL ROUNDS</th>\n",
       "    </tr>\n",
       "  </thead>\n",
       "  <tbody>\n",
       "    <tr>\n",
       "      <th>0</th>\n",
       "      <td>1</td>\n",
       "      <td>0</td>\n",
       "      <td>46046</td>\n",
       "      <td>Scottie Scheffler</td>\n",
       "      <td>68.629</td>\n",
       "      <td>6007</td>\n",
       "      <td>32.329</td>\n",
       "      <td>88</td>\n",
       "    </tr>\n",
       "    <tr>\n",
       "      <th>1</th>\n",
       "      <td>2</td>\n",
       "      <td>0</td>\n",
       "      <td>28237</td>\n",
       "      <td>Rory McIlroy</td>\n",
       "      <td>68.777</td>\n",
       "      <td>4411</td>\n",
       "      <td>-9.244</td>\n",
       "      <td>64</td>\n",
       "    </tr>\n",
       "    <tr>\n",
       "      <th>2</th>\n",
       "      <td>3</td>\n",
       "      <td>0</td>\n",
       "      <td>46970</td>\n",
       "      <td>Jon Rahm</td>\n",
       "      <td>69.037</td>\n",
       "      <td>4886</td>\n",
       "      <td>15.615</td>\n",
       "      <td>71</td>\n",
       "    </tr>\n",
       "    <tr>\n",
       "      <th>3</th>\n",
       "      <td>4</td>\n",
       "      <td>0</td>\n",
       "      <td>46717</td>\n",
       "      <td>Viktor Hovland</td>\n",
       "      <td>69.123</td>\n",
       "      <td>6065</td>\n",
       "      <td>17.843</td>\n",
       "      <td>88</td>\n",
       "    </tr>\n",
       "    <tr>\n",
       "      <th>4</th>\n",
       "      <td>5</td>\n",
       "      <td>0</td>\n",
       "      <td>48081</td>\n",
       "      <td>Xander Schauffele</td>\n",
       "      <td>69.127</td>\n",
       "      <td>5595</td>\n",
       "      <td>4.323</td>\n",
       "      <td>81</td>\n",
       "    </tr>\n",
       "    <tr>\n",
       "      <th>...</th>\n",
       "      <td>...</td>\n",
       "      <td>...</td>\n",
       "      <td>...</td>\n",
       "      <td>...</td>\n",
       "      <td>...</td>\n",
       "      <td>...</td>\n",
       "      <td>...</td>\n",
       "      <td>...</td>\n",
       "    </tr>\n",
       "    <tr>\n",
       "      <th>184</th>\n",
       "      <td>185</td>\n",
       "      <td>-2</td>\n",
       "      <td>51950</td>\n",
       "      <td>Max McGreevy</td>\n",
       "      <td>72.603</td>\n",
       "      <td>6170</td>\n",
       "      <td>73.869</td>\n",
       "      <td>86</td>\n",
       "    </tr>\n",
       "    <tr>\n",
       "      <th>185</th>\n",
       "      <td>186</td>\n",
       "      <td>-2</td>\n",
       "      <td>28420</td>\n",
       "      <td>Ryan Brehm</td>\n",
       "      <td>72.739</td>\n",
       "      <td>5740</td>\n",
       "      <td>79.134</td>\n",
       "      <td>80</td>\n",
       "    </tr>\n",
       "    <tr>\n",
       "      <th>186</th>\n",
       "      <td>187</td>\n",
       "      <td>-2</td>\n",
       "      <td>32662</td>\n",
       "      <td>Michael Gligic</td>\n",
       "      <td>72.775</td>\n",
       "      <td>4953</td>\n",
       "      <td>68.445</td>\n",
       "      <td>69</td>\n",
       "    </tr>\n",
       "    <tr>\n",
       "      <th>187</th>\n",
       "      <td>188</td>\n",
       "      <td>-2</td>\n",
       "      <td>27095</td>\n",
       "      <td>Nick Watney</td>\n",
       "      <td>72.936</td>\n",
       "      <td>5052</td>\n",
       "      <td>53.529</td>\n",
       "      <td>70</td>\n",
       "    </tr>\n",
       "    <tr>\n",
       "      <th>188</th>\n",
       "      <td>189</td>\n",
       "      <td>-2</td>\n",
       "      <td>51491</td>\n",
       "      <td>Brandon Matthews</td>\n",
       "      <td>73.153</td>\n",
       "      <td>4262</td>\n",
       "      <td>54.054</td>\n",
       "      <td>59</td>\n",
       "    </tr>\n",
       "  </tbody>\n",
       "</table>\n",
       "<p>189 rows × 8 columns</p>\n",
       "</div>"
      ],
      "text/plain": [
       "     RANK  MOVEMENT  PLAYER_ID             PLAYER     AVG  TOTAL STROKES  \\\n",
       "0       1         0      46046  Scottie Scheffler  68.629           6007   \n",
       "1       2         0      28237       Rory McIlroy  68.777           4411   \n",
       "2       3         0      46970           Jon Rahm  69.037           4886   \n",
       "3       4         0      46717     Viktor Hovland  69.123           6065   \n",
       "4       5         0      48081  Xander Schauffele  69.127           5595   \n",
       "..    ...       ...        ...                ...     ...            ...   \n",
       "184   185        -2      51950       Max McGreevy  72.603           6170   \n",
       "185   186        -2      28420         Ryan Brehm  72.739           5740   \n",
       "186   187        -2      32662     Michael Gligic  72.775           4953   \n",
       "187   188        -2      27095        Nick Watney  72.936           5052   \n",
       "188   189        -2      51491   Brandon Matthews  73.153           4262   \n",
       "\n",
       "     TOTAL ADJUSTMENT  TOTAL ROUNDS  \n",
       "0              32.329            88  \n",
       "1              -9.244            64  \n",
       "2              15.615            71  \n",
       "3              17.843            88  \n",
       "4               4.323            81  \n",
       "..                ...           ...  \n",
       "184            73.869            86  \n",
       "185            79.134            80  \n",
       "186            68.445            69  \n",
       "187            53.529            70  \n",
       "188            54.054            59  \n",
       "\n",
       "[189 rows x 8 columns]"
      ]
     },
     "execution_count": 2,
     "metadata": {},
     "output_type": "execute_result"
    }
   ],
   "source": [
    "# https://www.pgatour.com/stats/detail/120\n",
    "df = pd.read_csv('pgatour_golfstats_2022-2023_averagescore.csv')\n",
    "df"
   ]
  },
  {
   "cell_type": "code",
   "execution_count": 3,
   "id": "4e990503",
   "metadata": {},
   "outputs": [
    {
     "data": {
      "image/png": "[encoded data removed]",
      "text/plain": [
       "<Figure size 640x480 with 1 Axes>"
      ]
     },
     "metadata": {},
     "output_type": "display_data"
    }
   ],
   "source": [
    "import matplotlib.pyplot as plt\n",
    "x = df.RANK\n",
    "y = df.AVG\n",
    "plt.plot(df.AVG)\n",
    "plt.show()"
   ]
  },
  {
   "cell_type": "code",
   "execution_count": 4,
   "id": "222ddd10",
   "metadata": {},
   "outputs": [
    {
     "data": {
      "image/png": "[encoded data removed]",
      "text/plain": [
       "<Figure size 640x480 with 1 Axes>"
      ]
     },
     "metadata": {},
     "output_type": "display_data"
    }
   ],
   "source": [
    "plt.scatter(x,y)\n",
    "plt.show()"
   ]
  },
  {
   "cell_type": "code",
   "execution_count": 69,
   "id": "7906d4e6",
   "metadata": {},
   "outputs": [
    {
     "data": {
      "image/png": "[encoded data removed]",
      "text/plain": [
       "<Figure size 640x480 with 1 Axes>"
      ]
     },
     "metadata": {},
     "output_type": "display_data"
    }
   ],
   "source": [
    "# Plot Average Score data from pgatour_golfstats_2022-2023_averagescore.csv\n",
    "plt.hist(y, bins=10)\n",
    "plt.show()"
   ]
  },
  {
   "cell_type": "code",
   "execution_count": 6,
   "id": "006e5a9b",
   "metadata": {},
   "outputs": [
    {
     "data": {
      "text/plain": [
       "0      68.629\n",
       "1      68.777\n",
       "2      69.037\n",
       "3      69.123\n",
       "4      69.127\n",
       "        ...  \n",
       "184    72.603\n",
       "185    72.739\n",
       "186    72.775\n",
       "187    72.936\n",
       "188    73.153\n",
       "Name: AVG, Length: 189, dtype: float64"
      ]
     },
     "execution_count": 6,
     "metadata": {},
     "output_type": "execute_result"
    }
   ],
   "source": [
    "df.AVG"
   ]
  },
  {
   "cell_type": "code",
   "execution_count": 7,
   "id": "7d9ba81a",
   "metadata": {},
   "outputs": [
    {
     "data": {
      "text/plain": [
       "0.8301339718593281"
      ]
     },
     "execution_count": 7,
     "metadata": {},
     "output_type": "execute_result"
    }
   ],
   "source": [
    "std = df.AVG.std()\n",
    "std"
   ]
  },
  {
   "cell_type": "code",
   "execution_count": 8,
   "id": "a127e546",
   "metadata": {},
   "outputs": [
    {
     "data": {
      "text/plain": [
       "70.96867724867725"
      ]
     },
     "execution_count": 8,
     "metadata": {},
     "output_type": "execute_result"
    }
   ],
   "source": [
    "mean = df.AVG.mean()\n",
    "mean"
   ]
  },
  {
   "cell_type": "code",
   "execution_count": 9,
   "id": "4faa1f17",
   "metadata": {},
   "outputs": [
    {
     "data": {
      "text/html": [
       "<div>\n",
       "<style scoped>\n",
       "    .dataframe tbody tr th:only-of-type {\n",
       "        vertical-align: middle;\n",
       "    }\n",
       "\n",
       "    .dataframe tbody tr th {\n",
       "        vertical-align: top;\n",
       "    }\n",
       "\n",
       "    .dataframe thead th {\n",
       "        text-align: right;\n",
       "    }\n",
       "</style>\n",
       "<table border=\"1\" class=\"dataframe\">\n",
       "  <thead>\n",
       "    <tr style=\"text-align: right;\">\n",
       "      <th></th>\n",
       "      <th>RANK</th>\n",
       "      <th>MOVEMENT</th>\n",
       "      <th>PLAYER_ID</th>\n",
       "      <th>AVG</th>\n",
       "      <th>TOTAL STROKES</th>\n",
       "      <th>TOTAL ADJUSTMENT</th>\n",
       "      <th>TOTAL ROUNDS</th>\n",
       "    </tr>\n",
       "  </thead>\n",
       "  <tbody>\n",
       "    <tr>\n",
       "      <th>count</th>\n",
       "      <td>189.000000</td>\n",
       "      <td>189.000000</td>\n",
       "      <td>189.000000</td>\n",
       "      <td>189.000000</td>\n",
       "      <td>189.000000</td>\n",
       "      <td>189.000000</td>\n",
       "      <td>189.000000</td>\n",
       "    </tr>\n",
       "    <tr>\n",
       "      <th>mean</th>\n",
       "      <td>94.957672</td>\n",
       "      <td>-0.449735</td>\n",
       "      <td>39114.994709</td>\n",
       "      <td>70.968677</td>\n",
       "      <td>5977.037037</td>\n",
       "      <td>53.245196</td>\n",
       "      <td>85.026455</td>\n",
       "    </tr>\n",
       "    <tr>\n",
       "      <th>std</th>\n",
       "      <td>54.705579</td>\n",
       "      <td>3.487647</td>\n",
       "      <td>10294.967774</td>\n",
       "      <td>0.830134</td>\n",
       "      <td>1123.886273</td>\n",
       "      <td>26.348952</td>\n",
       "      <td>16.241670</td>\n",
       "    </tr>\n",
       "    <tr>\n",
       "      <th>min</th>\n",
       "      <td>1.000000</td>\n",
       "      <td>-13.000000</td>\n",
       "      <td>12716.000000</td>\n",
       "      <td>68.629000</td>\n",
       "      <td>3198.000000</td>\n",
       "      <td>-18.811000</td>\n",
       "      <td>45.000000</td>\n",
       "    </tr>\n",
       "    <tr>\n",
       "      <th>25%</th>\n",
       "      <td>48.000000</td>\n",
       "      <td>-2.000000</td>\n",
       "      <td>31560.000000</td>\n",
       "      <td>70.461000</td>\n",
       "      <td>5217.000000</td>\n",
       "      <td>35.723000</td>\n",
       "      <td>74.000000</td>\n",
       "    </tr>\n",
       "    <tr>\n",
       "      <th>50%</th>\n",
       "      <td>94.000000</td>\n",
       "      <td>0.000000</td>\n",
       "      <td>36699.000000</td>\n",
       "      <td>70.966000</td>\n",
       "      <td>6065.000000</td>\n",
       "      <td>55.784000</td>\n",
       "      <td>86.000000</td>\n",
       "    </tr>\n",
       "    <tr>\n",
       "      <th>75%</th>\n",
       "      <td>142.000000</td>\n",
       "      <td>2.000000</td>\n",
       "      <td>48117.000000</td>\n",
       "      <td>71.524000</td>\n",
       "      <td>6799.000000</td>\n",
       "      <td>73.356000</td>\n",
       "      <td>96.000000</td>\n",
       "    </tr>\n",
       "    <tr>\n",
       "      <th>max</th>\n",
       "      <td>189.000000</td>\n",
       "      <td>19.000000</td>\n",
       "      <td>59018.000000</td>\n",
       "      <td>73.153000</td>\n",
       "      <td>8450.000000</td>\n",
       "      <td>106.517000</td>\n",
       "      <td>122.000000</td>\n",
       "    </tr>\n",
       "  </tbody>\n",
       "</table>\n",
       "</div>"
      ],
      "text/plain": [
       "             RANK    MOVEMENT     PLAYER_ID         AVG  TOTAL STROKES  \\\n",
       "count  189.000000  189.000000    189.000000  189.000000     189.000000   \n",
       "mean    94.957672   -0.449735  39114.994709   70.968677    5977.037037   \n",
       "std     54.705579    3.487647  10294.967774    0.830134    1123.886273   \n",
       "min      1.000000  -13.000000  12716.000000   68.629000    3198.000000   \n",
       "25%     48.000000   -2.000000  31560.000000   70.461000    5217.000000   \n",
       "50%     94.000000    0.000000  36699.000000   70.966000    6065.000000   \n",
       "75%    142.000000    2.000000  48117.000000   71.524000    6799.000000   \n",
       "max    189.000000   19.000000  59018.000000   73.153000    8450.000000   \n",
       "\n",
       "       TOTAL ADJUSTMENT  TOTAL ROUNDS  \n",
       "count        189.000000    189.000000  \n",
       "mean          53.245196     85.026455  \n",
       "std           26.348952     16.241670  \n",
       "min          -18.811000     45.000000  \n",
       "25%           35.723000     74.000000  \n",
       "50%           55.784000     86.000000  \n",
       "75%           73.356000     96.000000  \n",
       "max          106.517000    122.000000  "
      ]
     },
     "execution_count": 9,
     "metadata": {},
     "output_type": "execute_result"
    }
   ],
   "source": [
    "df.describe()"
   ]
  },
  {
   "cell_type": "code",
   "execution_count": 10,
   "id": "d21a077b",
   "metadata": {},
   "outputs": [
    {
     "data": {
      "text/plain": [
       "RANK                189\n",
       "MOVEMENT            189\n",
       "PLAYER_ID           189\n",
       "PLAYER              189\n",
       "AVG                 189\n",
       "TOTAL STROKES       189\n",
       "TOTAL ADJUSTMENT    189\n",
       "TOTAL ROUNDS        189\n",
       "dtype: int64"
      ]
     },
     "execution_count": 10,
     "metadata": {},
     "output_type": "execute_result"
    }
   ],
   "source": [
    "count = df.count()\n",
    "count"
   ]
  },
  {
   "cell_type": "code",
   "execution_count": 11,
   "id": "c5930fbf",
   "metadata": {},
   "outputs": [
    {
     "data": {
      "text/plain": [
       "array([70.66380295, 70.30763858, 72.23739554, 72.51060987, 71.06708284,\n",
       "       71.68213683, 69.40645659, 71.32225484, 70.29908412, 71.446096  ,\n",
       "       69.35788499, 70.32349825, 70.28519762, 70.32470074, 70.86058252,\n",
       "       69.6402518 , 71.99811237, 70.63738597, 71.67215966, 69.53547573,\n",
       "       71.89147206, 70.64930386, 70.39480353, 70.73565828, 70.57269783,\n",
       "       69.42120047, 70.82856482, 71.47428932, 69.42722966, 71.59362087,\n",
       "       72.34544645, 70.17789513, 70.13148933, 71.70721068, 69.01713188,\n",
       "       70.78284623, 70.95766722, 70.51741127, 70.74930938, 70.68672299,\n",
       "       70.8954274 , 71.03479487, 72.64981291, 70.33597744, 71.21127172,\n",
       "       71.76306989, 71.57838587, 70.33221397, 71.30710631, 71.80254106,\n",
       "       70.85426307, 71.11259472, 71.0880698 , 72.29282402, 70.56488225,\n",
       "       70.98200578, 69.83484117, 70.83791451, 69.9748717 , 72.99838315,\n",
       "       71.39956804, 70.70117696, 72.32411088, 70.80095862, 71.46831299,\n",
       "       71.75292112, 70.12637854, 71.04768371, 71.5594385 , 72.87002081,\n",
       "       71.49757561, 72.32737709, 70.73623015, 70.19319571, 70.62626724,\n",
       "       71.11381371, 70.60684345, 72.8117523 , 70.21471519, 69.49491944,\n",
       "       70.48644457, 71.50927925, 70.75865816, 70.9585997 , 70.32570398,\n",
       "       70.33176863, 70.47956287, 71.10856522, 72.10644065, 71.02617885,\n",
       "       71.10312164, 70.5213919 , 71.79255718, 70.02496132, 71.068409  ,\n",
       "       70.5998832 , 71.20278597, 71.48336181, 69.08442802, 71.05047231,\n",
       "       70.26657281, 70.73565732, 70.30130209, 70.10218377, 69.80754065,\n",
       "       70.57999865, 70.71824048, 72.02038143, 69.91037522, 70.66273769,\n",
       "       69.97124636, 71.32852117, 70.94479944, 72.23574562, 70.45040574,\n",
       "       72.60715135, 70.76136035, 71.40036521, 72.81994858, 71.56637011,\n",
       "       69.47083427, 69.21666661, 70.90537764, 70.90142803, 70.4891014 ,\n",
       "       70.65402472, 70.54784253, 71.86617989, 71.23979014, 71.11534363,\n",
       "       70.97452414, 71.47696356, 71.70364796, 71.16314759, 70.89582088,\n",
       "       70.46441843, 68.7020626 , 71.20793339, 71.23332483, 71.48067604,\n",
       "       71.20054686, 70.54274355, 70.62368362, 69.42898359, 71.90899319,\n",
       "       71.08863689, 70.91386657, 70.37290432, 71.23506672, 70.67589278,\n",
       "       71.77337587, 70.55375083, 70.4695119 , 70.61548932, 70.15020303,\n",
       "       71.05701567, 71.247118  , 70.72361299, 71.2972376 , 69.49557672,\n",
       "       71.29732016, 73.15182543, 70.29079963, 71.06593627, 70.75009818,\n",
       "       71.03795232, 69.77166023, 71.57620481, 71.00398373, 72.22849666,\n",
       "       71.66589813, 70.95559932, 70.79376076, 71.10348796, 71.27493639,\n",
       "       71.64636451, 70.1532116 , 69.53924864, 72.00938728, 71.32675395,\n",
       "       70.64062925, 71.25237677, 69.93948763, 70.34821977, 71.73482141,\n",
       "       71.48228023, 70.96704687, 71.95136254, 71.17946535])"
      ]
     },
     "execution_count": 11,
     "metadata": {},
     "output_type": "execute_result"
    }
   ],
   "source": [
    "# Synthesize a random normal distribution for Average Score\n",
    "# I choose mu of 70.96 because this is the average score in pgatour_golfstats_2022-2023_averagescore.csv\n",
    "y = np.random.normal(mean,std,189)\n",
    "y"
   ]
  },
  {
   "cell_type": "code",
   "execution_count": 12,
   "id": "91af9a41",
   "metadata": {},
   "outputs": [
    {
     "data": {
      "image/png": "[encoded data removed]",
      "text/plain": [
       "<Figure size 640x480 with 1 Axes>"
      ]
     },
     "metadata": {},
     "output_type": "display_data"
    }
   ],
   "source": [
    "# Plot random normal distribution for Average Score\n",
    "plt.hist(y)\n",
    "plt.show()"
   ]
  },
  {
   "cell_type": "code",
   "execution_count": 13,
   "id": "8074b531",
   "metadata": {},
   "outputs": [
    {
     "data": {
      "image/png": "[encoded data removed]",
      "text/plain": [
       "<Figure size 640x480 with 1 Axes>"
      ]
     },
     "metadata": {},
     "output_type": "display_data"
    }
   ],
   "source": [
    "plt.scatter(x,y)\n",
    "plt.show()"
   ]
  },
  {
   "cell_type": "code",
   "execution_count": 14,
   "id": "f833bd4b",
   "metadata": {},
   "outputs": [
    {
     "data": {
      "text/plain": [
       "array([84, 72, 70, 63, 71, 69, 75, 72, 88, 94, 61, 64, 58, 80, 97, 64, 70,\n",
       "       71, 74, 71, 55, 55, 64, 75, 70, 78, 73, 81, 72, 85, 61, 75, 72, 78,\n",
       "       74, 85, 60, 89, 56, 77, 78, 79, 73, 62, 84, 78, 66, 67, 67, 71, 81,\n",
       "       62, 69, 73, 78, 73, 68, 76, 62, 57, 51, 68, 69, 60, 60, 55, 62, 78,\n",
       "       67, 71, 86, 55, 73, 70, 81, 68, 78, 68, 79, 71, 66, 74, 72, 64, 68,\n",
       "       67, 72, 84, 69, 74, 62, 67, 67, 67, 63, 68, 77, 77, 70, 78, 73, 89,\n",
       "       73, 46, 65, 69, 65, 77, 71, 70, 72, 74, 79, 80, 75, 67, 62, 71, 61,\n",
       "       59, 68, 63, 55, 72, 52, 74, 69, 61, 65, 70, 68, 57, 65, 75, 75, 76,\n",
       "       60, 74, 68, 61, 55, 65, 67, 87, 88, 62, 66, 70, 87, 67, 45, 79, 71,\n",
       "       68, 74, 68, 68, 64, 74, 62, 56, 64, 70, 59, 67, 65, 76, 94, 67, 66,\n",
       "       55, 50, 69, 58, 85, 66, 74, 57, 78, 78, 67, 81, 79, 75, 79, 67, 55,\n",
       "       72, 61], dtype=int64)"
      ]
     },
     "execution_count": 14,
     "metadata": {},
     "output_type": "execute_result"
    }
   ],
   "source": [
    "# Synthesize a poisson distribution for Average Score\n",
    "p = np.random.default_rng().poisson(mean, 189)\n",
    "p"
   ]
  },
  {
   "cell_type": "code",
   "execution_count": 15,
   "id": "6e5ffb63",
   "metadata": {},
   "outputs": [
    {
     "data": {
      "image/png": "[encoded data removed]",
      "text/plain": [
       "<Figure size 640x480 with 1 Axes>"
      ]
     },
     "metadata": {},
     "output_type": "display_data"
    }
   ],
   "source": [
    "# Plot poisson distribution for Average Score\n",
    "plt.hist(p)\n",
    "plt.show()"
   ]
  },
  {
   "cell_type": "code",
   "execution_count": 16,
   "id": "cd27cee7",
   "metadata": {},
   "outputs": [
    {
     "data": {
      "image/png": "[encoded data removed]",
      "text/plain": [
       "<Figure size 640x480 with 1 Axes>"
      ]
     },
     "metadata": {},
     "output_type": "display_data"
    }
   ],
   "source": [
    "plt.scatter(x,p)\n",
    "plt.show()"
   ]
  },
  {
   "cell_type": "code",
   "execution_count": 17,
   "id": "1cab077a",
   "metadata": {},
   "outputs": [
    {
     "data": {
      "text/html": [
       "<div>\n",
       "<style scoped>\n",
       "    .dataframe tbody tr th:only-of-type {\n",
       "        vertical-align: middle;\n",
       "    }\n",
       "\n",
       "    .dataframe tbody tr th {\n",
       "        vertical-align: top;\n",
       "    }\n",
       "\n",
       "    .dataframe thead th {\n",
       "        text-align: right;\n",
       "    }\n",
       "</style>\n",
       "<table border=\"1\" class=\"dataframe\">\n",
       "  <thead>\n",
       "    <tr style=\"text-align: right;\">\n",
       "      <th></th>\n",
       "      <th>RANK</th>\n",
       "      <th>MOVEMENT</th>\n",
       "      <th>PLAYER_ID</th>\n",
       "      <th>PLAYER</th>\n",
       "      <th>AVG</th>\n",
       "      <th>TOTAL DISTANCE</th>\n",
       "      <th>TOTAL DRIVES</th>\n",
       "    </tr>\n",
       "  </thead>\n",
       "  <tbody>\n",
       "    <tr>\n",
       "      <th>0</th>\n",
       "      <td>1</td>\n",
       "      <td>0</td>\n",
       "      <td>28237</td>\n",
       "      <td>Rory McIlroy</td>\n",
       "      <td>326.3</td>\n",
       "      <td>41771</td>\n",
       "      <td>128</td>\n",
       "    </tr>\n",
       "    <tr>\n",
       "      <th>1</th>\n",
       "      <td>2</td>\n",
       "      <td>0</td>\n",
       "      <td>51491</td>\n",
       "      <td>Brandon Matthews</td>\n",
       "      <td>321.3</td>\n",
       "      <td>37915</td>\n",
       "      <td>118</td>\n",
       "    </tr>\n",
       "    <tr>\n",
       "      <th>2</th>\n",
       "      <td>3</td>\n",
       "      <td>0</td>\n",
       "      <td>52372</td>\n",
       "      <td>Cameron Champ</td>\n",
       "      <td>318.8</td>\n",
       "      <td>47180</td>\n",
       "      <td>148</td>\n",
       "    </tr>\n",
       "    <tr>\n",
       "      <th>3</th>\n",
       "      <td>4</td>\n",
       "      <td>0</td>\n",
       "      <td>52453</td>\n",
       "      <td>Nicolai Hojgaard</td>\n",
       "      <td>317.7</td>\n",
       "      <td>29227</td>\n",
       "      <td>92</td>\n",
       "    </tr>\n",
       "    <tr>\n",
       "      <th>4</th>\n",
       "      <td>5</td>\n",
       "      <td>0</td>\n",
       "      <td>57366</td>\n",
       "      <td>Cameron Young</td>\n",
       "      <td>316.5</td>\n",
       "      <td>51902</td>\n",
       "      <td>164</td>\n",
       "    </tr>\n",
       "    <tr>\n",
       "      <th>...</th>\n",
       "      <td>...</td>\n",
       "      <td>...</td>\n",
       "      <td>...</td>\n",
       "      <td>...</td>\n",
       "      <td>...</td>\n",
       "      <td>...</td>\n",
       "      <td>...</td>\n",
       "    </tr>\n",
       "    <tr>\n",
       "      <th>184</th>\n",
       "      <td>185</td>\n",
       "      <td>-2</td>\n",
       "      <td>30927</td>\n",
       "      <td>Brendon Todd</td>\n",
       "      <td>282.8</td>\n",
       "      <td>54300</td>\n",
       "      <td>192</td>\n",
       "    </tr>\n",
       "    <tr>\n",
       "      <th>185</th>\n",
       "      <td>186</td>\n",
       "      <td>-2</td>\n",
       "      <td>40058</td>\n",
       "      <td>Zac Blair</td>\n",
       "      <td>282.4</td>\n",
       "      <td>42920</td>\n",
       "      <td>152</td>\n",
       "    </tr>\n",
       "    <tr>\n",
       "      <th>186</th>\n",
       "      <td>187</td>\n",
       "      <td>-2</td>\n",
       "      <td>31202</td>\n",
       "      <td>William McGirt</td>\n",
       "      <td>281.0</td>\n",
       "      <td>25292</td>\n",
       "      <td>90</td>\n",
       "    </tr>\n",
       "    <tr>\n",
       "      <th>187</th>\n",
       "      <td>188</td>\n",
       "      <td>-2</td>\n",
       "      <td>34409</td>\n",
       "      <td>David Lingmerth</td>\n",
       "      <td>279.2</td>\n",
       "      <td>45789</td>\n",
       "      <td>164</td>\n",
       "    </tr>\n",
       "    <tr>\n",
       "      <th>188</th>\n",
       "      <td>189</td>\n",
       "      <td>-2</td>\n",
       "      <td>31560</td>\n",
       "      <td>Brian Stuard</td>\n",
       "      <td>272.5</td>\n",
       "      <td>36510</td>\n",
       "      <td>134</td>\n",
       "    </tr>\n",
       "  </tbody>\n",
       "</table>\n",
       "<p>189 rows × 7 columns</p>\n",
       "</div>"
      ],
      "text/plain": [
       "     RANK  MOVEMENT  PLAYER_ID            PLAYER    AVG  TOTAL DISTANCE  \\\n",
       "0       1         0      28237      Rory McIlroy  326.3           41771   \n",
       "1       2         0      51491  Brandon Matthews  321.3           37915   \n",
       "2       3         0      52372     Cameron Champ  318.8           47180   \n",
       "3       4         0      52453  Nicolai Hojgaard  317.7           29227   \n",
       "4       5         0      57366     Cameron Young  316.5           51902   \n",
       "..    ...       ...        ...               ...    ...             ...   \n",
       "184   185        -2      30927      Brendon Todd  282.8           54300   \n",
       "185   186        -2      40058         Zac Blair  282.4           42920   \n",
       "186   187        -2      31202    William McGirt  281.0           25292   \n",
       "187   188        -2      34409   David Lingmerth  279.2           45789   \n",
       "188   189        -2      31560      Brian Stuard  272.5           36510   \n",
       "\n",
       "     TOTAL DRIVES  \n",
       "0             128  \n",
       "1             118  \n",
       "2             148  \n",
       "3              92  \n",
       "4             164  \n",
       "..            ...  \n",
       "184           192  \n",
       "185           152  \n",
       "186            90  \n",
       "187           164  \n",
       "188           134  \n",
       "\n",
       "[189 rows x 7 columns]"
      ]
     },
     "execution_count": 17,
     "metadata": {},
     "output_type": "execute_result"
    }
   ],
   "source": [
    "# https://www.pgatour.com/stats/detail/101\n",
    "df1 = pd.read_csv('pgatour_golfstats_2022-2023_driving.csv')\n",
    "df1"
   ]
  },
  {
   "cell_type": "code",
   "execution_count": 18,
   "id": "9f6d7873",
   "metadata": {},
   "outputs": [
    {
     "data": {
      "image/png": "[encoded data removed]",
      "text/plain": [
       "<Figure size 640x480 with 1 Axes>"
      ]
     },
     "metadata": {},
     "output_type": "display_data"
    }
   ],
   "source": [
    "x = df1.RANK\n",
    "y = df1.AVG\n",
    "plt.plot(x,y)\n",
    "plt.show()"
   ]
  },
  {
   "cell_type": "code",
   "execution_count": 19,
   "id": "58e68d22",
   "metadata": {},
   "outputs": [
    {
     "data": {
      "image/png": "[encoded data removed]",
      "text/plain": [
       "<Figure size 640x480 with 1 Axes>"
      ]
     },
     "metadata": {},
     "output_type": "display_data"
    }
   ],
   "source": [
    "plt.scatter(x,y)\n",
    "plt.show()"
   ]
  },
  {
   "cell_type": "code",
   "execution_count": 20,
   "id": "c7272a1c",
   "metadata": {},
   "outputs": [
    {
     "data": {
      "image/png": "[encoded data removed]",
      "text/plain": [
       "<Figure size 640x480 with 1 Axes>"
      ]
     },
     "metadata": {},
     "output_type": "display_data"
    }
   ],
   "source": [
    "# Plot Driving Distance data from pgatour_golfstats_2022-2023_driving.csv\n",
    "plt.hist(y, bins=10)\n",
    "plt.show()"
   ]
  },
  {
   "cell_type": "code",
   "execution_count": 21,
   "id": "d4c4dfee",
   "metadata": {},
   "outputs": [
    {
     "data": {
      "text/plain": [
       "0      326.3\n",
       "1      321.3\n",
       "2      318.8\n",
       "3      317.7\n",
       "4      316.5\n",
       "       ...  \n",
       "184    282.8\n",
       "185    282.4\n",
       "186    281.0\n",
       "187    279.2\n",
       "188    272.5\n",
       "Name: AVG, Length: 189, dtype: float64"
      ]
     },
     "execution_count": 21,
     "metadata": {},
     "output_type": "execute_result"
    }
   ],
   "source": [
    "df1.AVG"
   ]
  },
  {
   "cell_type": "code",
   "execution_count": 22,
   "id": "a01547a6",
   "metadata": {},
   "outputs": [
    {
     "data": {
      "text/plain": [
       "8.66203975287581"
      ]
     },
     "execution_count": 22,
     "metadata": {},
     "output_type": "execute_result"
    }
   ],
   "source": [
    "std = df1.AVG.std()\n",
    "std"
   ]
  },
  {
   "cell_type": "code",
   "execution_count": 23,
   "id": "841db014",
   "metadata": {},
   "outputs": [
    {
     "data": {
      "text/plain": [
       "300.96402116402106"
      ]
     },
     "execution_count": 23,
     "metadata": {},
     "output_type": "execute_result"
    }
   ],
   "source": [
    "mean = df1.AVG.mean()\n",
    "mean"
   ]
  },
  {
   "cell_type": "code",
   "execution_count": 24,
   "id": "7fbd6326",
   "metadata": {},
   "outputs": [
    {
     "data": {
      "text/html": [
       "<div>\n",
       "<style scoped>\n",
       "    .dataframe tbody tr th:only-of-type {\n",
       "        vertical-align: middle;\n",
       "    }\n",
       "\n",
       "    .dataframe tbody tr th {\n",
       "        vertical-align: top;\n",
       "    }\n",
       "\n",
       "    .dataframe thead th {\n",
       "        text-align: right;\n",
       "    }\n",
       "</style>\n",
       "<table border=\"1\" class=\"dataframe\">\n",
       "  <thead>\n",
       "    <tr style=\"text-align: right;\">\n",
       "      <th></th>\n",
       "      <th>RANK</th>\n",
       "      <th>MOVEMENT</th>\n",
       "      <th>PLAYER_ID</th>\n",
       "      <th>AVG</th>\n",
       "      <th>TOTAL DISTANCE</th>\n",
       "      <th>TOTAL DRIVES</th>\n",
       "    </tr>\n",
       "  </thead>\n",
       "  <tbody>\n",
       "    <tr>\n",
       "      <th>count</th>\n",
       "      <td>189.000000</td>\n",
       "      <td>189.000000</td>\n",
       "      <td>189.000000</td>\n",
       "      <td>189.000000</td>\n",
       "      <td>189.000000</td>\n",
       "      <td>189.00000</td>\n",
       "    </tr>\n",
       "    <tr>\n",
       "      <th>mean</th>\n",
       "      <td>94.719577</td>\n",
       "      <td>-0.904762</td>\n",
       "      <td>39114.994709</td>\n",
       "      <td>300.964021</td>\n",
       "      <td>51175.285714</td>\n",
       "      <td>170.05291</td>\n",
       "    </tr>\n",
       "    <tr>\n",
       "      <th>std</th>\n",
       "      <td>54.711144</td>\n",
       "      <td>1.968212</td>\n",
       "      <td>10294.967774</td>\n",
       "      <td>8.662040</td>\n",
       "      <td>9840.011169</td>\n",
       "      <td>32.48334</td>\n",
       "    </tr>\n",
       "    <tr>\n",
       "      <th>min</th>\n",
       "      <td>1.000000</td>\n",
       "      <td>-5.000000</td>\n",
       "      <td>12716.000000</td>\n",
       "      <td>272.500000</td>\n",
       "      <td>25292.000000</td>\n",
       "      <td>90.00000</td>\n",
       "    </tr>\n",
       "    <tr>\n",
       "      <th>25%</th>\n",
       "      <td>48.000000</td>\n",
       "      <td>-2.000000</td>\n",
       "      <td>31560.000000</td>\n",
       "      <td>295.200000</td>\n",
       "      <td>44589.000000</td>\n",
       "      <td>148.00000</td>\n",
       "    </tr>\n",
       "    <tr>\n",
       "      <th>50%</th>\n",
       "      <td>94.000000</td>\n",
       "      <td>-1.000000</td>\n",
       "      <td>36699.000000</td>\n",
       "      <td>300.800000</td>\n",
       "      <td>51338.000000</td>\n",
       "      <td>172.00000</td>\n",
       "    </tr>\n",
       "    <tr>\n",
       "      <th>75%</th>\n",
       "      <td>142.000000</td>\n",
       "      <td>0.000000</td>\n",
       "      <td>48117.000000</td>\n",
       "      <td>306.400000</td>\n",
       "      <td>57791.000000</td>\n",
       "      <td>192.00000</td>\n",
       "    </tr>\n",
       "    <tr>\n",
       "      <th>max</th>\n",
       "      <td>189.000000</td>\n",
       "      <td>7.000000</td>\n",
       "      <td>59018.000000</td>\n",
       "      <td>326.300000</td>\n",
       "      <td>72978.000000</td>\n",
       "      <td>244.00000</td>\n",
       "    </tr>\n",
       "  </tbody>\n",
       "</table>\n",
       "</div>"
      ],
      "text/plain": [
       "             RANK    MOVEMENT     PLAYER_ID         AVG  TOTAL DISTANCE  \\\n",
       "count  189.000000  189.000000    189.000000  189.000000      189.000000   \n",
       "mean    94.719577   -0.904762  39114.994709  300.964021    51175.285714   \n",
       "std     54.711144    1.968212  10294.967774    8.662040     9840.011169   \n",
       "min      1.000000   -5.000000  12716.000000  272.500000    25292.000000   \n",
       "25%     48.000000   -2.000000  31560.000000  295.200000    44589.000000   \n",
       "50%     94.000000   -1.000000  36699.000000  300.800000    51338.000000   \n",
       "75%    142.000000    0.000000  48117.000000  306.400000    57791.000000   \n",
       "max    189.000000    7.000000  59018.000000  326.300000    72978.000000   \n",
       "\n",
       "       TOTAL DRIVES  \n",
       "count     189.00000  \n",
       "mean      170.05291  \n",
       "std        32.48334  \n",
       "min        90.00000  \n",
       "25%       148.00000  \n",
       "50%       172.00000  \n",
       "75%       192.00000  \n",
       "max       244.00000  "
      ]
     },
     "execution_count": 24,
     "metadata": {},
     "output_type": "execute_result"
    }
   ],
   "source": [
    "df1.describe()"
   ]
  },
  {
   "cell_type": "code",
   "execution_count": 25,
   "id": "fa49c97f",
   "metadata": {},
   "outputs": [
    {
     "data": {
      "text/plain": [
       "RANK              189\n",
       "MOVEMENT          189\n",
       "PLAYER_ID         189\n",
       "PLAYER            189\n",
       "AVG               189\n",
       "TOTAL DISTANCE    189\n",
       "TOTAL DRIVES      189\n",
       "dtype: int64"
      ]
     },
     "execution_count": 25,
     "metadata": {},
     "output_type": "execute_result"
    }
   ],
   "source": [
    "count = df1.count()\n",
    "count"
   ]
  },
  {
   "cell_type": "code",
   "execution_count": 26,
   "id": "d0716673",
   "metadata": {},
   "outputs": [
    {
     "data": {
      "text/plain": [
       "array([303.45127101, 297.15598644, 299.92673529, 308.87733445,\n",
       "       297.70249877, 291.51682606, 308.21072371, 309.5584581 ,\n",
       "       312.6334224 , 301.51111528, 311.63837286, 301.39561895,\n",
       "       289.10082043, 304.57822428, 316.75464559, 302.04057634,\n",
       "       280.96763471, 310.50563314, 302.44583454, 308.95048302,\n",
       "       287.65903206, 310.69860754, 322.52324785, 303.29576831,\n",
       "       293.53998206, 309.87083608, 312.02055148, 297.12515226,\n",
       "       278.72513872, 307.17698313, 308.908515  , 314.68751351,\n",
       "       276.58429762, 303.05860058, 303.46235251, 299.24682649,\n",
       "       311.26406183, 304.41521669, 307.35173676, 301.76972454,\n",
       "       299.04871042, 291.95678334, 310.26932557, 293.08273476,\n",
       "       297.31581877, 313.13064744, 302.831455  , 296.32436839,\n",
       "       292.14280901, 305.53738503, 298.22504434, 288.53289238,\n",
       "       298.19738459, 305.17458318, 289.65740284, 295.93755951,\n",
       "       277.10719235, 296.02555126, 301.8685908 , 300.99080392,\n",
       "       297.09022799, 299.79225179, 296.04211576, 307.57833017,\n",
       "       302.09558997, 275.55932885, 299.28375724, 304.79989963,\n",
       "       295.92842597, 303.48736494, 309.882595  , 304.91288146,\n",
       "       294.80706238, 312.8470137 , 305.92589444, 298.36995536,\n",
       "       293.39206133, 290.700137  , 312.90522432, 311.00193668,\n",
       "       300.42146964, 300.73585348, 293.62995784, 299.5198468 ,\n",
       "       299.21287686, 311.78127987, 296.73834542, 313.7675818 ,\n",
       "       302.30594129, 306.88351151, 303.88334556, 310.28672032,\n",
       "       299.0464819 , 304.8695916 , 294.93705906, 303.11304197,\n",
       "       322.16877542, 298.33577882, 314.58211715, 302.26407563,\n",
       "       292.18677753, 292.85838911, 292.77528698, 294.30110461,\n",
       "       307.880164  , 297.77132993, 303.75280173, 308.85155968,\n",
       "       307.82276334, 309.28827725, 303.49310978, 283.59868584,\n",
       "       308.62261996, 313.02803914, 296.67337126, 302.17487526,\n",
       "       280.82511338, 302.28108264, 301.3734455 , 318.8105241 ,\n",
       "       294.14776029, 300.39642759, 306.35366874, 297.28321216,\n",
       "       299.10761213, 299.10696284, 290.42415033, 291.36192294,\n",
       "       287.00449663, 309.16734855, 303.55033497, 303.09305287,\n",
       "       314.61857364, 311.69227717, 292.64623588, 308.31573526,\n",
       "       306.54919054, 283.12480554, 305.4830853 , 301.6869442 ,\n",
       "       293.83709468, 300.05223865, 289.61511086, 298.72710579,\n",
       "       300.1744344 , 305.49686745, 297.1789889 , 302.1563356 ,\n",
       "       317.50731531, 296.40398576, 298.91984761, 322.20175092,\n",
       "       302.74918957, 303.50309539, 306.84050829, 296.22416148,\n",
       "       302.59014185, 307.65145288, 323.18921772, 295.88773652,\n",
       "       298.42746149, 307.97208628, 289.32060201, 326.48862499,\n",
       "       296.26064521, 291.50062139, 319.78217457, 299.30678925,\n",
       "       312.4879375 , 300.38305894, 286.1912213 , 306.17524031,\n",
       "       292.01654629, 320.6481568 , 304.76909296, 312.68392649,\n",
       "       301.5819757 , 296.23889842, 306.93835286, 283.40196323,\n",
       "       287.45760402, 301.69482712, 302.38404235, 295.54635548,\n",
       "       288.50429114, 304.20711912, 302.90889811, 296.71911378,\n",
       "       294.6892067 ])"
      ]
     },
     "execution_count": 26,
     "metadata": {},
     "output_type": "execute_result"
    }
   ],
   "source": [
    "# Synthesize a random normal distribution for Driving Distance\n",
    "# I choose mu of 300.5 because this is the average drivage distance in pgatour_golfstats_2022-2023_driving.csv\n",
    "mu, sigma = 300.96, 8.66 # mean and standard deviation\n",
    "s = np.random.default_rng().normal(mu, sigma, 189)\n",
    "s"
   ]
  },
  {
   "cell_type": "code",
   "execution_count": 27,
   "id": "54cb564a",
   "metadata": {},
   "outputs": [
    {
     "data": {
      "image/png": "[encoded data removed]",
      "text/plain": [
       "<Figure size 640x480 with 1 Axes>"
      ]
     },
     "metadata": {},
     "output_type": "display_data"
    }
   ],
   "source": [
    "# Plot random normal distribution for Driving Distance\n",
    "plt.hist(s)\n",
    "plt.show()"
   ]
  },
  {
   "cell_type": "code",
   "execution_count": 28,
   "id": "a4b37e26",
   "metadata": {},
   "outputs": [
    {
     "data": {
      "text/plain": [
       "array([288, 284, 309, 305, 308, 274, 290, 322, 352, 298, 306, 329, 275,\n",
       "       312, 307, 314, 305, 337, 296, 296, 309, 338, 290, 305, 297, 284,\n",
       "       288, 334, 294, 274, 316, 288, 331, 299, 276, 315, 271, 312, 299,\n",
       "       292, 319, 312, 323, 293, 294, 303, 303, 290, 338, 326, 303, 307,\n",
       "       301, 313, 299, 298, 296, 297, 316, 325, 268, 314, 293, 327, 291,\n",
       "       311, 318, 312, 264, 307, 299, 315, 279, 298, 295, 297, 315, 308,\n",
       "       295, 309, 298, 299, 309, 291, 324, 287, 309, 335, 305, 297, 304,\n",
       "       273, 336, 295, 297, 290, 302, 315, 339, 328, 280, 252, 290, 291,\n",
       "       282, 286, 306, 306, 334, 320, 293, 310, 329, 277, 288, 314, 292,\n",
       "       312, 302, 315, 290, 284, 304, 330, 298, 325, 332, 308, 305, 327,\n",
       "       330, 315, 286, 275, 324, 308, 287, 272, 301, 302, 278, 311, 290,\n",
       "       283, 307, 275, 318, 267, 291, 306, 294, 324, 286, 313, 275, 294,\n",
       "       314, 286, 298, 306, 333, 301, 298, 275, 301, 293, 311, 277, 291,\n",
       "       292, 281, 239, 306, 320, 322, 301, 304, 308, 312, 308, 302, 294,\n",
       "       282, 288, 312, 265, 300, 305, 331], dtype=int64)"
      ]
     },
     "execution_count": 28,
     "metadata": {},
     "output_type": "execute_result"
    }
   ],
   "source": [
    "# Synthesize a poisson distribution for Driving Distance\n",
    "p = np.random.default_rng().poisson(mu,189)\n",
    "p"
   ]
  },
  {
   "cell_type": "code",
   "execution_count": 29,
   "id": "fd7567ab",
   "metadata": {},
   "outputs": [
    {
     "data": {
      "image/png": "[encoded data removed]",
      "text/plain": [
       "<Figure size 640x480 with 1 Axes>"
      ]
     },
     "metadata": {},
     "output_type": "display_data"
    }
   ],
   "source": [
    "# Plot poisson distribution for Driving Distance\n",
    "plt.hist(p)\n",
    "plt.show()"
   ]
  },
  {
   "cell_type": "code",
   "execution_count": 30,
   "id": "f0d937d6",
   "metadata": {},
   "outputs": [
    {
     "data": {
      "text/html": [
       "<div>\n",
       "<style scoped>\n",
       "    .dataframe tbody tr th:only-of-type {\n",
       "        vertical-align: middle;\n",
       "    }\n",
       "\n",
       "    .dataframe tbody tr th {\n",
       "        vertical-align: top;\n",
       "    }\n",
       "\n",
       "    .dataframe thead th {\n",
       "        text-align: right;\n",
       "    }\n",
       "</style>\n",
       "<table border=\"1\" class=\"dataframe\">\n",
       "  <thead>\n",
       "    <tr style=\"text-align: right;\">\n",
       "      <th></th>\n",
       "      <th>1</th>\n",
       "      <th>Unnamed: 1</th>\n",
       "      <th>MCILROY, Rory</th>\n",
       "      <th>30</th>\n",
       "      <th>68.8</th>\n",
       "      <th>DP World Tour</th>\n",
       "    </tr>\n",
       "  </thead>\n",
       "  <tbody>\n",
       "    <tr>\n",
       "      <th>0</th>\n",
       "      <td>2</td>\n",
       "      <td>NaN</td>\n",
       "      <td>BJÖRK, Alexander</td>\n",
       "      <td>88</td>\n",
       "      <td>69.53</td>\n",
       "      <td>DP World Tour</td>\n",
       "    </tr>\n",
       "    <tr>\n",
       "      <th>1</th>\n",
       "      <td>3</td>\n",
       "      <td>NaN</td>\n",
       "      <td>HØJGAARD, Nicolai</td>\n",
       "      <td>61</td>\n",
       "      <td>69.59</td>\n",
       "      <td>DP World Tour</td>\n",
       "    </tr>\n",
       "    <tr>\n",
       "      <th>2</th>\n",
       "      <td>4</td>\n",
       "      <td>NaN</td>\n",
       "      <td>KIMSEY, Nathan</td>\n",
       "      <td>76</td>\n",
       "      <td>69.74</td>\n",
       "      <td>DP World Tour</td>\n",
       "    </tr>\n",
       "    <tr>\n",
       "      <th>3</th>\n",
       "      <td>5</td>\n",
       "      <td>NaN</td>\n",
       "      <td>OLESEN, Thorbjørn</td>\n",
       "      <td>84</td>\n",
       "      <td>69.80</td>\n",
       "      <td>DP World Tour</td>\n",
       "    </tr>\n",
       "    <tr>\n",
       "      <th>4</th>\n",
       "      <td>6</td>\n",
       "      <td>NaN</td>\n",
       "      <td>MERONK, Adrian</td>\n",
       "      <td>77</td>\n",
       "      <td>69.81</td>\n",
       "      <td>DP World Tour</td>\n",
       "    </tr>\n",
       "    <tr>\n",
       "      <th>...</th>\n",
       "      <td>...</td>\n",
       "      <td>...</td>\n",
       "      <td>...</td>\n",
       "      <td>...</td>\n",
       "      <td>...</td>\n",
       "      <td>...</td>\n",
       "    </tr>\n",
       "    <tr>\n",
       "      <th>168</th>\n",
       "      <td>170</td>\n",
       "      <td>NaN</td>\n",
       "      <td>MURPHY, John</td>\n",
       "      <td>51</td>\n",
       "      <td>73.86</td>\n",
       "      <td>DP World Tour</td>\n",
       "    </tr>\n",
       "    <tr>\n",
       "      <th>169</th>\n",
       "      <td>171</td>\n",
       "      <td>NaN</td>\n",
       "      <td>LI, Haotong</td>\n",
       "      <td>43</td>\n",
       "      <td>74.07</td>\n",
       "      <td>DP World Tour</td>\n",
       "    </tr>\n",
       "    <tr>\n",
       "      <th>170</th>\n",
       "      <td>172</td>\n",
       "      <td>NaN</td>\n",
       "      <td>WINDRED, Blake</td>\n",
       "      <td>34</td>\n",
       "      <td>74.18</td>\n",
       "      <td>DP World Tour</td>\n",
       "    </tr>\n",
       "    <tr>\n",
       "      <th>171</th>\n",
       "      <td>173</td>\n",
       "      <td>NaN</td>\n",
       "      <td>CHENGYAO, Ma</td>\n",
       "      <td>40</td>\n",
       "      <td>74.83</td>\n",
       "      <td>DP World Tour</td>\n",
       "    </tr>\n",
       "    <tr>\n",
       "      <th>172</th>\n",
       "      <td>174</td>\n",
       "      <td>NaN</td>\n",
       "      <td>EDÉN, Tobias</td>\n",
       "      <td>41</td>\n",
       "      <td>75.07</td>\n",
       "      <td>DP World Tour</td>\n",
       "    </tr>\n",
       "  </tbody>\n",
       "</table>\n",
       "<p>173 rows × 6 columns</p>\n",
       "</div>"
      ],
      "text/plain": [
       "       1  Unnamed: 1      MCILROY, Rory  30   68.8  DP World Tour\n",
       "0      2         NaN   BJÖRK, Alexander  88  69.53  DP World Tour\n",
       "1      3         NaN  HØJGAARD, Nicolai  61  69.59  DP World Tour\n",
       "2      4         NaN     KIMSEY, Nathan  76  69.74  DP World Tour\n",
       "3      5         NaN  OLESEN, Thorbjørn  84  69.80  DP World Tour\n",
       "4      6         NaN     MERONK, Adrian  77  69.81  DP World Tour\n",
       "..   ...         ...                ...  ..    ...            ...\n",
       "168  170         NaN       MURPHY, John  51  73.86  DP World Tour\n",
       "169  171         NaN        LI, Haotong  43  74.07  DP World Tour\n",
       "170  172         NaN     WINDRED, Blake  34  74.18  DP World Tour\n",
       "171  173         NaN       CHENGYAO, Ma  40  74.83  DP World Tour\n",
       "172  174         NaN       EDÉN, Tobias  41  75.07  DP World Tour\n",
       "\n",
       "[173 rows x 6 columns]"
      ]
     },
     "execution_count": 30,
     "metadata": {},
     "output_type": "execute_result"
    }
   ],
   "source": [
    "dataframe1 = pd.read_excel('dpworldtour_2022-2023_scoringaverage.xlsx')\n",
    "dataframe1"
   ]
  },
  {
   "cell_type": "code",
   "execution_count": 31,
   "id": "54a99687",
   "metadata": {},
   "outputs": [
    {
     "data": {
      "text/html": [
       "<div>\n",
       "<style scoped>\n",
       "    .dataframe tbody tr th:only-of-type {\n",
       "        vertical-align: middle;\n",
       "    }\n",
       "\n",
       "    .dataframe tbody tr th {\n",
       "        vertical-align: top;\n",
       "    }\n",
       "\n",
       "    .dataframe thead th {\n",
       "        text-align: right;\n",
       "    }\n",
       "</style>\n",
       "<table border=\"1\" class=\"dataframe\">\n",
       "  <thead>\n",
       "    <tr style=\"text-align: right;\">\n",
       "      <th></th>\n",
       "      <th>DATE</th>\n",
       "      <th>TOURNAMENT</th>\n",
       "      <th>POS</th>\n",
       "      <th>R1</th>\n",
       "      <th>R2</th>\n",
       "      <th>R3</th>\n",
       "      <th>R4</th>\n",
       "      <th>R5</th>\n",
       "      <th>TOTAL</th>\n",
       "      <th>TO PAR</th>\n",
       "      <th>RANK</th>\n",
       "      <th>PTS</th>\n",
       "      <th>Unnamed: 12</th>\n",
       "      <th>RANK.1</th>\n",
       "      <th>PTS.1</th>\n",
       "      <th>WINNINGS</th>\n",
       "      <th>Unnamed: 16</th>\n",
       "    </tr>\n",
       "  </thead>\n",
       "  <tbody>\n",
       "    <tr>\n",
       "      <th>0</th>\n",
       "      <td>10.23.2022</td>\n",
       "      <td>THE CJ CUP in South Carolina</td>\n",
       "      <td>T23</td>\n",
       "      <td>68</td>\n",
       "      <td>67</td>\n",
       "      <td>71</td>\n",
       "      <td>72</td>\n",
       "      <td>-</td>\n",
       "      <td>278.0</td>\n",
       "      <td>-6</td>\n",
       "      <td>99</td>\n",
       "      <td>34.833</td>\n",
       "      <td>NaN</td>\n",
       "      <td>-</td>\n",
       "      <td>-</td>\n",
       "      <td>$88,305.00</td>\n",
       "      <td>NaN</td>\n",
       "    </tr>\n",
       "    <tr>\n",
       "      <th>1</th>\n",
       "      <td>12.4.2022</td>\n",
       "      <td>Hero World Challenge*</td>\n",
       "      <td>18</td>\n",
       "      <td>74</td>\n",
       "      <td>77</td>\n",
       "      <td>71</td>\n",
       "      <td>71</td>\n",
       "      <td>-</td>\n",
       "      <td>293.0</td>\n",
       "      <td>5</td>\n",
       "      <td>-</td>\n",
       "      <td>-</td>\n",
       "      <td>NaN</td>\n",
       "      <td>-</td>\n",
       "      <td>-</td>\n",
       "      <td>$102,000.00</td>\n",
       "      <td>-</td>\n",
       "    </tr>\n",
       "    <tr>\n",
       "      <th>2</th>\n",
       "      <td>2.12.2023</td>\n",
       "      <td>WM Phoenix Open</td>\n",
       "      <td>CUT</td>\n",
       "      <td>75</td>\n",
       "      <td>76</td>\n",
       "      <td>-</td>\n",
       "      <td>-</td>\n",
       "      <td>-</td>\n",
       "      <td>151.0</td>\n",
       "      <td>9</td>\n",
       "      <td>180</td>\n",
       "      <td>-</td>\n",
       "      <td>NaN</td>\n",
       "      <td>-</td>\n",
       "      <td>-</td>\n",
       "      <td>-</td>\n",
       "      <td>NaN</td>\n",
       "    </tr>\n",
       "    <tr>\n",
       "      <th>3</th>\n",
       "      <td>2.19.2023</td>\n",
       "      <td>The Genesis Invitational</td>\n",
       "      <td>T14</td>\n",
       "      <td>69</td>\n",
       "      <td>69</td>\n",
       "      <td>71</td>\n",
       "      <td>68</td>\n",
       "      <td>-</td>\n",
       "      <td>277.0</td>\n",
       "      <td>-7</td>\n",
       "      <td>131</td>\n",
       "      <td>58.25</td>\n",
       "      <td>NaN</td>\n",
       "      <td>-</td>\n",
       "      <td>-</td>\n",
       "      <td>$355,000.00</td>\n",
       "      <td>NaN</td>\n",
       "    </tr>\n",
       "    <tr>\n",
       "      <th>4</th>\n",
       "      <td>2.26.2023</td>\n",
       "      <td>The Honda Classic</td>\n",
       "      <td>T5</td>\n",
       "      <td>68</td>\n",
       "      <td>68</td>\n",
       "      <td>65</td>\n",
       "      <td>70</td>\n",
       "      <td>-</td>\n",
       "      <td>271.0</td>\n",
       "      <td>-9</td>\n",
       "      <td>89</td>\n",
       "      <td>93</td>\n",
       "      <td>NaN</td>\n",
       "      <td>-</td>\n",
       "      <td>-</td>\n",
       "      <td>$288,120.00</td>\n",
       "      <td>NaN</td>\n",
       "    </tr>\n",
       "    <tr>\n",
       "      <th>5</th>\n",
       "      <td>3.5.2023</td>\n",
       "      <td>Arnold Palmer Invitational presented by Master...</td>\n",
       "      <td>67</td>\n",
       "      <td>72</td>\n",
       "      <td>70</td>\n",
       "      <td>80</td>\n",
       "      <td>71</td>\n",
       "      <td>-</td>\n",
       "      <td>293.0</td>\n",
       "      <td>5</td>\n",
       "      <td>97</td>\n",
       "      <td>4.08</td>\n",
       "      <td>NaN</td>\n",
       "      <td>-</td>\n",
       "      <td>-</td>\n",
       "      <td>$42,600.00</td>\n",
       "      <td>NaN</td>\n",
       "    </tr>\n",
       "    <tr>\n",
       "      <th>6</th>\n",
       "      <td>3.12.2023</td>\n",
       "      <td>THE PLAYERS Championship</td>\n",
       "      <td>T35</td>\n",
       "      <td>77</td>\n",
       "      <td>69</td>\n",
       "      <td>68</td>\n",
       "      <td>70</td>\n",
       "      <td>-</td>\n",
       "      <td>284.0</td>\n",
       "      <td>-4</td>\n",
       "      <td>96</td>\n",
       "      <td>19.267</td>\n",
       "      <td>NaN</td>\n",
       "      <td>-</td>\n",
       "      <td>-</td>\n",
       "      <td>$114,166.67</td>\n",
       "      <td>NaN</td>\n",
       "    </tr>\n",
       "    <tr>\n",
       "      <th>7</th>\n",
       "      <td>3.26.2023</td>\n",
       "      <td>World Golf Championships-Dell Technologies Mat...</td>\n",
       "      <td>T31</td>\n",
       "      <td>-</td>\n",
       "      <td>-</td>\n",
       "      <td>-</td>\n",
       "      <td>-</td>\n",
       "      <td>-</td>\n",
       "      <td>0.0</td>\n",
       "      <td>NaN</td>\n",
       "      <td>97</td>\n",
       "      <td>17.729</td>\n",
       "      <td>NaN</td>\n",
       "      <td>-</td>\n",
       "      <td>-</td>\n",
       "      <td>$113,761.91</td>\n",
       "      <td>NaN</td>\n",
       "    </tr>\n",
       "    <tr>\n",
       "      <th>8</th>\n",
       "      <td>4.9.2023</td>\n",
       "      <td>Masters Tournament</td>\n",
       "      <td>T16</td>\n",
       "      <td>68</td>\n",
       "      <td>72</td>\n",
       "      <td>73</td>\n",
       "      <td>73</td>\n",
       "      <td>-</td>\n",
       "      <td>286.0</td>\n",
       "      <td>-2</td>\n",
       "      <td>88</td>\n",
       "      <td>52.886</td>\n",
       "      <td>NaN</td>\n",
       "      <td>-</td>\n",
       "      <td>-</td>\n",
       "      <td>$261,000.00</td>\n",
       "      <td>-</td>\n",
       "    </tr>\n",
       "    <tr>\n",
       "      <th>9</th>\n",
       "      <td>4.16.2023</td>\n",
       "      <td>RBC Heritage</td>\n",
       "      <td>T67</td>\n",
       "      <td>70</td>\n",
       "      <td>69</td>\n",
       "      <td>74</td>\n",
       "      <td>72</td>\n",
       "      <td>-</td>\n",
       "      <td>285.0</td>\n",
       "      <td>1</td>\n",
       "      <td>90</td>\n",
       "      <td>3.3</td>\n",
       "      <td>NaN</td>\n",
       "      <td>-</td>\n",
       "      <td>-</td>\n",
       "      <td>$41,600.00</td>\n",
       "      <td>NaN</td>\n",
       "    </tr>\n",
       "    <tr>\n",
       "      <th>10</th>\n",
       "      <td>5.7.2023</td>\n",
       "      <td>Wells Fargo Championship</td>\n",
       "      <td>CUT</td>\n",
       "      <td>72</td>\n",
       "      <td>72</td>\n",
       "      <td>-</td>\n",
       "      <td>-</td>\n",
       "      <td>-</td>\n",
       "      <td>144.0</td>\n",
       "      <td>2</td>\n",
       "      <td>99</td>\n",
       "      <td>-</td>\n",
       "      <td>NaN</td>\n",
       "      <td>-</td>\n",
       "      <td>-</td>\n",
       "      <td>-</td>\n",
       "      <td>NaN</td>\n",
       "    </tr>\n",
       "    <tr>\n",
       "      <th>11</th>\n",
       "      <td>5.21.2023</td>\n",
       "      <td>PGA Championship</td>\n",
       "      <td>T12</td>\n",
       "      <td>73</td>\n",
       "      <td>67</td>\n",
       "      <td>71</td>\n",
       "      <td>69</td>\n",
       "      <td>-</td>\n",
       "      <td>280.0</td>\n",
       "      <td>E</td>\n",
       "      <td>89</td>\n",
       "      <td>68</td>\n",
       "      <td>NaN</td>\n",
       "      <td>-</td>\n",
       "      <td>-</td>\n",
       "      <td>$365,000.00</td>\n",
       "      <td>-</td>\n",
       "    </tr>\n",
       "    <tr>\n",
       "      <th>12</th>\n",
       "      <td>6.4.2023</td>\n",
       "      <td>the Memorial Tournament presented by Workday</td>\n",
       "      <td>T16</td>\n",
       "      <td>69</td>\n",
       "      <td>76</td>\n",
       "      <td>70</td>\n",
       "      <td>73</td>\n",
       "      <td>-</td>\n",
       "      <td>288.0</td>\n",
       "      <td>E</td>\n",
       "      <td>88</td>\n",
       "      <td>50.925</td>\n",
       "      <td>NaN</td>\n",
       "      <td>-</td>\n",
       "      <td>-</td>\n",
       "      <td>$275,500.00</td>\n",
       "      <td>NaN</td>\n",
       "    </tr>\n",
       "    <tr>\n",
       "      <th>13</th>\n",
       "      <td>6.11.2023</td>\n",
       "      <td>RBC Canadian Open</td>\n",
       "      <td>T43</td>\n",
       "      <td>72</td>\n",
       "      <td>69</td>\n",
       "      <td>70</td>\n",
       "      <td>73</td>\n",
       "      <td>-</td>\n",
       "      <td>284.0</td>\n",
       "      <td>-4</td>\n",
       "      <td>87</td>\n",
       "      <td>10.714</td>\n",
       "      <td>NaN</td>\n",
       "      <td>-</td>\n",
       "      <td>-</td>\n",
       "      <td>$28,530.00</td>\n",
       "      <td>NaN</td>\n",
       "    </tr>\n",
       "    <tr>\n",
       "      <th>14</th>\n",
       "      <td>6.18.2023</td>\n",
       "      <td>U.S. Open</td>\n",
       "      <td>T20</td>\n",
       "      <td>72</td>\n",
       "      <td>70</td>\n",
       "      <td>68</td>\n",
       "      <td>71</td>\n",
       "      <td>-</td>\n",
       "      <td>281.0</td>\n",
       "      <td>1</td>\n",
       "      <td>81</td>\n",
       "      <td>44.443</td>\n",
       "      <td>NaN</td>\n",
       "      <td>-</td>\n",
       "      <td>-</td>\n",
       "      <td>$200,152.00</td>\n",
       "      <td>-</td>\n",
       "    </tr>\n",
       "    <tr>\n",
       "      <th>15</th>\n",
       "      <td>6.25.2023</td>\n",
       "      <td>Travelers Championship</td>\n",
       "      <td>T19</td>\n",
       "      <td>64</td>\n",
       "      <td>69</td>\n",
       "      <td>69</td>\n",
       "      <td>64</td>\n",
       "      <td>-</td>\n",
       "      <td>266.0</td>\n",
       "      <td>-14</td>\n",
       "      <td>74</td>\n",
       "      <td>43</td>\n",
       "      <td>NaN</td>\n",
       "      <td>-</td>\n",
       "      <td>-</td>\n",
       "      <td>$245,800.00</td>\n",
       "      <td>NaN</td>\n",
       "    </tr>\n",
       "    <tr>\n",
       "      <th>16</th>\n",
       "      <td>7.16.2023</td>\n",
       "      <td>Genesis Scottish Open</td>\n",
       "      <td>T12</td>\n",
       "      <td>71</td>\n",
       "      <td>64</td>\n",
       "      <td>65</td>\n",
       "      <td>73</td>\n",
       "      <td>-</td>\n",
       "      <td>273.0</td>\n",
       "      <td>-7</td>\n",
       "      <td>72</td>\n",
       "      <td>55.714</td>\n",
       "      <td>NaN</td>\n",
       "      <td>-</td>\n",
       "      <td>-</td>\n",
       "      <td>$151,007.14</td>\n",
       "      <td>NaN</td>\n",
       "    </tr>\n",
       "    <tr>\n",
       "      <th>17</th>\n",
       "      <td>7.23.2023</td>\n",
       "      <td>The Open Championship</td>\n",
       "      <td>CUT</td>\n",
       "      <td>72</td>\n",
       "      <td>77</td>\n",
       "      <td>-</td>\n",
       "      <td>-</td>\n",
       "      <td>-</td>\n",
       "      <td>149.0</td>\n",
       "      <td>7</td>\n",
       "      <td>73</td>\n",
       "      <td>-</td>\n",
       "      <td>NaN</td>\n",
       "      <td>-</td>\n",
       "      <td>-</td>\n",
       "      <td>-</td>\n",
       "      <td>-</td>\n",
       "    </tr>\n",
       "    <tr>\n",
       "      <th>18</th>\n",
       "      <td>8.6.2023</td>\n",
       "      <td>Wyndham Championship</td>\n",
       "      <td>T51</td>\n",
       "      <td>68</td>\n",
       "      <td>69</td>\n",
       "      <td>70</td>\n",
       "      <td>70</td>\n",
       "      <td>-</td>\n",
       "      <td>277.0</td>\n",
       "      <td>-3</td>\n",
       "      <td>78</td>\n",
       "      <td>6.629</td>\n",
       "      <td>NaN</td>\n",
       "      <td>-</td>\n",
       "      <td>-</td>\n",
       "      <td>$18,164.00</td>\n",
       "      <td>NaN</td>\n",
       "    </tr>\n",
       "    <tr>\n",
       "      <th>19</th>\n",
       "      <td>10.1.2023</td>\n",
       "      <td>Ryder Cup*</td>\n",
       "      <td>1</td>\n",
       "      <td>-</td>\n",
       "      <td>-</td>\n",
       "      <td>-</td>\n",
       "      <td>-</td>\n",
       "      <td>-</td>\n",
       "      <td>NaN</td>\n",
       "      <td>NaN</td>\n",
       "      <td>-</td>\n",
       "      <td>-</td>\n",
       "      <td>NaN</td>\n",
       "      <td>-</td>\n",
       "      <td>-</td>\n",
       "      <td>-</td>\n",
       "      <td>NaN</td>\n",
       "    </tr>\n",
       "  </tbody>\n",
       "</table>\n",
       "</div>"
      ],
      "text/plain": [
       "          DATE                                         TOURNAMENT  POS  R1  \\\n",
       "0   10.23.2022                       THE CJ CUP in South Carolina  T23  68   \n",
       "1    12.4.2022                              Hero World Challenge*   18  74   \n",
       "2    2.12.2023                                    WM Phoenix Open  CUT  75   \n",
       "3    2.19.2023                           The Genesis Invitational  T14  69   \n",
       "4    2.26.2023                                  The Honda Classic   T5  68   \n",
       "5     3.5.2023  Arnold Palmer Invitational presented by Master...   67  72   \n",
       "6    3.12.2023                           THE PLAYERS Championship  T35  77   \n",
       "7    3.26.2023  World Golf Championships-Dell Technologies Mat...  T31   -   \n",
       "8     4.9.2023                                 Masters Tournament  T16  68   \n",
       "9    4.16.2023                                       RBC Heritage  T67  70   \n",
       "10    5.7.2023                           Wells Fargo Championship  CUT  72   \n",
       "11   5.21.2023                                   PGA Championship  T12  73   \n",
       "12    6.4.2023       the Memorial Tournament presented by Workday  T16  69   \n",
       "13   6.11.2023                                  RBC Canadian Open  T43  72   \n",
       "14   6.18.2023                                          U.S. Open  T20  72   \n",
       "15   6.25.2023                             Travelers Championship  T19  64   \n",
       "16   7.16.2023                              Genesis Scottish Open  T12  71   \n",
       "17   7.23.2023                              The Open Championship  CUT  72   \n",
       "18    8.6.2023                               Wyndham Championship  T51  68   \n",
       "19   10.1.2023                                         Ryder Cup*    1   -   \n",
       "\n",
       "    R2  R3  R4 R5  TOTAL TO PAR RANK     PTS  Unnamed: 12 RANK.1 PTS.1  \\\n",
       "0   67  71  72  -  278.0     -6   99  34.833          NaN      -     -   \n",
       "1   77  71  71  -  293.0      5    -       -          NaN      -     -   \n",
       "2   76   -   -  -  151.0      9  180       -          NaN      -     -   \n",
       "3   69  71  68  -  277.0     -7  131   58.25          NaN      -     -   \n",
       "4   68  65  70  -  271.0     -9   89      93          NaN      -     -   \n",
       "5   70  80  71  -  293.0      5   97    4.08          NaN      -     -   \n",
       "6   69  68  70  -  284.0     -4   96  19.267          NaN      -     -   \n",
       "7    -   -   -  -    0.0    NaN   97  17.729          NaN      -     -   \n",
       "8   72  73  73  -  286.0     -2   88  52.886          NaN      -     -   \n",
       "9   69  74  72  -  285.0      1   90     3.3          NaN      -     -   \n",
       "10  72   -   -  -  144.0      2   99       -          NaN      -     -   \n",
       "11  67  71  69  -  280.0      E   89      68          NaN      -     -   \n",
       "12  76  70  73  -  288.0      E   88  50.925          NaN      -     -   \n",
       "13  69  70  73  -  284.0     -4   87  10.714          NaN      -     -   \n",
       "14  70  68  71  -  281.0      1   81  44.443          NaN      -     -   \n",
       "15  69  69  64  -  266.0    -14   74      43          NaN      -     -   \n",
       "16  64  65  73  -  273.0     -7   72  55.714          NaN      -     -   \n",
       "17  77   -   -  -  149.0      7   73       -          NaN      -     -   \n",
       "18  69  70  70  -  277.0     -3   78   6.629          NaN      -     -   \n",
       "19   -   -   -  -    NaN    NaN    -       -          NaN      -     -   \n",
       "\n",
       "       WINNINGS Unnamed: 16  \n",
       "0    $88,305.00         NaN  \n",
       "1   $102,000.00           -  \n",
       "2             -         NaN  \n",
       "3   $355,000.00         NaN  \n",
       "4   $288,120.00         NaN  \n",
       "5    $42,600.00         NaN  \n",
       "6   $114,166.67         NaN  \n",
       "7   $113,761.91         NaN  \n",
       "8   $261,000.00           -  \n",
       "9    $41,600.00         NaN  \n",
       "10            -         NaN  \n",
       "11  $365,000.00           -  \n",
       "12  $275,500.00         NaN  \n",
       "13   $28,530.00         NaN  \n",
       "14  $200,152.00           -  \n",
       "15  $245,800.00         NaN  \n",
       "16  $151,007.14         NaN  \n",
       "17            -           -  \n",
       "18   $18,164.00         NaN  \n",
       "19            -         NaN  "
      ]
     },
     "execution_count": 31,
     "metadata": {},
     "output_type": "execute_result"
    }
   ],
   "source": [
    "dataframe2 = pd.read_excel('Shane Lowry_2022-2-23_Results_time-series.xlsx')\n",
    "dataframe2"
   ]
  },
  {
   "cell_type": "code",
   "execution_count": 32,
   "id": "3fdaeace",
   "metadata": {},
   "outputs": [
    {
     "data": {
      "text/html": [
       "<div>\n",
       "<style scoped>\n",
       "    .dataframe tbody tr th:only-of-type {\n",
       "        vertical-align: middle;\n",
       "    }\n",
       "\n",
       "    .dataframe tbody tr th {\n",
       "        vertical-align: top;\n",
       "    }\n",
       "\n",
       "    .dataframe thead th {\n",
       "        text-align: right;\n",
       "    }\n",
       "</style>\n",
       "<table border=\"1\" class=\"dataframe\">\n",
       "  <thead>\n",
       "    <tr style=\"text-align: right;\">\n",
       "      <th></th>\n",
       "      <th>DATE</th>\n",
       "      <th>TOURNAMENT</th>\n",
       "      <th>POS</th>\n",
       "      <th>R1</th>\n",
       "      <th>R2</th>\n",
       "      <th>R3</th>\n",
       "      <th>R4</th>\n",
       "      <th>R5</th>\n",
       "      <th>TOTAL</th>\n",
       "      <th>TO PAR</th>\n",
       "      <th>RANK</th>\n",
       "      <th>PTS</th>\n",
       "      <th>Unnamed: 12</th>\n",
       "      <th>RANK.1</th>\n",
       "      <th>PTS.1</th>\n",
       "      <th>WINNINGS</th>\n",
       "      <th>Unnamed: 16</th>\n",
       "      <th>datetime</th>\n",
       "    </tr>\n",
       "  </thead>\n",
       "  <tbody>\n",
       "    <tr>\n",
       "      <th>0</th>\n",
       "      <td>10.23.2022</td>\n",
       "      <td>THE CJ CUP in South Carolina</td>\n",
       "      <td>T23</td>\n",
       "      <td>68</td>\n",
       "      <td>67</td>\n",
       "      <td>71</td>\n",
       "      <td>72</td>\n",
       "      <td>-</td>\n",
       "      <td>278.0</td>\n",
       "      <td>-6</td>\n",
       "      <td>99</td>\n",
       "      <td>34.833</td>\n",
       "      <td>NaN</td>\n",
       "      <td>-</td>\n",
       "      <td>-</td>\n",
       "      <td>$88,305.00</td>\n",
       "      <td>NaN</td>\n",
       "      <td>2022-10-23</td>\n",
       "    </tr>\n",
       "    <tr>\n",
       "      <th>1</th>\n",
       "      <td>12.4.2022</td>\n",
       "      <td>Hero World Challenge*</td>\n",
       "      <td>18</td>\n",
       "      <td>74</td>\n",
       "      <td>77</td>\n",
       "      <td>71</td>\n",
       "      <td>71</td>\n",
       "      <td>-</td>\n",
       "      <td>293.0</td>\n",
       "      <td>5</td>\n",
       "      <td>-</td>\n",
       "      <td>-</td>\n",
       "      <td>NaN</td>\n",
       "      <td>-</td>\n",
       "      <td>-</td>\n",
       "      <td>$102,000.00</td>\n",
       "      <td>-</td>\n",
       "      <td>2022-12-04</td>\n",
       "    </tr>\n",
       "    <tr>\n",
       "      <th>2</th>\n",
       "      <td>2.12.2023</td>\n",
       "      <td>WM Phoenix Open</td>\n",
       "      <td>CUT</td>\n",
       "      <td>75</td>\n",
       "      <td>76</td>\n",
       "      <td>-</td>\n",
       "      <td>-</td>\n",
       "      <td>-</td>\n",
       "      <td>151.0</td>\n",
       "      <td>9</td>\n",
       "      <td>180</td>\n",
       "      <td>-</td>\n",
       "      <td>NaN</td>\n",
       "      <td>-</td>\n",
       "      <td>-</td>\n",
       "      <td>-</td>\n",
       "      <td>NaN</td>\n",
       "      <td>2023-02-12</td>\n",
       "    </tr>\n",
       "    <tr>\n",
       "      <th>3</th>\n",
       "      <td>2.19.2023</td>\n",
       "      <td>The Genesis Invitational</td>\n",
       "      <td>T14</td>\n",
       "      <td>69</td>\n",
       "      <td>69</td>\n",
       "      <td>71</td>\n",
       "      <td>68</td>\n",
       "      <td>-</td>\n",
       "      <td>277.0</td>\n",
       "      <td>-7</td>\n",
       "      <td>131</td>\n",
       "      <td>58.25</td>\n",
       "      <td>NaN</td>\n",
       "      <td>-</td>\n",
       "      <td>-</td>\n",
       "      <td>$355,000.00</td>\n",
       "      <td>NaN</td>\n",
       "      <td>2023-02-19</td>\n",
       "    </tr>\n",
       "    <tr>\n",
       "      <th>4</th>\n",
       "      <td>2.26.2023</td>\n",
       "      <td>The Honda Classic</td>\n",
       "      <td>T5</td>\n",
       "      <td>68</td>\n",
       "      <td>68</td>\n",
       "      <td>65</td>\n",
       "      <td>70</td>\n",
       "      <td>-</td>\n",
       "      <td>271.0</td>\n",
       "      <td>-9</td>\n",
       "      <td>89</td>\n",
       "      <td>93</td>\n",
       "      <td>NaN</td>\n",
       "      <td>-</td>\n",
       "      <td>-</td>\n",
       "      <td>$288,120.00</td>\n",
       "      <td>NaN</td>\n",
       "      <td>2023-02-26</td>\n",
       "    </tr>\n",
       "    <tr>\n",
       "      <th>5</th>\n",
       "      <td>3.5.2023</td>\n",
       "      <td>Arnold Palmer Invitational presented by Master...</td>\n",
       "      <td>67</td>\n",
       "      <td>72</td>\n",
       "      <td>70</td>\n",
       "      <td>80</td>\n",
       "      <td>71</td>\n",
       "      <td>-</td>\n",
       "      <td>293.0</td>\n",
       "      <td>5</td>\n",
       "      <td>97</td>\n",
       "      <td>4.08</td>\n",
       "      <td>NaN</td>\n",
       "      <td>-</td>\n",
       "      <td>-</td>\n",
       "      <td>$42,600.00</td>\n",
       "      <td>NaN</td>\n",
       "      <td>2023-03-05</td>\n",
       "    </tr>\n",
       "    <tr>\n",
       "      <th>6</th>\n",
       "      <td>3.12.2023</td>\n",
       "      <td>THE PLAYERS Championship</td>\n",
       "      <td>T35</td>\n",
       "      <td>77</td>\n",
       "      <td>69</td>\n",
       "      <td>68</td>\n",
       "      <td>70</td>\n",
       "      <td>-</td>\n",
       "      <td>284.0</td>\n",
       "      <td>-4</td>\n",
       "      <td>96</td>\n",
       "      <td>19.267</td>\n",
       "      <td>NaN</td>\n",
       "      <td>-</td>\n",
       "      <td>-</td>\n",
       "      <td>$114,166.67</td>\n",
       "      <td>NaN</td>\n",
       "      <td>2023-03-12</td>\n",
       "    </tr>\n",
       "    <tr>\n",
       "      <th>7</th>\n",
       "      <td>3.26.2023</td>\n",
       "      <td>World Golf Championships-Dell Technologies Mat...</td>\n",
       "      <td>T31</td>\n",
       "      <td>-</td>\n",
       "      <td>-</td>\n",
       "      <td>-</td>\n",
       "      <td>-</td>\n",
       "      <td>-</td>\n",
       "      <td>0.0</td>\n",
       "      <td>NaN</td>\n",
       "      <td>97</td>\n",
       "      <td>17.729</td>\n",
       "      <td>NaN</td>\n",
       "      <td>-</td>\n",
       "      <td>-</td>\n",
       "      <td>$113,761.91</td>\n",
       "      <td>NaN</td>\n",
       "      <td>2023-03-26</td>\n",
       "    </tr>\n",
       "    <tr>\n",
       "      <th>8</th>\n",
       "      <td>4.9.2023</td>\n",
       "      <td>Masters Tournament</td>\n",
       "      <td>T16</td>\n",
       "      <td>68</td>\n",
       "      <td>72</td>\n",
       "      <td>73</td>\n",
       "      <td>73</td>\n",
       "      <td>-</td>\n",
       "      <td>286.0</td>\n",
       "      <td>-2</td>\n",
       "      <td>88</td>\n",
       "      <td>52.886</td>\n",
       "      <td>NaN</td>\n",
       "      <td>-</td>\n",
       "      <td>-</td>\n",
       "      <td>$261,000.00</td>\n",
       "      <td>-</td>\n",
       "      <td>2023-04-09</td>\n",
       "    </tr>\n",
       "    <tr>\n",
       "      <th>9</th>\n",
       "      <td>4.16.2023</td>\n",
       "      <td>RBC Heritage</td>\n",
       "      <td>T67</td>\n",
       "      <td>70</td>\n",
       "      <td>69</td>\n",
       "      <td>74</td>\n",
       "      <td>72</td>\n",
       "      <td>-</td>\n",
       "      <td>285.0</td>\n",
       "      <td>1</td>\n",
       "      <td>90</td>\n",
       "      <td>3.3</td>\n",
       "      <td>NaN</td>\n",
       "      <td>-</td>\n",
       "      <td>-</td>\n",
       "      <td>$41,600.00</td>\n",
       "      <td>NaN</td>\n",
       "      <td>2023-04-16</td>\n",
       "    </tr>\n",
       "    <tr>\n",
       "      <th>10</th>\n",
       "      <td>5.7.2023</td>\n",
       "      <td>Wells Fargo Championship</td>\n",
       "      <td>CUT</td>\n",
       "      <td>72</td>\n",
       "      <td>72</td>\n",
       "      <td>-</td>\n",
       "      <td>-</td>\n",
       "      <td>-</td>\n",
       "      <td>144.0</td>\n",
       "      <td>2</td>\n",
       "      <td>99</td>\n",
       "      <td>-</td>\n",
       "      <td>NaN</td>\n",
       "      <td>-</td>\n",
       "      <td>-</td>\n",
       "      <td>-</td>\n",
       "      <td>NaN</td>\n",
       "      <td>2023-05-07</td>\n",
       "    </tr>\n",
       "    <tr>\n",
       "      <th>11</th>\n",
       "      <td>5.21.2023</td>\n",
       "      <td>PGA Championship</td>\n",
       "      <td>T12</td>\n",
       "      <td>73</td>\n",
       "      <td>67</td>\n",
       "      <td>71</td>\n",
       "      <td>69</td>\n",
       "      <td>-</td>\n",
       "      <td>280.0</td>\n",
       "      <td>E</td>\n",
       "      <td>89</td>\n",
       "      <td>68</td>\n",
       "      <td>NaN</td>\n",
       "      <td>-</td>\n",
       "      <td>-</td>\n",
       "      <td>$365,000.00</td>\n",
       "      <td>-</td>\n",
       "      <td>2023-05-21</td>\n",
       "    </tr>\n",
       "    <tr>\n",
       "      <th>12</th>\n",
       "      <td>6.4.2023</td>\n",
       "      <td>the Memorial Tournament presented by Workday</td>\n",
       "      <td>T16</td>\n",
       "      <td>69</td>\n",
       "      <td>76</td>\n",
       "      <td>70</td>\n",
       "      <td>73</td>\n",
       "      <td>-</td>\n",
       "      <td>288.0</td>\n",
       "      <td>E</td>\n",
       "      <td>88</td>\n",
       "      <td>50.925</td>\n",
       "      <td>NaN</td>\n",
       "      <td>-</td>\n",
       "      <td>-</td>\n",
       "      <td>$275,500.00</td>\n",
       "      <td>NaN</td>\n",
       "      <td>2023-06-04</td>\n",
       "    </tr>\n",
       "    <tr>\n",
       "      <th>13</th>\n",
       "      <td>6.11.2023</td>\n",
       "      <td>RBC Canadian Open</td>\n",
       "      <td>T43</td>\n",
       "      <td>72</td>\n",
       "      <td>69</td>\n",
       "      <td>70</td>\n",
       "      <td>73</td>\n",
       "      <td>-</td>\n",
       "      <td>284.0</td>\n",
       "      <td>-4</td>\n",
       "      <td>87</td>\n",
       "      <td>10.714</td>\n",
       "      <td>NaN</td>\n",
       "      <td>-</td>\n",
       "      <td>-</td>\n",
       "      <td>$28,530.00</td>\n",
       "      <td>NaN</td>\n",
       "      <td>2023-06-11</td>\n",
       "    </tr>\n",
       "    <tr>\n",
       "      <th>14</th>\n",
       "      <td>6.18.2023</td>\n",
       "      <td>U.S. Open</td>\n",
       "      <td>T20</td>\n",
       "      <td>72</td>\n",
       "      <td>70</td>\n",
       "      <td>68</td>\n",
       "      <td>71</td>\n",
       "      <td>-</td>\n",
       "      <td>281.0</td>\n",
       "      <td>1</td>\n",
       "      <td>81</td>\n",
       "      <td>44.443</td>\n",
       "      <td>NaN</td>\n",
       "      <td>-</td>\n",
       "      <td>-</td>\n",
       "      <td>$200,152.00</td>\n",
       "      <td>-</td>\n",
       "      <td>2023-06-18</td>\n",
       "    </tr>\n",
       "    <tr>\n",
       "      <th>15</th>\n",
       "      <td>6.25.2023</td>\n",
       "      <td>Travelers Championship</td>\n",
       "      <td>T19</td>\n",
       "      <td>64</td>\n",
       "      <td>69</td>\n",
       "      <td>69</td>\n",
       "      <td>64</td>\n",
       "      <td>-</td>\n",
       "      <td>266.0</td>\n",
       "      <td>-14</td>\n",
       "      <td>74</td>\n",
       "      <td>43</td>\n",
       "      <td>NaN</td>\n",
       "      <td>-</td>\n",
       "      <td>-</td>\n",
       "      <td>$245,800.00</td>\n",
       "      <td>NaN</td>\n",
       "      <td>2023-06-25</td>\n",
       "    </tr>\n",
       "    <tr>\n",
       "      <th>16</th>\n",
       "      <td>7.16.2023</td>\n",
       "      <td>Genesis Scottish Open</td>\n",
       "      <td>T12</td>\n",
       "      <td>71</td>\n",
       "      <td>64</td>\n",
       "      <td>65</td>\n",
       "      <td>73</td>\n",
       "      <td>-</td>\n",
       "      <td>273.0</td>\n",
       "      <td>-7</td>\n",
       "      <td>72</td>\n",
       "      <td>55.714</td>\n",
       "      <td>NaN</td>\n",
       "      <td>-</td>\n",
       "      <td>-</td>\n",
       "      <td>$151,007.14</td>\n",
       "      <td>NaN</td>\n",
       "      <td>2023-07-16</td>\n",
       "    </tr>\n",
       "    <tr>\n",
       "      <th>17</th>\n",
       "      <td>7.23.2023</td>\n",
       "      <td>The Open Championship</td>\n",
       "      <td>CUT</td>\n",
       "      <td>72</td>\n",
       "      <td>77</td>\n",
       "      <td>-</td>\n",
       "      <td>-</td>\n",
       "      <td>-</td>\n",
       "      <td>149.0</td>\n",
       "      <td>7</td>\n",
       "      <td>73</td>\n",
       "      <td>-</td>\n",
       "      <td>NaN</td>\n",
       "      <td>-</td>\n",
       "      <td>-</td>\n",
       "      <td>-</td>\n",
       "      <td>-</td>\n",
       "      <td>2023-07-23</td>\n",
       "    </tr>\n",
       "    <tr>\n",
       "      <th>18</th>\n",
       "      <td>8.6.2023</td>\n",
       "      <td>Wyndham Championship</td>\n",
       "      <td>T51</td>\n",
       "      <td>68</td>\n",
       "      <td>69</td>\n",
       "      <td>70</td>\n",
       "      <td>70</td>\n",
       "      <td>-</td>\n",
       "      <td>277.0</td>\n",
       "      <td>-3</td>\n",
       "      <td>78</td>\n",
       "      <td>6.629</td>\n",
       "      <td>NaN</td>\n",
       "      <td>-</td>\n",
       "      <td>-</td>\n",
       "      <td>$18,164.00</td>\n",
       "      <td>NaN</td>\n",
       "      <td>2023-08-06</td>\n",
       "    </tr>\n",
       "    <tr>\n",
       "      <th>19</th>\n",
       "      <td>10.1.2023</td>\n",
       "      <td>Ryder Cup*</td>\n",
       "      <td>1</td>\n",
       "      <td>-</td>\n",
       "      <td>-</td>\n",
       "      <td>-</td>\n",
       "      <td>-</td>\n",
       "      <td>-</td>\n",
       "      <td>NaN</td>\n",
       "      <td>NaN</td>\n",
       "      <td>-</td>\n",
       "      <td>-</td>\n",
       "      <td>NaN</td>\n",
       "      <td>-</td>\n",
       "      <td>-</td>\n",
       "      <td>-</td>\n",
       "      <td>NaN</td>\n",
       "      <td>2023-10-01</td>\n",
       "    </tr>\n",
       "  </tbody>\n",
       "</table>\n",
       "</div>"
      ],
      "text/plain": [
       "          DATE                                         TOURNAMENT  POS  R1  \\\n",
       "0   10.23.2022                       THE CJ CUP in South Carolina  T23  68   \n",
       "1    12.4.2022                              Hero World Challenge*   18  74   \n",
       "2    2.12.2023                                    WM Phoenix Open  CUT  75   \n",
       "3    2.19.2023                           The Genesis Invitational  T14  69   \n",
       "4    2.26.2023                                  The Honda Classic   T5  68   \n",
       "5     3.5.2023  Arnold Palmer Invitational presented by Master...   67  72   \n",
       "6    3.12.2023                           THE PLAYERS Championship  T35  77   \n",
       "7    3.26.2023  World Golf Championships-Dell Technologies Mat...  T31   -   \n",
       "8     4.9.2023                                 Masters Tournament  T16  68   \n",
       "9    4.16.2023                                       RBC Heritage  T67  70   \n",
       "10    5.7.2023                           Wells Fargo Championship  CUT  72   \n",
       "11   5.21.2023                                   PGA Championship  T12  73   \n",
       "12    6.4.2023       the Memorial Tournament presented by Workday  T16  69   \n",
       "13   6.11.2023                                  RBC Canadian Open  T43  72   \n",
       "14   6.18.2023                                          U.S. Open  T20  72   \n",
       "15   6.25.2023                             Travelers Championship  T19  64   \n",
       "16   7.16.2023                              Genesis Scottish Open  T12  71   \n",
       "17   7.23.2023                              The Open Championship  CUT  72   \n",
       "18    8.6.2023                               Wyndham Championship  T51  68   \n",
       "19   10.1.2023                                         Ryder Cup*    1   -   \n",
       "\n",
       "    R2  R3  R4 R5  TOTAL TO PAR RANK     PTS  Unnamed: 12 RANK.1 PTS.1  \\\n",
       "0   67  71  72  -  278.0     -6   99  34.833          NaN      -     -   \n",
       "1   77  71  71  -  293.0      5    -       -          NaN      -     -   \n",
       "2   76   -   -  -  151.0      9  180       -          NaN      -     -   \n",
       "3   69  71  68  -  277.0     -7  131   58.25          NaN      -     -   \n",
       "4   68  65  70  -  271.0     -9   89      93          NaN      -     -   \n",
       "5   70  80  71  -  293.0      5   97    4.08          NaN      -     -   \n",
       "6   69  68  70  -  284.0     -4   96  19.267          NaN      -     -   \n",
       "7    -   -   -  -    0.0    NaN   97  17.729          NaN      -     -   \n",
       "8   72  73  73  -  286.0     -2   88  52.886          NaN      -     -   \n",
       "9   69  74  72  -  285.0      1   90     3.3          NaN      -     -   \n",
       "10  72   -   -  -  144.0      2   99       -          NaN      -     -   \n",
       "11  67  71  69  -  280.0      E   89      68          NaN      -     -   \n",
       "12  76  70  73  -  288.0      E   88  50.925          NaN      -     -   \n",
       "13  69  70  73  -  284.0     -4   87  10.714          NaN      -     -   \n",
       "14  70  68  71  -  281.0      1   81  44.443          NaN      -     -   \n",
       "15  69  69  64  -  266.0    -14   74      43          NaN      -     -   \n",
       "16  64  65  73  -  273.0     -7   72  55.714          NaN      -     -   \n",
       "17  77   -   -  -  149.0      7   73       -          NaN      -     -   \n",
       "18  69  70  70  -  277.0     -3   78   6.629          NaN      -     -   \n",
       "19   -   -   -  -    NaN    NaN    -       -          NaN      -     -   \n",
       "\n",
       "       WINNINGS Unnamed: 16   datetime  \n",
       "0    $88,305.00         NaN 2022-10-23  \n",
       "1   $102,000.00           - 2022-12-04  \n",
       "2             -         NaN 2023-02-12  \n",
       "3   $355,000.00         NaN 2023-02-19  \n",
       "4   $288,120.00         NaN 2023-02-26  \n",
       "5    $42,600.00         NaN 2023-03-05  \n",
       "6   $114,166.67         NaN 2023-03-12  \n",
       "7   $113,761.91         NaN 2023-03-26  \n",
       "8   $261,000.00           - 2023-04-09  \n",
       "9    $41,600.00         NaN 2023-04-16  \n",
       "10            -         NaN 2023-05-07  \n",
       "11  $365,000.00           - 2023-05-21  \n",
       "12  $275,500.00         NaN 2023-06-04  \n",
       "13   $28,530.00         NaN 2023-06-11  \n",
       "14  $200,152.00           - 2023-06-18  \n",
       "15  $245,800.00         NaN 2023-06-25  \n",
       "16  $151,007.14         NaN 2023-07-16  \n",
       "17            -           - 2023-07-23  \n",
       "18   $18,164.00         NaN 2023-08-06  \n",
       "19            -         NaN 2023-10-01  "
      ]
     },
     "execution_count": 32,
     "metadata": {},
     "output_type": "execute_result"
    }
   ],
   "source": [
    "dataframe2['datetime'] = pd.to_datetime(dataframe2['DATE'])\n",
    "dataframe2"
   ]
  },
  {
   "cell_type": "code",
   "execution_count": 33,
   "id": "93d0156b",
   "metadata": {},
   "outputs": [
    {
     "data": {
      "text/plain": [
       "0    2022-10-23\n",
       "1    2022-12-04\n",
       "2    2023-02-12\n",
       "3    2023-02-19\n",
       "4    2023-02-26\n",
       "5    2023-03-05\n",
       "6    2023-03-12\n",
       "7    2023-03-26\n",
       "8    2023-04-09\n",
       "9    2023-04-16\n",
       "10   2023-05-07\n",
       "11   2023-05-21\n",
       "12   2023-06-04\n",
       "13   2023-06-11\n",
       "14   2023-06-18\n",
       "15   2023-06-25\n",
       "16   2023-07-16\n",
       "17   2023-07-23\n",
       "18   2023-08-06\n",
       "19   2023-10-01\n",
       "Name: datetime, dtype: datetime64[ns]"
      ]
     },
     "execution_count": 33,
     "metadata": {},
     "output_type": "execute_result"
    }
   ],
   "source": [
    "dataframe2['datetime']"
   ]
  },
  {
   "cell_type": "code",
   "execution_count": 34,
   "id": "91aab011",
   "metadata": {},
   "outputs": [
    {
     "data": {
      "text/plain": [
       "<AxesSubplot:xlabel='datetime', ylabel='WINNINGS'>"
      ]
     },
     "execution_count": 34,
     "metadata": {},
     "output_type": "execute_result"
    },
    {
     "data": {
      "image/png": "[encoded data removed]",
      "text/plain": [
       "<Figure size 640x480 with 1 Axes>"
      ]
     },
     "metadata": {},
     "output_type": "display_data"
    }
   ],
   "source": [
    "import seaborn as sns\n",
    "sns.lineplot(data=dataframe2, x=\"datetime\", y=\"WINNINGS\")"
   ]
  },
  {
   "cell_type": "code",
   "execution_count": 35,
   "id": "2f2139a1",
   "metadata": {},
   "outputs": [
    {
     "data": {
      "text/plain": [
       "DatetimeIndex(['2022-10-23', '2022-10-30', '2022-11-06', '2022-11-13',\n",
       "               '2022-11-20', '2022-11-27', '2022-12-04', '2022-12-11',\n",
       "               '2022-12-18', '2022-12-25', '2023-01-01', '2023-01-08',\n",
       "               '2023-01-15', '2023-01-22', '2023-01-29', '2023-02-05',\n",
       "               '2023-02-12', '2023-02-19', '2023-02-26', '2023-03-05',\n",
       "               '2023-03-12', '2023-03-19', '2023-03-26', '2023-04-02',\n",
       "               '2023-04-09', '2023-04-16', '2023-04-23', '2023-04-30',\n",
       "               '2023-05-07', '2023-05-14', '2023-05-21', '2023-05-28',\n",
       "               '2023-06-04', '2023-06-11', '2023-06-18', '2023-06-25',\n",
       "               '2023-07-02', '2023-07-09', '2023-07-16', '2023-07-23',\n",
       "               '2023-07-30', '2023-08-06', '2023-08-13', '2023-08-20',\n",
       "               '2023-08-27', '2023-09-03', '2023-09-10', '2023-09-17',\n",
       "               '2023-09-24', '2023-10-01', '2023-10-08', '2023-10-15'],\n",
       "              dtype='datetime64[ns]', freq='W-SUN')"
      ]
     },
     "execution_count": 35,
     "metadata": {},
     "output_type": "execute_result"
    }
   ],
   "source": [
    "dti = pd.date_range(\"2022-10-23\", periods=52, freq=\"W\")\n",
    "len(dti)\n",
    "dti"
   ]
  },
  {
   "cell_type": "code",
   "execution_count": 36,
   "id": "b6b58b85",
   "metadata": {},
   "outputs": [
    {
     "data": {
      "text/plain": [
       "0      $88,305.00\n",
       "1     $102,000.00\n",
       "2               -\n",
       "3     $355,000.00\n",
       "4     $288,120.00\n",
       "5      $42,600.00\n",
       "6     $114,166.67\n",
       "7     $113,761.91\n",
       "8     $261,000.00\n",
       "9      $41,600.00\n",
       "10              -\n",
       "11    $365,000.00\n",
       "12    $275,500.00\n",
       "13     $28,530.00\n",
       "14    $200,152.00\n",
       "15    $245,800.00\n",
       "16    $151,007.14\n",
       "17              -\n",
       "18     $18,164.00\n",
       "19              -\n",
       "Name: WINNINGS, dtype: object"
      ]
     },
     "execution_count": 36,
     "metadata": {},
     "output_type": "execute_result"
    }
   ],
   "source": [
    "winnings = dataframe2['WINNINGS']\n",
    "winnings"
   ]
  },
  {
   "cell_type": "code",
   "execution_count": 37,
   "id": "235e6836",
   "metadata": {},
   "outputs": [
    {
     "data": {
      "text/plain": [
       "0      88305.00\n",
       "1     102000.00\n",
       "2             0\n",
       "3     355000.00\n",
       "4     288120.00\n",
       "5      42600.00\n",
       "6     114166.67\n",
       "7     113761.91\n",
       "8     261000.00\n",
       "9      41600.00\n",
       "10            0\n",
       "11    365000.00\n",
       "12    275500.00\n",
       "13     28530.00\n",
       "14    200152.00\n",
       "15    245800.00\n",
       "16    151007.14\n",
       "17            0\n",
       "18     18164.00\n",
       "19            0\n",
       "Name: WINNINGS, dtype: object"
      ]
     },
     "execution_count": 37,
     "metadata": {},
     "output_type": "execute_result"
    }
   ],
   "source": [
    "dataframe2['WINNINGS'] = dataframe2['WINNINGS'].replace({r'\\$':''}, regex = True)\n",
    "dataframe2['WINNINGS'] = dataframe2['WINNINGS'].replace({r'\\,':''}, regex = True)\n",
    "dataframe2['WINNINGS'] = dataframe2['WINNINGS'].replace({r'\\-':'0'}, regex = True)\n",
    "winnings = dataframe2['WINNINGS']\n",
    "winnings"
   ]
  },
  {
   "cell_type": "code",
   "execution_count": 38,
   "id": "cc89b4d8",
   "metadata": {},
   "outputs": [
    {
     "data": {
      "text/plain": [
       "0      88305.00\n",
       "1     102000.00\n",
       "2          0.00\n",
       "3     355000.00\n",
       "4     288120.00\n",
       "5      42600.00\n",
       "6     114166.67\n",
       "7     113761.91\n",
       "8     261000.00\n",
       "9      41600.00\n",
       "10         0.00\n",
       "11    365000.00\n",
       "12    275500.00\n",
       "13     28530.00\n",
       "14    200152.00\n",
       "15    245800.00\n",
       "16    151007.14\n",
       "17         0.00\n",
       "18     18164.00\n",
       "19         0.00\n",
       "Name: WINNINGS, dtype: float64"
      ]
     },
     "execution_count": 38,
     "metadata": {},
     "output_type": "execute_result"
    }
   ],
   "source": [
    "dataframe2['WINNINGS'] = pd.to_numeric(dataframe2['WINNINGS'])\n",
    "dataframe2['WINNINGS']"
   ]
  },
  {
   "cell_type": "code",
   "execution_count": 39,
   "id": "da275bfb",
   "metadata": {},
   "outputs": [
    {
     "data": {
      "text/plain": [
       "<AxesSubplot:xlabel='datetime', ylabel='WINNINGS'>"
      ]
     },
     "execution_count": 39,
     "metadata": {},
     "output_type": "execute_result"
    },
    {
     "data": {
      "image/png": "[encoded data removed]",
      "text/plain": [
       "<Figure size 640x480 with 1 Axes>"
      ]
     },
     "metadata": {},
     "output_type": "display_data"
    }
   ],
   "source": [
    "sns.lineplot(data=dataframe2, x=\"datetime\", y=\"WINNINGS\")"
   ]
  },
  {
   "cell_type": "code",
   "execution_count": 40,
   "id": "ea759d78",
   "metadata": {},
   "outputs": [
    {
     "data": {
      "text/plain": [
       "134535.336"
      ]
     },
     "execution_count": 40,
     "metadata": {},
     "output_type": "execute_result"
    }
   ],
   "source": [
    "mean = dataframe2.WINNINGS.mean()\n",
    "mean"
   ]
  },
  {
   "cell_type": "code",
   "execution_count": 41,
   "id": "9682ebe1",
   "metadata": {},
   "outputs": [
    {
     "data": {
      "text/plain": [
       "124907.89379401015"
      ]
     },
     "execution_count": 41,
     "metadata": {},
     "output_type": "execute_result"
    }
   ],
   "source": [
    "sigma = dataframe2.WINNINGS.std()\n",
    "sigma"
   ]
  },
  {
   "cell_type": "code",
   "execution_count": 42,
   "id": "88f246b7",
   "metadata": {},
   "outputs": [
    {
     "data": {
      "text/html": [
       "<div>\n",
       "<style scoped>\n",
       "    .dataframe tbody tr th:only-of-type {\n",
       "        vertical-align: middle;\n",
       "    }\n",
       "\n",
       "    .dataframe tbody tr th {\n",
       "        vertical-align: top;\n",
       "    }\n",
       "\n",
       "    .dataframe thead th {\n",
       "        text-align: right;\n",
       "    }\n",
       "</style>\n",
       "<table border=\"1\" class=\"dataframe\">\n",
       "  <thead>\n",
       "    <tr style=\"text-align: right;\">\n",
       "      <th></th>\n",
       "      <th>0</th>\n",
       "    </tr>\n",
       "  </thead>\n",
       "  <tbody>\n",
       "    <tr>\n",
       "      <th>2022-10-23</th>\n",
       "      <td>134816</td>\n",
       "    </tr>\n",
       "    <tr>\n",
       "      <th>2022-10-30</th>\n",
       "      <td>135015</td>\n",
       "    </tr>\n",
       "    <tr>\n",
       "      <th>2022-11-06</th>\n",
       "      <td>134566</td>\n",
       "    </tr>\n",
       "    <tr>\n",
       "      <th>2022-11-13</th>\n",
       "      <td>134732</td>\n",
       "    </tr>\n",
       "    <tr>\n",
       "      <th>2022-11-20</th>\n",
       "      <td>134174</td>\n",
       "    </tr>\n",
       "  </tbody>\n",
       "</table>\n",
       "</div>"
      ],
      "text/plain": [
       "                 0\n",
       "2022-10-23  134816\n",
       "2022-10-30  135015\n",
       "2022-11-06  134566\n",
       "2022-11-13  134732\n",
       "2022-11-20  134174"
      ]
     },
     "execution_count": 42,
     "metadata": {},
     "output_type": "execute_result"
    }
   ],
   "source": [
    "rng = np.random.default_rng() \n",
    "d = rng.poisson(mean, len(dti))\n",
    "df = pd.DataFrame(data=d, index = dti)\n",
    "df.head()"
   ]
  },
  {
   "cell_type": "code",
   "execution_count": 43,
   "id": "408e900a",
   "metadata": {},
   "outputs": [
    {
     "data": {
      "text/html": [
       "<div>\n",
       "<style scoped>\n",
       "    .dataframe tbody tr th:only-of-type {\n",
       "        vertical-align: middle;\n",
       "    }\n",
       "\n",
       "    .dataframe tbody tr th {\n",
       "        vertical-align: top;\n",
       "    }\n",
       "\n",
       "    .dataframe thead th {\n",
       "        text-align: right;\n",
       "    }\n",
       "</style>\n",
       "<table border=\"1\" class=\"dataframe\">\n",
       "  <thead>\n",
       "    <tr style=\"text-align: right;\">\n",
       "      <th></th>\n",
       "      <th>WINNINGS</th>\n",
       "    </tr>\n",
       "  </thead>\n",
       "  <tbody>\n",
       "    <tr>\n",
       "      <th>2022-10-23</th>\n",
       "      <td>134816</td>\n",
       "    </tr>\n",
       "    <tr>\n",
       "      <th>2022-10-30</th>\n",
       "      <td>135015</td>\n",
       "    </tr>\n",
       "    <tr>\n",
       "      <th>2022-11-06</th>\n",
       "      <td>134566</td>\n",
       "    </tr>\n",
       "    <tr>\n",
       "      <th>2022-11-13</th>\n",
       "      <td>134732</td>\n",
       "    </tr>\n",
       "    <tr>\n",
       "      <th>2022-11-20</th>\n",
       "      <td>134174</td>\n",
       "    </tr>\n",
       "  </tbody>\n",
       "</table>\n",
       "</div>"
      ],
      "text/plain": [
       "            WINNINGS\n",
       "2022-10-23    134816\n",
       "2022-10-30    135015\n",
       "2022-11-06    134566\n",
       "2022-11-13    134732\n",
       "2022-11-20    134174"
      ]
     },
     "execution_count": 43,
     "metadata": {},
     "output_type": "execute_result"
    }
   ],
   "source": [
    "df.columns =['WINNINGS']\n",
    "df.head()"
   ]
  },
  {
   "cell_type": "code",
   "execution_count": 44,
   "id": "1034073a",
   "metadata": {},
   "outputs": [
    {
     "data": {
      "text/plain": [
       "<AxesSubplot:ylabel='WINNINGS'>"
      ]
     },
     "execution_count": 44,
     "metadata": {},
     "output_type": "execute_result"
    },
    {
     "data": {
      "image/png": "[encoded data removed]",
      "text/plain": [
       "<Figure size 640x480 with 1 Axes>"
      ]
     },
     "metadata": {},
     "output_type": "display_data"
    }
   ],
   "source": [
    "sns.lineplot(data=df, x=df.index, y=\"WINNINGS\")"
   ]
  },
  {
   "cell_type": "code",
   "execution_count": 45,
   "id": "f750f397",
   "metadata": {},
   "outputs": [
    {
     "data": {
      "text/plain": [
       "<AxesSubplot:>"
      ]
     },
     "execution_count": 45,
     "metadata": {},
     "output_type": "execute_result"
    },
    {
     "data": {
      "image/png": "[encoded data removed]",
      "text/plain": [
       "<Figure size 640x480 with 1 Axes>"
      ]
     },
     "metadata": {},
     "output_type": "display_data"
    }
   ],
   "source": [
    "df.plot(y=\"WINNINGS\")"
   ]
  },
  {
   "cell_type": "code",
   "execution_count": 46,
   "id": "74616ffb",
   "metadata": {},
   "outputs": [
    {
     "data": {
      "text/html": [
       "<div>\n",
       "<style scoped>\n",
       "    .dataframe tbody tr th:only-of-type {\n",
       "        vertical-align: middle;\n",
       "    }\n",
       "\n",
       "    .dataframe tbody tr th {\n",
       "        vertical-align: top;\n",
       "    }\n",
       "\n",
       "    .dataframe thead th {\n",
       "        text-align: right;\n",
       "    }\n",
       "</style>\n",
       "<table border=\"1\" class=\"dataframe\">\n",
       "  <thead>\n",
       "    <tr style=\"text-align: right;\">\n",
       "      <th></th>\n",
       "      <th>0</th>\n",
       "    </tr>\n",
       "  </thead>\n",
       "  <tbody>\n",
       "    <tr>\n",
       "      <th>2022-10-23</th>\n",
       "      <td>-2718.787487</td>\n",
       "    </tr>\n",
       "    <tr>\n",
       "      <th>2022-10-30</th>\n",
       "      <td>271476.857857</td>\n",
       "    </tr>\n",
       "    <tr>\n",
       "      <th>2022-11-06</th>\n",
       "      <td>92208.956941</td>\n",
       "    </tr>\n",
       "    <tr>\n",
       "      <th>2022-11-13</th>\n",
       "      <td>386581.806947</td>\n",
       "    </tr>\n",
       "    <tr>\n",
       "      <th>2022-11-20</th>\n",
       "      <td>43394.516939</td>\n",
       "    </tr>\n",
       "  </tbody>\n",
       "</table>\n",
       "</div>"
      ],
      "text/plain": [
       "                        0\n",
       "2022-10-23   -2718.787487\n",
       "2022-10-30  271476.857857\n",
       "2022-11-06   92208.956941\n",
       "2022-11-13  386581.806947\n",
       "2022-11-20   43394.516939"
      ]
     },
     "execution_count": 46,
     "metadata": {},
     "output_type": "execute_result"
    }
   ],
   "source": [
    "d = rng.normal(mean,sigma,len(dti))\n",
    "df = pd.DataFrame(data=d, index = dti)\n",
    "df.head()"
   ]
  },
  {
   "cell_type": "code",
   "execution_count": 47,
   "id": "17112d73",
   "metadata": {},
   "outputs": [
    {
     "data": {
      "text/html": [
       "<div>\n",
       "<style scoped>\n",
       "    .dataframe tbody tr th:only-of-type {\n",
       "        vertical-align: middle;\n",
       "    }\n",
       "\n",
       "    .dataframe tbody tr th {\n",
       "        vertical-align: top;\n",
       "    }\n",
       "\n",
       "    .dataframe thead th {\n",
       "        text-align: right;\n",
       "    }\n",
       "</style>\n",
       "<table border=\"1\" class=\"dataframe\">\n",
       "  <thead>\n",
       "    <tr style=\"text-align: right;\">\n",
       "      <th></th>\n",
       "      <th>WINNINGS</th>\n",
       "    </tr>\n",
       "  </thead>\n",
       "  <tbody>\n",
       "    <tr>\n",
       "      <th>2022-10-23</th>\n",
       "      <td>-2718.787487</td>\n",
       "    </tr>\n",
       "    <tr>\n",
       "      <th>2022-10-30</th>\n",
       "      <td>271476.857857</td>\n",
       "    </tr>\n",
       "    <tr>\n",
       "      <th>2022-11-06</th>\n",
       "      <td>92208.956941</td>\n",
       "    </tr>\n",
       "    <tr>\n",
       "      <th>2022-11-13</th>\n",
       "      <td>386581.806947</td>\n",
       "    </tr>\n",
       "    <tr>\n",
       "      <th>2022-11-20</th>\n",
       "      <td>43394.516939</td>\n",
       "    </tr>\n",
       "  </tbody>\n",
       "</table>\n",
       "</div>"
      ],
      "text/plain": [
       "                 WINNINGS\n",
       "2022-10-23   -2718.787487\n",
       "2022-10-30  271476.857857\n",
       "2022-11-06   92208.956941\n",
       "2022-11-13  386581.806947\n",
       "2022-11-20   43394.516939"
      ]
     },
     "execution_count": 47,
     "metadata": {},
     "output_type": "execute_result"
    }
   ],
   "source": [
    "df.columns =['WINNINGS']\n",
    "df.head()"
   ]
  },
  {
   "cell_type": "code",
   "execution_count": 48,
   "id": "f92db9c8",
   "metadata": {},
   "outputs": [
    {
     "data": {
      "text/plain": [
       "<AxesSubplot:>"
      ]
     },
     "execution_count": 48,
     "metadata": {},
     "output_type": "execute_result"
    },
    {
     "data": {
      "image/png": "[encoded data removed]",
      "text/plain": [
       "<Figure size 640x480 with 1 Axes>"
      ]
     },
     "metadata": {},
     "output_type": "display_data"
    }
   ],
   "source": [
    "df.plot(y=\"WINNINGS\")"
   ]
  },
  {
   "cell_type": "code",
   "execution_count": 49,
   "id": "301076fa",
   "metadata": {},
   "outputs": [
    {
     "data": {
      "text/plain": [
       "<AxesSubplot:ylabel='WINNINGS'>"
      ]
     },
     "execution_count": 49,
     "metadata": {},
     "output_type": "execute_result"
    },
    {
     "data": {
      "image/png": "[encoded data removed]",
      "text/plain": [
       "<Figure size 640x480 with 1 Axes>"
      ]
     },
     "metadata": {},
     "output_type": "display_data"
    }
   ],
   "source": [
    "sns.lineplot(data=df, x=df.index, y=\"WINNINGS\")"
   ]
  },
  {
   "cell_type": "code",
   "execution_count": 50,
   "id": "c7c94311",
   "metadata": {},
   "outputs": [],
   "source": [
    "def f(x):\n",
    "  A = 1.0 / np.sqrt(2.0 * np.pi)\n",
    "  B = np.exp(-(x**2) / 2.0)\n",
    "  return A * B"
   ]
  },
  {
   "cell_type": "code",
   "execution_count": 51,
   "id": "e5e8b5a0",
   "metadata": {},
   "outputs": [
    {
     "data": {
      "text/plain": [
       "0.3989422804014327"
      ]
     },
     "execution_count": 51,
     "metadata": {},
     "output_type": "execute_result"
    }
   ],
   "source": [
    "f(0.0)"
   ]
  },
  {
   "cell_type": "code",
   "execution_count": 52,
   "id": "454c628c",
   "metadata": {},
   "outputs": [
    {
     "data": {
      "text/plain": [
       "0.0044318484119380075"
      ]
     },
     "execution_count": 52,
     "metadata": {},
     "output_type": "execute_result"
    }
   ],
   "source": [
    "f(3.0)"
   ]
  },
  {
   "cell_type": "code",
   "execution_count": 53,
   "id": "44cbbc02",
   "metadata": {},
   "outputs": [
    {
     "data": {
      "text/plain": [
       "0.0"
      ]
     },
     "execution_count": 53,
     "metadata": {},
     "output_type": "execute_result"
    }
   ],
   "source": [
    "f(300.0)"
   ]
  },
  {
   "cell_type": "code",
   "execution_count": 54,
   "id": "1af6b88d",
   "metadata": {},
   "outputs": [
    {
     "data": {
      "image/png": "[encoded data removed]",
      "text/plain": [
       "<Figure size 1200x400 with 1 Axes>"
      ]
     },
     "metadata": {},
     "output_type": "display_data"
    }
   ],
   "source": [
    "# Range of x values for plotting.\n",
    "x = np.linspace(-5.0, 5.0, 1001)\n",
    "\n",
    "# Create empty plot.\n",
    "fig, ax = plt.subplots(figsize=(12, 4))\n",
    "\n",
    "# Plot f(x).\n",
    "ax.plot(x, f(x));"
   ]
  },
  {
   "cell_type": "code",
   "execution_count": 55,
   "id": "81c028a8",
   "metadata": {},
   "outputs": [
    {
     "data": {
      "image/png": "[encoded data removed]",
      "text/plain": [
       "<Figure size 1200x400 with 1 Axes>"
      ]
     },
     "metadata": {},
     "output_type": "display_data"
    }
   ],
   "source": [
    "# Range of x values for plotting.\n",
    "x = np.linspace(250.0, 350.0,350)\n",
    "y=  np.random.normal(300,20,350)\n",
    "\n",
    "# Create empty plot.\n",
    "fig, ax = plt.subplots(figsize=(12, 4))\n",
    "\n",
    "# Plot f(x).\n",
    "ax.hist(x)\n",
    "\n",
    "# Plot histogram of randomly generated normal values from above.\n",
    "ax.plot(x, y)\n",
    "\n",
    "plt.show()"
   ]
  },
  {
   "cell_type": "code",
   "execution_count": 56,
   "id": "812b1dba",
   "metadata": {
    "scrolled": true
   },
   "outputs": [
    {
     "data": {
      "text/plain": [
       "13"
      ]
     },
     "execution_count": 56,
     "metadata": {},
     "output_type": "execute_result"
    }
   ],
   "source": [
    "import numpy as np\n",
    "rng.integers(10,25)"
   ]
  },
  {
   "cell_type": "code",
   "execution_count": 57,
   "id": "bee009cd",
   "metadata": {},
   "outputs": [
    {
     "data": {
      "text/plain": [
       "array([64,  4, 55, 27, 34, 73,  5,  9, 76, 93], dtype=int64)"
      ]
     },
     "execution_count": 57,
     "metadata": {},
     "output_type": "execute_result"
    }
   ],
   "source": [
    "rng.integers(100, size=10)"
   ]
  },
  {
   "cell_type": "code",
   "execution_count": 58,
   "id": "cc6b2daa",
   "metadata": {},
   "outputs": [
    {
     "data": {
      "text/plain": [
       "array([84, 95, 84, 90, 86, 92, 51, 65, 53, 99], dtype=int64)"
      ]
     },
     "execution_count": 58,
     "metadata": {},
     "output_type": "execute_result"
    }
   ],
   "source": [
    "rng.integers(50,100, size=10)"
   ]
  },
  {
   "cell_type": "code",
   "execution_count": 59,
   "id": "8957aebb",
   "metadata": {},
   "outputs": [
    {
     "data": {
      "text/plain": [
       "array([[32, 23, 27,  1],\n",
       "       [22, 62, 69, 59]], dtype=int64)"
      ]
     },
     "execution_count": 59,
     "metadata": {},
     "output_type": "execute_result"
    }
   ],
   "source": [
    "rng.integers(100, size=(2,4))"
   ]
  },
  {
   "cell_type": "code",
   "execution_count": 60,
   "id": "191be29f",
   "metadata": {},
   "outputs": [
    {
     "data": {
      "text/plain": [
       "0.4914394806517427"
      ]
     },
     "execution_count": 60,
     "metadata": {},
     "output_type": "execute_result"
    }
   ],
   "source": [
    "rng.random()"
   ]
  },
  {
   "cell_type": "code",
   "execution_count": 61,
   "id": "4e63d121",
   "metadata": {},
   "outputs": [
    {
     "data": {
      "text/plain": [
       "array([0.16293358, 0.01495237, 0.77820837, 0.83072391, 0.48908216])"
      ]
     },
     "execution_count": 61,
     "metadata": {},
     "output_type": "execute_result"
    }
   ],
   "source": [
    "rng.random(5)"
   ]
  },
  {
   "cell_type": "code",
   "execution_count": 62,
   "id": "feecd71f",
   "metadata": {},
   "outputs": [
    {
     "data": {
      "text/plain": [
       "array([[0.48584637, 0.58867073, 0.72076735, 0.49320238],\n",
       "       [0.83008578, 0.14970548, 0.43151122, 0.8642042 ],\n",
       "       [0.46206898, 0.64960551, 0.4138172 , 0.02301433],\n",
       "       [0.11517022, 0.09833888, 0.09187915, 0.93341787],\n",
       "       [0.4020983 , 0.68238073, 0.6933296 , 0.28053985]])"
      ]
     },
     "execution_count": 62,
     "metadata": {},
     "output_type": "execute_result"
    }
   ],
   "source": [
    "rng.random((5,4))"
   ]
  },
  {
   "cell_type": "code",
   "execution_count": 63,
   "id": "51464077",
   "metadata": {},
   "outputs": [
    {
     "data": {
      "text/plain": [
       "array([0.33885887, 0.38709584, 0.3638781 , ..., 0.35991126, 0.7266194 ,\n",
       "       0.81609183])"
      ]
     },
     "execution_count": 63,
     "metadata": {},
     "output_type": "execute_result"
    }
   ],
   "source": [
    "x = rng.random(1000000)\n",
    "x"
   ]
  },
  {
   "cell_type": "code",
   "execution_count": 64,
   "id": "b723593d",
   "metadata": {},
   "outputs": [
    {
     "data": {
      "image/png": "[encoded data removed]",
      "text/plain": [
       "<Figure size 640x480 with 1 Axes>"
      ]
     },
     "metadata": {},
     "output_type": "display_data"
    }
   ],
   "source": [
    "import matplotlib.pyplot as plt\n",
    "plt.hist(x)\n",
    "plt.show()"
   ]
  },
  {
   "cell_type": "code",
   "execution_count": 65,
   "id": "299fd182",
   "metadata": {},
   "outputs": [
    {
     "name": "stdout",
     "output_type": "stream",
     "text": [
      "0.6522992627009107\n"
     ]
    }
   ],
   "source": [
    "rng = np.random.default_rng(seed=43)\n",
    "x = rng.random()\n",
    "print(x)"
   ]
  },
  {
   "cell_type": "code",
   "execution_count": 66,
   "id": "24b45be7",
   "metadata": {},
   "outputs": [
    {
     "name": "stdout",
     "output_type": "stream",
     "text": [
      "6\n"
     ]
    }
   ],
   "source": [
    "rng = np.random.default_rng(seed=44)\n",
    "x = rng.integers(10)\n",
    "print(x)"
   ]
  },
  {
   "cell_type": "code",
   "execution_count": 67,
   "id": "f9bb8a58",
   "metadata": {},
   "outputs": [
    {
     "name": "stdout",
     "output_type": "stream",
     "text": [
      "[[0.65229926 0.04377532 0.02002959 0.83921258]\n",
      " [0.58714305 0.22470523 0.75179227 0.2636922 ]]\n"
     ]
    }
   ],
   "source": [
    "rng = np.random.default_rng(seed=43)\n",
    "x = rng.random((2,4))\n",
    "print(x)"
   ]
  },
  {
   "cell_type": "code",
   "execution_count": 68,
   "id": "25e7a0e0",
   "metadata": {},
   "outputs": [
    {
     "name": "stdout",
     "output_type": "stream",
     "text": [
      "[[75 82 70]\n",
      " [52 78 51]\n",
      " [63 91 73]]\n"
     ]
    }
   ],
   "source": [
    "rng = np.random.default_rng(seed=43)\n",
    "x = rng.integers(50,100,size=(3,3))\n",
    "print(x)"
   ]
  }
 ],
 "metadata": {
  "kernelspec": {
   "display_name": "Python 3 (ipykernel)",
   "language": "python",
   "name": "python3"
  },
  "language_info": {
   "codemirror_mode": {
    "name": "ipython",
    "version": 3
   },
   "file_extension": ".py",
   "mimetype": "text/x-python",
   "name": "python",
   "nbconvert_exporter": "python",
   "pygments_lexer": "ipython3",
   "version": "3.9.13"
  }
 },
 "nbformat": 4,
 "nbformat_minor": 5
}
