{
 "cells": [
  {
   "cell_type": "markdown",
   "id": "64987554",
   "metadata": {},
   "source": [
    "# Programming for Data Analysis Assignment"
   ]
  },
  {
   "cell_type": "code",
   "execution_count": 1,
   "id": "32c66952",
   "metadata": {},
   "outputs": [
    {
     "data": {
      "text/html": [
       "<div>\n",
       "<style scoped>\n",
       "    .dataframe tbody tr th:only-of-type {\n",
       "        vertical-align: middle;\n",
       "    }\n",
       "\n",
       "    .dataframe tbody tr th {\n",
       "        vertical-align: top;\n",
       "    }\n",
       "\n",
       "    .dataframe thead th {\n",
       "        text-align: right;\n",
       "    }\n",
       "</style>\n",
       "<table border=\"1\" class=\"dataframe\">\n",
       "  <thead>\n",
       "    <tr style=\"text-align: right;\">\n",
       "      <th></th>\n",
       "      <th>RANK</th>\n",
       "      <th>MOVEMENT</th>\n",
       "      <th>PLAYER_ID</th>\n",
       "      <th>PLAYER</th>\n",
       "      <th>AVG</th>\n",
       "      <th>TOTAL STROKES</th>\n",
       "      <th>TOTAL ADJUSTMENT</th>\n",
       "      <th>TOTAL ROUNDS</th>\n",
       "    </tr>\n",
       "  </thead>\n",
       "  <tbody>\n",
       "    <tr>\n",
       "      <th>0</th>\n",
       "      <td>1</td>\n",
       "      <td>0</td>\n",
       "      <td>46046</td>\n",
       "      <td>Scottie Scheffler</td>\n",
       "      <td>68.629</td>\n",
       "      <td>6007</td>\n",
       "      <td>32.329</td>\n",
       "      <td>88</td>\n",
       "    </tr>\n",
       "    <tr>\n",
       "      <th>1</th>\n",
       "      <td>2</td>\n",
       "      <td>0</td>\n",
       "      <td>28237</td>\n",
       "      <td>Rory McIlroy</td>\n",
       "      <td>68.777</td>\n",
       "      <td>4411</td>\n",
       "      <td>-9.244</td>\n",
       "      <td>64</td>\n",
       "    </tr>\n",
       "    <tr>\n",
       "      <th>2</th>\n",
       "      <td>3</td>\n",
       "      <td>0</td>\n",
       "      <td>46970</td>\n",
       "      <td>Jon Rahm</td>\n",
       "      <td>69.037</td>\n",
       "      <td>4886</td>\n",
       "      <td>15.615</td>\n",
       "      <td>71</td>\n",
       "    </tr>\n",
       "    <tr>\n",
       "      <th>3</th>\n",
       "      <td>4</td>\n",
       "      <td>0</td>\n",
       "      <td>46717</td>\n",
       "      <td>Viktor Hovland</td>\n",
       "      <td>69.123</td>\n",
       "      <td>6065</td>\n",
       "      <td>17.843</td>\n",
       "      <td>88</td>\n",
       "    </tr>\n",
       "    <tr>\n",
       "      <th>4</th>\n",
       "      <td>5</td>\n",
       "      <td>0</td>\n",
       "      <td>48081</td>\n",
       "      <td>Xander Schauffele</td>\n",
       "      <td>69.127</td>\n",
       "      <td>5595</td>\n",
       "      <td>4.323</td>\n",
       "      <td>81</td>\n",
       "    </tr>\n",
       "    <tr>\n",
       "      <th>...</th>\n",
       "      <td>...</td>\n",
       "      <td>...</td>\n",
       "      <td>...</td>\n",
       "      <td>...</td>\n",
       "      <td>...</td>\n",
       "      <td>...</td>\n",
       "      <td>...</td>\n",
       "      <td>...</td>\n",
       "    </tr>\n",
       "    <tr>\n",
       "      <th>184</th>\n",
       "      <td>185</td>\n",
       "      <td>-2</td>\n",
       "      <td>51950</td>\n",
       "      <td>Max McGreevy</td>\n",
       "      <td>72.603</td>\n",
       "      <td>6170</td>\n",
       "      <td>73.869</td>\n",
       "      <td>86</td>\n",
       "    </tr>\n",
       "    <tr>\n",
       "      <th>185</th>\n",
       "      <td>186</td>\n",
       "      <td>-2</td>\n",
       "      <td>28420</td>\n",
       "      <td>Ryan Brehm</td>\n",
       "      <td>72.739</td>\n",
       "      <td>5740</td>\n",
       "      <td>79.134</td>\n",
       "      <td>80</td>\n",
       "    </tr>\n",
       "    <tr>\n",
       "      <th>186</th>\n",
       "      <td>187</td>\n",
       "      <td>-2</td>\n",
       "      <td>32662</td>\n",
       "      <td>Michael Gligic</td>\n",
       "      <td>72.775</td>\n",
       "      <td>4953</td>\n",
       "      <td>68.445</td>\n",
       "      <td>69</td>\n",
       "    </tr>\n",
       "    <tr>\n",
       "      <th>187</th>\n",
       "      <td>188</td>\n",
       "      <td>-2</td>\n",
       "      <td>27095</td>\n",
       "      <td>Nick Watney</td>\n",
       "      <td>72.936</td>\n",
       "      <td>5052</td>\n",
       "      <td>53.529</td>\n",
       "      <td>70</td>\n",
       "    </tr>\n",
       "    <tr>\n",
       "      <th>188</th>\n",
       "      <td>189</td>\n",
       "      <td>-2</td>\n",
       "      <td>51491</td>\n",
       "      <td>Brandon Matthews</td>\n",
       "      <td>73.153</td>\n",
       "      <td>4262</td>\n",
       "      <td>54.054</td>\n",
       "      <td>59</td>\n",
       "    </tr>\n",
       "  </tbody>\n",
       "</table>\n",
       "<p>189 rows × 8 columns</p>\n",
       "</div>"
      ],
      "text/plain": [
       "     RANK  MOVEMENT  PLAYER_ID             PLAYER     AVG  TOTAL STROKES  \\\n",
       "0       1         0      46046  Scottie Scheffler  68.629           6007   \n",
       "1       2         0      28237       Rory McIlroy  68.777           4411   \n",
       "2       3         0      46970           Jon Rahm  69.037           4886   \n",
       "3       4         0      46717     Viktor Hovland  69.123           6065   \n",
       "4       5         0      48081  Xander Schauffele  69.127           5595   \n",
       "..    ...       ...        ...                ...     ...            ...   \n",
       "184   185        -2      51950       Max McGreevy  72.603           6170   \n",
       "185   186        -2      28420         Ryan Brehm  72.739           5740   \n",
       "186   187        -2      32662     Michael Gligic  72.775           4953   \n",
       "187   188        -2      27095        Nick Watney  72.936           5052   \n",
       "188   189        -2      51491   Brandon Matthews  73.153           4262   \n",
       "\n",
       "     TOTAL ADJUSTMENT  TOTAL ROUNDS  \n",
       "0              32.329            88  \n",
       "1              -9.244            64  \n",
       "2              15.615            71  \n",
       "3              17.843            88  \n",
       "4               4.323            81  \n",
       "..                ...           ...  \n",
       "184            73.869            86  \n",
       "185            79.134            80  \n",
       "186            68.445            69  \n",
       "187            53.529            70  \n",
       "188            54.054            59  \n",
       "\n",
       "[189 rows x 8 columns]"
      ]
     },
     "execution_count": 1,
     "metadata": {},
     "output_type": "execute_result"
    }
   ],
   "source": [
    "import numpy as np\n",
    "import pandas as pd\n",
    "\n",
    "# https://www.pgatour.com/stats/detail/120\n",
    "df = pd.read_csv('pgatour_golfstats_2022-2023_averagescore.csv')\n",
    "df"
   ]
  },
  {
   "cell_type": "code",
   "execution_count": 2,
   "id": "4e990503",
   "metadata": {},
   "outputs": [
    {
     "data": {
      "image/png": "[encoded data removed]",
      "text/plain": [
       "<Figure size 640x480 with 1 Axes>"
      ]
     },
     "metadata": {},
     "output_type": "display_data"
    }
   ],
   "source": [
    "import matplotlib.pyplot as plt\n",
    "x = df.AVG\n",
    "plt.plot(df.AVG)\n",
    "plt.show()"
   ]
  },
  {
   "cell_type": "code",
   "execution_count": 3,
   "id": "7906d4e6",
   "metadata": {},
   "outputs": [
    {
     "data": {
      "image/png": "[encoded data removed]",
      "text/plain": [
       "<Figure size 640x480 with 1 Axes>"
      ]
     },
     "metadata": {},
     "output_type": "display_data"
    }
   ],
   "source": [
    "# Plot Average Score data from pgatour_golfstats_2022-2023_averagescore.csv\n",
    "plt.hist(x, bins=10)\n",
    "plt.show()"
   ]
  },
  {
   "cell_type": "code",
   "execution_count": 4,
   "id": "94dde84a",
   "metadata": {},
   "outputs": [
    {
     "data": {
      "text/plain": [
       "0      68.629\n",
       "1      68.777\n",
       "2      69.037\n",
       "3      69.123\n",
       "4      69.127\n",
       "        ...  \n",
       "184    72.603\n",
       "185    72.739\n",
       "186    72.775\n",
       "187    72.936\n",
       "188    73.153\n",
       "Name: AVG, Length: 189, dtype: float64"
      ]
     },
     "execution_count": 4,
     "metadata": {},
     "output_type": "execute_result"
    }
   ],
   "source": [
    "df.AVG"
   ]
  },
  {
   "cell_type": "code",
   "execution_count": 5,
   "id": "7d9ba81a",
   "metadata": {},
   "outputs": [
    {
     "data": {
      "text/plain": [
       "0.8301339718593281"
      ]
     },
     "execution_count": 5,
     "metadata": {},
     "output_type": "execute_result"
    }
   ],
   "source": [
    "std = df.AVG.std()\n",
    "std"
   ]
  },
  {
   "cell_type": "code",
   "execution_count": 6,
   "id": "a127e546",
   "metadata": {},
   "outputs": [
    {
     "data": {
      "text/plain": [
       "70.96867724867725"
      ]
     },
     "execution_count": 6,
     "metadata": {},
     "output_type": "execute_result"
    }
   ],
   "source": [
    "mean = df.AVG.mean()\n",
    "mean"
   ]
  },
  {
   "cell_type": "code",
   "execution_count": 7,
   "id": "4faa1f17",
   "metadata": {},
   "outputs": [
    {
     "data": {
      "text/html": [
       "<div>\n",
       "<style scoped>\n",
       "    .dataframe tbody tr th:only-of-type {\n",
       "        vertical-align: middle;\n",
       "    }\n",
       "\n",
       "    .dataframe tbody tr th {\n",
       "        vertical-align: top;\n",
       "    }\n",
       "\n",
       "    .dataframe thead th {\n",
       "        text-align: right;\n",
       "    }\n",
       "</style>\n",
       "<table border=\"1\" class=\"dataframe\">\n",
       "  <thead>\n",
       "    <tr style=\"text-align: right;\">\n",
       "      <th></th>\n",
       "      <th>RANK</th>\n",
       "      <th>MOVEMENT</th>\n",
       "      <th>PLAYER_ID</th>\n",
       "      <th>AVG</th>\n",
       "      <th>TOTAL STROKES</th>\n",
       "      <th>TOTAL ADJUSTMENT</th>\n",
       "      <th>TOTAL ROUNDS</th>\n",
       "    </tr>\n",
       "  </thead>\n",
       "  <tbody>\n",
       "    <tr>\n",
       "      <th>count</th>\n",
       "      <td>189.000000</td>\n",
       "      <td>189.000000</td>\n",
       "      <td>189.000000</td>\n",
       "      <td>189.000000</td>\n",
       "      <td>189.000000</td>\n",
       "      <td>189.000000</td>\n",
       "      <td>189.000000</td>\n",
       "    </tr>\n",
       "    <tr>\n",
       "      <th>mean</th>\n",
       "      <td>94.957672</td>\n",
       "      <td>-0.449735</td>\n",
       "      <td>39114.994709</td>\n",
       "      <td>70.968677</td>\n",
       "      <td>5977.037037</td>\n",
       "      <td>53.245196</td>\n",
       "      <td>85.026455</td>\n",
       "    </tr>\n",
       "    <tr>\n",
       "      <th>std</th>\n",
       "      <td>54.705579</td>\n",
       "      <td>3.487647</td>\n",
       "      <td>10294.967774</td>\n",
       "      <td>0.830134</td>\n",
       "      <td>1123.886273</td>\n",
       "      <td>26.348952</td>\n",
       "      <td>16.241670</td>\n",
       "    </tr>\n",
       "    <tr>\n",
       "      <th>min</th>\n",
       "      <td>1.000000</td>\n",
       "      <td>-13.000000</td>\n",
       "      <td>12716.000000</td>\n",
       "      <td>68.629000</td>\n",
       "      <td>3198.000000</td>\n",
       "      <td>-18.811000</td>\n",
       "      <td>45.000000</td>\n",
       "    </tr>\n",
       "    <tr>\n",
       "      <th>25%</th>\n",
       "      <td>48.000000</td>\n",
       "      <td>-2.000000</td>\n",
       "      <td>31560.000000</td>\n",
       "      <td>70.461000</td>\n",
       "      <td>5217.000000</td>\n",
       "      <td>35.723000</td>\n",
       "      <td>74.000000</td>\n",
       "    </tr>\n",
       "    <tr>\n",
       "      <th>50%</th>\n",
       "      <td>94.000000</td>\n",
       "      <td>0.000000</td>\n",
       "      <td>36699.000000</td>\n",
       "      <td>70.966000</td>\n",
       "      <td>6065.000000</td>\n",
       "      <td>55.784000</td>\n",
       "      <td>86.000000</td>\n",
       "    </tr>\n",
       "    <tr>\n",
       "      <th>75%</th>\n",
       "      <td>142.000000</td>\n",
       "      <td>2.000000</td>\n",
       "      <td>48117.000000</td>\n",
       "      <td>71.524000</td>\n",
       "      <td>6799.000000</td>\n",
       "      <td>73.356000</td>\n",
       "      <td>96.000000</td>\n",
       "    </tr>\n",
       "    <tr>\n",
       "      <th>max</th>\n",
       "      <td>189.000000</td>\n",
       "      <td>19.000000</td>\n",
       "      <td>59018.000000</td>\n",
       "      <td>73.153000</td>\n",
       "      <td>8450.000000</td>\n",
       "      <td>106.517000</td>\n",
       "      <td>122.000000</td>\n",
       "    </tr>\n",
       "  </tbody>\n",
       "</table>\n",
       "</div>"
      ],
      "text/plain": [
       "             RANK    MOVEMENT     PLAYER_ID         AVG  TOTAL STROKES  \\\n",
       "count  189.000000  189.000000    189.000000  189.000000     189.000000   \n",
       "mean    94.957672   -0.449735  39114.994709   70.968677    5977.037037   \n",
       "std     54.705579    3.487647  10294.967774    0.830134    1123.886273   \n",
       "min      1.000000  -13.000000  12716.000000   68.629000    3198.000000   \n",
       "25%     48.000000   -2.000000  31560.000000   70.461000    5217.000000   \n",
       "50%     94.000000    0.000000  36699.000000   70.966000    6065.000000   \n",
       "75%    142.000000    2.000000  48117.000000   71.524000    6799.000000   \n",
       "max    189.000000   19.000000  59018.000000   73.153000    8450.000000   \n",
       "\n",
       "       TOTAL ADJUSTMENT  TOTAL ROUNDS  \n",
       "count        189.000000    189.000000  \n",
       "mean          53.245196     85.026455  \n",
       "std           26.348952     16.241670  \n",
       "min          -18.811000     45.000000  \n",
       "25%           35.723000     74.000000  \n",
       "50%           55.784000     86.000000  \n",
       "75%           73.356000     96.000000  \n",
       "max          106.517000    122.000000  "
      ]
     },
     "execution_count": 7,
     "metadata": {},
     "output_type": "execute_result"
    }
   ],
   "source": [
    "df.describe()"
   ]
  },
  {
   "cell_type": "code",
   "execution_count": 8,
   "id": "d21a077b",
   "metadata": {},
   "outputs": [
    {
     "data": {
      "text/plain": [
       "RANK                189\n",
       "MOVEMENT            189\n",
       "PLAYER_ID           189\n",
       "PLAYER              189\n",
       "AVG                 189\n",
       "TOTAL STROKES       189\n",
       "TOTAL ADJUSTMENT    189\n",
       "TOTAL ROUNDS        189\n",
       "dtype: int64"
      ]
     },
     "execution_count": 8,
     "metadata": {},
     "output_type": "execute_result"
    }
   ],
   "source": [
    "count = df.count()\n",
    "count"
   ]
  },
  {
   "cell_type": "code",
   "execution_count": 9,
   "id": "c5930fbf",
   "metadata": {},
   "outputs": [
    {
     "data": {
      "text/plain": [
       "array([70.12995266, 69.77193448, 70.41143097, 72.13081463, 70.31790296,\n",
       "       72.33935931, 70.06410166, 71.6325904 , 70.49265485, 70.47902368,\n",
       "       71.37225347, 70.40326541, 71.72180448, 70.97175424, 70.69288715,\n",
       "       71.22511764, 72.04653184, 71.29904385, 71.38386458, 71.01294039,\n",
       "       72.10073168, 69.47953869, 70.92339284, 70.98158764, 71.27812589,\n",
       "       70.33505416, 69.12452871, 70.53789379, 71.28581547, 71.04994321,\n",
       "       70.0363379 , 71.86799614, 70.41129861, 69.80729882, 70.6291191 ,\n",
       "       71.08222997, 71.45496302, 71.69441642, 71.19544139, 70.85350342,\n",
       "       71.04489899, 70.09632732, 69.81617318, 71.10494894, 69.10552606,\n",
       "       72.3064007 , 71.01816228, 70.75735645, 70.95508389, 70.81336906,\n",
       "       69.64320759, 70.69799563, 69.68239436, 70.44418396, 70.59827671,\n",
       "       72.05733784, 70.50870843, 70.33606605, 69.53024602, 71.0240166 ,\n",
       "       69.8154878 , 71.96162627, 72.61279376, 69.9739921 , 71.41131054,\n",
       "       69.95985369, 71.4044799 , 70.6610382 , 71.32849796, 70.80760218,\n",
       "       72.71623747, 72.04972786, 70.42569521, 71.60931418, 72.74798399,\n",
       "       71.67950636, 69.60400446, 70.38147097, 70.72156801, 73.26545288,\n",
       "       70.4422932 , 71.1804209 , 70.07761456, 71.75069375, 71.3119628 ,\n",
       "       70.27567931, 71.04847552, 70.08384417, 70.66990267, 70.9369403 ,\n",
       "       69.51750736, 71.42046206, 70.25773206, 71.60544982, 71.95661715,\n",
       "       71.61003321, 70.28692455, 70.25939571, 69.881532  , 71.15358532,\n",
       "       70.09324864, 70.44014996, 70.41436101, 71.12131883, 70.41715109,\n",
       "       70.80264467, 72.30675021, 70.68424659, 71.82640627, 70.78739777,\n",
       "       69.99643663, 70.12093302, 70.91877287, 71.43424633, 69.84847068,\n",
       "       71.07019408, 70.22338739, 70.41508812, 71.11973007, 69.90056112,\n",
       "       70.54865003, 69.3611366 , 70.33548953, 71.29422502, 71.4068325 ,\n",
       "       70.19837542, 70.87425678, 71.64623656, 71.44458941, 70.43732743,\n",
       "       71.01635923, 68.95703151, 72.16714947, 73.13672413, 71.22243969,\n",
       "       70.9394459 , 72.43194933, 71.78871241, 70.45146845, 70.50885189,\n",
       "       71.31386493, 70.62477959, 70.17644204, 71.08482448, 71.71118354,\n",
       "       70.97624809, 71.79361745, 70.8653543 , 70.8504709 , 69.90025438,\n",
       "       70.76067094, 70.52139326, 69.77822884, 71.98847244, 70.29672705,\n",
       "       71.61931362, 71.34137028, 69.91202421, 70.21645931, 70.85106343,\n",
       "       69.76819721, 70.04412518, 69.76377614, 70.74362953, 70.67533172,\n",
       "       70.72219675, 70.72570086, 69.0725598 , 71.48388614, 69.78457655,\n",
       "       71.21772928, 72.92825371, 70.86556379, 71.69938688, 71.95868985,\n",
       "       71.19259   , 70.47110578, 70.40293975, 72.62497952, 71.97738922,\n",
       "       72.60708761, 71.80566035, 71.24754348, 70.04705756, 71.62836835,\n",
       "       70.81860883, 72.26799432, 69.98680539, 71.69672476])"
      ]
     },
     "execution_count": 9,
     "metadata": {},
     "output_type": "execute_result"
    }
   ],
   "source": [
    "# Synthesize a random normal distribution for Average Score\n",
    "# I choose mu of 70.96 because this is the average score in pgatour_golfstats_2022-2023_averagescore.csv\n",
    "y = np.random.normal(mean,std,189)\n",
    "y"
   ]
  },
  {
   "cell_type": "code",
   "execution_count": 10,
   "id": "22027528",
   "metadata": {},
   "outputs": [
    {
     "data": {
      "image/png": "[encoded data removed]",
      "text/plain": [
       "<Figure size 640x480 with 1 Axes>"
      ]
     },
     "metadata": {},
     "output_type": "display_data"
    }
   ],
   "source": [
    "# Plot random normal distribution for Average Score\n",
    "plt.hist(y)\n",
    "plt.show()"
   ]
  },
  {
   "cell_type": "code",
   "execution_count": 11,
   "id": "fc6872c6",
   "metadata": {},
   "outputs": [
    {
     "data": {
      "text/plain": [
       "array([67, 54, 88, 77, 78, 65, 92, 74, 60, 93, 75, 76, 72, 83, 63, 57, 63,\n",
       "       69, 81, 75, 74, 72, 63, 74, 66, 66, 73, 68, 51, 74, 66, 83, 72, 78,\n",
       "       61, 65, 75, 82, 81, 66, 72, 67, 64, 71, 60, 70, 74, 72, 76, 70, 67,\n",
       "       76, 67, 73, 54, 74, 65, 80, 69, 71, 75, 69, 60, 74, 59, 57, 64, 78,\n",
       "       77, 77, 75, 68, 80, 71, 77, 82, 68, 67, 72, 66, 79, 84, 67, 70, 69,\n",
       "       76, 82, 72, 83, 77, 67, 74, 76, 61, 62, 66, 72, 75, 76, 83, 83, 72,\n",
       "       66, 66, 77, 92, 60, 63, 72, 68, 63, 64, 86, 75, 54, 80, 58, 73, 73,\n",
       "       81, 68, 63, 66, 64, 59, 83, 78, 67, 59, 86, 69, 75, 49, 83, 60, 75,\n",
       "       54, 76, 64, 65, 69, 76, 66, 79, 74, 69, 71, 78, 80, 85, 64, 82, 65,\n",
       "       72, 81, 65, 80, 66, 61, 70, 69, 83, 75, 54, 58, 65, 76, 64, 66, 79,\n",
       "       68, 61, 73, 64, 83, 73, 61, 82, 63, 82, 69, 62, 62, 77, 72, 64, 83,\n",
       "       80, 64], dtype=int64)"
      ]
     },
     "execution_count": 11,
     "metadata": {},
     "output_type": "execute_result"
    }
   ],
   "source": [
    "# Synthesize a poisson distribution for Average Score\n",
    "p = np.random.default_rng().poisson(mean, 189)\n",
    "p"
   ]
  },
  {
   "cell_type": "code",
   "execution_count": 12,
   "id": "5b343105",
   "metadata": {},
   "outputs": [
    {
     "data": {
      "image/png": "[encoded data removed]",
      "text/plain": [
       "<Figure size 640x480 with 1 Axes>"
      ]
     },
     "metadata": {},
     "output_type": "display_data"
    }
   ],
   "source": [
    "# Plot poisson distribution for Average Score\n",
    "plt.hist(p)\n",
    "plt.show()"
   ]
  },
  {
   "cell_type": "code",
   "execution_count": 13,
   "id": "1cab077a",
   "metadata": {},
   "outputs": [
    {
     "data": {
      "text/html": [
       "<div>\n",
       "<style scoped>\n",
       "    .dataframe tbody tr th:only-of-type {\n",
       "        vertical-align: middle;\n",
       "    }\n",
       "\n",
       "    .dataframe tbody tr th {\n",
       "        vertical-align: top;\n",
       "    }\n",
       "\n",
       "    .dataframe thead th {\n",
       "        text-align: right;\n",
       "    }\n",
       "</style>\n",
       "<table border=\"1\" class=\"dataframe\">\n",
       "  <thead>\n",
       "    <tr style=\"text-align: right;\">\n",
       "      <th></th>\n",
       "      <th>RANK</th>\n",
       "      <th>MOVEMENT</th>\n",
       "      <th>PLAYER_ID</th>\n",
       "      <th>PLAYER</th>\n",
       "      <th>AVG</th>\n",
       "      <th>TOTAL DISTANCE</th>\n",
       "      <th>TOTAL DRIVES</th>\n",
       "    </tr>\n",
       "  </thead>\n",
       "  <tbody>\n",
       "    <tr>\n",
       "      <th>0</th>\n",
       "      <td>1</td>\n",
       "      <td>0</td>\n",
       "      <td>28237</td>\n",
       "      <td>Rory McIlroy</td>\n",
       "      <td>326.3</td>\n",
       "      <td>41771</td>\n",
       "      <td>128</td>\n",
       "    </tr>\n",
       "    <tr>\n",
       "      <th>1</th>\n",
       "      <td>2</td>\n",
       "      <td>0</td>\n",
       "      <td>51491</td>\n",
       "      <td>Brandon Matthews</td>\n",
       "      <td>321.3</td>\n",
       "      <td>37915</td>\n",
       "      <td>118</td>\n",
       "    </tr>\n",
       "    <tr>\n",
       "      <th>2</th>\n",
       "      <td>3</td>\n",
       "      <td>0</td>\n",
       "      <td>52372</td>\n",
       "      <td>Cameron Champ</td>\n",
       "      <td>318.8</td>\n",
       "      <td>47180</td>\n",
       "      <td>148</td>\n",
       "    </tr>\n",
       "    <tr>\n",
       "      <th>3</th>\n",
       "      <td>4</td>\n",
       "      <td>0</td>\n",
       "      <td>52453</td>\n",
       "      <td>Nicolai Hojgaard</td>\n",
       "      <td>317.7</td>\n",
       "      <td>29227</td>\n",
       "      <td>92</td>\n",
       "    </tr>\n",
       "    <tr>\n",
       "      <th>4</th>\n",
       "      <td>5</td>\n",
       "      <td>0</td>\n",
       "      <td>57366</td>\n",
       "      <td>Cameron Young</td>\n",
       "      <td>316.5</td>\n",
       "      <td>51902</td>\n",
       "      <td>164</td>\n",
       "    </tr>\n",
       "    <tr>\n",
       "      <th>...</th>\n",
       "      <td>...</td>\n",
       "      <td>...</td>\n",
       "      <td>...</td>\n",
       "      <td>...</td>\n",
       "      <td>...</td>\n",
       "      <td>...</td>\n",
       "      <td>...</td>\n",
       "    </tr>\n",
       "    <tr>\n",
       "      <th>184</th>\n",
       "      <td>185</td>\n",
       "      <td>-2</td>\n",
       "      <td>30927</td>\n",
       "      <td>Brendon Todd</td>\n",
       "      <td>282.8</td>\n",
       "      <td>54300</td>\n",
       "      <td>192</td>\n",
       "    </tr>\n",
       "    <tr>\n",
       "      <th>185</th>\n",
       "      <td>186</td>\n",
       "      <td>-2</td>\n",
       "      <td>40058</td>\n",
       "      <td>Zac Blair</td>\n",
       "      <td>282.4</td>\n",
       "      <td>42920</td>\n",
       "      <td>152</td>\n",
       "    </tr>\n",
       "    <tr>\n",
       "      <th>186</th>\n",
       "      <td>187</td>\n",
       "      <td>-2</td>\n",
       "      <td>31202</td>\n",
       "      <td>William McGirt</td>\n",
       "      <td>281.0</td>\n",
       "      <td>25292</td>\n",
       "      <td>90</td>\n",
       "    </tr>\n",
       "    <tr>\n",
       "      <th>187</th>\n",
       "      <td>188</td>\n",
       "      <td>-2</td>\n",
       "      <td>34409</td>\n",
       "      <td>David Lingmerth</td>\n",
       "      <td>279.2</td>\n",
       "      <td>45789</td>\n",
       "      <td>164</td>\n",
       "    </tr>\n",
       "    <tr>\n",
       "      <th>188</th>\n",
       "      <td>189</td>\n",
       "      <td>-2</td>\n",
       "      <td>31560</td>\n",
       "      <td>Brian Stuard</td>\n",
       "      <td>272.5</td>\n",
       "      <td>36510</td>\n",
       "      <td>134</td>\n",
       "    </tr>\n",
       "  </tbody>\n",
       "</table>\n",
       "<p>189 rows × 7 columns</p>\n",
       "</div>"
      ],
      "text/plain": [
       "     RANK  MOVEMENT  PLAYER_ID            PLAYER    AVG  TOTAL DISTANCE  \\\n",
       "0       1         0      28237      Rory McIlroy  326.3           41771   \n",
       "1       2         0      51491  Brandon Matthews  321.3           37915   \n",
       "2       3         0      52372     Cameron Champ  318.8           47180   \n",
       "3       4         0      52453  Nicolai Hojgaard  317.7           29227   \n",
       "4       5         0      57366     Cameron Young  316.5           51902   \n",
       "..    ...       ...        ...               ...    ...             ...   \n",
       "184   185        -2      30927      Brendon Todd  282.8           54300   \n",
       "185   186        -2      40058         Zac Blair  282.4           42920   \n",
       "186   187        -2      31202    William McGirt  281.0           25292   \n",
       "187   188        -2      34409   David Lingmerth  279.2           45789   \n",
       "188   189        -2      31560      Brian Stuard  272.5           36510   \n",
       "\n",
       "     TOTAL DRIVES  \n",
       "0             128  \n",
       "1             118  \n",
       "2             148  \n",
       "3              92  \n",
       "4             164  \n",
       "..            ...  \n",
       "184           192  \n",
       "185           152  \n",
       "186            90  \n",
       "187           164  \n",
       "188           134  \n",
       "\n",
       "[189 rows x 7 columns]"
      ]
     },
     "execution_count": 13,
     "metadata": {},
     "output_type": "execute_result"
    }
   ],
   "source": [
    "# https://www.pgatour.com/stats/detail/101\n",
    "df1 = pd.read_csv('pgatour_golfstats_2022-2023_driving.csv')\n",
    "df1"
   ]
  },
  {
   "cell_type": "code",
   "execution_count": 14,
   "id": "9f6d7873",
   "metadata": {},
   "outputs": [
    {
     "data": {
      "image/png": "[encoded data removed]",
      "text/plain": [
       "<Figure size 640x480 with 1 Axes>"
      ]
     },
     "metadata": {},
     "output_type": "display_data"
    }
   ],
   "source": [
    "x = df1.RANK\n",
    "y = df1.AVG\n",
    "plt.plot(x,y)\n",
    "plt.show()"
   ]
  },
  {
   "cell_type": "code",
   "execution_count": 15,
   "id": "c7272a1c",
   "metadata": {},
   "outputs": [
    {
     "data": {
      "image/png": "[encoded data removed]",
      "text/plain": [
       "<Figure size 640x480 with 1 Axes>"
      ]
     },
     "metadata": {},
     "output_type": "display_data"
    }
   ],
   "source": [
    "# Plot Driving Distance data from pgatour_golfstats_2022-2023_driving.csv\n",
    "plt.hist(y, bins=10)\n",
    "plt.show()"
   ]
  },
  {
   "cell_type": "code",
   "execution_count": 16,
   "id": "f78a417e",
   "metadata": {},
   "outputs": [
    {
     "data": {
      "text/plain": [
       "0      326.3\n",
       "1      321.3\n",
       "2      318.8\n",
       "3      317.7\n",
       "4      316.5\n",
       "       ...  \n",
       "184    282.8\n",
       "185    282.4\n",
       "186    281.0\n",
       "187    279.2\n",
       "188    272.5\n",
       "Name: AVG, Length: 189, dtype: float64"
      ]
     },
     "execution_count": 16,
     "metadata": {},
     "output_type": "execute_result"
    }
   ],
   "source": [
    "df1.AVG"
   ]
  },
  {
   "cell_type": "code",
   "execution_count": 17,
   "id": "a01547a6",
   "metadata": {},
   "outputs": [
    {
     "data": {
      "text/plain": [
       "8.66203975287581"
      ]
     },
     "execution_count": 17,
     "metadata": {},
     "output_type": "execute_result"
    }
   ],
   "source": [
    "std = df1.AVG.std()\n",
    "std"
   ]
  },
  {
   "cell_type": "code",
   "execution_count": 18,
   "id": "841db014",
   "metadata": {},
   "outputs": [
    {
     "data": {
      "text/plain": [
       "300.96402116402106"
      ]
     },
     "execution_count": 18,
     "metadata": {},
     "output_type": "execute_result"
    }
   ],
   "source": [
    "mean = df1.AVG.mean()\n",
    "mean"
   ]
  },
  {
   "cell_type": "code",
   "execution_count": 19,
   "id": "7fbd6326",
   "metadata": {},
   "outputs": [
    {
     "data": {
      "text/html": [
       "<div>\n",
       "<style scoped>\n",
       "    .dataframe tbody tr th:only-of-type {\n",
       "        vertical-align: middle;\n",
       "    }\n",
       "\n",
       "    .dataframe tbody tr th {\n",
       "        vertical-align: top;\n",
       "    }\n",
       "\n",
       "    .dataframe thead th {\n",
       "        text-align: right;\n",
       "    }\n",
       "</style>\n",
       "<table border=\"1\" class=\"dataframe\">\n",
       "  <thead>\n",
       "    <tr style=\"text-align: right;\">\n",
       "      <th></th>\n",
       "      <th>RANK</th>\n",
       "      <th>MOVEMENT</th>\n",
       "      <th>PLAYER_ID</th>\n",
       "      <th>AVG</th>\n",
       "      <th>TOTAL DISTANCE</th>\n",
       "      <th>TOTAL DRIVES</th>\n",
       "    </tr>\n",
       "  </thead>\n",
       "  <tbody>\n",
       "    <tr>\n",
       "      <th>count</th>\n",
       "      <td>189.000000</td>\n",
       "      <td>189.000000</td>\n",
       "      <td>189.000000</td>\n",
       "      <td>189.000000</td>\n",
       "      <td>189.000000</td>\n",
       "      <td>189.00000</td>\n",
       "    </tr>\n",
       "    <tr>\n",
       "      <th>mean</th>\n",
       "      <td>94.719577</td>\n",
       "      <td>-0.904762</td>\n",
       "      <td>39114.994709</td>\n",
       "      <td>300.964021</td>\n",
       "      <td>51175.285714</td>\n",
       "      <td>170.05291</td>\n",
       "    </tr>\n",
       "    <tr>\n",
       "      <th>std</th>\n",
       "      <td>54.711144</td>\n",
       "      <td>1.968212</td>\n",
       "      <td>10294.967774</td>\n",
       "      <td>8.662040</td>\n",
       "      <td>9840.011169</td>\n",
       "      <td>32.48334</td>\n",
       "    </tr>\n",
       "    <tr>\n",
       "      <th>min</th>\n",
       "      <td>1.000000</td>\n",
       "      <td>-5.000000</td>\n",
       "      <td>12716.000000</td>\n",
       "      <td>272.500000</td>\n",
       "      <td>25292.000000</td>\n",
       "      <td>90.00000</td>\n",
       "    </tr>\n",
       "    <tr>\n",
       "      <th>25%</th>\n",
       "      <td>48.000000</td>\n",
       "      <td>-2.000000</td>\n",
       "      <td>31560.000000</td>\n",
       "      <td>295.200000</td>\n",
       "      <td>44589.000000</td>\n",
       "      <td>148.00000</td>\n",
       "    </tr>\n",
       "    <tr>\n",
       "      <th>50%</th>\n",
       "      <td>94.000000</td>\n",
       "      <td>-1.000000</td>\n",
       "      <td>36699.000000</td>\n",
       "      <td>300.800000</td>\n",
       "      <td>51338.000000</td>\n",
       "      <td>172.00000</td>\n",
       "    </tr>\n",
       "    <tr>\n",
       "      <th>75%</th>\n",
       "      <td>142.000000</td>\n",
       "      <td>0.000000</td>\n",
       "      <td>48117.000000</td>\n",
       "      <td>306.400000</td>\n",
       "      <td>57791.000000</td>\n",
       "      <td>192.00000</td>\n",
       "    </tr>\n",
       "    <tr>\n",
       "      <th>max</th>\n",
       "      <td>189.000000</td>\n",
       "      <td>7.000000</td>\n",
       "      <td>59018.000000</td>\n",
       "      <td>326.300000</td>\n",
       "      <td>72978.000000</td>\n",
       "      <td>244.00000</td>\n",
       "    </tr>\n",
       "  </tbody>\n",
       "</table>\n",
       "</div>"
      ],
      "text/plain": [
       "             RANK    MOVEMENT     PLAYER_ID         AVG  TOTAL DISTANCE  \\\n",
       "count  189.000000  189.000000    189.000000  189.000000      189.000000   \n",
       "mean    94.719577   -0.904762  39114.994709  300.964021    51175.285714   \n",
       "std     54.711144    1.968212  10294.967774    8.662040     9840.011169   \n",
       "min      1.000000   -5.000000  12716.000000  272.500000    25292.000000   \n",
       "25%     48.000000   -2.000000  31560.000000  295.200000    44589.000000   \n",
       "50%     94.000000   -1.000000  36699.000000  300.800000    51338.000000   \n",
       "75%    142.000000    0.000000  48117.000000  306.400000    57791.000000   \n",
       "max    189.000000    7.000000  59018.000000  326.300000    72978.000000   \n",
       "\n",
       "       TOTAL DRIVES  \n",
       "count     189.00000  \n",
       "mean      170.05291  \n",
       "std        32.48334  \n",
       "min        90.00000  \n",
       "25%       148.00000  \n",
       "50%       172.00000  \n",
       "75%       192.00000  \n",
       "max       244.00000  "
      ]
     },
     "execution_count": 19,
     "metadata": {},
     "output_type": "execute_result"
    }
   ],
   "source": [
    "df1.describe()"
   ]
  },
  {
   "cell_type": "code",
   "execution_count": 20,
   "id": "fa49c97f",
   "metadata": {},
   "outputs": [
    {
     "data": {
      "text/plain": [
       "RANK              189\n",
       "MOVEMENT          189\n",
       "PLAYER_ID         189\n",
       "PLAYER            189\n",
       "AVG               189\n",
       "TOTAL DISTANCE    189\n",
       "TOTAL DRIVES      189\n",
       "dtype: int64"
      ]
     },
     "execution_count": 20,
     "metadata": {},
     "output_type": "execute_result"
    }
   ],
   "source": [
    "count = df1.count()\n",
    "count"
   ]
  },
  {
   "cell_type": "code",
   "execution_count": 21,
   "id": "d0716673",
   "metadata": {},
   "outputs": [
    {
     "data": {
      "text/plain": [
       "array([286.56069589, 301.93348451, 304.48774371, 298.05164541,\n",
       "       293.90897162, 301.87147063, 295.34172399, 292.77845354,\n",
       "       287.91121806, 308.51247096, 298.48385864, 297.67415504,\n",
       "       297.37937992, 312.78637199, 293.01739757, 302.60543497,\n",
       "       301.37653203, 302.55872699, 305.70624575, 297.46845112,\n",
       "       293.25044047, 291.50090783, 294.60490501, 294.22249832,\n",
       "       302.19704393, 298.75058474, 297.38463917, 302.81273008,\n",
       "       291.70997512, 298.64212594, 296.70932702, 291.1535244 ,\n",
       "       291.10351392, 291.24487375, 308.78983189, 298.33853784,\n",
       "       294.30454533, 311.52941794, 303.76726918, 315.00296766,\n",
       "       303.69467052, 291.74903634, 290.80610037, 288.70206809,\n",
       "       316.44249222, 288.31237905, 305.18110472, 296.43984388,\n",
       "       287.54240807, 314.79812229, 295.81125552, 308.47294254,\n",
       "       308.224848  , 305.43492462, 311.02887432, 308.74580984,\n",
       "       303.69670215, 316.64255829, 295.98311954, 309.74592364,\n",
       "       298.01787595, 308.47533159, 298.74327961, 312.71556707,\n",
       "       297.33352143, 302.37878652, 311.74231936, 298.17776695,\n",
       "       298.49354624, 312.8983894 , 297.61259393, 300.34202382,\n",
       "       293.25792318, 305.50099402, 324.61589084, 291.85045607,\n",
       "       291.40816276, 302.37338719, 315.68686918, 298.02947581,\n",
       "       311.57655671, 302.47956402, 293.3373788 , 307.52693357,\n",
       "       289.65867128, 297.95217078, 291.78730804, 301.66991629,\n",
       "       303.84598668, 303.64812334, 293.46475322, 301.35447307,\n",
       "       300.61680018, 294.83258656, 297.42586891, 305.05582686,\n",
       "       298.30276549, 304.71007253, 296.83972788, 316.04960418,\n",
       "       292.59109757, 296.75532719, 306.58497737, 295.3280357 ,\n",
       "       292.34601278, 291.00911785, 291.94723544, 305.26002919,\n",
       "       288.41158331, 300.00021917, 303.34675488, 294.94112023,\n",
       "       308.25934783, 312.65446304, 298.22054311, 300.56870439,\n",
       "       297.58798644, 281.45731931, 302.16708328, 306.81094604,\n",
       "       294.54556326, 305.57719226, 297.88628401, 301.27884681,\n",
       "       287.25814425, 300.70648279, 307.40568474, 298.19054432,\n",
       "       306.39193744, 298.38941378, 307.15160016, 290.38749334,\n",
       "       295.35303977, 297.6245755 , 308.84153924, 291.37708292,\n",
       "       287.2322405 , 305.28185055, 295.92014115, 301.23756346,\n",
       "       289.43270699, 305.68388165, 297.58998866, 311.05682996,\n",
       "       311.36485628, 304.74902895, 297.15292628, 282.97189824,\n",
       "       308.27450391, 285.19968432, 320.86231253, 293.10516295,\n",
       "       310.44017135, 317.94002015, 310.61999888, 311.48374042,\n",
       "       304.05379581, 299.0235391 , 305.06609637, 293.15289694,\n",
       "       293.70776   , 296.57721387, 300.71656523, 299.94106864,\n",
       "       303.8824144 , 296.61427459, 295.92900152, 308.57743468,\n",
       "       304.41624072, 296.16815426, 294.00249514, 297.78635928,\n",
       "       307.28094773, 307.92140616, 302.09093182, 310.78604275,\n",
       "       294.68490133, 296.92326742, 297.11509844, 298.76117988,\n",
       "       296.69247438, 299.07764916, 302.49920901, 289.13672431,\n",
       "       301.67540545, 308.66809271, 303.34538186, 307.24062701,\n",
       "       288.42447337])"
      ]
     },
     "execution_count": 21,
     "metadata": {},
     "output_type": "execute_result"
    }
   ],
   "source": [
    "# Synthesize a random normal distribution for Driving Distance\n",
    "# I choose mu of 300.5 because this is the average drivage distance in pgatour_golfstats_2022-2023_driving.csv\n",
    "mu, sigma = 300.96, 8.66 # mean and standard deviation\n",
    "s = np.random.default_rng().normal(mu, sigma, 189)\n",
    "s"
   ]
  },
  {
   "cell_type": "code",
   "execution_count": 22,
   "id": "db9f08d5",
   "metadata": {},
   "outputs": [
    {
     "data": {
      "image/png": "[encoded data removed]",
      "text/plain": [
       "<Figure size 640x480 with 1 Axes>"
      ]
     },
     "metadata": {},
     "output_type": "display_data"
    }
   ],
   "source": [
    "# Plot random normal distribution for Driving Distance\n",
    "plt.hist(s)\n",
    "plt.show()"
   ]
  },
  {
   "cell_type": "code",
   "execution_count": 23,
   "id": "3e931282",
   "metadata": {},
   "outputs": [
    {
     "data": {
      "text/plain": [
       "array([303, 300, 294, 321, 327, 267, 282, 322, 282, 307, 312, 318, 282,\n",
       "       286, 317, 317, 319, 294, 293, 279, 282, 285, 323, 311, 309, 312,\n",
       "       296, 282, 295, 293, 317, 285, 296, 300, 310, 290, 289, 312, 276,\n",
       "       310, 280, 288, 295, 325, 304, 284, 284, 315, 306, 271, 307, 296,\n",
       "       302, 328, 282, 297, 292, 295, 320, 311, 300, 310, 318, 311, 294,\n",
       "       278, 307, 287, 328, 301, 306, 298, 319, 319, 299, 305, 274, 264,\n",
       "       287, 295, 292, 268, 309, 326, 298, 297, 302, 291, 306, 296, 304,\n",
       "       267, 288, 296, 330, 280, 299, 272, 319, 316, 316, 285, 315, 310,\n",
       "       292, 319, 296, 295, 289, 300, 302, 307, 312, 341, 300, 250, 292,\n",
       "       307, 303, 318, 314, 276, 304, 307, 304, 285, 311, 283, 302, 312,\n",
       "       314, 311, 311, 303, 305, 297, 325, 302, 295, 321, 311, 291, 291,\n",
       "       330, 313, 320, 319, 308, 256, 315, 294, 279, 314, 295, 336, 293,\n",
       "       306, 289, 306, 304, 290, 289, 287, 307, 305, 297, 320, 280, 321,\n",
       "       328, 294, 298, 326, 296, 283, 328, 326, 286, 297, 298, 296, 305,\n",
       "       281, 302, 285, 323, 295, 319, 295], dtype=int64)"
      ]
     },
     "execution_count": 23,
     "metadata": {},
     "output_type": "execute_result"
    }
   ],
   "source": [
    "# Synthesize a poisson distribution for Driving Distance\n",
    "p = np.random.default_rng().poisson(mu,189)\n",
    "p"
   ]
  },
  {
   "cell_type": "code",
   "execution_count": 24,
   "id": "ffe11f7f",
   "metadata": {},
   "outputs": [
    {
     "data": {
      "image/png": "[encoded data removed]",
      "text/plain": [
       "<Figure size 640x480 with 1 Axes>"
      ]
     },
     "metadata": {},
     "output_type": "display_data"
    }
   ],
   "source": [
    "# Plot poisson distribution for Driving Distance\n",
    "plt.hist(p)\n",
    "plt.show()"
   ]
  },
  {
   "cell_type": "code",
   "execution_count": 25,
   "id": "ddaef6d8",
   "metadata": {},
   "outputs": [
    {
     "data": {
      "text/html": [
       "<div>\n",
       "<style scoped>\n",
       "    .dataframe tbody tr th:only-of-type {\n",
       "        vertical-align: middle;\n",
       "    }\n",
       "\n",
       "    .dataframe tbody tr th {\n",
       "        vertical-align: top;\n",
       "    }\n",
       "\n",
       "    .dataframe thead th {\n",
       "        text-align: right;\n",
       "    }\n",
       "</style>\n",
       "<table border=\"1\" class=\"dataframe\">\n",
       "  <thead>\n",
       "    <tr style=\"text-align: right;\">\n",
       "      <th></th>\n",
       "      <th>1</th>\n",
       "      <th>Unnamed: 1</th>\n",
       "      <th>MCILROY, Rory</th>\n",
       "      <th>30</th>\n",
       "      <th>68.8</th>\n",
       "      <th>DP World Tour</th>\n",
       "    </tr>\n",
       "  </thead>\n",
       "  <tbody>\n",
       "    <tr>\n",
       "      <th>0</th>\n",
       "      <td>2</td>\n",
       "      <td>NaN</td>\n",
       "      <td>BJÖRK, Alexander</td>\n",
       "      <td>88</td>\n",
       "      <td>69.53</td>\n",
       "      <td>DP World Tour</td>\n",
       "    </tr>\n",
       "    <tr>\n",
       "      <th>1</th>\n",
       "      <td>3</td>\n",
       "      <td>NaN</td>\n",
       "      <td>HØJGAARD, Nicolai</td>\n",
       "      <td>61</td>\n",
       "      <td>69.59</td>\n",
       "      <td>DP World Tour</td>\n",
       "    </tr>\n",
       "    <tr>\n",
       "      <th>2</th>\n",
       "      <td>4</td>\n",
       "      <td>NaN</td>\n",
       "      <td>KIMSEY, Nathan</td>\n",
       "      <td>76</td>\n",
       "      <td>69.74</td>\n",
       "      <td>DP World Tour</td>\n",
       "    </tr>\n",
       "    <tr>\n",
       "      <th>3</th>\n",
       "      <td>5</td>\n",
       "      <td>NaN</td>\n",
       "      <td>OLESEN, Thorbjørn</td>\n",
       "      <td>84</td>\n",
       "      <td>69.80</td>\n",
       "      <td>DP World Tour</td>\n",
       "    </tr>\n",
       "    <tr>\n",
       "      <th>4</th>\n",
       "      <td>6</td>\n",
       "      <td>NaN</td>\n",
       "      <td>MERONK, Adrian</td>\n",
       "      <td>77</td>\n",
       "      <td>69.81</td>\n",
       "      <td>DP World Tour</td>\n",
       "    </tr>\n",
       "    <tr>\n",
       "      <th>...</th>\n",
       "      <td>...</td>\n",
       "      <td>...</td>\n",
       "      <td>...</td>\n",
       "      <td>...</td>\n",
       "      <td>...</td>\n",
       "      <td>...</td>\n",
       "    </tr>\n",
       "    <tr>\n",
       "      <th>168</th>\n",
       "      <td>170</td>\n",
       "      <td>NaN</td>\n",
       "      <td>MURPHY, John</td>\n",
       "      <td>51</td>\n",
       "      <td>73.86</td>\n",
       "      <td>DP World Tour</td>\n",
       "    </tr>\n",
       "    <tr>\n",
       "      <th>169</th>\n",
       "      <td>171</td>\n",
       "      <td>NaN</td>\n",
       "      <td>LI, Haotong</td>\n",
       "      <td>43</td>\n",
       "      <td>74.07</td>\n",
       "      <td>DP World Tour</td>\n",
       "    </tr>\n",
       "    <tr>\n",
       "      <th>170</th>\n",
       "      <td>172</td>\n",
       "      <td>NaN</td>\n",
       "      <td>WINDRED, Blake</td>\n",
       "      <td>34</td>\n",
       "      <td>74.18</td>\n",
       "      <td>DP World Tour</td>\n",
       "    </tr>\n",
       "    <tr>\n",
       "      <th>171</th>\n",
       "      <td>173</td>\n",
       "      <td>NaN</td>\n",
       "      <td>CHENGYAO, Ma</td>\n",
       "      <td>40</td>\n",
       "      <td>74.83</td>\n",
       "      <td>DP World Tour</td>\n",
       "    </tr>\n",
       "    <tr>\n",
       "      <th>172</th>\n",
       "      <td>174</td>\n",
       "      <td>NaN</td>\n",
       "      <td>EDÉN, Tobias</td>\n",
       "      <td>41</td>\n",
       "      <td>75.07</td>\n",
       "      <td>DP World Tour</td>\n",
       "    </tr>\n",
       "  </tbody>\n",
       "</table>\n",
       "<p>173 rows × 6 columns</p>\n",
       "</div>"
      ],
      "text/plain": [
       "       1  Unnamed: 1      MCILROY, Rory  30   68.8  DP World Tour\n",
       "0      2         NaN   BJÖRK, Alexander  88  69.53  DP World Tour\n",
       "1      3         NaN  HØJGAARD, Nicolai  61  69.59  DP World Tour\n",
       "2      4         NaN     KIMSEY, Nathan  76  69.74  DP World Tour\n",
       "3      5         NaN  OLESEN, Thorbjørn  84  69.80  DP World Tour\n",
       "4      6         NaN     MERONK, Adrian  77  69.81  DP World Tour\n",
       "..   ...         ...                ...  ..    ...            ...\n",
       "168  170         NaN       MURPHY, John  51  73.86  DP World Tour\n",
       "169  171         NaN        LI, Haotong  43  74.07  DP World Tour\n",
       "170  172         NaN     WINDRED, Blake  34  74.18  DP World Tour\n",
       "171  173         NaN       CHENGYAO, Ma  40  74.83  DP World Tour\n",
       "172  174         NaN       EDÉN, Tobias  41  75.07  DP World Tour\n",
       "\n",
       "[173 rows x 6 columns]"
      ]
     },
     "execution_count": 25,
     "metadata": {},
     "output_type": "execute_result"
    }
   ],
   "source": [
    "dataframe1 = pd.read_excel('dpworldtour_2022-2023_scoringaverage.xlsx')\n",
    "dataframe1"
   ]
  },
  {
   "cell_type": "code",
   "execution_count": 26,
   "id": "f77a095f",
   "metadata": {},
   "outputs": [
    {
     "data": {
      "text/html": [
       "<div>\n",
       "<style scoped>\n",
       "    .dataframe tbody tr th:only-of-type {\n",
       "        vertical-align: middle;\n",
       "    }\n",
       "\n",
       "    .dataframe tbody tr th {\n",
       "        vertical-align: top;\n",
       "    }\n",
       "\n",
       "    .dataframe thead th {\n",
       "        text-align: right;\n",
       "    }\n",
       "</style>\n",
       "<table border=\"1\" class=\"dataframe\">\n",
       "  <thead>\n",
       "    <tr style=\"text-align: right;\">\n",
       "      <th></th>\n",
       "      <th>DATE</th>\n",
       "      <th>TOURNAMENT</th>\n",
       "      <th>POS</th>\n",
       "      <th>R1</th>\n",
       "      <th>R2</th>\n",
       "      <th>R3</th>\n",
       "      <th>R4</th>\n",
       "      <th>R5</th>\n",
       "      <th>TOTAL</th>\n",
       "      <th>TO PAR</th>\n",
       "      <th>RANK</th>\n",
       "      <th>PTS</th>\n",
       "      <th>Unnamed: 12</th>\n",
       "      <th>RANK.1</th>\n",
       "      <th>PTS.1</th>\n",
       "      <th>WINNINGS</th>\n",
       "      <th>Unnamed: 16</th>\n",
       "    </tr>\n",
       "  </thead>\n",
       "  <tbody>\n",
       "    <tr>\n",
       "      <th>0</th>\n",
       "      <td>10.23.2022</td>\n",
       "      <td>THE CJ CUP in South Carolina</td>\n",
       "      <td>T23</td>\n",
       "      <td>68</td>\n",
       "      <td>67</td>\n",
       "      <td>71</td>\n",
       "      <td>72</td>\n",
       "      <td>-</td>\n",
       "      <td>278.0</td>\n",
       "      <td>-6</td>\n",
       "      <td>99</td>\n",
       "      <td>34.833</td>\n",
       "      <td>NaN</td>\n",
       "      <td>-</td>\n",
       "      <td>-</td>\n",
       "      <td>$88,305.00</td>\n",
       "      <td>NaN</td>\n",
       "    </tr>\n",
       "    <tr>\n",
       "      <th>1</th>\n",
       "      <td>12.4.2022</td>\n",
       "      <td>Hero World Challenge*</td>\n",
       "      <td>18</td>\n",
       "      <td>74</td>\n",
       "      <td>77</td>\n",
       "      <td>71</td>\n",
       "      <td>71</td>\n",
       "      <td>-</td>\n",
       "      <td>293.0</td>\n",
       "      <td>5</td>\n",
       "      <td>-</td>\n",
       "      <td>-</td>\n",
       "      <td>NaN</td>\n",
       "      <td>-</td>\n",
       "      <td>-</td>\n",
       "      <td>$102,000.00</td>\n",
       "      <td>-</td>\n",
       "    </tr>\n",
       "    <tr>\n",
       "      <th>2</th>\n",
       "      <td>2.12.2023</td>\n",
       "      <td>WM Phoenix Open</td>\n",
       "      <td>CUT</td>\n",
       "      <td>75</td>\n",
       "      <td>76</td>\n",
       "      <td>-</td>\n",
       "      <td>-</td>\n",
       "      <td>-</td>\n",
       "      <td>151.0</td>\n",
       "      <td>9</td>\n",
       "      <td>180</td>\n",
       "      <td>-</td>\n",
       "      <td>NaN</td>\n",
       "      <td>-</td>\n",
       "      <td>-</td>\n",
       "      <td>-</td>\n",
       "      <td>NaN</td>\n",
       "    </tr>\n",
       "    <tr>\n",
       "      <th>3</th>\n",
       "      <td>2.19.2023</td>\n",
       "      <td>The Genesis Invitational</td>\n",
       "      <td>T14</td>\n",
       "      <td>69</td>\n",
       "      <td>69</td>\n",
       "      <td>71</td>\n",
       "      <td>68</td>\n",
       "      <td>-</td>\n",
       "      <td>277.0</td>\n",
       "      <td>-7</td>\n",
       "      <td>131</td>\n",
       "      <td>58.25</td>\n",
       "      <td>NaN</td>\n",
       "      <td>-</td>\n",
       "      <td>-</td>\n",
       "      <td>$355,000.00</td>\n",
       "      <td>NaN</td>\n",
       "    </tr>\n",
       "    <tr>\n",
       "      <th>4</th>\n",
       "      <td>2.26.2023</td>\n",
       "      <td>The Honda Classic</td>\n",
       "      <td>T5</td>\n",
       "      <td>68</td>\n",
       "      <td>68</td>\n",
       "      <td>65</td>\n",
       "      <td>70</td>\n",
       "      <td>-</td>\n",
       "      <td>271.0</td>\n",
       "      <td>-9</td>\n",
       "      <td>89</td>\n",
       "      <td>93</td>\n",
       "      <td>NaN</td>\n",
       "      <td>-</td>\n",
       "      <td>-</td>\n",
       "      <td>$288,120.00</td>\n",
       "      <td>NaN</td>\n",
       "    </tr>\n",
       "    <tr>\n",
       "      <th>5</th>\n",
       "      <td>3.5.2023</td>\n",
       "      <td>Arnold Palmer Invitational presented by Master...</td>\n",
       "      <td>67</td>\n",
       "      <td>72</td>\n",
       "      <td>70</td>\n",
       "      <td>80</td>\n",
       "      <td>71</td>\n",
       "      <td>-</td>\n",
       "      <td>293.0</td>\n",
       "      <td>5</td>\n",
       "      <td>97</td>\n",
       "      <td>4.08</td>\n",
       "      <td>NaN</td>\n",
       "      <td>-</td>\n",
       "      <td>-</td>\n",
       "      <td>$42,600.00</td>\n",
       "      <td>NaN</td>\n",
       "    </tr>\n",
       "    <tr>\n",
       "      <th>6</th>\n",
       "      <td>3.12.2023</td>\n",
       "      <td>THE PLAYERS Championship</td>\n",
       "      <td>T35</td>\n",
       "      <td>77</td>\n",
       "      <td>69</td>\n",
       "      <td>68</td>\n",
       "      <td>70</td>\n",
       "      <td>-</td>\n",
       "      <td>284.0</td>\n",
       "      <td>-4</td>\n",
       "      <td>96</td>\n",
       "      <td>19.267</td>\n",
       "      <td>NaN</td>\n",
       "      <td>-</td>\n",
       "      <td>-</td>\n",
       "      <td>$114,166.67</td>\n",
       "      <td>NaN</td>\n",
       "    </tr>\n",
       "    <tr>\n",
       "      <th>7</th>\n",
       "      <td>3.26.2023</td>\n",
       "      <td>World Golf Championships-Dell Technologies Mat...</td>\n",
       "      <td>T31</td>\n",
       "      <td>-</td>\n",
       "      <td>-</td>\n",
       "      <td>-</td>\n",
       "      <td>-</td>\n",
       "      <td>-</td>\n",
       "      <td>0.0</td>\n",
       "      <td>NaN</td>\n",
       "      <td>97</td>\n",
       "      <td>17.729</td>\n",
       "      <td>NaN</td>\n",
       "      <td>-</td>\n",
       "      <td>-</td>\n",
       "      <td>$113,761.91</td>\n",
       "      <td>NaN</td>\n",
       "    </tr>\n",
       "    <tr>\n",
       "      <th>8</th>\n",
       "      <td>4.9.2023</td>\n",
       "      <td>Masters Tournament</td>\n",
       "      <td>T16</td>\n",
       "      <td>68</td>\n",
       "      <td>72</td>\n",
       "      <td>73</td>\n",
       "      <td>73</td>\n",
       "      <td>-</td>\n",
       "      <td>286.0</td>\n",
       "      <td>-2</td>\n",
       "      <td>88</td>\n",
       "      <td>52.886</td>\n",
       "      <td>NaN</td>\n",
       "      <td>-</td>\n",
       "      <td>-</td>\n",
       "      <td>$261,000.00</td>\n",
       "      <td>-</td>\n",
       "    </tr>\n",
       "    <tr>\n",
       "      <th>9</th>\n",
       "      <td>4.16.2023</td>\n",
       "      <td>RBC Heritage</td>\n",
       "      <td>T67</td>\n",
       "      <td>70</td>\n",
       "      <td>69</td>\n",
       "      <td>74</td>\n",
       "      <td>72</td>\n",
       "      <td>-</td>\n",
       "      <td>285.0</td>\n",
       "      <td>1</td>\n",
       "      <td>90</td>\n",
       "      <td>3.3</td>\n",
       "      <td>NaN</td>\n",
       "      <td>-</td>\n",
       "      <td>-</td>\n",
       "      <td>$41,600.00</td>\n",
       "      <td>NaN</td>\n",
       "    </tr>\n",
       "    <tr>\n",
       "      <th>10</th>\n",
       "      <td>5.7.2023</td>\n",
       "      <td>Wells Fargo Championship</td>\n",
       "      <td>CUT</td>\n",
       "      <td>72</td>\n",
       "      <td>72</td>\n",
       "      <td>-</td>\n",
       "      <td>-</td>\n",
       "      <td>-</td>\n",
       "      <td>144.0</td>\n",
       "      <td>2</td>\n",
       "      <td>99</td>\n",
       "      <td>-</td>\n",
       "      <td>NaN</td>\n",
       "      <td>-</td>\n",
       "      <td>-</td>\n",
       "      <td>-</td>\n",
       "      <td>NaN</td>\n",
       "    </tr>\n",
       "    <tr>\n",
       "      <th>11</th>\n",
       "      <td>5.21.2023</td>\n",
       "      <td>PGA Championship</td>\n",
       "      <td>T12</td>\n",
       "      <td>73</td>\n",
       "      <td>67</td>\n",
       "      <td>71</td>\n",
       "      <td>69</td>\n",
       "      <td>-</td>\n",
       "      <td>280.0</td>\n",
       "      <td>E</td>\n",
       "      <td>89</td>\n",
       "      <td>68</td>\n",
       "      <td>NaN</td>\n",
       "      <td>-</td>\n",
       "      <td>-</td>\n",
       "      <td>$365,000.00</td>\n",
       "      <td>-</td>\n",
       "    </tr>\n",
       "    <tr>\n",
       "      <th>12</th>\n",
       "      <td>6.4.2023</td>\n",
       "      <td>the Memorial Tournament presented by Workday</td>\n",
       "      <td>T16</td>\n",
       "      <td>69</td>\n",
       "      <td>76</td>\n",
       "      <td>70</td>\n",
       "      <td>73</td>\n",
       "      <td>-</td>\n",
       "      <td>288.0</td>\n",
       "      <td>E</td>\n",
       "      <td>88</td>\n",
       "      <td>50.925</td>\n",
       "      <td>NaN</td>\n",
       "      <td>-</td>\n",
       "      <td>-</td>\n",
       "      <td>$275,500.00</td>\n",
       "      <td>NaN</td>\n",
       "    </tr>\n",
       "    <tr>\n",
       "      <th>13</th>\n",
       "      <td>6.11.2023</td>\n",
       "      <td>RBC Canadian Open</td>\n",
       "      <td>T43</td>\n",
       "      <td>72</td>\n",
       "      <td>69</td>\n",
       "      <td>70</td>\n",
       "      <td>73</td>\n",
       "      <td>-</td>\n",
       "      <td>284.0</td>\n",
       "      <td>-4</td>\n",
       "      <td>87</td>\n",
       "      <td>10.714</td>\n",
       "      <td>NaN</td>\n",
       "      <td>-</td>\n",
       "      <td>-</td>\n",
       "      <td>$28,530.00</td>\n",
       "      <td>NaN</td>\n",
       "    </tr>\n",
       "    <tr>\n",
       "      <th>14</th>\n",
       "      <td>6.18.2023</td>\n",
       "      <td>U.S. Open</td>\n",
       "      <td>T20</td>\n",
       "      <td>72</td>\n",
       "      <td>70</td>\n",
       "      <td>68</td>\n",
       "      <td>71</td>\n",
       "      <td>-</td>\n",
       "      <td>281.0</td>\n",
       "      <td>1</td>\n",
       "      <td>81</td>\n",
       "      <td>44.443</td>\n",
       "      <td>NaN</td>\n",
       "      <td>-</td>\n",
       "      <td>-</td>\n",
       "      <td>$200,152.00</td>\n",
       "      <td>-</td>\n",
       "    </tr>\n",
       "    <tr>\n",
       "      <th>15</th>\n",
       "      <td>6.25.2023</td>\n",
       "      <td>Travelers Championship</td>\n",
       "      <td>T19</td>\n",
       "      <td>64</td>\n",
       "      <td>69</td>\n",
       "      <td>69</td>\n",
       "      <td>64</td>\n",
       "      <td>-</td>\n",
       "      <td>266.0</td>\n",
       "      <td>-14</td>\n",
       "      <td>74</td>\n",
       "      <td>43</td>\n",
       "      <td>NaN</td>\n",
       "      <td>-</td>\n",
       "      <td>-</td>\n",
       "      <td>$245,800.00</td>\n",
       "      <td>NaN</td>\n",
       "    </tr>\n",
       "    <tr>\n",
       "      <th>16</th>\n",
       "      <td>7.16.2023</td>\n",
       "      <td>Genesis Scottish Open</td>\n",
       "      <td>T12</td>\n",
       "      <td>71</td>\n",
       "      <td>64</td>\n",
       "      <td>65</td>\n",
       "      <td>73</td>\n",
       "      <td>-</td>\n",
       "      <td>273.0</td>\n",
       "      <td>-7</td>\n",
       "      <td>72</td>\n",
       "      <td>55.714</td>\n",
       "      <td>NaN</td>\n",
       "      <td>-</td>\n",
       "      <td>-</td>\n",
       "      <td>$151,007.14</td>\n",
       "      <td>NaN</td>\n",
       "    </tr>\n",
       "    <tr>\n",
       "      <th>17</th>\n",
       "      <td>7.23.2023</td>\n",
       "      <td>The Open Championship</td>\n",
       "      <td>CUT</td>\n",
       "      <td>72</td>\n",
       "      <td>77</td>\n",
       "      <td>-</td>\n",
       "      <td>-</td>\n",
       "      <td>-</td>\n",
       "      <td>149.0</td>\n",
       "      <td>7</td>\n",
       "      <td>73</td>\n",
       "      <td>-</td>\n",
       "      <td>NaN</td>\n",
       "      <td>-</td>\n",
       "      <td>-</td>\n",
       "      <td>-</td>\n",
       "      <td>-</td>\n",
       "    </tr>\n",
       "    <tr>\n",
       "      <th>18</th>\n",
       "      <td>8.6.2023</td>\n",
       "      <td>Wyndham Championship</td>\n",
       "      <td>T51</td>\n",
       "      <td>68</td>\n",
       "      <td>69</td>\n",
       "      <td>70</td>\n",
       "      <td>70</td>\n",
       "      <td>-</td>\n",
       "      <td>277.0</td>\n",
       "      <td>-3</td>\n",
       "      <td>78</td>\n",
       "      <td>6.629</td>\n",
       "      <td>NaN</td>\n",
       "      <td>-</td>\n",
       "      <td>-</td>\n",
       "      <td>$18,164.00</td>\n",
       "      <td>NaN</td>\n",
       "    </tr>\n",
       "    <tr>\n",
       "      <th>19</th>\n",
       "      <td>10.1.2023</td>\n",
       "      <td>Ryder Cup*</td>\n",
       "      <td>1</td>\n",
       "      <td>-</td>\n",
       "      <td>-</td>\n",
       "      <td>-</td>\n",
       "      <td>-</td>\n",
       "      <td>-</td>\n",
       "      <td>NaN</td>\n",
       "      <td>NaN</td>\n",
       "      <td>-</td>\n",
       "      <td>-</td>\n",
       "      <td>NaN</td>\n",
       "      <td>-</td>\n",
       "      <td>-</td>\n",
       "      <td>-</td>\n",
       "      <td>NaN</td>\n",
       "    </tr>\n",
       "  </tbody>\n",
       "</table>\n",
       "</div>"
      ],
      "text/plain": [
       "          DATE                                         TOURNAMENT  POS  R1  \\\n",
       "0   10.23.2022                       THE CJ CUP in South Carolina  T23  68   \n",
       "1    12.4.2022                              Hero World Challenge*   18  74   \n",
       "2    2.12.2023                                    WM Phoenix Open  CUT  75   \n",
       "3    2.19.2023                           The Genesis Invitational  T14  69   \n",
       "4    2.26.2023                                  The Honda Classic   T5  68   \n",
       "5     3.5.2023  Arnold Palmer Invitational presented by Master...   67  72   \n",
       "6    3.12.2023                           THE PLAYERS Championship  T35  77   \n",
       "7    3.26.2023  World Golf Championships-Dell Technologies Mat...  T31   -   \n",
       "8     4.9.2023                                 Masters Tournament  T16  68   \n",
       "9    4.16.2023                                       RBC Heritage  T67  70   \n",
       "10    5.7.2023                           Wells Fargo Championship  CUT  72   \n",
       "11   5.21.2023                                   PGA Championship  T12  73   \n",
       "12    6.4.2023       the Memorial Tournament presented by Workday  T16  69   \n",
       "13   6.11.2023                                  RBC Canadian Open  T43  72   \n",
       "14   6.18.2023                                          U.S. Open  T20  72   \n",
       "15   6.25.2023                             Travelers Championship  T19  64   \n",
       "16   7.16.2023                              Genesis Scottish Open  T12  71   \n",
       "17   7.23.2023                              The Open Championship  CUT  72   \n",
       "18    8.6.2023                               Wyndham Championship  T51  68   \n",
       "19   10.1.2023                                         Ryder Cup*    1   -   \n",
       "\n",
       "    R2  R3  R4 R5  TOTAL TO PAR RANK     PTS  Unnamed: 12 RANK.1 PTS.1  \\\n",
       "0   67  71  72  -  278.0     -6   99  34.833          NaN      -     -   \n",
       "1   77  71  71  -  293.0      5    -       -          NaN      -     -   \n",
       "2   76   -   -  -  151.0      9  180       -          NaN      -     -   \n",
       "3   69  71  68  -  277.0     -7  131   58.25          NaN      -     -   \n",
       "4   68  65  70  -  271.0     -9   89      93          NaN      -     -   \n",
       "5   70  80  71  -  293.0      5   97    4.08          NaN      -     -   \n",
       "6   69  68  70  -  284.0     -4   96  19.267          NaN      -     -   \n",
       "7    -   -   -  -    0.0    NaN   97  17.729          NaN      -     -   \n",
       "8   72  73  73  -  286.0     -2   88  52.886          NaN      -     -   \n",
       "9   69  74  72  -  285.0      1   90     3.3          NaN      -     -   \n",
       "10  72   -   -  -  144.0      2   99       -          NaN      -     -   \n",
       "11  67  71  69  -  280.0      E   89      68          NaN      -     -   \n",
       "12  76  70  73  -  288.0      E   88  50.925          NaN      -     -   \n",
       "13  69  70  73  -  284.0     -4   87  10.714          NaN      -     -   \n",
       "14  70  68  71  -  281.0      1   81  44.443          NaN      -     -   \n",
       "15  69  69  64  -  266.0    -14   74      43          NaN      -     -   \n",
       "16  64  65  73  -  273.0     -7   72  55.714          NaN      -     -   \n",
       "17  77   -   -  -  149.0      7   73       -          NaN      -     -   \n",
       "18  69  70  70  -  277.0     -3   78   6.629          NaN      -     -   \n",
       "19   -   -   -  -    NaN    NaN    -       -          NaN      -     -   \n",
       "\n",
       "       WINNINGS Unnamed: 16  \n",
       "0    $88,305.00         NaN  \n",
       "1   $102,000.00           -  \n",
       "2             -         NaN  \n",
       "3   $355,000.00         NaN  \n",
       "4   $288,120.00         NaN  \n",
       "5    $42,600.00         NaN  \n",
       "6   $114,166.67         NaN  \n",
       "7   $113,761.91         NaN  \n",
       "8   $261,000.00           -  \n",
       "9    $41,600.00         NaN  \n",
       "10            -         NaN  \n",
       "11  $365,000.00           -  \n",
       "12  $275,500.00         NaN  \n",
       "13   $28,530.00         NaN  \n",
       "14  $200,152.00           -  \n",
       "15  $245,800.00         NaN  \n",
       "16  $151,007.14         NaN  \n",
       "17            -           -  \n",
       "18   $18,164.00         NaN  \n",
       "19            -         NaN  "
      ]
     },
     "execution_count": 26,
     "metadata": {},
     "output_type": "execute_result"
    }
   ],
   "source": [
    "dataframe2 = pd.read_excel('Shane Lowry_2022-2-23_Results_time-series.xlsx')\n",
    "dataframe2"
   ]
  },
  {
   "cell_type": "code",
   "execution_count": 27,
   "id": "e872e2f9",
   "metadata": {},
   "outputs": [
    {
     "data": {
      "text/html": [
       "<div>\n",
       "<style scoped>\n",
       "    .dataframe tbody tr th:only-of-type {\n",
       "        vertical-align: middle;\n",
       "    }\n",
       "\n",
       "    .dataframe tbody tr th {\n",
       "        vertical-align: top;\n",
       "    }\n",
       "\n",
       "    .dataframe thead th {\n",
       "        text-align: right;\n",
       "    }\n",
       "</style>\n",
       "<table border=\"1\" class=\"dataframe\">\n",
       "  <thead>\n",
       "    <tr style=\"text-align: right;\">\n",
       "      <th></th>\n",
       "      <th>DATE</th>\n",
       "      <th>TOURNAMENT</th>\n",
       "      <th>POS</th>\n",
       "      <th>R1</th>\n",
       "      <th>R2</th>\n",
       "      <th>R3</th>\n",
       "      <th>R4</th>\n",
       "      <th>R5</th>\n",
       "      <th>TOTAL</th>\n",
       "      <th>TO PAR</th>\n",
       "      <th>RANK</th>\n",
       "      <th>PTS</th>\n",
       "      <th>Unnamed: 12</th>\n",
       "      <th>RANK.1</th>\n",
       "      <th>PTS.1</th>\n",
       "      <th>WINNINGS</th>\n",
       "      <th>Unnamed: 16</th>\n",
       "      <th>datetime</th>\n",
       "    </tr>\n",
       "  </thead>\n",
       "  <tbody>\n",
       "    <tr>\n",
       "      <th>0</th>\n",
       "      <td>10.23.2022</td>\n",
       "      <td>THE CJ CUP in South Carolina</td>\n",
       "      <td>T23</td>\n",
       "      <td>68</td>\n",
       "      <td>67</td>\n",
       "      <td>71</td>\n",
       "      <td>72</td>\n",
       "      <td>-</td>\n",
       "      <td>278.0</td>\n",
       "      <td>-6</td>\n",
       "      <td>99</td>\n",
       "      <td>34.833</td>\n",
       "      <td>NaN</td>\n",
       "      <td>-</td>\n",
       "      <td>-</td>\n",
       "      <td>$88,305.00</td>\n",
       "      <td>NaN</td>\n",
       "      <td>2022-10-23</td>\n",
       "    </tr>\n",
       "    <tr>\n",
       "      <th>1</th>\n",
       "      <td>12.4.2022</td>\n",
       "      <td>Hero World Challenge*</td>\n",
       "      <td>18</td>\n",
       "      <td>74</td>\n",
       "      <td>77</td>\n",
       "      <td>71</td>\n",
       "      <td>71</td>\n",
       "      <td>-</td>\n",
       "      <td>293.0</td>\n",
       "      <td>5</td>\n",
       "      <td>-</td>\n",
       "      <td>-</td>\n",
       "      <td>NaN</td>\n",
       "      <td>-</td>\n",
       "      <td>-</td>\n",
       "      <td>$102,000.00</td>\n",
       "      <td>-</td>\n",
       "      <td>2022-12-04</td>\n",
       "    </tr>\n",
       "    <tr>\n",
       "      <th>2</th>\n",
       "      <td>2.12.2023</td>\n",
       "      <td>WM Phoenix Open</td>\n",
       "      <td>CUT</td>\n",
       "      <td>75</td>\n",
       "      <td>76</td>\n",
       "      <td>-</td>\n",
       "      <td>-</td>\n",
       "      <td>-</td>\n",
       "      <td>151.0</td>\n",
       "      <td>9</td>\n",
       "      <td>180</td>\n",
       "      <td>-</td>\n",
       "      <td>NaN</td>\n",
       "      <td>-</td>\n",
       "      <td>-</td>\n",
       "      <td>-</td>\n",
       "      <td>NaN</td>\n",
       "      <td>2023-02-12</td>\n",
       "    </tr>\n",
       "    <tr>\n",
       "      <th>3</th>\n",
       "      <td>2.19.2023</td>\n",
       "      <td>The Genesis Invitational</td>\n",
       "      <td>T14</td>\n",
       "      <td>69</td>\n",
       "      <td>69</td>\n",
       "      <td>71</td>\n",
       "      <td>68</td>\n",
       "      <td>-</td>\n",
       "      <td>277.0</td>\n",
       "      <td>-7</td>\n",
       "      <td>131</td>\n",
       "      <td>58.25</td>\n",
       "      <td>NaN</td>\n",
       "      <td>-</td>\n",
       "      <td>-</td>\n",
       "      <td>$355,000.00</td>\n",
       "      <td>NaN</td>\n",
       "      <td>2023-02-19</td>\n",
       "    </tr>\n",
       "    <tr>\n",
       "      <th>4</th>\n",
       "      <td>2.26.2023</td>\n",
       "      <td>The Honda Classic</td>\n",
       "      <td>T5</td>\n",
       "      <td>68</td>\n",
       "      <td>68</td>\n",
       "      <td>65</td>\n",
       "      <td>70</td>\n",
       "      <td>-</td>\n",
       "      <td>271.0</td>\n",
       "      <td>-9</td>\n",
       "      <td>89</td>\n",
       "      <td>93</td>\n",
       "      <td>NaN</td>\n",
       "      <td>-</td>\n",
       "      <td>-</td>\n",
       "      <td>$288,120.00</td>\n",
       "      <td>NaN</td>\n",
       "      <td>2023-02-26</td>\n",
       "    </tr>\n",
       "    <tr>\n",
       "      <th>5</th>\n",
       "      <td>3.5.2023</td>\n",
       "      <td>Arnold Palmer Invitational presented by Master...</td>\n",
       "      <td>67</td>\n",
       "      <td>72</td>\n",
       "      <td>70</td>\n",
       "      <td>80</td>\n",
       "      <td>71</td>\n",
       "      <td>-</td>\n",
       "      <td>293.0</td>\n",
       "      <td>5</td>\n",
       "      <td>97</td>\n",
       "      <td>4.08</td>\n",
       "      <td>NaN</td>\n",
       "      <td>-</td>\n",
       "      <td>-</td>\n",
       "      <td>$42,600.00</td>\n",
       "      <td>NaN</td>\n",
       "      <td>2023-03-05</td>\n",
       "    </tr>\n",
       "    <tr>\n",
       "      <th>6</th>\n",
       "      <td>3.12.2023</td>\n",
       "      <td>THE PLAYERS Championship</td>\n",
       "      <td>T35</td>\n",
       "      <td>77</td>\n",
       "      <td>69</td>\n",
       "      <td>68</td>\n",
       "      <td>70</td>\n",
       "      <td>-</td>\n",
       "      <td>284.0</td>\n",
       "      <td>-4</td>\n",
       "      <td>96</td>\n",
       "      <td>19.267</td>\n",
       "      <td>NaN</td>\n",
       "      <td>-</td>\n",
       "      <td>-</td>\n",
       "      <td>$114,166.67</td>\n",
       "      <td>NaN</td>\n",
       "      <td>2023-03-12</td>\n",
       "    </tr>\n",
       "    <tr>\n",
       "      <th>7</th>\n",
       "      <td>3.26.2023</td>\n",
       "      <td>World Golf Championships-Dell Technologies Mat...</td>\n",
       "      <td>T31</td>\n",
       "      <td>-</td>\n",
       "      <td>-</td>\n",
       "      <td>-</td>\n",
       "      <td>-</td>\n",
       "      <td>-</td>\n",
       "      <td>0.0</td>\n",
       "      <td>NaN</td>\n",
       "      <td>97</td>\n",
       "      <td>17.729</td>\n",
       "      <td>NaN</td>\n",
       "      <td>-</td>\n",
       "      <td>-</td>\n",
       "      <td>$113,761.91</td>\n",
       "      <td>NaN</td>\n",
       "      <td>2023-03-26</td>\n",
       "    </tr>\n",
       "    <tr>\n",
       "      <th>8</th>\n",
       "      <td>4.9.2023</td>\n",
       "      <td>Masters Tournament</td>\n",
       "      <td>T16</td>\n",
       "      <td>68</td>\n",
       "      <td>72</td>\n",
       "      <td>73</td>\n",
       "      <td>73</td>\n",
       "      <td>-</td>\n",
       "      <td>286.0</td>\n",
       "      <td>-2</td>\n",
       "      <td>88</td>\n",
       "      <td>52.886</td>\n",
       "      <td>NaN</td>\n",
       "      <td>-</td>\n",
       "      <td>-</td>\n",
       "      <td>$261,000.00</td>\n",
       "      <td>-</td>\n",
       "      <td>2023-04-09</td>\n",
       "    </tr>\n",
       "    <tr>\n",
       "      <th>9</th>\n",
       "      <td>4.16.2023</td>\n",
       "      <td>RBC Heritage</td>\n",
       "      <td>T67</td>\n",
       "      <td>70</td>\n",
       "      <td>69</td>\n",
       "      <td>74</td>\n",
       "      <td>72</td>\n",
       "      <td>-</td>\n",
       "      <td>285.0</td>\n",
       "      <td>1</td>\n",
       "      <td>90</td>\n",
       "      <td>3.3</td>\n",
       "      <td>NaN</td>\n",
       "      <td>-</td>\n",
       "      <td>-</td>\n",
       "      <td>$41,600.00</td>\n",
       "      <td>NaN</td>\n",
       "      <td>2023-04-16</td>\n",
       "    </tr>\n",
       "    <tr>\n",
       "      <th>10</th>\n",
       "      <td>5.7.2023</td>\n",
       "      <td>Wells Fargo Championship</td>\n",
       "      <td>CUT</td>\n",
       "      <td>72</td>\n",
       "      <td>72</td>\n",
       "      <td>-</td>\n",
       "      <td>-</td>\n",
       "      <td>-</td>\n",
       "      <td>144.0</td>\n",
       "      <td>2</td>\n",
       "      <td>99</td>\n",
       "      <td>-</td>\n",
       "      <td>NaN</td>\n",
       "      <td>-</td>\n",
       "      <td>-</td>\n",
       "      <td>-</td>\n",
       "      <td>NaN</td>\n",
       "      <td>2023-05-07</td>\n",
       "    </tr>\n",
       "    <tr>\n",
       "      <th>11</th>\n",
       "      <td>5.21.2023</td>\n",
       "      <td>PGA Championship</td>\n",
       "      <td>T12</td>\n",
       "      <td>73</td>\n",
       "      <td>67</td>\n",
       "      <td>71</td>\n",
       "      <td>69</td>\n",
       "      <td>-</td>\n",
       "      <td>280.0</td>\n",
       "      <td>E</td>\n",
       "      <td>89</td>\n",
       "      <td>68</td>\n",
       "      <td>NaN</td>\n",
       "      <td>-</td>\n",
       "      <td>-</td>\n",
       "      <td>$365,000.00</td>\n",
       "      <td>-</td>\n",
       "      <td>2023-05-21</td>\n",
       "    </tr>\n",
       "    <tr>\n",
       "      <th>12</th>\n",
       "      <td>6.4.2023</td>\n",
       "      <td>the Memorial Tournament presented by Workday</td>\n",
       "      <td>T16</td>\n",
       "      <td>69</td>\n",
       "      <td>76</td>\n",
       "      <td>70</td>\n",
       "      <td>73</td>\n",
       "      <td>-</td>\n",
       "      <td>288.0</td>\n",
       "      <td>E</td>\n",
       "      <td>88</td>\n",
       "      <td>50.925</td>\n",
       "      <td>NaN</td>\n",
       "      <td>-</td>\n",
       "      <td>-</td>\n",
       "      <td>$275,500.00</td>\n",
       "      <td>NaN</td>\n",
       "      <td>2023-06-04</td>\n",
       "    </tr>\n",
       "    <tr>\n",
       "      <th>13</th>\n",
       "      <td>6.11.2023</td>\n",
       "      <td>RBC Canadian Open</td>\n",
       "      <td>T43</td>\n",
       "      <td>72</td>\n",
       "      <td>69</td>\n",
       "      <td>70</td>\n",
       "      <td>73</td>\n",
       "      <td>-</td>\n",
       "      <td>284.0</td>\n",
       "      <td>-4</td>\n",
       "      <td>87</td>\n",
       "      <td>10.714</td>\n",
       "      <td>NaN</td>\n",
       "      <td>-</td>\n",
       "      <td>-</td>\n",
       "      <td>$28,530.00</td>\n",
       "      <td>NaN</td>\n",
       "      <td>2023-06-11</td>\n",
       "    </tr>\n",
       "    <tr>\n",
       "      <th>14</th>\n",
       "      <td>6.18.2023</td>\n",
       "      <td>U.S. Open</td>\n",
       "      <td>T20</td>\n",
       "      <td>72</td>\n",
       "      <td>70</td>\n",
       "      <td>68</td>\n",
       "      <td>71</td>\n",
       "      <td>-</td>\n",
       "      <td>281.0</td>\n",
       "      <td>1</td>\n",
       "      <td>81</td>\n",
       "      <td>44.443</td>\n",
       "      <td>NaN</td>\n",
       "      <td>-</td>\n",
       "      <td>-</td>\n",
       "      <td>$200,152.00</td>\n",
       "      <td>-</td>\n",
       "      <td>2023-06-18</td>\n",
       "    </tr>\n",
       "    <tr>\n",
       "      <th>15</th>\n",
       "      <td>6.25.2023</td>\n",
       "      <td>Travelers Championship</td>\n",
       "      <td>T19</td>\n",
       "      <td>64</td>\n",
       "      <td>69</td>\n",
       "      <td>69</td>\n",
       "      <td>64</td>\n",
       "      <td>-</td>\n",
       "      <td>266.0</td>\n",
       "      <td>-14</td>\n",
       "      <td>74</td>\n",
       "      <td>43</td>\n",
       "      <td>NaN</td>\n",
       "      <td>-</td>\n",
       "      <td>-</td>\n",
       "      <td>$245,800.00</td>\n",
       "      <td>NaN</td>\n",
       "      <td>2023-06-25</td>\n",
       "    </tr>\n",
       "    <tr>\n",
       "      <th>16</th>\n",
       "      <td>7.16.2023</td>\n",
       "      <td>Genesis Scottish Open</td>\n",
       "      <td>T12</td>\n",
       "      <td>71</td>\n",
       "      <td>64</td>\n",
       "      <td>65</td>\n",
       "      <td>73</td>\n",
       "      <td>-</td>\n",
       "      <td>273.0</td>\n",
       "      <td>-7</td>\n",
       "      <td>72</td>\n",
       "      <td>55.714</td>\n",
       "      <td>NaN</td>\n",
       "      <td>-</td>\n",
       "      <td>-</td>\n",
       "      <td>$151,007.14</td>\n",
       "      <td>NaN</td>\n",
       "      <td>2023-07-16</td>\n",
       "    </tr>\n",
       "    <tr>\n",
       "      <th>17</th>\n",
       "      <td>7.23.2023</td>\n",
       "      <td>The Open Championship</td>\n",
       "      <td>CUT</td>\n",
       "      <td>72</td>\n",
       "      <td>77</td>\n",
       "      <td>-</td>\n",
       "      <td>-</td>\n",
       "      <td>-</td>\n",
       "      <td>149.0</td>\n",
       "      <td>7</td>\n",
       "      <td>73</td>\n",
       "      <td>-</td>\n",
       "      <td>NaN</td>\n",
       "      <td>-</td>\n",
       "      <td>-</td>\n",
       "      <td>-</td>\n",
       "      <td>-</td>\n",
       "      <td>2023-07-23</td>\n",
       "    </tr>\n",
       "    <tr>\n",
       "      <th>18</th>\n",
       "      <td>8.6.2023</td>\n",
       "      <td>Wyndham Championship</td>\n",
       "      <td>T51</td>\n",
       "      <td>68</td>\n",
       "      <td>69</td>\n",
       "      <td>70</td>\n",
       "      <td>70</td>\n",
       "      <td>-</td>\n",
       "      <td>277.0</td>\n",
       "      <td>-3</td>\n",
       "      <td>78</td>\n",
       "      <td>6.629</td>\n",
       "      <td>NaN</td>\n",
       "      <td>-</td>\n",
       "      <td>-</td>\n",
       "      <td>$18,164.00</td>\n",
       "      <td>NaN</td>\n",
       "      <td>2023-08-06</td>\n",
       "    </tr>\n",
       "    <tr>\n",
       "      <th>19</th>\n",
       "      <td>10.1.2023</td>\n",
       "      <td>Ryder Cup*</td>\n",
       "      <td>1</td>\n",
       "      <td>-</td>\n",
       "      <td>-</td>\n",
       "      <td>-</td>\n",
       "      <td>-</td>\n",
       "      <td>-</td>\n",
       "      <td>NaN</td>\n",
       "      <td>NaN</td>\n",
       "      <td>-</td>\n",
       "      <td>-</td>\n",
       "      <td>NaN</td>\n",
       "      <td>-</td>\n",
       "      <td>-</td>\n",
       "      <td>-</td>\n",
       "      <td>NaN</td>\n",
       "      <td>2023-10-01</td>\n",
       "    </tr>\n",
       "  </tbody>\n",
       "</table>\n",
       "</div>"
      ],
      "text/plain": [
       "          DATE                                         TOURNAMENT  POS  R1  \\\n",
       "0   10.23.2022                       THE CJ CUP in South Carolina  T23  68   \n",
       "1    12.4.2022                              Hero World Challenge*   18  74   \n",
       "2    2.12.2023                                    WM Phoenix Open  CUT  75   \n",
       "3    2.19.2023                           The Genesis Invitational  T14  69   \n",
       "4    2.26.2023                                  The Honda Classic   T5  68   \n",
       "5     3.5.2023  Arnold Palmer Invitational presented by Master...   67  72   \n",
       "6    3.12.2023                           THE PLAYERS Championship  T35  77   \n",
       "7    3.26.2023  World Golf Championships-Dell Technologies Mat...  T31   -   \n",
       "8     4.9.2023                                 Masters Tournament  T16  68   \n",
       "9    4.16.2023                                       RBC Heritage  T67  70   \n",
       "10    5.7.2023                           Wells Fargo Championship  CUT  72   \n",
       "11   5.21.2023                                   PGA Championship  T12  73   \n",
       "12    6.4.2023       the Memorial Tournament presented by Workday  T16  69   \n",
       "13   6.11.2023                                  RBC Canadian Open  T43  72   \n",
       "14   6.18.2023                                          U.S. Open  T20  72   \n",
       "15   6.25.2023                             Travelers Championship  T19  64   \n",
       "16   7.16.2023                              Genesis Scottish Open  T12  71   \n",
       "17   7.23.2023                              The Open Championship  CUT  72   \n",
       "18    8.6.2023                               Wyndham Championship  T51  68   \n",
       "19   10.1.2023                                         Ryder Cup*    1   -   \n",
       "\n",
       "    R2  R3  R4 R5  TOTAL TO PAR RANK     PTS  Unnamed: 12 RANK.1 PTS.1  \\\n",
       "0   67  71  72  -  278.0     -6   99  34.833          NaN      -     -   \n",
       "1   77  71  71  -  293.0      5    -       -          NaN      -     -   \n",
       "2   76   -   -  -  151.0      9  180       -          NaN      -     -   \n",
       "3   69  71  68  -  277.0     -7  131   58.25          NaN      -     -   \n",
       "4   68  65  70  -  271.0     -9   89      93          NaN      -     -   \n",
       "5   70  80  71  -  293.0      5   97    4.08          NaN      -     -   \n",
       "6   69  68  70  -  284.0     -4   96  19.267          NaN      -     -   \n",
       "7    -   -   -  -    0.0    NaN   97  17.729          NaN      -     -   \n",
       "8   72  73  73  -  286.0     -2   88  52.886          NaN      -     -   \n",
       "9   69  74  72  -  285.0      1   90     3.3          NaN      -     -   \n",
       "10  72   -   -  -  144.0      2   99       -          NaN      -     -   \n",
       "11  67  71  69  -  280.0      E   89      68          NaN      -     -   \n",
       "12  76  70  73  -  288.0      E   88  50.925          NaN      -     -   \n",
       "13  69  70  73  -  284.0     -4   87  10.714          NaN      -     -   \n",
       "14  70  68  71  -  281.0      1   81  44.443          NaN      -     -   \n",
       "15  69  69  64  -  266.0    -14   74      43          NaN      -     -   \n",
       "16  64  65  73  -  273.0     -7   72  55.714          NaN      -     -   \n",
       "17  77   -   -  -  149.0      7   73       -          NaN      -     -   \n",
       "18  69  70  70  -  277.0     -3   78   6.629          NaN      -     -   \n",
       "19   -   -   -  -    NaN    NaN    -       -          NaN      -     -   \n",
       "\n",
       "       WINNINGS Unnamed: 16   datetime  \n",
       "0    $88,305.00         NaN 2022-10-23  \n",
       "1   $102,000.00           - 2022-12-04  \n",
       "2             -         NaN 2023-02-12  \n",
       "3   $355,000.00         NaN 2023-02-19  \n",
       "4   $288,120.00         NaN 2023-02-26  \n",
       "5    $42,600.00         NaN 2023-03-05  \n",
       "6   $114,166.67         NaN 2023-03-12  \n",
       "7   $113,761.91         NaN 2023-03-26  \n",
       "8   $261,000.00           - 2023-04-09  \n",
       "9    $41,600.00         NaN 2023-04-16  \n",
       "10            -         NaN 2023-05-07  \n",
       "11  $365,000.00           - 2023-05-21  \n",
       "12  $275,500.00         NaN 2023-06-04  \n",
       "13   $28,530.00         NaN 2023-06-11  \n",
       "14  $200,152.00           - 2023-06-18  \n",
       "15  $245,800.00         NaN 2023-06-25  \n",
       "16  $151,007.14         NaN 2023-07-16  \n",
       "17            -           - 2023-07-23  \n",
       "18   $18,164.00         NaN 2023-08-06  \n",
       "19            -         NaN 2023-10-01  "
      ]
     },
     "execution_count": 27,
     "metadata": {},
     "output_type": "execute_result"
    }
   ],
   "source": [
    "dataframe2['datetime'] = pd.to_datetime(dataframe2['DATE'])\n",
    "dataframe2"
   ]
  },
  {
   "cell_type": "code",
   "execution_count": 28,
   "id": "8323e2cc",
   "metadata": {},
   "outputs": [
    {
     "data": {
      "text/plain": [
       "0    2022-10-23\n",
       "1    2022-12-04\n",
       "2    2023-02-12\n",
       "3    2023-02-19\n",
       "4    2023-02-26\n",
       "5    2023-03-05\n",
       "6    2023-03-12\n",
       "7    2023-03-26\n",
       "8    2023-04-09\n",
       "9    2023-04-16\n",
       "10   2023-05-07\n",
       "11   2023-05-21\n",
       "12   2023-06-04\n",
       "13   2023-06-11\n",
       "14   2023-06-18\n",
       "15   2023-06-25\n",
       "16   2023-07-16\n",
       "17   2023-07-23\n",
       "18   2023-08-06\n",
       "19   2023-10-01\n",
       "Name: datetime, dtype: datetime64[ns]"
      ]
     },
     "execution_count": 28,
     "metadata": {},
     "output_type": "execute_result"
    }
   ],
   "source": [
    "dataframe2['datetime']"
   ]
  },
  {
   "cell_type": "code",
   "execution_count": 29,
   "id": "03e9661c",
   "metadata": {},
   "outputs": [
    {
     "data": {
      "text/plain": [
       "<AxesSubplot:xlabel='datetime', ylabel='WINNINGS'>"
      ]
     },
     "execution_count": 29,
     "metadata": {},
     "output_type": "execute_result"
    },
    {
     "data": {
      "image/png": "[encoded data removed]",
      "text/plain": [
       "<Figure size 640x480 with 1 Axes>"
      ]
     },
     "metadata": {},
     "output_type": "display_data"
    }
   ],
   "source": [
    "import seaborn as sns\n",
    "sns.lineplot(data=dataframe2, x=\"datetime\", y=\"WINNINGS\")"
   ]
  },
  {
   "cell_type": "code",
   "execution_count": 30,
   "id": "39e87007",
   "metadata": {},
   "outputs": [
    {
     "data": {
      "text/plain": [
       "DatetimeIndex(['2022-10-23', '2022-10-30', '2022-11-06', '2022-11-13',\n",
       "               '2022-11-20', '2022-11-27', '2022-12-04', '2022-12-11',\n",
       "               '2022-12-18', '2022-12-25', '2023-01-01', '2023-01-08',\n",
       "               '2023-01-15', '2023-01-22', '2023-01-29', '2023-02-05',\n",
       "               '2023-02-12', '2023-02-19', '2023-02-26', '2023-03-05',\n",
       "               '2023-03-12', '2023-03-19', '2023-03-26', '2023-04-02',\n",
       "               '2023-04-09', '2023-04-16', '2023-04-23', '2023-04-30',\n",
       "               '2023-05-07', '2023-05-14', '2023-05-21', '2023-05-28',\n",
       "               '2023-06-04', '2023-06-11', '2023-06-18', '2023-06-25',\n",
       "               '2023-07-02', '2023-07-09', '2023-07-16', '2023-07-23',\n",
       "               '2023-07-30', '2023-08-06', '2023-08-13', '2023-08-20',\n",
       "               '2023-08-27', '2023-09-03', '2023-09-10', '2023-09-17',\n",
       "               '2023-09-24', '2023-10-01', '2023-10-08', '2023-10-15'],\n",
       "              dtype='datetime64[ns]', freq='W-SUN')"
      ]
     },
     "execution_count": 30,
     "metadata": {},
     "output_type": "execute_result"
    }
   ],
   "source": [
    "dti = pd.date_range(\"2022-10-23\", periods=52, freq=\"W\")\n",
    "len(dti)\n",
    "dti"
   ]
  },
  {
   "cell_type": "code",
   "execution_count": 31,
   "id": "24582a7f",
   "metadata": {},
   "outputs": [
    {
     "data": {
      "text/plain": [
       "0      $88,305.00\n",
       "1     $102,000.00\n",
       "2               -\n",
       "3     $355,000.00\n",
       "4     $288,120.00\n",
       "5      $42,600.00\n",
       "6     $114,166.67\n",
       "7     $113,761.91\n",
       "8     $261,000.00\n",
       "9      $41,600.00\n",
       "10              -\n",
       "11    $365,000.00\n",
       "12    $275,500.00\n",
       "13     $28,530.00\n",
       "14    $200,152.00\n",
       "15    $245,800.00\n",
       "16    $151,007.14\n",
       "17              -\n",
       "18     $18,164.00\n",
       "19              -\n",
       "Name: WINNINGS, dtype: object"
      ]
     },
     "execution_count": 31,
     "metadata": {},
     "output_type": "execute_result"
    }
   ],
   "source": [
    "winnings = dataframe2['WINNINGS']\n",
    "winnings"
   ]
  },
  {
   "cell_type": "code",
   "execution_count": 32,
   "id": "76197d92",
   "metadata": {},
   "outputs": [
    {
     "data": {
      "text/plain": [
       "0      88305.00\n",
       "1     102000.00\n",
       "2             0\n",
       "3     355000.00\n",
       "4     288120.00\n",
       "5      42600.00\n",
       "6     114166.67\n",
       "7     113761.91\n",
       "8     261000.00\n",
       "9      41600.00\n",
       "10            0\n",
       "11    365000.00\n",
       "12    275500.00\n",
       "13     28530.00\n",
       "14    200152.00\n",
       "15    245800.00\n",
       "16    151007.14\n",
       "17            0\n",
       "18     18164.00\n",
       "19            0\n",
       "Name: WINNINGS, dtype: object"
      ]
     },
     "execution_count": 32,
     "metadata": {},
     "output_type": "execute_result"
    }
   ],
   "source": [
    "dataframe2['WINNINGS'] = dataframe2['WINNINGS'].replace({r'\\$':''}, regex = True)\n",
    "dataframe2['WINNINGS'] = dataframe2['WINNINGS'].replace({r'\\,':''}, regex = True)\n",
    "dataframe2['WINNINGS'] = dataframe2['WINNINGS'].replace({r'\\-':'0'}, regex = True)\n",
    "winnings = dataframe2['WINNINGS']\n",
    "winnings"
   ]
  },
  {
   "cell_type": "code",
   "execution_count": 33,
   "id": "d2102cbf",
   "metadata": {},
   "outputs": [
    {
     "data": {
      "text/plain": [
       "0      88305.00\n",
       "1     102000.00\n",
       "2          0.00\n",
       "3     355000.00\n",
       "4     288120.00\n",
       "5      42600.00\n",
       "6     114166.67\n",
       "7     113761.91\n",
       "8     261000.00\n",
       "9      41600.00\n",
       "10         0.00\n",
       "11    365000.00\n",
       "12    275500.00\n",
       "13     28530.00\n",
       "14    200152.00\n",
       "15    245800.00\n",
       "16    151007.14\n",
       "17         0.00\n",
       "18     18164.00\n",
       "19         0.00\n",
       "Name: WINNINGS, dtype: float64"
      ]
     },
     "execution_count": 33,
     "metadata": {},
     "output_type": "execute_result"
    }
   ],
   "source": [
    "dataframe2['WINNINGS'] = pd.to_numeric(dataframe2['WINNINGS'])\n",
    "dataframe2['WINNINGS']"
   ]
  },
  {
   "cell_type": "code",
   "execution_count": 61,
   "id": "d6c33209",
   "metadata": {},
   "outputs": [
    {
     "data": {
      "text/plain": [
       "<AxesSubplot:xlabel='datetime', ylabel='WINNINGS'>"
      ]
     },
     "execution_count": 61,
     "metadata": {},
     "output_type": "execute_result"
    },
    {
     "data": {
      "image/png": "[encoded data removed]",
      "text/plain": [
       "<Figure size 640x480 with 1 Axes>"
      ]
     },
     "metadata": {},
     "output_type": "display_data"
    }
   ],
   "source": [
    "sns.lineplot(data=dataframe2, x=\"datetime\", y=\"WINNINGS\")"
   ]
  },
  {
   "cell_type": "code",
   "execution_count": 34,
   "id": "3f499d98",
   "metadata": {},
   "outputs": [
    {
     "data": {
      "text/plain": [
       "134535.336"
      ]
     },
     "execution_count": 34,
     "metadata": {},
     "output_type": "execute_result"
    }
   ],
   "source": [
    "mean = dataframe2.WINNINGS.mean()\n",
    "mean"
   ]
  },
  {
   "cell_type": "code",
   "execution_count": 35,
   "id": "a8397012",
   "metadata": {},
   "outputs": [
    {
     "data": {
      "text/plain": [
       "124907.89379401015"
      ]
     },
     "execution_count": 35,
     "metadata": {},
     "output_type": "execute_result"
    }
   ],
   "source": [
    "sigma = dataframe2.WINNINGS.std()\n",
    "sigma"
   ]
  },
  {
   "cell_type": "code",
   "execution_count": 36,
   "id": "34d0c3a6",
   "metadata": {},
   "outputs": [
    {
     "data": {
      "text/html": [
       "<div>\n",
       "<style scoped>\n",
       "    .dataframe tbody tr th:only-of-type {\n",
       "        vertical-align: middle;\n",
       "    }\n",
       "\n",
       "    .dataframe tbody tr th {\n",
       "        vertical-align: top;\n",
       "    }\n",
       "\n",
       "    .dataframe thead th {\n",
       "        text-align: right;\n",
       "    }\n",
       "</style>\n",
       "<table border=\"1\" class=\"dataframe\">\n",
       "  <thead>\n",
       "    <tr style=\"text-align: right;\">\n",
       "      <th></th>\n",
       "      <th>0</th>\n",
       "    </tr>\n",
       "  </thead>\n",
       "  <tbody>\n",
       "    <tr>\n",
       "      <th>2022-10-23</th>\n",
       "      <td>134439</td>\n",
       "    </tr>\n",
       "    <tr>\n",
       "      <th>2022-10-30</th>\n",
       "      <td>134517</td>\n",
       "    </tr>\n",
       "    <tr>\n",
       "      <th>2022-11-06</th>\n",
       "      <td>135045</td>\n",
       "    </tr>\n",
       "    <tr>\n",
       "      <th>2022-11-13</th>\n",
       "      <td>134386</td>\n",
       "    </tr>\n",
       "    <tr>\n",
       "      <th>2022-11-20</th>\n",
       "      <td>134936</td>\n",
       "    </tr>\n",
       "  </tbody>\n",
       "</table>\n",
       "</div>"
      ],
      "text/plain": [
       "                 0\n",
       "2022-10-23  134439\n",
       "2022-10-30  134517\n",
       "2022-11-06  135045\n",
       "2022-11-13  134386\n",
       "2022-11-20  134936"
      ]
     },
     "execution_count": 36,
     "metadata": {},
     "output_type": "execute_result"
    }
   ],
   "source": [
    "rng = np.random.default_rng() \n",
    "d = rng.poisson(mean, len(dti))\n",
    "df = pd.DataFrame(data=d, index = dti)\n",
    "df.head()"
   ]
  },
  {
   "cell_type": "code",
   "execution_count": 37,
   "id": "d6f5aeb7",
   "metadata": {},
   "outputs": [
    {
     "data": {
      "text/html": [
       "<div>\n",
       "<style scoped>\n",
       "    .dataframe tbody tr th:only-of-type {\n",
       "        vertical-align: middle;\n",
       "    }\n",
       "\n",
       "    .dataframe tbody tr th {\n",
       "        vertical-align: top;\n",
       "    }\n",
       "\n",
       "    .dataframe thead th {\n",
       "        text-align: right;\n",
       "    }\n",
       "</style>\n",
       "<table border=\"1\" class=\"dataframe\">\n",
       "  <thead>\n",
       "    <tr style=\"text-align: right;\">\n",
       "      <th></th>\n",
       "      <th>WINNINGS</th>\n",
       "    </tr>\n",
       "  </thead>\n",
       "  <tbody>\n",
       "    <tr>\n",
       "      <th>2022-10-23</th>\n",
       "      <td>134439</td>\n",
       "    </tr>\n",
       "    <tr>\n",
       "      <th>2022-10-30</th>\n",
       "      <td>134517</td>\n",
       "    </tr>\n",
       "    <tr>\n",
       "      <th>2022-11-06</th>\n",
       "      <td>135045</td>\n",
       "    </tr>\n",
       "    <tr>\n",
       "      <th>2022-11-13</th>\n",
       "      <td>134386</td>\n",
       "    </tr>\n",
       "    <tr>\n",
       "      <th>2022-11-20</th>\n",
       "      <td>134936</td>\n",
       "    </tr>\n",
       "  </tbody>\n",
       "</table>\n",
       "</div>"
      ],
      "text/plain": [
       "            WINNINGS\n",
       "2022-10-23    134439\n",
       "2022-10-30    134517\n",
       "2022-11-06    135045\n",
       "2022-11-13    134386\n",
       "2022-11-20    134936"
      ]
     },
     "execution_count": 37,
     "metadata": {},
     "output_type": "execute_result"
    }
   ],
   "source": [
    "df.columns =['WINNINGS']\n",
    "df.head()"
   ]
  },
  {
   "cell_type": "code",
   "execution_count": 38,
   "id": "e59cf8cd",
   "metadata": {},
   "outputs": [
    {
     "data": {
      "text/plain": [
       "<AxesSubplot:>"
      ]
     },
     "execution_count": 38,
     "metadata": {},
     "output_type": "execute_result"
    },
    {
     "data": {
      "image/png": "[encoded data removed]",
      "text/plain": [
       "<Figure size 640x480 with 1 Axes>"
      ]
     },
     "metadata": {},
     "output_type": "display_data"
    }
   ],
   "source": [
    "df.plot(y=\"WINNINGS\")"
   ]
  },
  {
   "cell_type": "code",
   "execution_count": 39,
   "id": "d26764c9",
   "metadata": {},
   "outputs": [
    {
     "data": {
      "text/html": [
       "<div>\n",
       "<style scoped>\n",
       "    .dataframe tbody tr th:only-of-type {\n",
       "        vertical-align: middle;\n",
       "    }\n",
       "\n",
       "    .dataframe tbody tr th {\n",
       "        vertical-align: top;\n",
       "    }\n",
       "\n",
       "    .dataframe thead th {\n",
       "        text-align: right;\n",
       "    }\n",
       "</style>\n",
       "<table border=\"1\" class=\"dataframe\">\n",
       "  <thead>\n",
       "    <tr style=\"text-align: right;\">\n",
       "      <th></th>\n",
       "      <th>0</th>\n",
       "    </tr>\n",
       "  </thead>\n",
       "  <tbody>\n",
       "    <tr>\n",
       "      <th>2022-10-23</th>\n",
       "      <td>236097.718097</td>\n",
       "    </tr>\n",
       "    <tr>\n",
       "      <th>2022-10-30</th>\n",
       "      <td>172530.200271</td>\n",
       "    </tr>\n",
       "    <tr>\n",
       "      <th>2022-11-06</th>\n",
       "      <td>117510.592270</td>\n",
       "    </tr>\n",
       "    <tr>\n",
       "      <th>2022-11-13</th>\n",
       "      <td>176591.393985</td>\n",
       "    </tr>\n",
       "    <tr>\n",
       "      <th>2022-11-20</th>\n",
       "      <td>34947.698760</td>\n",
       "    </tr>\n",
       "  </tbody>\n",
       "</table>\n",
       "</div>"
      ],
      "text/plain": [
       "                        0\n",
       "2022-10-23  236097.718097\n",
       "2022-10-30  172530.200271\n",
       "2022-11-06  117510.592270\n",
       "2022-11-13  176591.393985\n",
       "2022-11-20   34947.698760"
      ]
     },
     "execution_count": 39,
     "metadata": {},
     "output_type": "execute_result"
    }
   ],
   "source": [
    "d = rng.normal(mean,sigma,len(dti))\n",
    "df = pd.DataFrame(data=d, index = dti)\n",
    "df.head()"
   ]
  },
  {
   "cell_type": "code",
   "execution_count": 40,
   "id": "bc0d6aa5",
   "metadata": {},
   "outputs": [
    {
     "data": {
      "text/html": [
       "<div>\n",
       "<style scoped>\n",
       "    .dataframe tbody tr th:only-of-type {\n",
       "        vertical-align: middle;\n",
       "    }\n",
       "\n",
       "    .dataframe tbody tr th {\n",
       "        vertical-align: top;\n",
       "    }\n",
       "\n",
       "    .dataframe thead th {\n",
       "        text-align: right;\n",
       "    }\n",
       "</style>\n",
       "<table border=\"1\" class=\"dataframe\">\n",
       "  <thead>\n",
       "    <tr style=\"text-align: right;\">\n",
       "      <th></th>\n",
       "      <th>WINNINGS</th>\n",
       "    </tr>\n",
       "  </thead>\n",
       "  <tbody>\n",
       "    <tr>\n",
       "      <th>2022-10-23</th>\n",
       "      <td>236097.718097</td>\n",
       "    </tr>\n",
       "    <tr>\n",
       "      <th>2022-10-30</th>\n",
       "      <td>172530.200271</td>\n",
       "    </tr>\n",
       "    <tr>\n",
       "      <th>2022-11-06</th>\n",
       "      <td>117510.592270</td>\n",
       "    </tr>\n",
       "    <tr>\n",
       "      <th>2022-11-13</th>\n",
       "      <td>176591.393985</td>\n",
       "    </tr>\n",
       "    <tr>\n",
       "      <th>2022-11-20</th>\n",
       "      <td>34947.698760</td>\n",
       "    </tr>\n",
       "  </tbody>\n",
       "</table>\n",
       "</div>"
      ],
      "text/plain": [
       "                 WINNINGS\n",
       "2022-10-23  236097.718097\n",
       "2022-10-30  172530.200271\n",
       "2022-11-06  117510.592270\n",
       "2022-11-13  176591.393985\n",
       "2022-11-20   34947.698760"
      ]
     },
     "execution_count": 40,
     "metadata": {},
     "output_type": "execute_result"
    }
   ],
   "source": [
    "df.columns =['WINNINGS']\n",
    "df.head()"
   ]
  },
  {
   "cell_type": "code",
   "execution_count": 41,
   "id": "82d87adc",
   "metadata": {},
   "outputs": [
    {
     "data": {
      "text/plain": [
       "<AxesSubplot:>"
      ]
     },
     "execution_count": 41,
     "metadata": {},
     "output_type": "execute_result"
    },
    {
     "data": {
      "image/png": "[encoded data removed]",
      "text/plain": [
       "<Figure size 640x480 with 1 Axes>"
      ]
     },
     "metadata": {},
     "output_type": "display_data"
    }
   ],
   "source": [
    "df.plot(y=\"WINNINGS\")"
   ]
  },
  {
   "cell_type": "code",
   "execution_count": 42,
   "id": "c7c94311",
   "metadata": {},
   "outputs": [],
   "source": [
    "def f(x):\n",
    "  A = 1.0 / np.sqrt(2.0 * np.pi)\n",
    "  B = np.exp(-(x**2) / 2.0)\n",
    "  return A * B"
   ]
  },
  {
   "cell_type": "code",
   "execution_count": 43,
   "id": "e5e8b5a0",
   "metadata": {},
   "outputs": [
    {
     "data": {
      "text/plain": [
       "0.3989422804014327"
      ]
     },
     "execution_count": 43,
     "metadata": {},
     "output_type": "execute_result"
    }
   ],
   "source": [
    "f(0.0)"
   ]
  },
  {
   "cell_type": "code",
   "execution_count": 44,
   "id": "454c628c",
   "metadata": {},
   "outputs": [
    {
     "data": {
      "text/plain": [
       "0.0044318484119380075"
      ]
     },
     "execution_count": 44,
     "metadata": {},
     "output_type": "execute_result"
    }
   ],
   "source": [
    "f(3.0)"
   ]
  },
  {
   "cell_type": "code",
   "execution_count": 45,
   "id": "44cbbc02",
   "metadata": {},
   "outputs": [
    {
     "data": {
      "text/plain": [
       "0.0"
      ]
     },
     "execution_count": 45,
     "metadata": {},
     "output_type": "execute_result"
    }
   ],
   "source": [
    "f(300.0)"
   ]
  },
  {
   "cell_type": "code",
   "execution_count": 46,
   "id": "1af6b88d",
   "metadata": {},
   "outputs": [
    {
     "data": {
      "image/png": "[encoded data removed]",
      "text/plain": [
       "<Figure size 1200x400 with 1 Axes>"
      ]
     },
     "metadata": {},
     "output_type": "display_data"
    }
   ],
   "source": [
    "# Range of x values for plotting.\n",
    "x = np.linspace(-5.0, 5.0, 1001)\n",
    "\n",
    "# Create empty plot.\n",
    "fig, ax = plt.subplots(figsize=(12, 4))\n",
    "\n",
    "# Plot f(x).\n",
    "ax.plot(x, f(x));"
   ]
  },
  {
   "cell_type": "code",
   "execution_count": 47,
   "id": "81c028a8",
   "metadata": {},
   "outputs": [
    {
     "data": {
      "image/png": "[encoded data removed]",
      "text/plain": [
       "<Figure size 1200x400 with 1 Axes>"
      ]
     },
     "metadata": {},
     "output_type": "display_data"
    }
   ],
   "source": [
    "# Range of x values for plotting.\n",
    "x = np.linspace(250.0, 350.0,350)\n",
    "y=  np.random.normal(300,20,350)\n",
    "\n",
    "# Create empty plot.\n",
    "fig, ax = plt.subplots(figsize=(12, 4))\n",
    "\n",
    "# Plot f(x).\n",
    "ax.hist(x)\n",
    "\n",
    "# Plot histogram of randomly generated normal values from above.\n",
    "ax.plot(x, y)\n",
    "\n",
    "plt.show()"
   ]
  },
  {
   "cell_type": "code",
   "execution_count": 48,
   "id": "812b1dba",
   "metadata": {
    "scrolled": true
   },
   "outputs": [
    {
     "data": {
      "text/plain": [
       "23"
      ]
     },
     "execution_count": 48,
     "metadata": {},
     "output_type": "execute_result"
    }
   ],
   "source": [
    "import numpy as np\n",
    "rng.integers(10,25)"
   ]
  },
  {
   "cell_type": "code",
   "execution_count": 49,
   "id": "bee009cd",
   "metadata": {},
   "outputs": [
    {
     "data": {
      "text/plain": [
       "array([52, 50,  1, 83, 54, 51, 42, 48, 43, 53], dtype=int64)"
      ]
     },
     "execution_count": 49,
     "metadata": {},
     "output_type": "execute_result"
    }
   ],
   "source": [
    "rng.integers(100, size=10)"
   ]
  },
  {
   "cell_type": "code",
   "execution_count": 50,
   "id": "cc6b2daa",
   "metadata": {},
   "outputs": [
    {
     "data": {
      "text/plain": [
       "array([79, 52, 56, 93, 83, 50, 58, 53, 59, 63], dtype=int64)"
      ]
     },
     "execution_count": 50,
     "metadata": {},
     "output_type": "execute_result"
    }
   ],
   "source": [
    "rng.integers(50,100, size=10)"
   ]
  },
  {
   "cell_type": "code",
   "execution_count": 51,
   "id": "8957aebb",
   "metadata": {},
   "outputs": [
    {
     "data": {
      "text/plain": [
       "array([[30, 83, 21, 24],\n",
       "       [38, 18,  4,  9]], dtype=int64)"
      ]
     },
     "execution_count": 51,
     "metadata": {},
     "output_type": "execute_result"
    }
   ],
   "source": [
    "rng.integers(100, size=(2,4))"
   ]
  },
  {
   "cell_type": "code",
   "execution_count": 52,
   "id": "191be29f",
   "metadata": {},
   "outputs": [
    {
     "data": {
      "text/plain": [
       "0.7418802828287564"
      ]
     },
     "execution_count": 52,
     "metadata": {},
     "output_type": "execute_result"
    }
   ],
   "source": [
    "rng.random()"
   ]
  },
  {
   "cell_type": "code",
   "execution_count": 53,
   "id": "4e63d121",
   "metadata": {},
   "outputs": [
    {
     "data": {
      "text/plain": [
       "array([0.5841552 , 0.37683159, 0.1558779 , 0.41044566, 0.64434721])"
      ]
     },
     "execution_count": 53,
     "metadata": {},
     "output_type": "execute_result"
    }
   ],
   "source": [
    "rng.random(5)"
   ]
  },
  {
   "cell_type": "code",
   "execution_count": 54,
   "id": "feecd71f",
   "metadata": {},
   "outputs": [
    {
     "data": {
      "text/plain": [
       "array([[0.97023024, 0.81847492, 0.27019065, 0.404766  ],\n",
       "       [0.87059816, 0.78879683, 0.40111432, 0.57757807],\n",
       "       [0.03396095, 0.67195881, 0.7579754 , 0.24602839],\n",
       "       [0.70052652, 0.64832718, 0.2301407 , 0.54664534],\n",
       "       [0.39248787, 0.81605489, 0.22851392, 0.60034902]])"
      ]
     },
     "execution_count": 54,
     "metadata": {},
     "output_type": "execute_result"
    }
   ],
   "source": [
    "rng.random((5,4))"
   ]
  },
  {
   "cell_type": "code",
   "execution_count": 55,
   "id": "51464077",
   "metadata": {},
   "outputs": [
    {
     "data": {
      "text/plain": [
       "array([0.73253569, 0.95593368, 0.35767275, ..., 0.3331643 , 0.66054897,\n",
       "       0.07638135])"
      ]
     },
     "execution_count": 55,
     "metadata": {},
     "output_type": "execute_result"
    }
   ],
   "source": [
    "x = rng.random(1000000)\n",
    "x"
   ]
  },
  {
   "cell_type": "code",
   "execution_count": 56,
   "id": "b723593d",
   "metadata": {},
   "outputs": [
    {
     "data": {
      "image/png": "[encoded data removed]",
      "text/plain": [
       "<Figure size 640x480 with 1 Axes>"
      ]
     },
     "metadata": {},
     "output_type": "display_data"
    }
   ],
   "source": [
    "import matplotlib.pyplot as plt\n",
    "plt.hist(x)\n",
    "plt.show()"
   ]
  },
  {
   "cell_type": "code",
   "execution_count": 57,
   "id": "299fd182",
   "metadata": {},
   "outputs": [
    {
     "name": "stdout",
     "output_type": "stream",
     "text": [
      "0.6522992627009107\n"
     ]
    }
   ],
   "source": [
    "rng = np.random.default_rng(seed=43)\n",
    "x = rng.random()\n",
    "print(x)"
   ]
  },
  {
   "cell_type": "code",
   "execution_count": 58,
   "id": "24b45be7",
   "metadata": {},
   "outputs": [
    {
     "name": "stdout",
     "output_type": "stream",
     "text": [
      "6\n"
     ]
    }
   ],
   "source": [
    "rng = np.random.default_rng(seed=44)\n",
    "x = rng.integers(10)\n",
    "print(x)"
   ]
  },
  {
   "cell_type": "code",
   "execution_count": 59,
   "id": "f9bb8a58",
   "metadata": {},
   "outputs": [
    {
     "name": "stdout",
     "output_type": "stream",
     "text": [
      "[[0.65229926 0.04377532 0.02002959 0.83921258]\n",
      " [0.58714305 0.22470523 0.75179227 0.2636922 ]]\n"
     ]
    }
   ],
   "source": [
    "rng = np.random.default_rng(seed=43)\n",
    "x = rng.random((2,4))\n",
    "print(x)"
   ]
  },
  {
   "cell_type": "code",
   "execution_count": 60,
   "id": "25e7a0e0",
   "metadata": {},
   "outputs": [
    {
     "name": "stdout",
     "output_type": "stream",
     "text": [
      "[[75 82 70]\n",
      " [52 78 51]\n",
      " [63 91 73]]\n"
     ]
    }
   ],
   "source": [
    "rng = np.random.default_rng(seed=43)\n",
    "x = rng.integers(50,100,size=(3,3))\n",
    "print(x)"
   ]
  }
 ],
 "metadata": {
  "kernelspec": {
   "display_name": "Python 3 (ipykernel)",
   "language": "python",
   "name": "python3"
  },
  "language_info": {
   "codemirror_mode": {
    "name": "ipython",
    "version": 3
   },
   "file_extension": ".py",
   "mimetype": "text/x-python",
   "name": "python",
   "nbconvert_exporter": "python",
   "pygments_lexer": "ipython3",
   "version": "3.9.13"
  }
 },
 "nbformat": 4,
 "nbformat_minor": 5
}
