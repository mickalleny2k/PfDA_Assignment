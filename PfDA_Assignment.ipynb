{
 "cells": [
  {
   "cell_type": "markdown",
   "id": "64987554",
   "metadata": {},
   "source": [
    "# Programming for Data Analysis Assignment"
   ]
  },
  {
   "cell_type": "code",
   "execution_count": 1,
   "id": "32c66952",
   "metadata": {},
   "outputs": [],
   "source": [
    "import numpy as np\n",
    "import pandas as pd\n",
    "from sklearn.linear_model import LinearRegression"
   ]
  },
  {
   "cell_type": "code",
   "execution_count": 2,
   "id": "251d8295",
   "metadata": {},
   "outputs": [
    {
     "data": {
      "text/html": [
       "<div>\n",
       "<style scoped>\n",
       "    .dataframe tbody tr th:only-of-type {\n",
       "        vertical-align: middle;\n",
       "    }\n",
       "\n",
       "    .dataframe tbody tr th {\n",
       "        vertical-align: top;\n",
       "    }\n",
       "\n",
       "    .dataframe thead th {\n",
       "        text-align: right;\n",
       "    }\n",
       "</style>\n",
       "<table border=\"1\" class=\"dataframe\">\n",
       "  <thead>\n",
       "    <tr style=\"text-align: right;\">\n",
       "      <th></th>\n",
       "      <th>RANK</th>\n",
       "      <th>MOVEMENT</th>\n",
       "      <th>PLAYER_ID</th>\n",
       "      <th>PLAYER</th>\n",
       "      <th>AVG</th>\n",
       "      <th>TOTAL STROKES</th>\n",
       "      <th>TOTAL ADJUSTMENT</th>\n",
       "      <th>TOTAL ROUNDS</th>\n",
       "    </tr>\n",
       "  </thead>\n",
       "  <tbody>\n",
       "    <tr>\n",
       "      <th>0</th>\n",
       "      <td>1</td>\n",
       "      <td>0</td>\n",
       "      <td>46046</td>\n",
       "      <td>Scottie Scheffler</td>\n",
       "      <td>68.629</td>\n",
       "      <td>6007</td>\n",
       "      <td>32.329</td>\n",
       "      <td>88</td>\n",
       "    </tr>\n",
       "    <tr>\n",
       "      <th>1</th>\n",
       "      <td>2</td>\n",
       "      <td>0</td>\n",
       "      <td>28237</td>\n",
       "      <td>Rory McIlroy</td>\n",
       "      <td>68.777</td>\n",
       "      <td>4411</td>\n",
       "      <td>-9.244</td>\n",
       "      <td>64</td>\n",
       "    </tr>\n",
       "    <tr>\n",
       "      <th>2</th>\n",
       "      <td>3</td>\n",
       "      <td>0</td>\n",
       "      <td>46970</td>\n",
       "      <td>Jon Rahm</td>\n",
       "      <td>69.037</td>\n",
       "      <td>4886</td>\n",
       "      <td>15.615</td>\n",
       "      <td>71</td>\n",
       "    </tr>\n",
       "    <tr>\n",
       "      <th>3</th>\n",
       "      <td>4</td>\n",
       "      <td>0</td>\n",
       "      <td>46717</td>\n",
       "      <td>Viktor Hovland</td>\n",
       "      <td>69.123</td>\n",
       "      <td>6065</td>\n",
       "      <td>17.843</td>\n",
       "      <td>88</td>\n",
       "    </tr>\n",
       "    <tr>\n",
       "      <th>4</th>\n",
       "      <td>5</td>\n",
       "      <td>0</td>\n",
       "      <td>48081</td>\n",
       "      <td>Xander Schauffele</td>\n",
       "      <td>69.127</td>\n",
       "      <td>5595</td>\n",
       "      <td>4.323</td>\n",
       "      <td>81</td>\n",
       "    </tr>\n",
       "    <tr>\n",
       "      <th>...</th>\n",
       "      <td>...</td>\n",
       "      <td>...</td>\n",
       "      <td>...</td>\n",
       "      <td>...</td>\n",
       "      <td>...</td>\n",
       "      <td>...</td>\n",
       "      <td>...</td>\n",
       "      <td>...</td>\n",
       "    </tr>\n",
       "    <tr>\n",
       "      <th>184</th>\n",
       "      <td>185</td>\n",
       "      <td>-2</td>\n",
       "      <td>51950</td>\n",
       "      <td>Max McGreevy</td>\n",
       "      <td>72.603</td>\n",
       "      <td>6170</td>\n",
       "      <td>73.869</td>\n",
       "      <td>86</td>\n",
       "    </tr>\n",
       "    <tr>\n",
       "      <th>185</th>\n",
       "      <td>186</td>\n",
       "      <td>-2</td>\n",
       "      <td>28420</td>\n",
       "      <td>Ryan Brehm</td>\n",
       "      <td>72.739</td>\n",
       "      <td>5740</td>\n",
       "      <td>79.134</td>\n",
       "      <td>80</td>\n",
       "    </tr>\n",
       "    <tr>\n",
       "      <th>186</th>\n",
       "      <td>187</td>\n",
       "      <td>-2</td>\n",
       "      <td>32662</td>\n",
       "      <td>Michael Gligic</td>\n",
       "      <td>72.775</td>\n",
       "      <td>4953</td>\n",
       "      <td>68.445</td>\n",
       "      <td>69</td>\n",
       "    </tr>\n",
       "    <tr>\n",
       "      <th>187</th>\n",
       "      <td>188</td>\n",
       "      <td>-2</td>\n",
       "      <td>27095</td>\n",
       "      <td>Nick Watney</td>\n",
       "      <td>72.936</td>\n",
       "      <td>5052</td>\n",
       "      <td>53.529</td>\n",
       "      <td>70</td>\n",
       "    </tr>\n",
       "    <tr>\n",
       "      <th>188</th>\n",
       "      <td>189</td>\n",
       "      <td>-2</td>\n",
       "      <td>51491</td>\n",
       "      <td>Brandon Matthews</td>\n",
       "      <td>73.153</td>\n",
       "      <td>4262</td>\n",
       "      <td>54.054</td>\n",
       "      <td>59</td>\n",
       "    </tr>\n",
       "  </tbody>\n",
       "</table>\n",
       "<p>189 rows × 8 columns</p>\n",
       "</div>"
      ],
      "text/plain": [
       "     RANK  MOVEMENT  PLAYER_ID             PLAYER     AVG  TOTAL STROKES  \\\n",
       "0       1         0      46046  Scottie Scheffler  68.629           6007   \n",
       "1       2         0      28237       Rory McIlroy  68.777           4411   \n",
       "2       3         0      46970           Jon Rahm  69.037           4886   \n",
       "3       4         0      46717     Viktor Hovland  69.123           6065   \n",
       "4       5         0      48081  Xander Schauffele  69.127           5595   \n",
       "..    ...       ...        ...                ...     ...            ...   \n",
       "184   185        -2      51950       Max McGreevy  72.603           6170   \n",
       "185   186        -2      28420         Ryan Brehm  72.739           5740   \n",
       "186   187        -2      32662     Michael Gligic  72.775           4953   \n",
       "187   188        -2      27095        Nick Watney  72.936           5052   \n",
       "188   189        -2      51491   Brandon Matthews  73.153           4262   \n",
       "\n",
       "     TOTAL ADJUSTMENT  TOTAL ROUNDS  \n",
       "0              32.329            88  \n",
       "1              -9.244            64  \n",
       "2              15.615            71  \n",
       "3              17.843            88  \n",
       "4               4.323            81  \n",
       "..                ...           ...  \n",
       "184            73.869            86  \n",
       "185            79.134            80  \n",
       "186            68.445            69  \n",
       "187            53.529            70  \n",
       "188            54.054            59  \n",
       "\n",
       "[189 rows x 8 columns]"
      ]
     },
     "execution_count": 2,
     "metadata": {},
     "output_type": "execute_result"
    }
   ],
   "source": [
    "# https://www.pgatour.com/stats/detail/120\n",
    "df = pd.read_csv('pgatour_golfstats_2022-2023_averagescore.csv')\n",
    "df"
   ]
  },
  {
   "cell_type": "code",
   "execution_count": 3,
   "id": "4e990503",
   "metadata": {},
   "outputs": [
    {
     "data": {
      "image/png": "[encoded data removed]",
      "text/plain": [
       "<Figure size 640x480 with 1 Axes>"
      ]
     },
     "metadata": {},
     "output_type": "display_data"
    }
   ],
   "source": [
    "import matplotlib.pyplot as plt\n",
    "x = df.RANK\n",
    "y = df.AVG\n",
    "plt.plot(df.AVG)\n",
    "plt.show()"
   ]
  },
  {
   "cell_type": "code",
   "execution_count": 4,
   "id": "2579a64d",
   "metadata": {},
   "outputs": [
    {
     "data": {
      "image/png": "[encoded data removed]",
      "text/plain": [
       "<Figure size 640x480 with 1 Axes>"
      ]
     },
     "metadata": {},
     "output_type": "display_data"
    }
   ],
   "source": [
    "plt.scatter(x,y)\n",
    "plt.show()"
   ]
  },
  {
   "cell_type": "code",
   "execution_count": 5,
   "id": "94845e60",
   "metadata": {},
   "outputs": [
    {
     "data": {
      "text/plain": [
       "array([  1,   2,   3,   4,   5,   6,   7,   8,   9,  10,  11,  12,  13,\n",
       "        14,  15,  15,  17,  18,  19,  20,  21,  22,  23,  24,  25,  26,\n",
       "        27,  28,  29,  30,  31,  32,  33,  34,  35,  36,  37,  38,  39,\n",
       "        40,  41,  42,  43,  44,  44,  46,  47,  48,  49,  50,  51,  52,\n",
       "        53,  54,  55,  56,  56,  58,  59,  60,  61,  62,  63,  64,  65,\n",
       "        66,  67,  68,  69,  70,  71,  72,  73,  74,  75,  76,  77,  78,\n",
       "        79,  80,  81,  82,  83,  84,  85,  86,  87,  88,  89,  90,  91,\n",
       "        92,  93,  94,  94,  96,  97,  98,  99, 100, 101, 102, 103, 104,\n",
       "       105, 105, 107, 108, 109, 110, 111, 112, 113, 114, 115, 116, 117,\n",
       "       118, 119, 120, 121, 122, 123, 124, 125, 126, 127, 128, 129, 129,\n",
       "       131, 132, 133, 134, 135, 136, 137, 138, 138, 140, 141, 142, 143,\n",
       "       144, 145, 146, 147, 148, 149, 150, 151, 152, 153, 154, 155, 156,\n",
       "       156, 158, 159, 160, 161, 162, 163, 164, 165, 166, 167, 168, 169,\n",
       "       170, 171, 172, 173, 174, 175, 176, 177, 178, 179, 180, 181, 182,\n",
       "       183, 184, 185, 186, 187, 188, 189], dtype=int64)"
      ]
     },
     "execution_count": 5,
     "metadata": {},
     "output_type": "execute_result"
    }
   ],
   "source": [
    "x = np.array(x)\n",
    "x"
   ]
  },
  {
   "cell_type": "code",
   "execution_count": 6,
   "id": "df30efb8",
   "metadata": {},
   "outputs": [
    {
     "data": {
      "text/plain": [
       "array([68.629, 68.777, 69.037, 69.123, 69.127, 69.19 , 69.248, 69.429,\n",
       "       69.435, 69.516, 69.576, 69.642, 69.693, 69.818, 69.832, 69.832,\n",
       "       69.839, 69.891, 69.933, 69.967, 69.994, 70.018, 70.05 , 70.079,\n",
       "       70.118, 70.132, 70.141, 70.15 , 70.175, 70.177, 70.181, 70.203,\n",
       "       70.207, 70.209, 70.219, 70.233, 70.244, 70.309, 70.321, 70.354,\n",
       "       70.359, 70.36 , 70.392, 70.398, 70.398, 70.422, 70.46 , 70.461,\n",
       "       70.492, 70.5  , 70.503, 70.505, 70.506, 70.52 , 70.534, 70.542,\n",
       "       70.542, 70.55 , 70.552, 70.56 , 70.567, 70.579, 70.58 , 70.588,\n",
       "       70.596, 70.597, 70.608, 70.618, 70.623, 70.633, 70.634, 70.642,\n",
       "       70.683, 70.747, 70.753, 70.755, 70.76 , 70.764, 70.786, 70.809,\n",
       "       70.824, 70.825, 70.833, 70.836, 70.847, 70.862, 70.872, 70.885,\n",
       "       70.89 , 70.928, 70.937, 70.939, 70.951, 70.966, 70.966, 70.968,\n",
       "       70.98 , 70.99 , 70.997, 71.006, 71.023, 71.061, 71.095, 71.098,\n",
       "       71.101, 71.101, 71.14 , 71.172, 71.182, 71.188, 71.2  , 71.218,\n",
       "       71.26 , 71.27 , 71.272, 71.293, 71.309, 71.328, 71.344, 71.367,\n",
       "       71.368, 71.375, 71.377, 71.38 , 71.381, 71.39 , 71.397, 71.403,\n",
       "       71.411, 71.411, 71.42 , 71.422, 71.426, 71.434, 71.466, 71.474,\n",
       "       71.476, 71.486, 71.486, 71.492, 71.502, 71.524, 71.567, 71.575,\n",
       "       71.591, 71.596, 71.612, 71.619, 71.623, 71.627, 71.628, 71.639,\n",
       "       71.657, 71.659, 71.66 , 71.664, 71.664, 71.701, 71.716, 71.728,\n",
       "       71.738, 71.789, 71.804, 71.846, 71.849, 71.858, 71.904, 71.919,\n",
       "       71.922, 71.944, 71.947, 71.949, 71.989, 71.994, 72.019, 72.124,\n",
       "       72.198, 72.242, 72.249, 72.259, 72.394, 72.538, 72.54 , 72.582,\n",
       "       72.603, 72.739, 72.775, 72.936, 73.153])"
      ]
     },
     "execution_count": 6,
     "metadata": {},
     "output_type": "execute_result"
    }
   ],
   "source": [
    "y = np.array(y)\n",
    "y"
   ]
  },
  {
   "cell_type": "code",
   "execution_count": 7,
   "id": "178fad32",
   "metadata": {},
   "outputs": [
    {
     "data": {
      "text/plain": [
       "array([[1.        , 0.97264993],\n",
       "       [0.97264993, 1.        ]])"
      ]
     },
     "execution_count": 7,
     "metadata": {},
     "output_type": "execute_result"
    }
   ],
   "source": [
    "correlation = np.corrcoef(x, y)\n",
    "correlation"
   ]
  },
  {
   "cell_type": "code",
   "execution_count": 8,
   "id": "8be8dc56",
   "metadata": {},
   "outputs": [],
   "source": [
    "x = x.reshape(-1,1)\n",
    "y = y.reshape(-1,1)"
   ]
  },
  {
   "cell_type": "code",
   "execution_count": 9,
   "id": "3d70950e",
   "metadata": {},
   "outputs": [
    {
     "data": {
      "text/plain": [
       "LinearRegression()"
      ]
     },
     "execution_count": 9,
     "metadata": {},
     "output_type": "execute_result"
    }
   ],
   "source": [
    "lr = LinearRegression()\n",
    "lr.fit(x,y)"
   ]
  },
  {
   "cell_type": "code",
   "execution_count": 10,
   "id": "5eb68bd9",
   "metadata": {},
   "outputs": [
    {
     "data": {
      "text/plain": [
       "array([[69.64094244]])"
      ]
     },
     "execution_count": 10,
     "metadata": {},
     "output_type": "execute_result"
    }
   ],
   "source": [
    "lr.predict([[5]])"
   ]
  },
  {
   "cell_type": "code",
   "execution_count": 11,
   "id": "7798337e",
   "metadata": {},
   "outputs": [
    {
     "data": {
      "text/plain": [
       "array([[69.58190424],\n",
       "       [69.59666379],\n",
       "       [69.61142334],\n",
       "       [69.62618289],\n",
       "       [69.64094244],\n",
       "       [69.65570199],\n",
       "       [69.67046154],\n",
       "       [69.68522109],\n",
       "       [69.69998064],\n",
       "       [69.71474019],\n",
       "       [69.72949974],\n",
       "       [69.74425929],\n",
       "       [69.75901885],\n",
       "       [69.7737784 ],\n",
       "       [69.78853795],\n",
       "       [69.78853795],\n",
       "       [69.81805705],\n",
       "       [69.8328166 ],\n",
       "       [69.84757615],\n",
       "       [69.8623357 ],\n",
       "       [69.87709525],\n",
       "       [69.8918548 ],\n",
       "       [69.90661435],\n",
       "       [69.9213739 ],\n",
       "       [69.93613345],\n",
       "       [69.950893  ],\n",
       "       [69.96565255],\n",
       "       [69.9804121 ],\n",
       "       [69.99517165],\n",
       "       [70.0099312 ],\n",
       "       [70.02469076],\n",
       "       [70.03945031],\n",
       "       [70.05420986],\n",
       "       [70.06896941],\n",
       "       [70.08372896],\n",
       "       [70.09848851],\n",
       "       [70.11324806],\n",
       "       [70.12800761],\n",
       "       [70.14276716],\n",
       "       [70.15752671],\n",
       "       [70.17228626],\n",
       "       [70.18704581],\n",
       "       [70.20180536],\n",
       "       [70.21656491],\n",
       "       [70.21656491],\n",
       "       [70.24608401],\n",
       "       [70.26084356],\n",
       "       [70.27560311],\n",
       "       [70.29036267],\n",
       "       [70.30512222],\n",
       "       [70.31988177],\n",
       "       [70.33464132],\n",
       "       [70.34940087],\n",
       "       [70.36416042],\n",
       "       [70.37891997],\n",
       "       [70.39367952],\n",
       "       [70.39367952],\n",
       "       [70.42319862],\n",
       "       [70.43795817],\n",
       "       [70.45271772],\n",
       "       [70.46747727],\n",
       "       [70.48223682],\n",
       "       [70.49699637],\n",
       "       [70.51175592],\n",
       "       [70.52651547],\n",
       "       [70.54127503],\n",
       "       [70.55603458],\n",
       "       [70.57079413],\n",
       "       [70.58555368],\n",
       "       [70.60031323],\n",
       "       [70.61507278],\n",
       "       [70.62983233],\n",
       "       [70.64459188],\n",
       "       [70.65935143],\n",
       "       [70.67411098],\n",
       "       [70.68887053],\n",
       "       [70.70363008],\n",
       "       [70.71838963],\n",
       "       [70.73314918],\n",
       "       [70.74790873],\n",
       "       [70.76266828],\n",
       "       [70.77742783],\n",
       "       [70.79218738],\n",
       "       [70.80694694],\n",
       "       [70.82170649],\n",
       "       [70.83646604],\n",
       "       [70.85122559],\n",
       "       [70.86598514],\n",
       "       [70.88074469],\n",
       "       [70.89550424],\n",
       "       [70.91026379],\n",
       "       [70.92502334],\n",
       "       [70.93978289],\n",
       "       [70.95454244],\n",
       "       [70.95454244],\n",
       "       [70.98406154],\n",
       "       [70.99882109],\n",
       "       [71.01358064],\n",
       "       [71.02834019],\n",
       "       [71.04309974],\n",
       "       [71.05785929],\n",
       "       [71.07261885],\n",
       "       [71.0873784 ],\n",
       "       [71.10213795],\n",
       "       [71.1168975 ],\n",
       "       [71.1168975 ],\n",
       "       [71.1464166 ],\n",
       "       [71.16117615],\n",
       "       [71.1759357 ],\n",
       "       [71.19069525],\n",
       "       [71.2054548 ],\n",
       "       [71.22021435],\n",
       "       [71.2349739 ],\n",
       "       [71.24973345],\n",
       "       [71.264493  ],\n",
       "       [71.27925255],\n",
       "       [71.2940121 ],\n",
       "       [71.30877165],\n",
       "       [71.32353121],\n",
       "       [71.33829076],\n",
       "       [71.35305031],\n",
       "       [71.36780986],\n",
       "       [71.38256941],\n",
       "       [71.39732896],\n",
       "       [71.41208851],\n",
       "       [71.42684806],\n",
       "       [71.44160761],\n",
       "       [71.45636716],\n",
       "       [71.47112671],\n",
       "       [71.47112671],\n",
       "       [71.50064581],\n",
       "       [71.51540536],\n",
       "       [71.53016491],\n",
       "       [71.54492446],\n",
       "       [71.55968401],\n",
       "       [71.57444356],\n",
       "       [71.58920312],\n",
       "       [71.60396267],\n",
       "       [71.60396267],\n",
       "       [71.63348177],\n",
       "       [71.64824132],\n",
       "       [71.66300087],\n",
       "       [71.67776042],\n",
       "       [71.69251997],\n",
       "       [71.70727952],\n",
       "       [71.72203907],\n",
       "       [71.73679862],\n",
       "       [71.75155817],\n",
       "       [71.76631772],\n",
       "       [71.78107727],\n",
       "       [71.79583682],\n",
       "       [71.81059637],\n",
       "       [71.82535592],\n",
       "       [71.84011547],\n",
       "       [71.85487503],\n",
       "       [71.86963458],\n",
       "       [71.86963458],\n",
       "       [71.89915368],\n",
       "       [71.91391323],\n",
       "       [71.92867278],\n",
       "       [71.94343233],\n",
       "       [71.95819188],\n",
       "       [71.97295143],\n",
       "       [71.98771098],\n",
       "       [72.00247053],\n",
       "       [72.01723008],\n",
       "       [72.03198963],\n",
       "       [72.04674918],\n",
       "       [72.06150873],\n",
       "       [72.07626828],\n",
       "       [72.09102783],\n",
       "       [72.10578739],\n",
       "       [72.12054694],\n",
       "       [72.13530649],\n",
       "       [72.15006604],\n",
       "       [72.16482559],\n",
       "       [72.17958514],\n",
       "       [72.19434469],\n",
       "       [72.20910424],\n",
       "       [72.22386379],\n",
       "       [72.23862334],\n",
       "       [72.25338289],\n",
       "       [72.26814244],\n",
       "       [72.28290199],\n",
       "       [72.29766154],\n",
       "       [72.31242109],\n",
       "       [72.32718064],\n",
       "       [72.34194019],\n",
       "       [72.35669974]])"
      ]
     },
     "execution_count": 11,
     "metadata": {},
     "output_type": "execute_result"
    }
   ],
   "source": [
    "pred_y = lr.predict(x)\n",
    "pred_y"
   ]
  },
  {
   "cell_type": "code",
   "execution_count": 12,
   "id": "39ed1433",
   "metadata": {},
   "outputs": [
    {
     "data": {
      "image/png": "[encoded data removed]",
      "text/plain": [
       "<Figure size 640x480 with 1 Axes>"
      ]
     },
     "metadata": {},
     "output_type": "display_data"
    }
   ],
   "source": [
    "plt.plot(x,pred_y )\n",
    "plt.show()"
   ]
  },
  {
   "cell_type": "code",
   "execution_count": 13,
   "id": "f63d85c6",
   "metadata": {},
   "outputs": [
    {
     "data": {
      "image/png": "[encoded data removed]",
      "text/plain": [
       "<Figure size 640x480 with 1 Axes>"
      ]
     },
     "metadata": {},
     "output_type": "display_data"
    }
   ],
   "source": [
    "colour=\"red\"\n",
    "plt.scatter(x,y)\n",
    "plt.plot(x,pred_y,colour )\n",
    "plt.show()"
   ]
  },
  {
   "cell_type": "code",
   "execution_count": 14,
   "id": "7906d4e6",
   "metadata": {},
   "outputs": [
    {
     "data": {
      "image/png": "[encoded data removed]",
      "text/plain": [
       "<Figure size 640x480 with 1 Axes>"
      ]
     },
     "metadata": {},
     "output_type": "display_data"
    }
   ],
   "source": [
    "# Plot Average Score data from pgatour_golfstats_2022-2023_averagescore.csv\n",
    "plt.hist(y, bins=10)\n",
    "plt.show()"
   ]
  },
  {
   "cell_type": "code",
   "execution_count": 15,
   "id": "0a29b051",
   "metadata": {},
   "outputs": [
    {
     "data": {
      "text/plain": [
       "0      68.629\n",
       "1      68.777\n",
       "2      69.037\n",
       "3      69.123\n",
       "4      69.127\n",
       "        ...  \n",
       "184    72.603\n",
       "185    72.739\n",
       "186    72.775\n",
       "187    72.936\n",
       "188    73.153\n",
       "Name: AVG, Length: 189, dtype: float64"
      ]
     },
     "execution_count": 15,
     "metadata": {},
     "output_type": "execute_result"
    }
   ],
   "source": [
    "df.AVG"
   ]
  },
  {
   "cell_type": "code",
   "execution_count": 16,
   "id": "7d9ba81a",
   "metadata": {},
   "outputs": [
    {
     "data": {
      "text/plain": [
       "0.8301339718593281"
      ]
     },
     "execution_count": 16,
     "metadata": {},
     "output_type": "execute_result"
    }
   ],
   "source": [
    "std = df.AVG.std()\n",
    "std"
   ]
  },
  {
   "cell_type": "code",
   "execution_count": 17,
   "id": "a127e546",
   "metadata": {},
   "outputs": [
    {
     "data": {
      "text/plain": [
       "70.96867724867725"
      ]
     },
     "execution_count": 17,
     "metadata": {},
     "output_type": "execute_result"
    }
   ],
   "source": [
    "mean = df.AVG.mean()\n",
    "mean"
   ]
  },
  {
   "cell_type": "code",
   "execution_count": 18,
   "id": "4faa1f17",
   "metadata": {},
   "outputs": [
    {
     "data": {
      "text/html": [
       "<div>\n",
       "<style scoped>\n",
       "    .dataframe tbody tr th:only-of-type {\n",
       "        vertical-align: middle;\n",
       "    }\n",
       "\n",
       "    .dataframe tbody tr th {\n",
       "        vertical-align: top;\n",
       "    }\n",
       "\n",
       "    .dataframe thead th {\n",
       "        text-align: right;\n",
       "    }\n",
       "</style>\n",
       "<table border=\"1\" class=\"dataframe\">\n",
       "  <thead>\n",
       "    <tr style=\"text-align: right;\">\n",
       "      <th></th>\n",
       "      <th>RANK</th>\n",
       "      <th>MOVEMENT</th>\n",
       "      <th>PLAYER_ID</th>\n",
       "      <th>AVG</th>\n",
       "      <th>TOTAL STROKES</th>\n",
       "      <th>TOTAL ADJUSTMENT</th>\n",
       "      <th>TOTAL ROUNDS</th>\n",
       "    </tr>\n",
       "  </thead>\n",
       "  <tbody>\n",
       "    <tr>\n",
       "      <th>count</th>\n",
       "      <td>189.000000</td>\n",
       "      <td>189.000000</td>\n",
       "      <td>189.000000</td>\n",
       "      <td>189.000000</td>\n",
       "      <td>189.000000</td>\n",
       "      <td>189.000000</td>\n",
       "      <td>189.000000</td>\n",
       "    </tr>\n",
       "    <tr>\n",
       "      <th>mean</th>\n",
       "      <td>94.957672</td>\n",
       "      <td>-0.449735</td>\n",
       "      <td>39114.994709</td>\n",
       "      <td>70.968677</td>\n",
       "      <td>5977.037037</td>\n",
       "      <td>53.245196</td>\n",
       "      <td>85.026455</td>\n",
       "    </tr>\n",
       "    <tr>\n",
       "      <th>std</th>\n",
       "      <td>54.705579</td>\n",
       "      <td>3.487647</td>\n",
       "      <td>10294.967774</td>\n",
       "      <td>0.830134</td>\n",
       "      <td>1123.886273</td>\n",
       "      <td>26.348952</td>\n",
       "      <td>16.241670</td>\n",
       "    </tr>\n",
       "    <tr>\n",
       "      <th>min</th>\n",
       "      <td>1.000000</td>\n",
       "      <td>-13.000000</td>\n",
       "      <td>12716.000000</td>\n",
       "      <td>68.629000</td>\n",
       "      <td>3198.000000</td>\n",
       "      <td>-18.811000</td>\n",
       "      <td>45.000000</td>\n",
       "    </tr>\n",
       "    <tr>\n",
       "      <th>25%</th>\n",
       "      <td>48.000000</td>\n",
       "      <td>-2.000000</td>\n",
       "      <td>31560.000000</td>\n",
       "      <td>70.461000</td>\n",
       "      <td>5217.000000</td>\n",
       "      <td>35.723000</td>\n",
       "      <td>74.000000</td>\n",
       "    </tr>\n",
       "    <tr>\n",
       "      <th>50%</th>\n",
       "      <td>94.000000</td>\n",
       "      <td>0.000000</td>\n",
       "      <td>36699.000000</td>\n",
       "      <td>70.966000</td>\n",
       "      <td>6065.000000</td>\n",
       "      <td>55.784000</td>\n",
       "      <td>86.000000</td>\n",
       "    </tr>\n",
       "    <tr>\n",
       "      <th>75%</th>\n",
       "      <td>142.000000</td>\n",
       "      <td>2.000000</td>\n",
       "      <td>48117.000000</td>\n",
       "      <td>71.524000</td>\n",
       "      <td>6799.000000</td>\n",
       "      <td>73.356000</td>\n",
       "      <td>96.000000</td>\n",
       "    </tr>\n",
       "    <tr>\n",
       "      <th>max</th>\n",
       "      <td>189.000000</td>\n",
       "      <td>19.000000</td>\n",
       "      <td>59018.000000</td>\n",
       "      <td>73.153000</td>\n",
       "      <td>8450.000000</td>\n",
       "      <td>106.517000</td>\n",
       "      <td>122.000000</td>\n",
       "    </tr>\n",
       "  </tbody>\n",
       "</table>\n",
       "</div>"
      ],
      "text/plain": [
       "             RANK    MOVEMENT     PLAYER_ID         AVG  TOTAL STROKES  \\\n",
       "count  189.000000  189.000000    189.000000  189.000000     189.000000   \n",
       "mean    94.957672   -0.449735  39114.994709   70.968677    5977.037037   \n",
       "std     54.705579    3.487647  10294.967774    0.830134    1123.886273   \n",
       "min      1.000000  -13.000000  12716.000000   68.629000    3198.000000   \n",
       "25%     48.000000   -2.000000  31560.000000   70.461000    5217.000000   \n",
       "50%     94.000000    0.000000  36699.000000   70.966000    6065.000000   \n",
       "75%    142.000000    2.000000  48117.000000   71.524000    6799.000000   \n",
       "max    189.000000   19.000000  59018.000000   73.153000    8450.000000   \n",
       "\n",
       "       TOTAL ADJUSTMENT  TOTAL ROUNDS  \n",
       "count        189.000000    189.000000  \n",
       "mean          53.245196     85.026455  \n",
       "std           26.348952     16.241670  \n",
       "min          -18.811000     45.000000  \n",
       "25%           35.723000     74.000000  \n",
       "50%           55.784000     86.000000  \n",
       "75%           73.356000     96.000000  \n",
       "max          106.517000    122.000000  "
      ]
     },
     "execution_count": 18,
     "metadata": {},
     "output_type": "execute_result"
    }
   ],
   "source": [
    "df.describe()"
   ]
  },
  {
   "cell_type": "code",
   "execution_count": 19,
   "id": "d21a077b",
   "metadata": {},
   "outputs": [
    {
     "data": {
      "text/plain": [
       "RANK                189\n",
       "MOVEMENT            189\n",
       "PLAYER_ID           189\n",
       "PLAYER              189\n",
       "AVG                 189\n",
       "TOTAL STROKES       189\n",
       "TOTAL ADJUSTMENT    189\n",
       "TOTAL ROUNDS        189\n",
       "dtype: int64"
      ]
     },
     "execution_count": 19,
     "metadata": {},
     "output_type": "execute_result"
    }
   ],
   "source": [
    "count = df.count()\n",
    "count"
   ]
  },
  {
   "cell_type": "code",
   "execution_count": 20,
   "id": "c5930fbf",
   "metadata": {},
   "outputs": [
    {
     "data": {
      "text/plain": [
       "array([70.96119625, 71.74477765, 72.12418296, 70.12807932, 71.30736919,\n",
       "       71.18660178, 69.93240895, 69.83963229, 69.9944459 , 68.48903457,\n",
       "       70.92541412, 69.35286729, 69.92314602, 71.2897314 , 71.18857778,\n",
       "       71.69479714, 72.13425394, 72.26492144, 70.61728691, 70.47927483,\n",
       "       70.57266379, 69.7522297 , 71.03011468, 72.22545886, 72.20400762,\n",
       "       71.49473281, 71.39524516, 71.61111155, 70.67289344, 71.31636761,\n",
       "       70.61449925, 72.22896037, 71.62520459, 69.68051745, 71.47298141,\n",
       "       70.47873547, 70.49375593, 71.93767098, 71.11837178, 71.53924475,\n",
       "       72.06025523, 71.01007336, 70.67521366, 71.69410414, 70.49193345,\n",
       "       70.64650068, 72.17248366, 68.94211399, 71.83406142, 70.85089353,\n",
       "       71.22387379, 70.40018776, 71.64542181, 70.08862363, 71.75987949,\n",
       "       71.29262943, 70.24768973, 71.59085504, 71.04800548, 71.92957468,\n",
       "       71.83070824, 71.66225454, 70.98188066, 69.81409177, 70.78597601,\n",
       "       70.69935553, 70.25813863, 70.85515678, 71.60877405, 71.13615332,\n",
       "       70.98372169, 69.83572929, 70.87606219, 71.31666295, 70.1792494 ,\n",
       "       70.2783507 , 68.62462748, 70.36495967, 71.10640072, 71.32630584,\n",
       "       71.99738323, 70.28969742, 69.96545971, 70.97295435, 71.3502436 ,\n",
       "       71.56403209, 70.63538725, 69.58548939, 70.72879001, 71.04947181,\n",
       "       71.75871897, 70.75241994, 70.82664817, 70.99627013, 71.65576329,\n",
       "       70.89121838, 71.68354536, 72.05719939, 70.96100692, 70.68749221,\n",
       "       69.51907925, 71.9936377 , 70.15788164, 72.32515863, 72.34979234,\n",
       "       71.9546249 , 71.11950781, 70.93235218, 71.15761866, 70.6762234 ,\n",
       "       72.12097871, 70.48694103, 70.69171354, 71.330423  , 71.06527492,\n",
       "       69.7068257 , 72.05744006, 70.75375813, 70.81526574, 70.00927298,\n",
       "       72.25535877, 71.28613643, 71.10416475, 72.73643616, 70.88368744,\n",
       "       71.59690989, 71.76153617, 71.9152965 , 71.2881904 , 69.12869035,\n",
       "       71.14031046, 70.89631488, 71.37919273, 71.98072615, 71.82651668,\n",
       "       70.48765347, 70.65349088, 71.6231875 , 71.10002242, 70.03938943,\n",
       "       70.27404042, 72.35599182, 71.37034681, 71.13006001, 70.93469716,\n",
       "       72.13733107, 70.98879609, 72.49293565, 71.33142155, 71.26350724,\n",
       "       71.3852434 , 70.36940082, 71.39357786, 71.50384523, 70.075708  ,\n",
       "       70.70322435, 71.46316835, 71.37260379, 70.46638782, 71.24146404,\n",
       "       69.52712856, 71.22984192, 71.74120502, 71.28647512, 69.77118439,\n",
       "       72.84935129, 70.58808945, 70.30807529, 71.18122577, 69.27331118,\n",
       "       71.28974317, 71.77279831, 71.01811294, 71.51548197, 70.01380511,\n",
       "       70.05233619, 70.42729183, 71.32313505, 71.19551571, 70.8585436 ,\n",
       "       70.8429553 , 70.9759734 , 71.22085629, 69.58260042, 70.65043618,\n",
       "       71.14652393, 70.48237587, 71.19940023, 70.31429226])"
      ]
     },
     "execution_count": 20,
     "metadata": {},
     "output_type": "execute_result"
    }
   ],
   "source": [
    "# Synthesize a random normal distribution for Average Score\n",
    "# I choose mu of 70.96 because this is the average score in pgatour_golfstats_2022-2023_averagescore.csv\n",
    "y = np.random.normal(mean,std,189)\n",
    "y"
   ]
  },
  {
   "cell_type": "code",
   "execution_count": 21,
   "id": "1e68660a",
   "metadata": {},
   "outputs": [
    {
     "data": {
      "image/png": "[encoded data removed]",
      "text/plain": [
       "<Figure size 640x480 with 1 Axes>"
      ]
     },
     "metadata": {},
     "output_type": "display_data"
    }
   ],
   "source": [
    "# Plot random normal distribution for Average Score\n",
    "plt.hist(y)\n",
    "plt.show()"
   ]
  },
  {
   "cell_type": "code",
   "execution_count": 22,
   "id": "e47cc5a2",
   "metadata": {},
   "outputs": [
    {
     "data": {
      "image/png": "[encoded data removed]",
      "text/plain": [
       "<Figure size 640x480 with 1 Axes>"
      ]
     },
     "metadata": {},
     "output_type": "display_data"
    }
   ],
   "source": [
    "plt.scatter(x,y)\n",
    "plt.show()"
   ]
  },
  {
   "cell_type": "code",
   "execution_count": 23,
   "id": "09cc8b55",
   "metadata": {},
   "outputs": [],
   "source": [
    "#correlation = np.corrcoef(x, y)\n",
    "#correlation"
   ]
  },
  {
   "cell_type": "code",
   "execution_count": 24,
   "id": "b06e6c74",
   "metadata": {},
   "outputs": [
    {
     "data": {
      "text/plain": [
       "array([ 88,  72,  78,  67,  78,  68,  74,  66,  65,  45,  66,  84,  63,\n",
       "        59,  70,  70,  72,  62,  66,  71,  84,  69,  73,  66,  68,  84,\n",
       "        83,  59,  64,  64,  76,  84,  74, 101,  69,  75,  74,  72,  71,\n",
       "        79,  72,  64,  80,  80,  72,  76,  72,  61,  81,  68,  80,  62,\n",
       "        73,  72,  63,  56,  64,  79,  58,  68,  61,  89,  67,  60,  63,\n",
       "        87,  79,  65,  81,  58,  78,  71,  74,  68,  82,  69,  78,  65,\n",
       "        65,  69,  60,  58,  68,  83,  69,  75,  65,  70,  97,  83,  73,\n",
       "        75,  71,  68,  76,  63,  63,  66,  71,  81,  69,  77,  71,  78,\n",
       "        61,  71,  74,  66,  88,  62,  77,  67,  67,  72,  79,  87,  67,\n",
       "        67,  62,  72,  62,  76,  75,  65,  79,  88,  60,  66,  69,  73,\n",
       "        79,  75,  75,  69,  76,  63,  66,  67,  60,  67,  78,  64,  84,\n",
       "        77,  53,  70,  78,  65,  73,  70,  68,  69,  77,  56,  69,  67,\n",
       "        63,  66,  54,  66,  77,  74,  57,  69,  68,  70,  70,  55,  71,\n",
       "        90,  81,  68,  79,  76,  72,  77,  81,  72,  63,  69,  59,  74,\n",
       "        82,  68,  59,  69,  63,  77,  86], dtype=int64)"
      ]
     },
     "execution_count": 24,
     "metadata": {},
     "output_type": "execute_result"
    }
   ],
   "source": [
    "# Synthesize a poisson distribution for Average Score\n",
    "p = np.random.default_rng().poisson(mean, 189)\n",
    "p"
   ]
  },
  {
   "cell_type": "code",
   "execution_count": 25,
   "id": "cd68247a",
   "metadata": {},
   "outputs": [
    {
     "data": {
      "image/png": "[encoded data removed]",
      "text/plain": [
       "<Figure size 640x480 with 1 Axes>"
      ]
     },
     "metadata": {},
     "output_type": "display_data"
    }
   ],
   "source": [
    "# Plot poisson distribution for Average Score\n",
    "plt.hist(p)\n",
    "plt.show()"
   ]
  },
  {
   "cell_type": "code",
   "execution_count": 26,
   "id": "52bbe28d",
   "metadata": {},
   "outputs": [
    {
     "data": {
      "image/png": "[encoded data removed]",
      "text/plain": [
       "<Figure size 640x480 with 1 Axes>"
      ]
     },
     "metadata": {},
     "output_type": "display_data"
    }
   ],
   "source": [
    "plt.scatter(x,p)\n",
    "plt.show()"
   ]
  },
  {
   "cell_type": "code",
   "execution_count": 27,
   "id": "3b303f82",
   "metadata": {},
   "outputs": [],
   "source": [
    "#correlation = np.corrcoef(x, p)\n",
    "#correlation"
   ]
  },
  {
   "cell_type": "code",
   "execution_count": 28,
   "id": "1cab077a",
   "metadata": {},
   "outputs": [
    {
     "data": {
      "text/html": [
       "<div>\n",
       "<style scoped>\n",
       "    .dataframe tbody tr th:only-of-type {\n",
       "        vertical-align: middle;\n",
       "    }\n",
       "\n",
       "    .dataframe tbody tr th {\n",
       "        vertical-align: top;\n",
       "    }\n",
       "\n",
       "    .dataframe thead th {\n",
       "        text-align: right;\n",
       "    }\n",
       "</style>\n",
       "<table border=\"1\" class=\"dataframe\">\n",
       "  <thead>\n",
       "    <tr style=\"text-align: right;\">\n",
       "      <th></th>\n",
       "      <th>RANK</th>\n",
       "      <th>MOVEMENT</th>\n",
       "      <th>PLAYER_ID</th>\n",
       "      <th>PLAYER</th>\n",
       "      <th>AVG</th>\n",
       "      <th>TOTAL DISTANCE</th>\n",
       "      <th>TOTAL DRIVES</th>\n",
       "    </tr>\n",
       "  </thead>\n",
       "  <tbody>\n",
       "    <tr>\n",
       "      <th>0</th>\n",
       "      <td>1</td>\n",
       "      <td>0</td>\n",
       "      <td>28237</td>\n",
       "      <td>Rory McIlroy</td>\n",
       "      <td>326.3</td>\n",
       "      <td>41771</td>\n",
       "      <td>128</td>\n",
       "    </tr>\n",
       "    <tr>\n",
       "      <th>1</th>\n",
       "      <td>2</td>\n",
       "      <td>0</td>\n",
       "      <td>51491</td>\n",
       "      <td>Brandon Matthews</td>\n",
       "      <td>321.3</td>\n",
       "      <td>37915</td>\n",
       "      <td>118</td>\n",
       "    </tr>\n",
       "    <tr>\n",
       "      <th>2</th>\n",
       "      <td>3</td>\n",
       "      <td>0</td>\n",
       "      <td>52372</td>\n",
       "      <td>Cameron Champ</td>\n",
       "      <td>318.8</td>\n",
       "      <td>47180</td>\n",
       "      <td>148</td>\n",
       "    </tr>\n",
       "    <tr>\n",
       "      <th>3</th>\n",
       "      <td>4</td>\n",
       "      <td>0</td>\n",
       "      <td>52453</td>\n",
       "      <td>Nicolai Hojgaard</td>\n",
       "      <td>317.7</td>\n",
       "      <td>29227</td>\n",
       "      <td>92</td>\n",
       "    </tr>\n",
       "    <tr>\n",
       "      <th>4</th>\n",
       "      <td>5</td>\n",
       "      <td>0</td>\n",
       "      <td>57366</td>\n",
       "      <td>Cameron Young</td>\n",
       "      <td>316.5</td>\n",
       "      <td>51902</td>\n",
       "      <td>164</td>\n",
       "    </tr>\n",
       "    <tr>\n",
       "      <th>...</th>\n",
       "      <td>...</td>\n",
       "      <td>...</td>\n",
       "      <td>...</td>\n",
       "      <td>...</td>\n",
       "      <td>...</td>\n",
       "      <td>...</td>\n",
       "      <td>...</td>\n",
       "    </tr>\n",
       "    <tr>\n",
       "      <th>184</th>\n",
       "      <td>185</td>\n",
       "      <td>-2</td>\n",
       "      <td>30927</td>\n",
       "      <td>Brendon Todd</td>\n",
       "      <td>282.8</td>\n",
       "      <td>54300</td>\n",
       "      <td>192</td>\n",
       "    </tr>\n",
       "    <tr>\n",
       "      <th>185</th>\n",
       "      <td>186</td>\n",
       "      <td>-2</td>\n",
       "      <td>40058</td>\n",
       "      <td>Zac Blair</td>\n",
       "      <td>282.4</td>\n",
       "      <td>42920</td>\n",
       "      <td>152</td>\n",
       "    </tr>\n",
       "    <tr>\n",
       "      <th>186</th>\n",
       "      <td>187</td>\n",
       "      <td>-2</td>\n",
       "      <td>31202</td>\n",
       "      <td>William McGirt</td>\n",
       "      <td>281.0</td>\n",
       "      <td>25292</td>\n",
       "      <td>90</td>\n",
       "    </tr>\n",
       "    <tr>\n",
       "      <th>187</th>\n",
       "      <td>188</td>\n",
       "      <td>-2</td>\n",
       "      <td>34409</td>\n",
       "      <td>David Lingmerth</td>\n",
       "      <td>279.2</td>\n",
       "      <td>45789</td>\n",
       "      <td>164</td>\n",
       "    </tr>\n",
       "    <tr>\n",
       "      <th>188</th>\n",
       "      <td>189</td>\n",
       "      <td>-2</td>\n",
       "      <td>31560</td>\n",
       "      <td>Brian Stuard</td>\n",
       "      <td>272.5</td>\n",
       "      <td>36510</td>\n",
       "      <td>134</td>\n",
       "    </tr>\n",
       "  </tbody>\n",
       "</table>\n",
       "<p>189 rows × 7 columns</p>\n",
       "</div>"
      ],
      "text/plain": [
       "     RANK  MOVEMENT  PLAYER_ID            PLAYER    AVG  TOTAL DISTANCE  \\\n",
       "0       1         0      28237      Rory McIlroy  326.3           41771   \n",
       "1       2         0      51491  Brandon Matthews  321.3           37915   \n",
       "2       3         0      52372     Cameron Champ  318.8           47180   \n",
       "3       4         0      52453  Nicolai Hojgaard  317.7           29227   \n",
       "4       5         0      57366     Cameron Young  316.5           51902   \n",
       "..    ...       ...        ...               ...    ...             ...   \n",
       "184   185        -2      30927      Brendon Todd  282.8           54300   \n",
       "185   186        -2      40058         Zac Blair  282.4           42920   \n",
       "186   187        -2      31202    William McGirt  281.0           25292   \n",
       "187   188        -2      34409   David Lingmerth  279.2           45789   \n",
       "188   189        -2      31560      Brian Stuard  272.5           36510   \n",
       "\n",
       "     TOTAL DRIVES  \n",
       "0             128  \n",
       "1             118  \n",
       "2             148  \n",
       "3              92  \n",
       "4             164  \n",
       "..            ...  \n",
       "184           192  \n",
       "185           152  \n",
       "186            90  \n",
       "187           164  \n",
       "188           134  \n",
       "\n",
       "[189 rows x 7 columns]"
      ]
     },
     "execution_count": 28,
     "metadata": {},
     "output_type": "execute_result"
    }
   ],
   "source": [
    "# https://www.pgatour.com/stats/detail/101\n",
    "df1 = pd.read_csv('pgatour_golfstats_2022-2023_driving.csv')\n",
    "df1"
   ]
  },
  {
   "cell_type": "code",
   "execution_count": 29,
   "id": "9f6d7873",
   "metadata": {},
   "outputs": [
    {
     "data": {
      "image/png": "[encoded data removed]",
      "text/plain": [
       "<Figure size 640x480 with 1 Axes>"
      ]
     },
     "metadata": {},
     "output_type": "display_data"
    }
   ],
   "source": [
    "x = df1.RANK\n",
    "y = df1.AVG\n",
    "plt.plot(x,y)\n",
    "plt.show()"
   ]
  },
  {
   "cell_type": "code",
   "execution_count": 30,
   "id": "b801646c",
   "metadata": {},
   "outputs": [
    {
     "data": {
      "image/png": "[encoded data removed]",
      "text/plain": [
       "<Figure size 640x480 with 1 Axes>"
      ]
     },
     "metadata": {},
     "output_type": "display_data"
    }
   ],
   "source": [
    "plt.scatter(x,y)\n",
    "plt.show()"
   ]
  },
  {
   "cell_type": "code",
   "execution_count": 31,
   "id": "71bd1d1f",
   "metadata": {},
   "outputs": [
    {
     "data": {
      "text/plain": [
       "array([[ 1.        , -0.97161469],\n",
       "       [-0.97161469,  1.        ]])"
      ]
     },
     "execution_count": 31,
     "metadata": {},
     "output_type": "execute_result"
    }
   ],
   "source": [
    "correlation = np.corrcoef(x, y)\n",
    "correlation"
   ]
  },
  {
   "cell_type": "code",
   "execution_count": 32,
   "id": "c7272a1c",
   "metadata": {},
   "outputs": [
    {
     "data": {
      "image/png": "[encoded data removed]",
      "text/plain": [
       "<Figure size 640x480 with 1 Axes>"
      ]
     },
     "metadata": {},
     "output_type": "display_data"
    }
   ],
   "source": [
    "# Plot Driving Distance data from pgatour_golfstats_2022-2023_driving.csv\n",
    "plt.hist(y, bins=10)\n",
    "plt.show()"
   ]
  },
  {
   "cell_type": "code",
   "execution_count": 33,
   "id": "e4c25b20",
   "metadata": {},
   "outputs": [
    {
     "data": {
      "text/plain": [
       "0      326.3\n",
       "1      321.3\n",
       "2      318.8\n",
       "3      317.7\n",
       "4      316.5\n",
       "       ...  \n",
       "184    282.8\n",
       "185    282.4\n",
       "186    281.0\n",
       "187    279.2\n",
       "188    272.5\n",
       "Name: AVG, Length: 189, dtype: float64"
      ]
     },
     "execution_count": 33,
     "metadata": {},
     "output_type": "execute_result"
    }
   ],
   "source": [
    "df1.AVG"
   ]
  },
  {
   "cell_type": "code",
   "execution_count": 34,
   "id": "a01547a6",
   "metadata": {},
   "outputs": [
    {
     "data": {
      "text/plain": [
       "8.66203975287581"
      ]
     },
     "execution_count": 34,
     "metadata": {},
     "output_type": "execute_result"
    }
   ],
   "source": [
    "std = df1.AVG.std()\n",
    "std"
   ]
  },
  {
   "cell_type": "code",
   "execution_count": 35,
   "id": "841db014",
   "metadata": {},
   "outputs": [
    {
     "data": {
      "text/plain": [
       "300.96402116402106"
      ]
     },
     "execution_count": 35,
     "metadata": {},
     "output_type": "execute_result"
    }
   ],
   "source": [
    "mean = df1.AVG.mean()\n",
    "mean"
   ]
  },
  {
   "cell_type": "code",
   "execution_count": 36,
   "id": "7fbd6326",
   "metadata": {},
   "outputs": [
    {
     "data": {
      "text/html": [
       "<div>\n",
       "<style scoped>\n",
       "    .dataframe tbody tr th:only-of-type {\n",
       "        vertical-align: middle;\n",
       "    }\n",
       "\n",
       "    .dataframe tbody tr th {\n",
       "        vertical-align: top;\n",
       "    }\n",
       "\n",
       "    .dataframe thead th {\n",
       "        text-align: right;\n",
       "    }\n",
       "</style>\n",
       "<table border=\"1\" class=\"dataframe\">\n",
       "  <thead>\n",
       "    <tr style=\"text-align: right;\">\n",
       "      <th></th>\n",
       "      <th>RANK</th>\n",
       "      <th>MOVEMENT</th>\n",
       "      <th>PLAYER_ID</th>\n",
       "      <th>AVG</th>\n",
       "      <th>TOTAL DISTANCE</th>\n",
       "      <th>TOTAL DRIVES</th>\n",
       "    </tr>\n",
       "  </thead>\n",
       "  <tbody>\n",
       "    <tr>\n",
       "      <th>count</th>\n",
       "      <td>189.000000</td>\n",
       "      <td>189.000000</td>\n",
       "      <td>189.000000</td>\n",
       "      <td>189.000000</td>\n",
       "      <td>189.000000</td>\n",
       "      <td>189.00000</td>\n",
       "    </tr>\n",
       "    <tr>\n",
       "      <th>mean</th>\n",
       "      <td>94.719577</td>\n",
       "      <td>-0.904762</td>\n",
       "      <td>39114.994709</td>\n",
       "      <td>300.964021</td>\n",
       "      <td>51175.285714</td>\n",
       "      <td>170.05291</td>\n",
       "    </tr>\n",
       "    <tr>\n",
       "      <th>std</th>\n",
       "      <td>54.711144</td>\n",
       "      <td>1.968212</td>\n",
       "      <td>10294.967774</td>\n",
       "      <td>8.662040</td>\n",
       "      <td>9840.011169</td>\n",
       "      <td>32.48334</td>\n",
       "    </tr>\n",
       "    <tr>\n",
       "      <th>min</th>\n",
       "      <td>1.000000</td>\n",
       "      <td>-5.000000</td>\n",
       "      <td>12716.000000</td>\n",
       "      <td>272.500000</td>\n",
       "      <td>25292.000000</td>\n",
       "      <td>90.00000</td>\n",
       "    </tr>\n",
       "    <tr>\n",
       "      <th>25%</th>\n",
       "      <td>48.000000</td>\n",
       "      <td>-2.000000</td>\n",
       "      <td>31560.000000</td>\n",
       "      <td>295.200000</td>\n",
       "      <td>44589.000000</td>\n",
       "      <td>148.00000</td>\n",
       "    </tr>\n",
       "    <tr>\n",
       "      <th>50%</th>\n",
       "      <td>94.000000</td>\n",
       "      <td>-1.000000</td>\n",
       "      <td>36699.000000</td>\n",
       "      <td>300.800000</td>\n",
       "      <td>51338.000000</td>\n",
       "      <td>172.00000</td>\n",
       "    </tr>\n",
       "    <tr>\n",
       "      <th>75%</th>\n",
       "      <td>142.000000</td>\n",
       "      <td>0.000000</td>\n",
       "      <td>48117.000000</td>\n",
       "      <td>306.400000</td>\n",
       "      <td>57791.000000</td>\n",
       "      <td>192.00000</td>\n",
       "    </tr>\n",
       "    <tr>\n",
       "      <th>max</th>\n",
       "      <td>189.000000</td>\n",
       "      <td>7.000000</td>\n",
       "      <td>59018.000000</td>\n",
       "      <td>326.300000</td>\n",
       "      <td>72978.000000</td>\n",
       "      <td>244.00000</td>\n",
       "    </tr>\n",
       "  </tbody>\n",
       "</table>\n",
       "</div>"
      ],
      "text/plain": [
       "             RANK    MOVEMENT     PLAYER_ID         AVG  TOTAL DISTANCE  \\\n",
       "count  189.000000  189.000000    189.000000  189.000000      189.000000   \n",
       "mean    94.719577   -0.904762  39114.994709  300.964021    51175.285714   \n",
       "std     54.711144    1.968212  10294.967774    8.662040     9840.011169   \n",
       "min      1.000000   -5.000000  12716.000000  272.500000    25292.000000   \n",
       "25%     48.000000   -2.000000  31560.000000  295.200000    44589.000000   \n",
       "50%     94.000000   -1.000000  36699.000000  300.800000    51338.000000   \n",
       "75%    142.000000    0.000000  48117.000000  306.400000    57791.000000   \n",
       "max    189.000000    7.000000  59018.000000  326.300000    72978.000000   \n",
       "\n",
       "       TOTAL DRIVES  \n",
       "count     189.00000  \n",
       "mean      170.05291  \n",
       "std        32.48334  \n",
       "min        90.00000  \n",
       "25%       148.00000  \n",
       "50%       172.00000  \n",
       "75%       192.00000  \n",
       "max       244.00000  "
      ]
     },
     "execution_count": 36,
     "metadata": {},
     "output_type": "execute_result"
    }
   ],
   "source": [
    "df1.describe()"
   ]
  },
  {
   "cell_type": "code",
   "execution_count": 37,
   "id": "fa49c97f",
   "metadata": {},
   "outputs": [
    {
     "data": {
      "text/plain": [
       "RANK              189\n",
       "MOVEMENT          189\n",
       "PLAYER_ID         189\n",
       "PLAYER            189\n",
       "AVG               189\n",
       "TOTAL DISTANCE    189\n",
       "TOTAL DRIVES      189\n",
       "dtype: int64"
      ]
     },
     "execution_count": 37,
     "metadata": {},
     "output_type": "execute_result"
    }
   ],
   "source": [
    "count = df1.count()\n",
    "count"
   ]
  },
  {
   "cell_type": "code",
   "execution_count": 38,
   "id": "d0716673",
   "metadata": {},
   "outputs": [
    {
     "data": {
      "text/plain": [
       "array([301.44581731, 294.97643844, 297.79271723, 291.38363219,\n",
       "       299.79648976, 307.36066912, 309.58130745, 314.73305136,\n",
       "       298.64509092, 304.15681908, 291.98821911, 295.63144694,\n",
       "       297.73129561, 308.87518267, 301.24878374, 310.7052477 ,\n",
       "       311.56358436, 307.77262867, 312.42429638, 303.67792309,\n",
       "       292.4779905 , 301.90662828, 302.4601994 , 313.19570834,\n",
       "       296.73693462, 298.10602418, 310.26934739, 315.3047935 ,\n",
       "       308.70147663, 301.03414636, 305.18231097, 297.322145  ,\n",
       "       301.03317215, 289.12721902, 295.11155946, 301.08563885,\n",
       "       294.18649282, 287.82802255, 288.43244344, 307.86780464,\n",
       "       302.14994778, 302.00001812, 297.18264387, 301.54320148,\n",
       "       310.78635369, 292.21823633, 302.24242007, 294.96161496,\n",
       "       304.70774652, 315.15535687, 301.56801204, 301.11296566,\n",
       "       315.3613278 , 305.41216807, 312.25279632, 298.09068671,\n",
       "       286.7494817 , 291.96069532, 293.23476533, 298.47279286,\n",
       "       302.4425355 , 301.78714517, 297.48600448, 293.10553968,\n",
       "       299.42767674, 309.27616132, 305.71804958, 303.8038114 ,\n",
       "       295.97320622, 300.70443348, 296.30780517, 290.36373246,\n",
       "       301.39786259, 310.71570805, 300.5355888 , 297.31122802,\n",
       "       293.38400845, 293.2336284 , 308.85738769, 298.65391155,\n",
       "       310.36158808, 301.19993699, 304.27222172, 299.60443014,\n",
       "       298.00839054, 301.74081203, 305.7699144 , 298.3708868 ,\n",
       "       300.00714841, 309.69348866, 314.01156245, 301.39539683,\n",
       "       301.09279328, 308.08375604, 305.06566084, 323.49081489,\n",
       "       298.6517738 , 312.48742636, 301.53845108, 303.99771741,\n",
       "       299.58862615, 321.3588432 , 295.93223982, 301.90477042,\n",
       "       311.36638839, 308.49188418, 301.73731487, 299.94642763,\n",
       "       294.46460898, 297.77955513, 295.00065015, 299.32832283,\n",
       "       292.6498733 , 310.32246584, 308.41317982, 304.4418809 ,\n",
       "       299.5642469 , 299.21352669, 312.8869399 , 294.63464869,\n",
       "       306.12226265, 314.9168134 , 300.61745271, 302.43663048,\n",
       "       295.8203789 , 299.03697451, 303.6255067 , 309.03510547,\n",
       "       289.79342353, 307.59715496, 295.72561442, 301.1153939 ,\n",
       "       302.6070513 , 304.53920054, 318.90029323, 317.70743009,\n",
       "       301.4616383 , 301.47046072, 299.86155111, 292.75040693,\n",
       "       283.44382922, 322.75584339, 294.54436883, 296.95391645,\n",
       "       304.29147897, 278.43980944, 290.28226264, 304.10500383,\n",
       "       310.5079471 , 285.11316661, 308.22741973, 305.8529586 ,\n",
       "       308.95885531, 299.68732819, 299.69151605, 314.71965385,\n",
       "       318.80542556, 306.48531973, 291.35259781, 295.17121052,\n",
       "       312.99968334, 291.1555413 , 307.06461414, 292.10184115,\n",
       "       304.03939529, 300.77820893, 302.02912812, 302.40856653,\n",
       "       290.76925097, 306.12924083, 290.41078396, 302.46359842,\n",
       "       304.93775771, 304.39295043, 311.93739959, 310.48477013,\n",
       "       310.24265206, 308.94035486, 293.64599384, 298.39442002,\n",
       "       315.87010069, 289.94192931, 294.57732374, 299.72054949,\n",
       "       301.46515785, 305.70775504, 300.56474838, 290.98612365,\n",
       "       320.83237818])"
      ]
     },
     "execution_count": 38,
     "metadata": {},
     "output_type": "execute_result"
    }
   ],
   "source": [
    "# Synthesize a random normal distribution for Driving Distance\n",
    "# I choose mu of 300.5 because this is the average drivage distance in pgatour_golfstats_2022-2023_driving.csv\n",
    "mu, sigma = 300.96, 8.66 # mean and standard deviation\n",
    "s = np.random.default_rng().normal(mu, sigma, 189)\n",
    "s"
   ]
  },
  {
   "cell_type": "code",
   "execution_count": 39,
   "id": "2cc66594",
   "metadata": {},
   "outputs": [
    {
     "data": {
      "image/png": "[encoded data removed]",
      "text/plain": [
       "<Figure size 640x480 with 1 Axes>"
      ]
     },
     "metadata": {},
     "output_type": "display_data"
    }
   ],
   "source": [
    "# Plot random normal distribution for Driving Distance\n",
    "plt.hist(s)\n",
    "plt.show()"
   ]
  },
  {
   "cell_type": "code",
   "execution_count": 40,
   "id": "a11f6348",
   "metadata": {},
   "outputs": [
    {
     "data": {
      "text/plain": [
       "array([303, 317, 313, 306, 266, 315, 310, 292, 311, 256, 333, 316, 286,\n",
       "       303, 275, 307, 292, 316, 299, 296, 288, 291, 296, 301, 298, 272,\n",
       "       276, 307, 307, 307, 261, 311, 276, 284, 295, 320, 297, 304, 309,\n",
       "       285, 325, 332, 315, 295, 304, 305, 302, 309, 305, 297, 278, 341,\n",
       "       315, 314, 283, 287, 289, 294, 298, 302, 300, 299, 330, 308, 316,\n",
       "       315, 324, 313, 318, 282, 257, 317, 301, 292, 288, 295, 291, 317,\n",
       "       298, 302, 260, 304, 288, 288, 313, 288, 299, 302, 282, 290, 325,\n",
       "       284, 294, 295, 309, 297, 297, 309, 320, 303, 291, 293, 278, 313,\n",
       "       296, 304, 321, 301, 293, 314, 316, 298, 321, 305, 311, 324, 336,\n",
       "       320, 330, 277, 288, 293, 267, 281, 295, 295, 286, 297, 286, 292,\n",
       "       299, 317, 298, 305, 307, 317, 306, 300, 316, 302, 299, 298, 299,\n",
       "       312, 289, 309, 306, 298, 306, 319, 357, 316, 276, 307, 280, 266,\n",
       "       312, 307, 304, 291, 284, 295, 307, 290, 289, 323, 264, 304, 303,\n",
       "       328, 306, 290, 315, 273, 273, 278, 319, 295, 293, 301, 317, 284,\n",
       "       312, 305, 279, 291, 305, 286, 285], dtype=int64)"
      ]
     },
     "execution_count": 40,
     "metadata": {},
     "output_type": "execute_result"
    }
   ],
   "source": [
    "# Synthesize a poisson distribution for Driving Distance\n",
    "p = np.random.default_rng().poisson(mu,189)\n",
    "p"
   ]
  },
  {
   "cell_type": "code",
   "execution_count": 41,
   "id": "65954b64",
   "metadata": {},
   "outputs": [
    {
     "data": {
      "image/png": "[encoded data removed]",
      "text/plain": [
       "<Figure size 640x480 with 1 Axes>"
      ]
     },
     "metadata": {},
     "output_type": "display_data"
    }
   ],
   "source": [
    "# Plot poisson distribution for Driving Distance\n",
    "plt.hist(p)\n",
    "plt.show()"
   ]
  },
  {
   "cell_type": "code",
   "execution_count": 42,
   "id": "5f513fa0",
   "metadata": {},
   "outputs": [
    {
     "data": {
      "text/html": [
       "<div>\n",
       "<style scoped>\n",
       "    .dataframe tbody tr th:only-of-type {\n",
       "        vertical-align: middle;\n",
       "    }\n",
       "\n",
       "    .dataframe tbody tr th {\n",
       "        vertical-align: top;\n",
       "    }\n",
       "\n",
       "    .dataframe thead th {\n",
       "        text-align: right;\n",
       "    }\n",
       "</style>\n",
       "<table border=\"1\" class=\"dataframe\">\n",
       "  <thead>\n",
       "    <tr style=\"text-align: right;\">\n",
       "      <th></th>\n",
       "      <th>1</th>\n",
       "      <th>Unnamed: 1</th>\n",
       "      <th>MCILROY, Rory</th>\n",
       "      <th>30</th>\n",
       "      <th>68.8</th>\n",
       "      <th>DP World Tour</th>\n",
       "    </tr>\n",
       "  </thead>\n",
       "  <tbody>\n",
       "    <tr>\n",
       "      <th>0</th>\n",
       "      <td>2</td>\n",
       "      <td>NaN</td>\n",
       "      <td>BJÖRK, Alexander</td>\n",
       "      <td>88</td>\n",
       "      <td>69.53</td>\n",
       "      <td>DP World Tour</td>\n",
       "    </tr>\n",
       "    <tr>\n",
       "      <th>1</th>\n",
       "      <td>3</td>\n",
       "      <td>NaN</td>\n",
       "      <td>HØJGAARD, Nicolai</td>\n",
       "      <td>61</td>\n",
       "      <td>69.59</td>\n",
       "      <td>DP World Tour</td>\n",
       "    </tr>\n",
       "    <tr>\n",
       "      <th>2</th>\n",
       "      <td>4</td>\n",
       "      <td>NaN</td>\n",
       "      <td>KIMSEY, Nathan</td>\n",
       "      <td>76</td>\n",
       "      <td>69.74</td>\n",
       "      <td>DP World Tour</td>\n",
       "    </tr>\n",
       "    <tr>\n",
       "      <th>3</th>\n",
       "      <td>5</td>\n",
       "      <td>NaN</td>\n",
       "      <td>OLESEN, Thorbjørn</td>\n",
       "      <td>84</td>\n",
       "      <td>69.80</td>\n",
       "      <td>DP World Tour</td>\n",
       "    </tr>\n",
       "    <tr>\n",
       "      <th>4</th>\n",
       "      <td>6</td>\n",
       "      <td>NaN</td>\n",
       "      <td>MERONK, Adrian</td>\n",
       "      <td>77</td>\n",
       "      <td>69.81</td>\n",
       "      <td>DP World Tour</td>\n",
       "    </tr>\n",
       "    <tr>\n",
       "      <th>...</th>\n",
       "      <td>...</td>\n",
       "      <td>...</td>\n",
       "      <td>...</td>\n",
       "      <td>...</td>\n",
       "      <td>...</td>\n",
       "      <td>...</td>\n",
       "    </tr>\n",
       "    <tr>\n",
       "      <th>168</th>\n",
       "      <td>170</td>\n",
       "      <td>NaN</td>\n",
       "      <td>MURPHY, John</td>\n",
       "      <td>51</td>\n",
       "      <td>73.86</td>\n",
       "      <td>DP World Tour</td>\n",
       "    </tr>\n",
       "    <tr>\n",
       "      <th>169</th>\n",
       "      <td>171</td>\n",
       "      <td>NaN</td>\n",
       "      <td>LI, Haotong</td>\n",
       "      <td>43</td>\n",
       "      <td>74.07</td>\n",
       "      <td>DP World Tour</td>\n",
       "    </tr>\n",
       "    <tr>\n",
       "      <th>170</th>\n",
       "      <td>172</td>\n",
       "      <td>NaN</td>\n",
       "      <td>WINDRED, Blake</td>\n",
       "      <td>34</td>\n",
       "      <td>74.18</td>\n",
       "      <td>DP World Tour</td>\n",
       "    </tr>\n",
       "    <tr>\n",
       "      <th>171</th>\n",
       "      <td>173</td>\n",
       "      <td>NaN</td>\n",
       "      <td>CHENGYAO, Ma</td>\n",
       "      <td>40</td>\n",
       "      <td>74.83</td>\n",
       "      <td>DP World Tour</td>\n",
       "    </tr>\n",
       "    <tr>\n",
       "      <th>172</th>\n",
       "      <td>174</td>\n",
       "      <td>NaN</td>\n",
       "      <td>EDÉN, Tobias</td>\n",
       "      <td>41</td>\n",
       "      <td>75.07</td>\n",
       "      <td>DP World Tour</td>\n",
       "    </tr>\n",
       "  </tbody>\n",
       "</table>\n",
       "<p>173 rows × 6 columns</p>\n",
       "</div>"
      ],
      "text/plain": [
       "       1  Unnamed: 1      MCILROY, Rory  30   68.8  DP World Tour\n",
       "0      2         NaN   BJÖRK, Alexander  88  69.53  DP World Tour\n",
       "1      3         NaN  HØJGAARD, Nicolai  61  69.59  DP World Tour\n",
       "2      4         NaN     KIMSEY, Nathan  76  69.74  DP World Tour\n",
       "3      5         NaN  OLESEN, Thorbjørn  84  69.80  DP World Tour\n",
       "4      6         NaN     MERONK, Adrian  77  69.81  DP World Tour\n",
       "..   ...         ...                ...  ..    ...            ...\n",
       "168  170         NaN       MURPHY, John  51  73.86  DP World Tour\n",
       "169  171         NaN        LI, Haotong  43  74.07  DP World Tour\n",
       "170  172         NaN     WINDRED, Blake  34  74.18  DP World Tour\n",
       "171  173         NaN       CHENGYAO, Ma  40  74.83  DP World Tour\n",
       "172  174         NaN       EDÉN, Tobias  41  75.07  DP World Tour\n",
       "\n",
       "[173 rows x 6 columns]"
      ]
     },
     "execution_count": 42,
     "metadata": {},
     "output_type": "execute_result"
    }
   ],
   "source": [
    "dataframe1 = pd.read_excel('dpworldtour_2022-2023_scoringaverage.xlsx')\n",
    "dataframe1"
   ]
  },
  {
   "cell_type": "code",
   "execution_count": 43,
   "id": "51d8c85d",
   "metadata": {},
   "outputs": [
    {
     "data": {
      "text/html": [
       "<div>\n",
       "<style scoped>\n",
       "    .dataframe tbody tr th:only-of-type {\n",
       "        vertical-align: middle;\n",
       "    }\n",
       "\n",
       "    .dataframe tbody tr th {\n",
       "        vertical-align: top;\n",
       "    }\n",
       "\n",
       "    .dataframe thead th {\n",
       "        text-align: right;\n",
       "    }\n",
       "</style>\n",
       "<table border=\"1\" class=\"dataframe\">\n",
       "  <thead>\n",
       "    <tr style=\"text-align: right;\">\n",
       "      <th></th>\n",
       "      <th>DATE</th>\n",
       "      <th>TOURNAMENT</th>\n",
       "      <th>POS</th>\n",
       "      <th>R1</th>\n",
       "      <th>R2</th>\n",
       "      <th>R3</th>\n",
       "      <th>R4</th>\n",
       "      <th>R5</th>\n",
       "      <th>TOTAL</th>\n",
       "      <th>TO PAR</th>\n",
       "      <th>RANK</th>\n",
       "      <th>PTS</th>\n",
       "      <th>Unnamed: 12</th>\n",
       "      <th>RANK.1</th>\n",
       "      <th>PTS.1</th>\n",
       "      <th>WINNINGS</th>\n",
       "      <th>Unnamed: 16</th>\n",
       "    </tr>\n",
       "  </thead>\n",
       "  <tbody>\n",
       "    <tr>\n",
       "      <th>0</th>\n",
       "      <td>10.23.2022</td>\n",
       "      <td>THE CJ CUP in South Carolina</td>\n",
       "      <td>T23</td>\n",
       "      <td>68</td>\n",
       "      <td>67</td>\n",
       "      <td>71</td>\n",
       "      <td>72</td>\n",
       "      <td>-</td>\n",
       "      <td>278.0</td>\n",
       "      <td>-6</td>\n",
       "      <td>99</td>\n",
       "      <td>34.833</td>\n",
       "      <td>NaN</td>\n",
       "      <td>-</td>\n",
       "      <td>-</td>\n",
       "      <td>$88,305.00</td>\n",
       "      <td>NaN</td>\n",
       "    </tr>\n",
       "    <tr>\n",
       "      <th>1</th>\n",
       "      <td>12.4.2022</td>\n",
       "      <td>Hero World Challenge*</td>\n",
       "      <td>18</td>\n",
       "      <td>74</td>\n",
       "      <td>77</td>\n",
       "      <td>71</td>\n",
       "      <td>71</td>\n",
       "      <td>-</td>\n",
       "      <td>293.0</td>\n",
       "      <td>5</td>\n",
       "      <td>-</td>\n",
       "      <td>-</td>\n",
       "      <td>NaN</td>\n",
       "      <td>-</td>\n",
       "      <td>-</td>\n",
       "      <td>$102,000.00</td>\n",
       "      <td>-</td>\n",
       "    </tr>\n",
       "    <tr>\n",
       "      <th>2</th>\n",
       "      <td>2.12.2023</td>\n",
       "      <td>WM Phoenix Open</td>\n",
       "      <td>CUT</td>\n",
       "      <td>75</td>\n",
       "      <td>76</td>\n",
       "      <td>-</td>\n",
       "      <td>-</td>\n",
       "      <td>-</td>\n",
       "      <td>151.0</td>\n",
       "      <td>9</td>\n",
       "      <td>180</td>\n",
       "      <td>-</td>\n",
       "      <td>NaN</td>\n",
       "      <td>-</td>\n",
       "      <td>-</td>\n",
       "      <td>-</td>\n",
       "      <td>NaN</td>\n",
       "    </tr>\n",
       "    <tr>\n",
       "      <th>3</th>\n",
       "      <td>2.19.2023</td>\n",
       "      <td>The Genesis Invitational</td>\n",
       "      <td>T14</td>\n",
       "      <td>69</td>\n",
       "      <td>69</td>\n",
       "      <td>71</td>\n",
       "      <td>68</td>\n",
       "      <td>-</td>\n",
       "      <td>277.0</td>\n",
       "      <td>-7</td>\n",
       "      <td>131</td>\n",
       "      <td>58.25</td>\n",
       "      <td>NaN</td>\n",
       "      <td>-</td>\n",
       "      <td>-</td>\n",
       "      <td>$355,000.00</td>\n",
       "      <td>NaN</td>\n",
       "    </tr>\n",
       "    <tr>\n",
       "      <th>4</th>\n",
       "      <td>2.26.2023</td>\n",
       "      <td>The Honda Classic</td>\n",
       "      <td>T5</td>\n",
       "      <td>68</td>\n",
       "      <td>68</td>\n",
       "      <td>65</td>\n",
       "      <td>70</td>\n",
       "      <td>-</td>\n",
       "      <td>271.0</td>\n",
       "      <td>-9</td>\n",
       "      <td>89</td>\n",
       "      <td>93</td>\n",
       "      <td>NaN</td>\n",
       "      <td>-</td>\n",
       "      <td>-</td>\n",
       "      <td>$288,120.00</td>\n",
       "      <td>NaN</td>\n",
       "    </tr>\n",
       "    <tr>\n",
       "      <th>5</th>\n",
       "      <td>3.5.2023</td>\n",
       "      <td>Arnold Palmer Invitational presented by Master...</td>\n",
       "      <td>67</td>\n",
       "      <td>72</td>\n",
       "      <td>70</td>\n",
       "      <td>80</td>\n",
       "      <td>71</td>\n",
       "      <td>-</td>\n",
       "      <td>293.0</td>\n",
       "      <td>5</td>\n",
       "      <td>97</td>\n",
       "      <td>4.08</td>\n",
       "      <td>NaN</td>\n",
       "      <td>-</td>\n",
       "      <td>-</td>\n",
       "      <td>$42,600.00</td>\n",
       "      <td>NaN</td>\n",
       "    </tr>\n",
       "    <tr>\n",
       "      <th>6</th>\n",
       "      <td>3.12.2023</td>\n",
       "      <td>THE PLAYERS Championship</td>\n",
       "      <td>T35</td>\n",
       "      <td>77</td>\n",
       "      <td>69</td>\n",
       "      <td>68</td>\n",
       "      <td>70</td>\n",
       "      <td>-</td>\n",
       "      <td>284.0</td>\n",
       "      <td>-4</td>\n",
       "      <td>96</td>\n",
       "      <td>19.267</td>\n",
       "      <td>NaN</td>\n",
       "      <td>-</td>\n",
       "      <td>-</td>\n",
       "      <td>$114,166.67</td>\n",
       "      <td>NaN</td>\n",
       "    </tr>\n",
       "    <tr>\n",
       "      <th>7</th>\n",
       "      <td>3.26.2023</td>\n",
       "      <td>World Golf Championships-Dell Technologies Mat...</td>\n",
       "      <td>T31</td>\n",
       "      <td>-</td>\n",
       "      <td>-</td>\n",
       "      <td>-</td>\n",
       "      <td>-</td>\n",
       "      <td>-</td>\n",
       "      <td>0.0</td>\n",
       "      <td>NaN</td>\n",
       "      <td>97</td>\n",
       "      <td>17.729</td>\n",
       "      <td>NaN</td>\n",
       "      <td>-</td>\n",
       "      <td>-</td>\n",
       "      <td>$113,761.91</td>\n",
       "      <td>NaN</td>\n",
       "    </tr>\n",
       "    <tr>\n",
       "      <th>8</th>\n",
       "      <td>4.9.2023</td>\n",
       "      <td>Masters Tournament</td>\n",
       "      <td>T16</td>\n",
       "      <td>68</td>\n",
       "      <td>72</td>\n",
       "      <td>73</td>\n",
       "      <td>73</td>\n",
       "      <td>-</td>\n",
       "      <td>286.0</td>\n",
       "      <td>-2</td>\n",
       "      <td>88</td>\n",
       "      <td>52.886</td>\n",
       "      <td>NaN</td>\n",
       "      <td>-</td>\n",
       "      <td>-</td>\n",
       "      <td>$261,000.00</td>\n",
       "      <td>-</td>\n",
       "    </tr>\n",
       "    <tr>\n",
       "      <th>9</th>\n",
       "      <td>4.16.2023</td>\n",
       "      <td>RBC Heritage</td>\n",
       "      <td>T67</td>\n",
       "      <td>70</td>\n",
       "      <td>69</td>\n",
       "      <td>74</td>\n",
       "      <td>72</td>\n",
       "      <td>-</td>\n",
       "      <td>285.0</td>\n",
       "      <td>1</td>\n",
       "      <td>90</td>\n",
       "      <td>3.3</td>\n",
       "      <td>NaN</td>\n",
       "      <td>-</td>\n",
       "      <td>-</td>\n",
       "      <td>$41,600.00</td>\n",
       "      <td>NaN</td>\n",
       "    </tr>\n",
       "    <tr>\n",
       "      <th>10</th>\n",
       "      <td>5.7.2023</td>\n",
       "      <td>Wells Fargo Championship</td>\n",
       "      <td>CUT</td>\n",
       "      <td>72</td>\n",
       "      <td>72</td>\n",
       "      <td>-</td>\n",
       "      <td>-</td>\n",
       "      <td>-</td>\n",
       "      <td>144.0</td>\n",
       "      <td>2</td>\n",
       "      <td>99</td>\n",
       "      <td>-</td>\n",
       "      <td>NaN</td>\n",
       "      <td>-</td>\n",
       "      <td>-</td>\n",
       "      <td>-</td>\n",
       "      <td>NaN</td>\n",
       "    </tr>\n",
       "    <tr>\n",
       "      <th>11</th>\n",
       "      <td>5.21.2023</td>\n",
       "      <td>PGA Championship</td>\n",
       "      <td>T12</td>\n",
       "      <td>73</td>\n",
       "      <td>67</td>\n",
       "      <td>71</td>\n",
       "      <td>69</td>\n",
       "      <td>-</td>\n",
       "      <td>280.0</td>\n",
       "      <td>E</td>\n",
       "      <td>89</td>\n",
       "      <td>68</td>\n",
       "      <td>NaN</td>\n",
       "      <td>-</td>\n",
       "      <td>-</td>\n",
       "      <td>$365,000.00</td>\n",
       "      <td>-</td>\n",
       "    </tr>\n",
       "    <tr>\n",
       "      <th>12</th>\n",
       "      <td>6.4.2023</td>\n",
       "      <td>the Memorial Tournament presented by Workday</td>\n",
       "      <td>T16</td>\n",
       "      <td>69</td>\n",
       "      <td>76</td>\n",
       "      <td>70</td>\n",
       "      <td>73</td>\n",
       "      <td>-</td>\n",
       "      <td>288.0</td>\n",
       "      <td>E</td>\n",
       "      <td>88</td>\n",
       "      <td>50.925</td>\n",
       "      <td>NaN</td>\n",
       "      <td>-</td>\n",
       "      <td>-</td>\n",
       "      <td>$275,500.00</td>\n",
       "      <td>NaN</td>\n",
       "    </tr>\n",
       "    <tr>\n",
       "      <th>13</th>\n",
       "      <td>6.11.2023</td>\n",
       "      <td>RBC Canadian Open</td>\n",
       "      <td>T43</td>\n",
       "      <td>72</td>\n",
       "      <td>69</td>\n",
       "      <td>70</td>\n",
       "      <td>73</td>\n",
       "      <td>-</td>\n",
       "      <td>284.0</td>\n",
       "      <td>-4</td>\n",
       "      <td>87</td>\n",
       "      <td>10.714</td>\n",
       "      <td>NaN</td>\n",
       "      <td>-</td>\n",
       "      <td>-</td>\n",
       "      <td>$28,530.00</td>\n",
       "      <td>NaN</td>\n",
       "    </tr>\n",
       "    <tr>\n",
       "      <th>14</th>\n",
       "      <td>6.18.2023</td>\n",
       "      <td>U.S. Open</td>\n",
       "      <td>T20</td>\n",
       "      <td>72</td>\n",
       "      <td>70</td>\n",
       "      <td>68</td>\n",
       "      <td>71</td>\n",
       "      <td>-</td>\n",
       "      <td>281.0</td>\n",
       "      <td>1</td>\n",
       "      <td>81</td>\n",
       "      <td>44.443</td>\n",
       "      <td>NaN</td>\n",
       "      <td>-</td>\n",
       "      <td>-</td>\n",
       "      <td>$200,152.00</td>\n",
       "      <td>-</td>\n",
       "    </tr>\n",
       "    <tr>\n",
       "      <th>15</th>\n",
       "      <td>6.25.2023</td>\n",
       "      <td>Travelers Championship</td>\n",
       "      <td>T19</td>\n",
       "      <td>64</td>\n",
       "      <td>69</td>\n",
       "      <td>69</td>\n",
       "      <td>64</td>\n",
       "      <td>-</td>\n",
       "      <td>266.0</td>\n",
       "      <td>-14</td>\n",
       "      <td>74</td>\n",
       "      <td>43</td>\n",
       "      <td>NaN</td>\n",
       "      <td>-</td>\n",
       "      <td>-</td>\n",
       "      <td>$245,800.00</td>\n",
       "      <td>NaN</td>\n",
       "    </tr>\n",
       "    <tr>\n",
       "      <th>16</th>\n",
       "      <td>7.16.2023</td>\n",
       "      <td>Genesis Scottish Open</td>\n",
       "      <td>T12</td>\n",
       "      <td>71</td>\n",
       "      <td>64</td>\n",
       "      <td>65</td>\n",
       "      <td>73</td>\n",
       "      <td>-</td>\n",
       "      <td>273.0</td>\n",
       "      <td>-7</td>\n",
       "      <td>72</td>\n",
       "      <td>55.714</td>\n",
       "      <td>NaN</td>\n",
       "      <td>-</td>\n",
       "      <td>-</td>\n",
       "      <td>$151,007.14</td>\n",
       "      <td>NaN</td>\n",
       "    </tr>\n",
       "    <tr>\n",
       "      <th>17</th>\n",
       "      <td>7.23.2023</td>\n",
       "      <td>The Open Championship</td>\n",
       "      <td>CUT</td>\n",
       "      <td>72</td>\n",
       "      <td>77</td>\n",
       "      <td>-</td>\n",
       "      <td>-</td>\n",
       "      <td>-</td>\n",
       "      <td>149.0</td>\n",
       "      <td>7</td>\n",
       "      <td>73</td>\n",
       "      <td>-</td>\n",
       "      <td>NaN</td>\n",
       "      <td>-</td>\n",
       "      <td>-</td>\n",
       "      <td>-</td>\n",
       "      <td>-</td>\n",
       "    </tr>\n",
       "    <tr>\n",
       "      <th>18</th>\n",
       "      <td>8.6.2023</td>\n",
       "      <td>Wyndham Championship</td>\n",
       "      <td>T51</td>\n",
       "      <td>68</td>\n",
       "      <td>69</td>\n",
       "      <td>70</td>\n",
       "      <td>70</td>\n",
       "      <td>-</td>\n",
       "      <td>277.0</td>\n",
       "      <td>-3</td>\n",
       "      <td>78</td>\n",
       "      <td>6.629</td>\n",
       "      <td>NaN</td>\n",
       "      <td>-</td>\n",
       "      <td>-</td>\n",
       "      <td>$18,164.00</td>\n",
       "      <td>NaN</td>\n",
       "    </tr>\n",
       "    <tr>\n",
       "      <th>19</th>\n",
       "      <td>10.1.2023</td>\n",
       "      <td>Ryder Cup*</td>\n",
       "      <td>1</td>\n",
       "      <td>-</td>\n",
       "      <td>-</td>\n",
       "      <td>-</td>\n",
       "      <td>-</td>\n",
       "      <td>-</td>\n",
       "      <td>NaN</td>\n",
       "      <td>NaN</td>\n",
       "      <td>-</td>\n",
       "      <td>-</td>\n",
       "      <td>NaN</td>\n",
       "      <td>-</td>\n",
       "      <td>-</td>\n",
       "      <td>-</td>\n",
       "      <td>NaN</td>\n",
       "    </tr>\n",
       "  </tbody>\n",
       "</table>\n",
       "</div>"
      ],
      "text/plain": [
       "          DATE                                         TOURNAMENT  POS  R1  \\\n",
       "0   10.23.2022                       THE CJ CUP in South Carolina  T23  68   \n",
       "1    12.4.2022                              Hero World Challenge*   18  74   \n",
       "2    2.12.2023                                    WM Phoenix Open  CUT  75   \n",
       "3    2.19.2023                           The Genesis Invitational  T14  69   \n",
       "4    2.26.2023                                  The Honda Classic   T5  68   \n",
       "5     3.5.2023  Arnold Palmer Invitational presented by Master...   67  72   \n",
       "6    3.12.2023                           THE PLAYERS Championship  T35  77   \n",
       "7    3.26.2023  World Golf Championships-Dell Technologies Mat...  T31   -   \n",
       "8     4.9.2023                                 Masters Tournament  T16  68   \n",
       "9    4.16.2023                                       RBC Heritage  T67  70   \n",
       "10    5.7.2023                           Wells Fargo Championship  CUT  72   \n",
       "11   5.21.2023                                   PGA Championship  T12  73   \n",
       "12    6.4.2023       the Memorial Tournament presented by Workday  T16  69   \n",
       "13   6.11.2023                                  RBC Canadian Open  T43  72   \n",
       "14   6.18.2023                                          U.S. Open  T20  72   \n",
       "15   6.25.2023                             Travelers Championship  T19  64   \n",
       "16   7.16.2023                              Genesis Scottish Open  T12  71   \n",
       "17   7.23.2023                              The Open Championship  CUT  72   \n",
       "18    8.6.2023                               Wyndham Championship  T51  68   \n",
       "19   10.1.2023                                         Ryder Cup*    1   -   \n",
       "\n",
       "    R2  R3  R4 R5  TOTAL TO PAR RANK     PTS  Unnamed: 12 RANK.1 PTS.1  \\\n",
       "0   67  71  72  -  278.0     -6   99  34.833          NaN      -     -   \n",
       "1   77  71  71  -  293.0      5    -       -          NaN      -     -   \n",
       "2   76   -   -  -  151.0      9  180       -          NaN      -     -   \n",
       "3   69  71  68  -  277.0     -7  131   58.25          NaN      -     -   \n",
       "4   68  65  70  -  271.0     -9   89      93          NaN      -     -   \n",
       "5   70  80  71  -  293.0      5   97    4.08          NaN      -     -   \n",
       "6   69  68  70  -  284.0     -4   96  19.267          NaN      -     -   \n",
       "7    -   -   -  -    0.0    NaN   97  17.729          NaN      -     -   \n",
       "8   72  73  73  -  286.0     -2   88  52.886          NaN      -     -   \n",
       "9   69  74  72  -  285.0      1   90     3.3          NaN      -     -   \n",
       "10  72   -   -  -  144.0      2   99       -          NaN      -     -   \n",
       "11  67  71  69  -  280.0      E   89      68          NaN      -     -   \n",
       "12  76  70  73  -  288.0      E   88  50.925          NaN      -     -   \n",
       "13  69  70  73  -  284.0     -4   87  10.714          NaN      -     -   \n",
       "14  70  68  71  -  281.0      1   81  44.443          NaN      -     -   \n",
       "15  69  69  64  -  266.0    -14   74      43          NaN      -     -   \n",
       "16  64  65  73  -  273.0     -7   72  55.714          NaN      -     -   \n",
       "17  77   -   -  -  149.0      7   73       -          NaN      -     -   \n",
       "18  69  70  70  -  277.0     -3   78   6.629          NaN      -     -   \n",
       "19   -   -   -  -    NaN    NaN    -       -          NaN      -     -   \n",
       "\n",
       "       WINNINGS Unnamed: 16  \n",
       "0    $88,305.00         NaN  \n",
       "1   $102,000.00           -  \n",
       "2             -         NaN  \n",
       "3   $355,000.00         NaN  \n",
       "4   $288,120.00         NaN  \n",
       "5    $42,600.00         NaN  \n",
       "6   $114,166.67         NaN  \n",
       "7   $113,761.91         NaN  \n",
       "8   $261,000.00           -  \n",
       "9    $41,600.00         NaN  \n",
       "10            -         NaN  \n",
       "11  $365,000.00           -  \n",
       "12  $275,500.00         NaN  \n",
       "13   $28,530.00         NaN  \n",
       "14  $200,152.00           -  \n",
       "15  $245,800.00         NaN  \n",
       "16  $151,007.14         NaN  \n",
       "17            -           -  \n",
       "18   $18,164.00         NaN  \n",
       "19            -         NaN  "
      ]
     },
     "execution_count": 43,
     "metadata": {},
     "output_type": "execute_result"
    }
   ],
   "source": [
    "dataframe2 = pd.read_excel('Shane Lowry_2022-2-23_Results_time-series.xlsx')\n",
    "dataframe2"
   ]
  },
  {
   "cell_type": "code",
   "execution_count": 44,
   "id": "788f874f",
   "metadata": {},
   "outputs": [
    {
     "data": {
      "text/html": [
       "<div>\n",
       "<style scoped>\n",
       "    .dataframe tbody tr th:only-of-type {\n",
       "        vertical-align: middle;\n",
       "    }\n",
       "\n",
       "    .dataframe tbody tr th {\n",
       "        vertical-align: top;\n",
       "    }\n",
       "\n",
       "    .dataframe thead th {\n",
       "        text-align: right;\n",
       "    }\n",
       "</style>\n",
       "<table border=\"1\" class=\"dataframe\">\n",
       "  <thead>\n",
       "    <tr style=\"text-align: right;\">\n",
       "      <th></th>\n",
       "      <th>DATE</th>\n",
       "      <th>TOURNAMENT</th>\n",
       "      <th>POS</th>\n",
       "      <th>R1</th>\n",
       "      <th>R2</th>\n",
       "      <th>R3</th>\n",
       "      <th>R4</th>\n",
       "      <th>R5</th>\n",
       "      <th>TOTAL</th>\n",
       "      <th>TO PAR</th>\n",
       "      <th>RANK</th>\n",
       "      <th>PTS</th>\n",
       "      <th>Unnamed: 12</th>\n",
       "      <th>RANK.1</th>\n",
       "      <th>PTS.1</th>\n",
       "      <th>WINNINGS</th>\n",
       "      <th>Unnamed: 16</th>\n",
       "      <th>datetime</th>\n",
       "    </tr>\n",
       "  </thead>\n",
       "  <tbody>\n",
       "    <tr>\n",
       "      <th>0</th>\n",
       "      <td>10.23.2022</td>\n",
       "      <td>THE CJ CUP in South Carolina</td>\n",
       "      <td>T23</td>\n",
       "      <td>68</td>\n",
       "      <td>67</td>\n",
       "      <td>71</td>\n",
       "      <td>72</td>\n",
       "      <td>-</td>\n",
       "      <td>278.0</td>\n",
       "      <td>-6</td>\n",
       "      <td>99</td>\n",
       "      <td>34.833</td>\n",
       "      <td>NaN</td>\n",
       "      <td>-</td>\n",
       "      <td>-</td>\n",
       "      <td>$88,305.00</td>\n",
       "      <td>NaN</td>\n",
       "      <td>2022-10-23</td>\n",
       "    </tr>\n",
       "    <tr>\n",
       "      <th>1</th>\n",
       "      <td>12.4.2022</td>\n",
       "      <td>Hero World Challenge*</td>\n",
       "      <td>18</td>\n",
       "      <td>74</td>\n",
       "      <td>77</td>\n",
       "      <td>71</td>\n",
       "      <td>71</td>\n",
       "      <td>-</td>\n",
       "      <td>293.0</td>\n",
       "      <td>5</td>\n",
       "      <td>-</td>\n",
       "      <td>-</td>\n",
       "      <td>NaN</td>\n",
       "      <td>-</td>\n",
       "      <td>-</td>\n",
       "      <td>$102,000.00</td>\n",
       "      <td>-</td>\n",
       "      <td>2022-12-04</td>\n",
       "    </tr>\n",
       "    <tr>\n",
       "      <th>2</th>\n",
       "      <td>2.12.2023</td>\n",
       "      <td>WM Phoenix Open</td>\n",
       "      <td>CUT</td>\n",
       "      <td>75</td>\n",
       "      <td>76</td>\n",
       "      <td>-</td>\n",
       "      <td>-</td>\n",
       "      <td>-</td>\n",
       "      <td>151.0</td>\n",
       "      <td>9</td>\n",
       "      <td>180</td>\n",
       "      <td>-</td>\n",
       "      <td>NaN</td>\n",
       "      <td>-</td>\n",
       "      <td>-</td>\n",
       "      <td>-</td>\n",
       "      <td>NaN</td>\n",
       "      <td>2023-02-12</td>\n",
       "    </tr>\n",
       "    <tr>\n",
       "      <th>3</th>\n",
       "      <td>2.19.2023</td>\n",
       "      <td>The Genesis Invitational</td>\n",
       "      <td>T14</td>\n",
       "      <td>69</td>\n",
       "      <td>69</td>\n",
       "      <td>71</td>\n",
       "      <td>68</td>\n",
       "      <td>-</td>\n",
       "      <td>277.0</td>\n",
       "      <td>-7</td>\n",
       "      <td>131</td>\n",
       "      <td>58.25</td>\n",
       "      <td>NaN</td>\n",
       "      <td>-</td>\n",
       "      <td>-</td>\n",
       "      <td>$355,000.00</td>\n",
       "      <td>NaN</td>\n",
       "      <td>2023-02-19</td>\n",
       "    </tr>\n",
       "    <tr>\n",
       "      <th>4</th>\n",
       "      <td>2.26.2023</td>\n",
       "      <td>The Honda Classic</td>\n",
       "      <td>T5</td>\n",
       "      <td>68</td>\n",
       "      <td>68</td>\n",
       "      <td>65</td>\n",
       "      <td>70</td>\n",
       "      <td>-</td>\n",
       "      <td>271.0</td>\n",
       "      <td>-9</td>\n",
       "      <td>89</td>\n",
       "      <td>93</td>\n",
       "      <td>NaN</td>\n",
       "      <td>-</td>\n",
       "      <td>-</td>\n",
       "      <td>$288,120.00</td>\n",
       "      <td>NaN</td>\n",
       "      <td>2023-02-26</td>\n",
       "    </tr>\n",
       "    <tr>\n",
       "      <th>5</th>\n",
       "      <td>3.5.2023</td>\n",
       "      <td>Arnold Palmer Invitational presented by Master...</td>\n",
       "      <td>67</td>\n",
       "      <td>72</td>\n",
       "      <td>70</td>\n",
       "      <td>80</td>\n",
       "      <td>71</td>\n",
       "      <td>-</td>\n",
       "      <td>293.0</td>\n",
       "      <td>5</td>\n",
       "      <td>97</td>\n",
       "      <td>4.08</td>\n",
       "      <td>NaN</td>\n",
       "      <td>-</td>\n",
       "      <td>-</td>\n",
       "      <td>$42,600.00</td>\n",
       "      <td>NaN</td>\n",
       "      <td>2023-03-05</td>\n",
       "    </tr>\n",
       "    <tr>\n",
       "      <th>6</th>\n",
       "      <td>3.12.2023</td>\n",
       "      <td>THE PLAYERS Championship</td>\n",
       "      <td>T35</td>\n",
       "      <td>77</td>\n",
       "      <td>69</td>\n",
       "      <td>68</td>\n",
       "      <td>70</td>\n",
       "      <td>-</td>\n",
       "      <td>284.0</td>\n",
       "      <td>-4</td>\n",
       "      <td>96</td>\n",
       "      <td>19.267</td>\n",
       "      <td>NaN</td>\n",
       "      <td>-</td>\n",
       "      <td>-</td>\n",
       "      <td>$114,166.67</td>\n",
       "      <td>NaN</td>\n",
       "      <td>2023-03-12</td>\n",
       "    </tr>\n",
       "    <tr>\n",
       "      <th>7</th>\n",
       "      <td>3.26.2023</td>\n",
       "      <td>World Golf Championships-Dell Technologies Mat...</td>\n",
       "      <td>T31</td>\n",
       "      <td>-</td>\n",
       "      <td>-</td>\n",
       "      <td>-</td>\n",
       "      <td>-</td>\n",
       "      <td>-</td>\n",
       "      <td>0.0</td>\n",
       "      <td>NaN</td>\n",
       "      <td>97</td>\n",
       "      <td>17.729</td>\n",
       "      <td>NaN</td>\n",
       "      <td>-</td>\n",
       "      <td>-</td>\n",
       "      <td>$113,761.91</td>\n",
       "      <td>NaN</td>\n",
       "      <td>2023-03-26</td>\n",
       "    </tr>\n",
       "    <tr>\n",
       "      <th>8</th>\n",
       "      <td>4.9.2023</td>\n",
       "      <td>Masters Tournament</td>\n",
       "      <td>T16</td>\n",
       "      <td>68</td>\n",
       "      <td>72</td>\n",
       "      <td>73</td>\n",
       "      <td>73</td>\n",
       "      <td>-</td>\n",
       "      <td>286.0</td>\n",
       "      <td>-2</td>\n",
       "      <td>88</td>\n",
       "      <td>52.886</td>\n",
       "      <td>NaN</td>\n",
       "      <td>-</td>\n",
       "      <td>-</td>\n",
       "      <td>$261,000.00</td>\n",
       "      <td>-</td>\n",
       "      <td>2023-04-09</td>\n",
       "    </tr>\n",
       "    <tr>\n",
       "      <th>9</th>\n",
       "      <td>4.16.2023</td>\n",
       "      <td>RBC Heritage</td>\n",
       "      <td>T67</td>\n",
       "      <td>70</td>\n",
       "      <td>69</td>\n",
       "      <td>74</td>\n",
       "      <td>72</td>\n",
       "      <td>-</td>\n",
       "      <td>285.0</td>\n",
       "      <td>1</td>\n",
       "      <td>90</td>\n",
       "      <td>3.3</td>\n",
       "      <td>NaN</td>\n",
       "      <td>-</td>\n",
       "      <td>-</td>\n",
       "      <td>$41,600.00</td>\n",
       "      <td>NaN</td>\n",
       "      <td>2023-04-16</td>\n",
       "    </tr>\n",
       "    <tr>\n",
       "      <th>10</th>\n",
       "      <td>5.7.2023</td>\n",
       "      <td>Wells Fargo Championship</td>\n",
       "      <td>CUT</td>\n",
       "      <td>72</td>\n",
       "      <td>72</td>\n",
       "      <td>-</td>\n",
       "      <td>-</td>\n",
       "      <td>-</td>\n",
       "      <td>144.0</td>\n",
       "      <td>2</td>\n",
       "      <td>99</td>\n",
       "      <td>-</td>\n",
       "      <td>NaN</td>\n",
       "      <td>-</td>\n",
       "      <td>-</td>\n",
       "      <td>-</td>\n",
       "      <td>NaN</td>\n",
       "      <td>2023-05-07</td>\n",
       "    </tr>\n",
       "    <tr>\n",
       "      <th>11</th>\n",
       "      <td>5.21.2023</td>\n",
       "      <td>PGA Championship</td>\n",
       "      <td>T12</td>\n",
       "      <td>73</td>\n",
       "      <td>67</td>\n",
       "      <td>71</td>\n",
       "      <td>69</td>\n",
       "      <td>-</td>\n",
       "      <td>280.0</td>\n",
       "      <td>E</td>\n",
       "      <td>89</td>\n",
       "      <td>68</td>\n",
       "      <td>NaN</td>\n",
       "      <td>-</td>\n",
       "      <td>-</td>\n",
       "      <td>$365,000.00</td>\n",
       "      <td>-</td>\n",
       "      <td>2023-05-21</td>\n",
       "    </tr>\n",
       "    <tr>\n",
       "      <th>12</th>\n",
       "      <td>6.4.2023</td>\n",
       "      <td>the Memorial Tournament presented by Workday</td>\n",
       "      <td>T16</td>\n",
       "      <td>69</td>\n",
       "      <td>76</td>\n",
       "      <td>70</td>\n",
       "      <td>73</td>\n",
       "      <td>-</td>\n",
       "      <td>288.0</td>\n",
       "      <td>E</td>\n",
       "      <td>88</td>\n",
       "      <td>50.925</td>\n",
       "      <td>NaN</td>\n",
       "      <td>-</td>\n",
       "      <td>-</td>\n",
       "      <td>$275,500.00</td>\n",
       "      <td>NaN</td>\n",
       "      <td>2023-06-04</td>\n",
       "    </tr>\n",
       "    <tr>\n",
       "      <th>13</th>\n",
       "      <td>6.11.2023</td>\n",
       "      <td>RBC Canadian Open</td>\n",
       "      <td>T43</td>\n",
       "      <td>72</td>\n",
       "      <td>69</td>\n",
       "      <td>70</td>\n",
       "      <td>73</td>\n",
       "      <td>-</td>\n",
       "      <td>284.0</td>\n",
       "      <td>-4</td>\n",
       "      <td>87</td>\n",
       "      <td>10.714</td>\n",
       "      <td>NaN</td>\n",
       "      <td>-</td>\n",
       "      <td>-</td>\n",
       "      <td>$28,530.00</td>\n",
       "      <td>NaN</td>\n",
       "      <td>2023-06-11</td>\n",
       "    </tr>\n",
       "    <tr>\n",
       "      <th>14</th>\n",
       "      <td>6.18.2023</td>\n",
       "      <td>U.S. Open</td>\n",
       "      <td>T20</td>\n",
       "      <td>72</td>\n",
       "      <td>70</td>\n",
       "      <td>68</td>\n",
       "      <td>71</td>\n",
       "      <td>-</td>\n",
       "      <td>281.0</td>\n",
       "      <td>1</td>\n",
       "      <td>81</td>\n",
       "      <td>44.443</td>\n",
       "      <td>NaN</td>\n",
       "      <td>-</td>\n",
       "      <td>-</td>\n",
       "      <td>$200,152.00</td>\n",
       "      <td>-</td>\n",
       "      <td>2023-06-18</td>\n",
       "    </tr>\n",
       "    <tr>\n",
       "      <th>15</th>\n",
       "      <td>6.25.2023</td>\n",
       "      <td>Travelers Championship</td>\n",
       "      <td>T19</td>\n",
       "      <td>64</td>\n",
       "      <td>69</td>\n",
       "      <td>69</td>\n",
       "      <td>64</td>\n",
       "      <td>-</td>\n",
       "      <td>266.0</td>\n",
       "      <td>-14</td>\n",
       "      <td>74</td>\n",
       "      <td>43</td>\n",
       "      <td>NaN</td>\n",
       "      <td>-</td>\n",
       "      <td>-</td>\n",
       "      <td>$245,800.00</td>\n",
       "      <td>NaN</td>\n",
       "      <td>2023-06-25</td>\n",
       "    </tr>\n",
       "    <tr>\n",
       "      <th>16</th>\n",
       "      <td>7.16.2023</td>\n",
       "      <td>Genesis Scottish Open</td>\n",
       "      <td>T12</td>\n",
       "      <td>71</td>\n",
       "      <td>64</td>\n",
       "      <td>65</td>\n",
       "      <td>73</td>\n",
       "      <td>-</td>\n",
       "      <td>273.0</td>\n",
       "      <td>-7</td>\n",
       "      <td>72</td>\n",
       "      <td>55.714</td>\n",
       "      <td>NaN</td>\n",
       "      <td>-</td>\n",
       "      <td>-</td>\n",
       "      <td>$151,007.14</td>\n",
       "      <td>NaN</td>\n",
       "      <td>2023-07-16</td>\n",
       "    </tr>\n",
       "    <tr>\n",
       "      <th>17</th>\n",
       "      <td>7.23.2023</td>\n",
       "      <td>The Open Championship</td>\n",
       "      <td>CUT</td>\n",
       "      <td>72</td>\n",
       "      <td>77</td>\n",
       "      <td>-</td>\n",
       "      <td>-</td>\n",
       "      <td>-</td>\n",
       "      <td>149.0</td>\n",
       "      <td>7</td>\n",
       "      <td>73</td>\n",
       "      <td>-</td>\n",
       "      <td>NaN</td>\n",
       "      <td>-</td>\n",
       "      <td>-</td>\n",
       "      <td>-</td>\n",
       "      <td>-</td>\n",
       "      <td>2023-07-23</td>\n",
       "    </tr>\n",
       "    <tr>\n",
       "      <th>18</th>\n",
       "      <td>8.6.2023</td>\n",
       "      <td>Wyndham Championship</td>\n",
       "      <td>T51</td>\n",
       "      <td>68</td>\n",
       "      <td>69</td>\n",
       "      <td>70</td>\n",
       "      <td>70</td>\n",
       "      <td>-</td>\n",
       "      <td>277.0</td>\n",
       "      <td>-3</td>\n",
       "      <td>78</td>\n",
       "      <td>6.629</td>\n",
       "      <td>NaN</td>\n",
       "      <td>-</td>\n",
       "      <td>-</td>\n",
       "      <td>$18,164.00</td>\n",
       "      <td>NaN</td>\n",
       "      <td>2023-08-06</td>\n",
       "    </tr>\n",
       "    <tr>\n",
       "      <th>19</th>\n",
       "      <td>10.1.2023</td>\n",
       "      <td>Ryder Cup*</td>\n",
       "      <td>1</td>\n",
       "      <td>-</td>\n",
       "      <td>-</td>\n",
       "      <td>-</td>\n",
       "      <td>-</td>\n",
       "      <td>-</td>\n",
       "      <td>NaN</td>\n",
       "      <td>NaN</td>\n",
       "      <td>-</td>\n",
       "      <td>-</td>\n",
       "      <td>NaN</td>\n",
       "      <td>-</td>\n",
       "      <td>-</td>\n",
       "      <td>-</td>\n",
       "      <td>NaN</td>\n",
       "      <td>2023-10-01</td>\n",
       "    </tr>\n",
       "  </tbody>\n",
       "</table>\n",
       "</div>"
      ],
      "text/plain": [
       "          DATE                                         TOURNAMENT  POS  R1  \\\n",
       "0   10.23.2022                       THE CJ CUP in South Carolina  T23  68   \n",
       "1    12.4.2022                              Hero World Challenge*   18  74   \n",
       "2    2.12.2023                                    WM Phoenix Open  CUT  75   \n",
       "3    2.19.2023                           The Genesis Invitational  T14  69   \n",
       "4    2.26.2023                                  The Honda Classic   T5  68   \n",
       "5     3.5.2023  Arnold Palmer Invitational presented by Master...   67  72   \n",
       "6    3.12.2023                           THE PLAYERS Championship  T35  77   \n",
       "7    3.26.2023  World Golf Championships-Dell Technologies Mat...  T31   -   \n",
       "8     4.9.2023                                 Masters Tournament  T16  68   \n",
       "9    4.16.2023                                       RBC Heritage  T67  70   \n",
       "10    5.7.2023                           Wells Fargo Championship  CUT  72   \n",
       "11   5.21.2023                                   PGA Championship  T12  73   \n",
       "12    6.4.2023       the Memorial Tournament presented by Workday  T16  69   \n",
       "13   6.11.2023                                  RBC Canadian Open  T43  72   \n",
       "14   6.18.2023                                          U.S. Open  T20  72   \n",
       "15   6.25.2023                             Travelers Championship  T19  64   \n",
       "16   7.16.2023                              Genesis Scottish Open  T12  71   \n",
       "17   7.23.2023                              The Open Championship  CUT  72   \n",
       "18    8.6.2023                               Wyndham Championship  T51  68   \n",
       "19   10.1.2023                                         Ryder Cup*    1   -   \n",
       "\n",
       "    R2  R3  R4 R5  TOTAL TO PAR RANK     PTS  Unnamed: 12 RANK.1 PTS.1  \\\n",
       "0   67  71  72  -  278.0     -6   99  34.833          NaN      -     -   \n",
       "1   77  71  71  -  293.0      5    -       -          NaN      -     -   \n",
       "2   76   -   -  -  151.0      9  180       -          NaN      -     -   \n",
       "3   69  71  68  -  277.0     -7  131   58.25          NaN      -     -   \n",
       "4   68  65  70  -  271.0     -9   89      93          NaN      -     -   \n",
       "5   70  80  71  -  293.0      5   97    4.08          NaN      -     -   \n",
       "6   69  68  70  -  284.0     -4   96  19.267          NaN      -     -   \n",
       "7    -   -   -  -    0.0    NaN   97  17.729          NaN      -     -   \n",
       "8   72  73  73  -  286.0     -2   88  52.886          NaN      -     -   \n",
       "9   69  74  72  -  285.0      1   90     3.3          NaN      -     -   \n",
       "10  72   -   -  -  144.0      2   99       -          NaN      -     -   \n",
       "11  67  71  69  -  280.0      E   89      68          NaN      -     -   \n",
       "12  76  70  73  -  288.0      E   88  50.925          NaN      -     -   \n",
       "13  69  70  73  -  284.0     -4   87  10.714          NaN      -     -   \n",
       "14  70  68  71  -  281.0      1   81  44.443          NaN      -     -   \n",
       "15  69  69  64  -  266.0    -14   74      43          NaN      -     -   \n",
       "16  64  65  73  -  273.0     -7   72  55.714          NaN      -     -   \n",
       "17  77   -   -  -  149.0      7   73       -          NaN      -     -   \n",
       "18  69  70  70  -  277.0     -3   78   6.629          NaN      -     -   \n",
       "19   -   -   -  -    NaN    NaN    -       -          NaN      -     -   \n",
       "\n",
       "       WINNINGS Unnamed: 16   datetime  \n",
       "0    $88,305.00         NaN 2022-10-23  \n",
       "1   $102,000.00           - 2022-12-04  \n",
       "2             -         NaN 2023-02-12  \n",
       "3   $355,000.00         NaN 2023-02-19  \n",
       "4   $288,120.00         NaN 2023-02-26  \n",
       "5    $42,600.00         NaN 2023-03-05  \n",
       "6   $114,166.67         NaN 2023-03-12  \n",
       "7   $113,761.91         NaN 2023-03-26  \n",
       "8   $261,000.00           - 2023-04-09  \n",
       "9    $41,600.00         NaN 2023-04-16  \n",
       "10            -         NaN 2023-05-07  \n",
       "11  $365,000.00           - 2023-05-21  \n",
       "12  $275,500.00         NaN 2023-06-04  \n",
       "13   $28,530.00         NaN 2023-06-11  \n",
       "14  $200,152.00           - 2023-06-18  \n",
       "15  $245,800.00         NaN 2023-06-25  \n",
       "16  $151,007.14         NaN 2023-07-16  \n",
       "17            -           - 2023-07-23  \n",
       "18   $18,164.00         NaN 2023-08-06  \n",
       "19            -         NaN 2023-10-01  "
      ]
     },
     "execution_count": 44,
     "metadata": {},
     "output_type": "execute_result"
    }
   ],
   "source": [
    "dataframe2['datetime'] = pd.to_datetime(dataframe2['DATE'])\n",
    "dataframe2"
   ]
  },
  {
   "cell_type": "code",
   "execution_count": 45,
   "id": "a204e3a4",
   "metadata": {},
   "outputs": [
    {
     "data": {
      "text/plain": [
       "0    2022-10-23\n",
       "1    2022-12-04\n",
       "2    2023-02-12\n",
       "3    2023-02-19\n",
       "4    2023-02-26\n",
       "5    2023-03-05\n",
       "6    2023-03-12\n",
       "7    2023-03-26\n",
       "8    2023-04-09\n",
       "9    2023-04-16\n",
       "10   2023-05-07\n",
       "11   2023-05-21\n",
       "12   2023-06-04\n",
       "13   2023-06-11\n",
       "14   2023-06-18\n",
       "15   2023-06-25\n",
       "16   2023-07-16\n",
       "17   2023-07-23\n",
       "18   2023-08-06\n",
       "19   2023-10-01\n",
       "Name: datetime, dtype: datetime64[ns]"
      ]
     },
     "execution_count": 45,
     "metadata": {},
     "output_type": "execute_result"
    }
   ],
   "source": [
    "dataframe2['datetime']"
   ]
  },
  {
   "cell_type": "code",
   "execution_count": 46,
   "id": "cc7e5d1c",
   "metadata": {},
   "outputs": [
    {
     "data": {
      "text/plain": [
       "<AxesSubplot:xlabel='datetime', ylabel='WINNINGS'>"
      ]
     },
     "execution_count": 46,
     "metadata": {},
     "output_type": "execute_result"
    },
    {
     "data": {
      "image/png": "[encoded data removed]",
      "text/plain": [
       "<Figure size 640x480 with 1 Axes>"
      ]
     },
     "metadata": {},
     "output_type": "display_data"
    }
   ],
   "source": [
    "import seaborn as sns\n",
    "sns.lineplot(data=dataframe2, x=\"datetime\", y=\"WINNINGS\")"
   ]
  },
  {
   "cell_type": "code",
   "execution_count": 47,
   "id": "bf82d080",
   "metadata": {},
   "outputs": [
    {
     "data": {
      "text/plain": [
       "DatetimeIndex(['2022-10-23', '2022-10-30', '2022-11-06', '2022-11-13',\n",
       "               '2022-11-20', '2022-11-27', '2022-12-04', '2022-12-11',\n",
       "               '2022-12-18', '2022-12-25', '2023-01-01', '2023-01-08',\n",
       "               '2023-01-15', '2023-01-22', '2023-01-29', '2023-02-05',\n",
       "               '2023-02-12', '2023-02-19', '2023-02-26', '2023-03-05',\n",
       "               '2023-03-12', '2023-03-19', '2023-03-26', '2023-04-02',\n",
       "               '2023-04-09', '2023-04-16', '2023-04-23', '2023-04-30',\n",
       "               '2023-05-07', '2023-05-14', '2023-05-21', '2023-05-28',\n",
       "               '2023-06-04', '2023-06-11', '2023-06-18', '2023-06-25',\n",
       "               '2023-07-02', '2023-07-09', '2023-07-16', '2023-07-23',\n",
       "               '2023-07-30', '2023-08-06', '2023-08-13', '2023-08-20',\n",
       "               '2023-08-27', '2023-09-03', '2023-09-10', '2023-09-17',\n",
       "               '2023-09-24', '2023-10-01', '2023-10-08', '2023-10-15'],\n",
       "              dtype='datetime64[ns]', freq='W-SUN')"
      ]
     },
     "execution_count": 47,
     "metadata": {},
     "output_type": "execute_result"
    }
   ],
   "source": [
    "dti = pd.date_range(\"2022-10-23\", periods=52, freq=\"W\")\n",
    "len(dti)\n",
    "dti"
   ]
  },
  {
   "cell_type": "code",
   "execution_count": 48,
   "id": "c6605179",
   "metadata": {},
   "outputs": [
    {
     "data": {
      "text/plain": [
       "0      $88,305.00\n",
       "1     $102,000.00\n",
       "2               -\n",
       "3     $355,000.00\n",
       "4     $288,120.00\n",
       "5      $42,600.00\n",
       "6     $114,166.67\n",
       "7     $113,761.91\n",
       "8     $261,000.00\n",
       "9      $41,600.00\n",
       "10              -\n",
       "11    $365,000.00\n",
       "12    $275,500.00\n",
       "13     $28,530.00\n",
       "14    $200,152.00\n",
       "15    $245,800.00\n",
       "16    $151,007.14\n",
       "17              -\n",
       "18     $18,164.00\n",
       "19              -\n",
       "Name: WINNINGS, dtype: object"
      ]
     },
     "execution_count": 48,
     "metadata": {},
     "output_type": "execute_result"
    }
   ],
   "source": [
    "winnings = dataframe2['WINNINGS']\n",
    "winnings"
   ]
  },
  {
   "cell_type": "code",
   "execution_count": 49,
   "id": "2d9df4f8",
   "metadata": {},
   "outputs": [
    {
     "data": {
      "text/plain": [
       "0      88305.00\n",
       "1     102000.00\n",
       "2             0\n",
       "3     355000.00\n",
       "4     288120.00\n",
       "5      42600.00\n",
       "6     114166.67\n",
       "7     113761.91\n",
       "8     261000.00\n",
       "9      41600.00\n",
       "10            0\n",
       "11    365000.00\n",
       "12    275500.00\n",
       "13     28530.00\n",
       "14    200152.00\n",
       "15    245800.00\n",
       "16    151007.14\n",
       "17            0\n",
       "18     18164.00\n",
       "19            0\n",
       "Name: WINNINGS, dtype: object"
      ]
     },
     "execution_count": 49,
     "metadata": {},
     "output_type": "execute_result"
    }
   ],
   "source": [
    "dataframe2['WINNINGS'] = dataframe2['WINNINGS'].replace({r'\\$':''}, regex = True)\n",
    "dataframe2['WINNINGS'] = dataframe2['WINNINGS'].replace({r'\\,':''}, regex = True)\n",
    "dataframe2['WINNINGS'] = dataframe2['WINNINGS'].replace({r'\\-':'0'}, regex = True)\n",
    "winnings = dataframe2['WINNINGS']\n",
    "winnings"
   ]
  },
  {
   "cell_type": "code",
   "execution_count": 50,
   "id": "479cd407",
   "metadata": {},
   "outputs": [
    {
     "data": {
      "text/plain": [
       "0      88305.00\n",
       "1     102000.00\n",
       "2          0.00\n",
       "3     355000.00\n",
       "4     288120.00\n",
       "5      42600.00\n",
       "6     114166.67\n",
       "7     113761.91\n",
       "8     261000.00\n",
       "9      41600.00\n",
       "10         0.00\n",
       "11    365000.00\n",
       "12    275500.00\n",
       "13     28530.00\n",
       "14    200152.00\n",
       "15    245800.00\n",
       "16    151007.14\n",
       "17         0.00\n",
       "18     18164.00\n",
       "19         0.00\n",
       "Name: WINNINGS, dtype: float64"
      ]
     },
     "execution_count": 50,
     "metadata": {},
     "output_type": "execute_result"
    }
   ],
   "source": [
    "dataframe2['WINNINGS'] = pd.to_numeric(dataframe2['WINNINGS'])\n",
    "dataframe2['WINNINGS']"
   ]
  },
  {
   "cell_type": "code",
   "execution_count": 51,
   "id": "5b26db03",
   "metadata": {},
   "outputs": [
    {
     "data": {
      "text/plain": [
       "<AxesSubplot:xlabel='datetime', ylabel='WINNINGS'>"
      ]
     },
     "execution_count": 51,
     "metadata": {},
     "output_type": "execute_result"
    },
    {
     "data": {
      "image/png": "[encoded data removed]",
      "text/plain": [
       "<Figure size 640x480 with 1 Axes>"
      ]
     },
     "metadata": {},
     "output_type": "display_data"
    }
   ],
   "source": [
    "sns.lineplot(data=dataframe2, x=\"datetime\", y=\"WINNINGS\")"
   ]
  },
  {
   "cell_type": "code",
   "execution_count": 52,
   "id": "741fccc2",
   "metadata": {},
   "outputs": [
    {
     "data": {
      "text/plain": [
       "134535.336"
      ]
     },
     "execution_count": 52,
     "metadata": {},
     "output_type": "execute_result"
    }
   ],
   "source": [
    "mean = dataframe2.WINNINGS.mean()\n",
    "mean"
   ]
  },
  {
   "cell_type": "code",
   "execution_count": 53,
   "id": "b651a5e5",
   "metadata": {},
   "outputs": [
    {
     "data": {
      "text/plain": [
       "124907.89379401015"
      ]
     },
     "execution_count": 53,
     "metadata": {},
     "output_type": "execute_result"
    }
   ],
   "source": [
    "sigma = dataframe2.WINNINGS.std()\n",
    "sigma"
   ]
  },
  {
   "cell_type": "code",
   "execution_count": 54,
   "id": "43f49d79",
   "metadata": {},
   "outputs": [
    {
     "data": {
      "text/html": [
       "<div>\n",
       "<style scoped>\n",
       "    .dataframe tbody tr th:only-of-type {\n",
       "        vertical-align: middle;\n",
       "    }\n",
       "\n",
       "    .dataframe tbody tr th {\n",
       "        vertical-align: top;\n",
       "    }\n",
       "\n",
       "    .dataframe thead th {\n",
       "        text-align: right;\n",
       "    }\n",
       "</style>\n",
       "<table border=\"1\" class=\"dataframe\">\n",
       "  <thead>\n",
       "    <tr style=\"text-align: right;\">\n",
       "      <th></th>\n",
       "      <th>0</th>\n",
       "    </tr>\n",
       "  </thead>\n",
       "  <tbody>\n",
       "    <tr>\n",
       "      <th>2022-10-23</th>\n",
       "      <td>134624</td>\n",
       "    </tr>\n",
       "    <tr>\n",
       "      <th>2022-10-30</th>\n",
       "      <td>134807</td>\n",
       "    </tr>\n",
       "    <tr>\n",
       "      <th>2022-11-06</th>\n",
       "      <td>134458</td>\n",
       "    </tr>\n",
       "    <tr>\n",
       "      <th>2022-11-13</th>\n",
       "      <td>134201</td>\n",
       "    </tr>\n",
       "    <tr>\n",
       "      <th>2022-11-20</th>\n",
       "      <td>134721</td>\n",
       "    </tr>\n",
       "  </tbody>\n",
       "</table>\n",
       "</div>"
      ],
      "text/plain": [
       "                 0\n",
       "2022-10-23  134624\n",
       "2022-10-30  134807\n",
       "2022-11-06  134458\n",
       "2022-11-13  134201\n",
       "2022-11-20  134721"
      ]
     },
     "execution_count": 54,
     "metadata": {},
     "output_type": "execute_result"
    }
   ],
   "source": [
    "rng = np.random.default_rng() \n",
    "d = rng.poisson(mean, len(dti))\n",
    "df = pd.DataFrame(data=d, index = dti)\n",
    "df.head()"
   ]
  },
  {
   "cell_type": "code",
   "execution_count": 55,
   "id": "f9d2446e",
   "metadata": {},
   "outputs": [
    {
     "data": {
      "text/html": [
       "<div>\n",
       "<style scoped>\n",
       "    .dataframe tbody tr th:only-of-type {\n",
       "        vertical-align: middle;\n",
       "    }\n",
       "\n",
       "    .dataframe tbody tr th {\n",
       "        vertical-align: top;\n",
       "    }\n",
       "\n",
       "    .dataframe thead th {\n",
       "        text-align: right;\n",
       "    }\n",
       "</style>\n",
       "<table border=\"1\" class=\"dataframe\">\n",
       "  <thead>\n",
       "    <tr style=\"text-align: right;\">\n",
       "      <th></th>\n",
       "      <th>WINNINGS</th>\n",
       "    </tr>\n",
       "  </thead>\n",
       "  <tbody>\n",
       "    <tr>\n",
       "      <th>2022-10-23</th>\n",
       "      <td>134624</td>\n",
       "    </tr>\n",
       "    <tr>\n",
       "      <th>2022-10-30</th>\n",
       "      <td>134807</td>\n",
       "    </tr>\n",
       "    <tr>\n",
       "      <th>2022-11-06</th>\n",
       "      <td>134458</td>\n",
       "    </tr>\n",
       "    <tr>\n",
       "      <th>2022-11-13</th>\n",
       "      <td>134201</td>\n",
       "    </tr>\n",
       "    <tr>\n",
       "      <th>2022-11-20</th>\n",
       "      <td>134721</td>\n",
       "    </tr>\n",
       "  </tbody>\n",
       "</table>\n",
       "</div>"
      ],
      "text/plain": [
       "            WINNINGS\n",
       "2022-10-23    134624\n",
       "2022-10-30    134807\n",
       "2022-11-06    134458\n",
       "2022-11-13    134201\n",
       "2022-11-20    134721"
      ]
     },
     "execution_count": 55,
     "metadata": {},
     "output_type": "execute_result"
    }
   ],
   "source": [
    "df.columns =['WINNINGS']\n",
    "df.head()"
   ]
  },
  {
   "cell_type": "code",
   "execution_count": 56,
   "id": "4a0bc90c",
   "metadata": {},
   "outputs": [
    {
     "data": {
      "text/plain": [
       "<AxesSubplot:ylabel='WINNINGS'>"
      ]
     },
     "execution_count": 56,
     "metadata": {},
     "output_type": "execute_result"
    },
    {
     "data": {
      "image/png": "[encoded data removed]",
      "text/plain": [
       "<Figure size 640x480 with 1 Axes>"
      ]
     },
     "metadata": {},
     "output_type": "display_data"
    }
   ],
   "source": [
    "sns.lineplot(data=df, x=df.index, y=\"WINNINGS\")"
   ]
  },
  {
   "cell_type": "code",
   "execution_count": 57,
   "id": "81bc00e1",
   "metadata": {},
   "outputs": [
    {
     "data": {
      "text/plain": [
       "<AxesSubplot:>"
      ]
     },
     "execution_count": 57,
     "metadata": {},
     "output_type": "execute_result"
    },
    {
     "data": {
      "image/png": "[encoded data removed]",
      "text/plain": [
       "<Figure size 640x480 with 1 Axes>"
      ]
     },
     "metadata": {},
     "output_type": "display_data"
    }
   ],
   "source": [
    "df.plot(y=\"WINNINGS\")"
   ]
  },
  {
   "cell_type": "code",
   "execution_count": 58,
   "id": "363257ce",
   "metadata": {},
   "outputs": [
    {
     "data": {
      "text/html": [
       "<div>\n",
       "<style scoped>\n",
       "    .dataframe tbody tr th:only-of-type {\n",
       "        vertical-align: middle;\n",
       "    }\n",
       "\n",
       "    .dataframe tbody tr th {\n",
       "        vertical-align: top;\n",
       "    }\n",
       "\n",
       "    .dataframe thead th {\n",
       "        text-align: right;\n",
       "    }\n",
       "</style>\n",
       "<table border=\"1\" class=\"dataframe\">\n",
       "  <thead>\n",
       "    <tr style=\"text-align: right;\">\n",
       "      <th></th>\n",
       "      <th>0</th>\n",
       "    </tr>\n",
       "  </thead>\n",
       "  <tbody>\n",
       "    <tr>\n",
       "      <th>2022-10-23</th>\n",
       "      <td>43684.924943</td>\n",
       "    </tr>\n",
       "    <tr>\n",
       "      <th>2022-10-30</th>\n",
       "      <td>199922.076561</td>\n",
       "    </tr>\n",
       "    <tr>\n",
       "      <th>2022-11-06</th>\n",
       "      <td>265766.192071</td>\n",
       "    </tr>\n",
       "    <tr>\n",
       "      <th>2022-11-13</th>\n",
       "      <td>86462.390557</td>\n",
       "    </tr>\n",
       "    <tr>\n",
       "      <th>2022-11-20</th>\n",
       "      <td>124697.549304</td>\n",
       "    </tr>\n",
       "  </tbody>\n",
       "</table>\n",
       "</div>"
      ],
      "text/plain": [
       "                        0\n",
       "2022-10-23   43684.924943\n",
       "2022-10-30  199922.076561\n",
       "2022-11-06  265766.192071\n",
       "2022-11-13   86462.390557\n",
       "2022-11-20  124697.549304"
      ]
     },
     "execution_count": 58,
     "metadata": {},
     "output_type": "execute_result"
    }
   ],
   "source": [
    "d = rng.normal(mean,sigma,len(dti))\n",
    "df = pd.DataFrame(data=d, index = dti)\n",
    "df.head()"
   ]
  },
  {
   "cell_type": "code",
   "execution_count": 59,
   "id": "564a74cd",
   "metadata": {},
   "outputs": [
    {
     "data": {
      "text/html": [
       "<div>\n",
       "<style scoped>\n",
       "    .dataframe tbody tr th:only-of-type {\n",
       "        vertical-align: middle;\n",
       "    }\n",
       "\n",
       "    .dataframe tbody tr th {\n",
       "        vertical-align: top;\n",
       "    }\n",
       "\n",
       "    .dataframe thead th {\n",
       "        text-align: right;\n",
       "    }\n",
       "</style>\n",
       "<table border=\"1\" class=\"dataframe\">\n",
       "  <thead>\n",
       "    <tr style=\"text-align: right;\">\n",
       "      <th></th>\n",
       "      <th>WINNINGS</th>\n",
       "    </tr>\n",
       "  </thead>\n",
       "  <tbody>\n",
       "    <tr>\n",
       "      <th>2022-10-23</th>\n",
       "      <td>43684.924943</td>\n",
       "    </tr>\n",
       "    <tr>\n",
       "      <th>2022-10-30</th>\n",
       "      <td>199922.076561</td>\n",
       "    </tr>\n",
       "    <tr>\n",
       "      <th>2022-11-06</th>\n",
       "      <td>265766.192071</td>\n",
       "    </tr>\n",
       "    <tr>\n",
       "      <th>2022-11-13</th>\n",
       "      <td>86462.390557</td>\n",
       "    </tr>\n",
       "    <tr>\n",
       "      <th>2022-11-20</th>\n",
       "      <td>124697.549304</td>\n",
       "    </tr>\n",
       "  </tbody>\n",
       "</table>\n",
       "</div>"
      ],
      "text/plain": [
       "                 WINNINGS\n",
       "2022-10-23   43684.924943\n",
       "2022-10-30  199922.076561\n",
       "2022-11-06  265766.192071\n",
       "2022-11-13   86462.390557\n",
       "2022-11-20  124697.549304"
      ]
     },
     "execution_count": 59,
     "metadata": {},
     "output_type": "execute_result"
    }
   ],
   "source": [
    "df.columns =['WINNINGS']\n",
    "df.head()"
   ]
  },
  {
   "cell_type": "code",
   "execution_count": 60,
   "id": "e0131934",
   "metadata": {},
   "outputs": [
    {
     "data": {
      "text/plain": [
       "<AxesSubplot:>"
      ]
     },
     "execution_count": 60,
     "metadata": {},
     "output_type": "execute_result"
    },
    {
     "data": {
      "image/png": "[encoded data removed]",
      "text/plain": [
       "<Figure size 640x480 with 1 Axes>"
      ]
     },
     "metadata": {},
     "output_type": "display_data"
    }
   ],
   "source": [
    "df.plot(y=\"WINNINGS\")"
   ]
  },
  {
   "cell_type": "code",
   "execution_count": 61,
   "id": "7d80167d",
   "metadata": {},
   "outputs": [
    {
     "data": {
      "text/plain": [
       "<AxesSubplot:ylabel='WINNINGS'>"
      ]
     },
     "execution_count": 61,
     "metadata": {},
     "output_type": "execute_result"
    },
    {
     "data": {
      "image/png": "[encoded data removed]",
      "text/plain": [
       "<Figure size 640x480 with 1 Axes>"
      ]
     },
     "metadata": {},
     "output_type": "display_data"
    }
   ],
   "source": [
    "sns.lineplot(data=df, x=df.index, y=\"WINNINGS\")"
   ]
  },
  {
   "cell_type": "code",
   "execution_count": 62,
   "id": "c7c94311",
   "metadata": {},
   "outputs": [],
   "source": [
    "def f(x):\n",
    "  A = 1.0 / np.sqrt(2.0 * np.pi)\n",
    "  B = np.exp(-(x**2) / 2.0)\n",
    "  return A * B"
   ]
  },
  {
   "cell_type": "code",
   "execution_count": 63,
   "id": "e5e8b5a0",
   "metadata": {},
   "outputs": [
    {
     "data": {
      "text/plain": [
       "0.3989422804014327"
      ]
     },
     "execution_count": 63,
     "metadata": {},
     "output_type": "execute_result"
    }
   ],
   "source": [
    "f(0.0)"
   ]
  },
  {
   "cell_type": "code",
   "execution_count": 64,
   "id": "454c628c",
   "metadata": {},
   "outputs": [
    {
     "data": {
      "text/plain": [
       "0.0044318484119380075"
      ]
     },
     "execution_count": 64,
     "metadata": {},
     "output_type": "execute_result"
    }
   ],
   "source": [
    "f(3.0)"
   ]
  },
  {
   "cell_type": "code",
   "execution_count": 65,
   "id": "44cbbc02",
   "metadata": {},
   "outputs": [
    {
     "data": {
      "text/plain": [
       "0.0"
      ]
     },
     "execution_count": 65,
     "metadata": {},
     "output_type": "execute_result"
    }
   ],
   "source": [
    "f(300.0)"
   ]
  },
  {
   "cell_type": "code",
   "execution_count": 66,
   "id": "1af6b88d",
   "metadata": {},
   "outputs": [
    {
     "data": {
      "image/png": "[encoded data removed]",
      "text/plain": [
       "<Figure size 1200x400 with 1 Axes>"
      ]
     },
     "metadata": {},
     "output_type": "display_data"
    }
   ],
   "source": [
    "# Range of x values for plotting.\n",
    "x = np.linspace(-5.0, 5.0, 1001)\n",
    "\n",
    "# Create empty plot.\n",
    "fig, ax = plt.subplots(figsize=(12, 4))\n",
    "\n",
    "# Plot f(x).\n",
    "ax.plot(x, f(x));"
   ]
  },
  {
   "cell_type": "code",
   "execution_count": 67,
   "id": "81c028a8",
   "metadata": {},
   "outputs": [
    {
     "data": {
      "image/png": "[encoded data removed]",
      "text/plain": [
       "<Figure size 1200x400 with 1 Axes>"
      ]
     },
     "metadata": {},
     "output_type": "display_data"
    }
   ],
   "source": [
    "# Range of x values for plotting.\n",
    "x = np.linspace(250.0, 350.0,350)\n",
    "y=  np.random.normal(300,20,350)\n",
    "\n",
    "# Create empty plot.\n",
    "fig, ax = plt.subplots(figsize=(12, 4))\n",
    "\n",
    "# Plot f(x).\n",
    "ax.hist(x)\n",
    "\n",
    "# Plot histogram of randomly generated normal values from above.\n",
    "ax.plot(x, y)\n",
    "\n",
    "plt.show()"
   ]
  },
  {
   "cell_type": "code",
   "execution_count": 68,
   "id": "812b1dba",
   "metadata": {
    "scrolled": true
   },
   "outputs": [
    {
     "data": {
      "text/plain": [
       "19"
      ]
     },
     "execution_count": 68,
     "metadata": {},
     "output_type": "execute_result"
    }
   ],
   "source": [
    "import numpy as np\n",
    "rng.integers(10,25)"
   ]
  },
  {
   "cell_type": "code",
   "execution_count": 69,
   "id": "bee009cd",
   "metadata": {},
   "outputs": [
    {
     "data": {
      "text/plain": [
       "array([19, 13, 25, 90, 29, 23, 71, 65, 82, 14], dtype=int64)"
      ]
     },
     "execution_count": 69,
     "metadata": {},
     "output_type": "execute_result"
    }
   ],
   "source": [
    "rng.integers(100, size=10)"
   ]
  },
  {
   "cell_type": "code",
   "execution_count": 70,
   "id": "cc6b2daa",
   "metadata": {},
   "outputs": [
    {
     "data": {
      "text/plain": [
       "array([95, 78, 55, 75, 51, 86, 94, 86, 79, 51], dtype=int64)"
      ]
     },
     "execution_count": 70,
     "metadata": {},
     "output_type": "execute_result"
    }
   ],
   "source": [
    "rng.integers(50,100, size=10)"
   ]
  },
  {
   "cell_type": "code",
   "execution_count": 71,
   "id": "8957aebb",
   "metadata": {},
   "outputs": [
    {
     "data": {
      "text/plain": [
       "array([[74, 18, 28, 90],\n",
       "       [30, 70, 90, 55]], dtype=int64)"
      ]
     },
     "execution_count": 71,
     "metadata": {},
     "output_type": "execute_result"
    }
   ],
   "source": [
    "rng.integers(100, size=(2,4))"
   ]
  },
  {
   "cell_type": "code",
   "execution_count": 72,
   "id": "191be29f",
   "metadata": {},
   "outputs": [
    {
     "data": {
      "text/plain": [
       "0.18150212566633417"
      ]
     },
     "execution_count": 72,
     "metadata": {},
     "output_type": "execute_result"
    }
   ],
   "source": [
    "rng.random()"
   ]
  },
  {
   "cell_type": "code",
   "execution_count": 73,
   "id": "4e63d121",
   "metadata": {},
   "outputs": [
    {
     "data": {
      "text/plain": [
       "array([0.21332014, 0.349097  , 0.13978993, 0.68553369, 0.18697269])"
      ]
     },
     "execution_count": 73,
     "metadata": {},
     "output_type": "execute_result"
    }
   ],
   "source": [
    "rng.random(5)"
   ]
  },
  {
   "cell_type": "code",
   "execution_count": 74,
   "id": "feecd71f",
   "metadata": {},
   "outputs": [
    {
     "data": {
      "text/plain": [
       "array([[0.8261237 , 0.28493883, 0.75783425, 0.4573291 ],\n",
       "       [0.62893023, 0.37448098, 0.07145477, 0.29683478],\n",
       "       [0.40989413, 0.30172742, 0.42503715, 0.66821899],\n",
       "       [0.07021588, 0.18113013, 0.19935858, 0.49091889],\n",
       "       [0.01169501, 0.44701218, 0.32747117, 0.50965692]])"
      ]
     },
     "execution_count": 74,
     "metadata": {},
     "output_type": "execute_result"
    }
   ],
   "source": [
    "rng.random((5,4))"
   ]
  },
  {
   "cell_type": "code",
   "execution_count": 75,
   "id": "51464077",
   "metadata": {},
   "outputs": [
    {
     "data": {
      "text/plain": [
       "array([0.21086668, 0.2502938 , 0.0466422 , ..., 0.42114816, 0.97521107,\n",
       "       0.07987868])"
      ]
     },
     "execution_count": 75,
     "metadata": {},
     "output_type": "execute_result"
    }
   ],
   "source": [
    "x = rng.random(1000000)\n",
    "x"
   ]
  },
  {
   "cell_type": "code",
   "execution_count": 76,
   "id": "b723593d",
   "metadata": {},
   "outputs": [
    {
     "data": {
      "image/png": "[encoded data removed]",
      "text/plain": [
       "<Figure size 640x480 with 1 Axes>"
      ]
     },
     "metadata": {},
     "output_type": "display_data"
    }
   ],
   "source": [
    "import matplotlib.pyplot as plt\n",
    "plt.hist(x)\n",
    "plt.show()"
   ]
  },
  {
   "cell_type": "code",
   "execution_count": 77,
   "id": "299fd182",
   "metadata": {},
   "outputs": [
    {
     "name": "stdout",
     "output_type": "stream",
     "text": [
      "0.6522992627009107\n"
     ]
    }
   ],
   "source": [
    "rng = np.random.default_rng(seed=43)\n",
    "x = rng.random()\n",
    "print(x)"
   ]
  },
  {
   "cell_type": "code",
   "execution_count": 78,
   "id": "24b45be7",
   "metadata": {},
   "outputs": [
    {
     "name": "stdout",
     "output_type": "stream",
     "text": [
      "6\n"
     ]
    }
   ],
   "source": [
    "rng = np.random.default_rng(seed=44)\n",
    "x = rng.integers(10)\n",
    "print(x)"
   ]
  },
  {
   "cell_type": "code",
   "execution_count": 79,
   "id": "f9bb8a58",
   "metadata": {},
   "outputs": [
    {
     "name": "stdout",
     "output_type": "stream",
     "text": [
      "[[0.65229926 0.04377532 0.02002959 0.83921258]\n",
      " [0.58714305 0.22470523 0.75179227 0.2636922 ]]\n"
     ]
    }
   ],
   "source": [
    "rng = np.random.default_rng(seed=43)\n",
    "x = rng.random((2,4))\n",
    "print(x)"
   ]
  },
  {
   "cell_type": "code",
   "execution_count": 80,
   "id": "25e7a0e0",
   "metadata": {},
   "outputs": [
    {
     "name": "stdout",
     "output_type": "stream",
     "text": [
      "[[75 82 70]\n",
      " [52 78 51]\n",
      " [63 91 73]]\n"
     ]
    }
   ],
   "source": [
    "rng = np.random.default_rng(seed=43)\n",
    "x = rng.integers(50,100,size=(3,3))\n",
    "print(x)"
   ]
  }
 ],
 "metadata": {
  "kernelspec": {
   "display_name": "Python 3 (ipykernel)",
   "language": "python",
   "name": "python3"
  },
  "language_info": {
   "codemirror_mode": {
    "name": "ipython",
    "version": 3
   },
   "file_extension": ".py",
   "mimetype": "text/x-python",
   "name": "python",
   "nbconvert_exporter": "python",
   "pygments_lexer": "ipython3",
   "version": "3.9.13"
  }
 },
 "nbformat": 4,
 "nbformat_minor": 5
}
