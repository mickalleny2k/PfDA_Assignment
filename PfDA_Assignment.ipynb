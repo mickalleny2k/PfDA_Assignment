{
 "cells": [
  {
   "cell_type": "markdown",
   "id": "64987554",
   "metadata": {},
   "source": [
    "# Programming for Data Analysis Assignment"
   ]
  },
  {
   "cell_type": "code",
   "execution_count": 1,
   "id": "32c66952",
   "metadata": {},
   "outputs": [
    {
     "data": {
      "text/html": [
       "<div>\n",
       "<style scoped>\n",
       "    .dataframe tbody tr th:only-of-type {\n",
       "        vertical-align: middle;\n",
       "    }\n",
       "\n",
       "    .dataframe tbody tr th {\n",
       "        vertical-align: top;\n",
       "    }\n",
       "\n",
       "    .dataframe thead th {\n",
       "        text-align: right;\n",
       "    }\n",
       "</style>\n",
       "<table border=\"1\" class=\"dataframe\">\n",
       "  <thead>\n",
       "    <tr style=\"text-align: right;\">\n",
       "      <th></th>\n",
       "      <th>RANK</th>\n",
       "      <th>MOVEMENT</th>\n",
       "      <th>PLAYER_ID</th>\n",
       "      <th>PLAYER</th>\n",
       "      <th>AVG</th>\n",
       "      <th>TOTAL STROKES</th>\n",
       "      <th>TOTAL ADJUSTMENT</th>\n",
       "      <th>TOTAL ROUNDS</th>\n",
       "    </tr>\n",
       "  </thead>\n",
       "  <tbody>\n",
       "    <tr>\n",
       "      <th>0</th>\n",
       "      <td>1</td>\n",
       "      <td>0</td>\n",
       "      <td>46046</td>\n",
       "      <td>Scottie Scheffler</td>\n",
       "      <td>68.629</td>\n",
       "      <td>6007</td>\n",
       "      <td>32.329</td>\n",
       "      <td>88</td>\n",
       "    </tr>\n",
       "    <tr>\n",
       "      <th>1</th>\n",
       "      <td>2</td>\n",
       "      <td>0</td>\n",
       "      <td>28237</td>\n",
       "      <td>Rory McIlroy</td>\n",
       "      <td>68.777</td>\n",
       "      <td>4411</td>\n",
       "      <td>-9.244</td>\n",
       "      <td>64</td>\n",
       "    </tr>\n",
       "    <tr>\n",
       "      <th>2</th>\n",
       "      <td>3</td>\n",
       "      <td>0</td>\n",
       "      <td>46970</td>\n",
       "      <td>Jon Rahm</td>\n",
       "      <td>69.037</td>\n",
       "      <td>4886</td>\n",
       "      <td>15.615</td>\n",
       "      <td>71</td>\n",
       "    </tr>\n",
       "    <tr>\n",
       "      <th>3</th>\n",
       "      <td>4</td>\n",
       "      <td>0</td>\n",
       "      <td>46717</td>\n",
       "      <td>Viktor Hovland</td>\n",
       "      <td>69.123</td>\n",
       "      <td>6065</td>\n",
       "      <td>17.843</td>\n",
       "      <td>88</td>\n",
       "    </tr>\n",
       "    <tr>\n",
       "      <th>4</th>\n",
       "      <td>5</td>\n",
       "      <td>0</td>\n",
       "      <td>48081</td>\n",
       "      <td>Xander Schauffele</td>\n",
       "      <td>69.127</td>\n",
       "      <td>5595</td>\n",
       "      <td>4.323</td>\n",
       "      <td>81</td>\n",
       "    </tr>\n",
       "    <tr>\n",
       "      <th>...</th>\n",
       "      <td>...</td>\n",
       "      <td>...</td>\n",
       "      <td>...</td>\n",
       "      <td>...</td>\n",
       "      <td>...</td>\n",
       "      <td>...</td>\n",
       "      <td>...</td>\n",
       "      <td>...</td>\n",
       "    </tr>\n",
       "    <tr>\n",
       "      <th>184</th>\n",
       "      <td>185</td>\n",
       "      <td>-2</td>\n",
       "      <td>51950</td>\n",
       "      <td>Max McGreevy</td>\n",
       "      <td>72.603</td>\n",
       "      <td>6170</td>\n",
       "      <td>73.869</td>\n",
       "      <td>86</td>\n",
       "    </tr>\n",
       "    <tr>\n",
       "      <th>185</th>\n",
       "      <td>186</td>\n",
       "      <td>-2</td>\n",
       "      <td>28420</td>\n",
       "      <td>Ryan Brehm</td>\n",
       "      <td>72.739</td>\n",
       "      <td>5740</td>\n",
       "      <td>79.134</td>\n",
       "      <td>80</td>\n",
       "    </tr>\n",
       "    <tr>\n",
       "      <th>186</th>\n",
       "      <td>187</td>\n",
       "      <td>-2</td>\n",
       "      <td>32662</td>\n",
       "      <td>Michael Gligic</td>\n",
       "      <td>72.775</td>\n",
       "      <td>4953</td>\n",
       "      <td>68.445</td>\n",
       "      <td>69</td>\n",
       "    </tr>\n",
       "    <tr>\n",
       "      <th>187</th>\n",
       "      <td>188</td>\n",
       "      <td>-2</td>\n",
       "      <td>27095</td>\n",
       "      <td>Nick Watney</td>\n",
       "      <td>72.936</td>\n",
       "      <td>5052</td>\n",
       "      <td>53.529</td>\n",
       "      <td>70</td>\n",
       "    </tr>\n",
       "    <tr>\n",
       "      <th>188</th>\n",
       "      <td>189</td>\n",
       "      <td>-2</td>\n",
       "      <td>51491</td>\n",
       "      <td>Brandon Matthews</td>\n",
       "      <td>73.153</td>\n",
       "      <td>4262</td>\n",
       "      <td>54.054</td>\n",
       "      <td>59</td>\n",
       "    </tr>\n",
       "  </tbody>\n",
       "</table>\n",
       "<p>189 rows × 8 columns</p>\n",
       "</div>"
      ],
      "text/plain": [
       "     RANK  MOVEMENT  PLAYER_ID             PLAYER     AVG  TOTAL STROKES  \\\n",
       "0       1         0      46046  Scottie Scheffler  68.629           6007   \n",
       "1       2         0      28237       Rory McIlroy  68.777           4411   \n",
       "2       3         0      46970           Jon Rahm  69.037           4886   \n",
       "3       4         0      46717     Viktor Hovland  69.123           6065   \n",
       "4       5         0      48081  Xander Schauffele  69.127           5595   \n",
       "..    ...       ...        ...                ...     ...            ...   \n",
       "184   185        -2      51950       Max McGreevy  72.603           6170   \n",
       "185   186        -2      28420         Ryan Brehm  72.739           5740   \n",
       "186   187        -2      32662     Michael Gligic  72.775           4953   \n",
       "187   188        -2      27095        Nick Watney  72.936           5052   \n",
       "188   189        -2      51491   Brandon Matthews  73.153           4262   \n",
       "\n",
       "     TOTAL ADJUSTMENT  TOTAL ROUNDS  \n",
       "0              32.329            88  \n",
       "1              -9.244            64  \n",
       "2              15.615            71  \n",
       "3              17.843            88  \n",
       "4               4.323            81  \n",
       "..                ...           ...  \n",
       "184            73.869            86  \n",
       "185            79.134            80  \n",
       "186            68.445            69  \n",
       "187            53.529            70  \n",
       "188            54.054            59  \n",
       "\n",
       "[189 rows x 8 columns]"
      ]
     },
     "execution_count": 1,
     "metadata": {},
     "output_type": "execute_result"
    }
   ],
   "source": [
    "import numpy as np\n",
    "import pandas as pd\n",
    "\n",
    "# https://www.pgatour.com/stats/detail/120\n",
    "df = pd.read_csv('pgatour_golfstats_2022-2023_averagescore.csv')\n",
    "df"
   ]
  },
  {
   "cell_type": "code",
   "execution_count": 2,
   "id": "4e990503",
   "metadata": {},
   "outputs": [
    {
     "data": {
      "image/png": "[encoded data removed]",
      "text/plain": [
       "<Figure size 640x480 with 1 Axes>"
      ]
     },
     "metadata": {},
     "output_type": "display_data"
    }
   ],
   "source": [
    "import matplotlib.pyplot as plt\n",
    "x = df.AVG\n",
    "plt.plot(df.AVG)\n",
    "plt.show()"
   ]
  },
  {
   "cell_type": "code",
   "execution_count": 3,
   "id": "7906d4e6",
   "metadata": {},
   "outputs": [
    {
     "data": {
      "image/png": "[encoded data removed]",
      "text/plain": [
       "<Figure size 640x480 with 1 Axes>"
      ]
     },
     "metadata": {},
     "output_type": "display_data"
    }
   ],
   "source": [
    "# Plot Average Score data from pgatour_golfstats_2022-2023_averagescore.csv\n",
    "plt.hist(x, bins=10)\n",
    "plt.show()"
   ]
  },
  {
   "cell_type": "code",
   "execution_count": 4,
   "id": "7d9ba81a",
   "metadata": {},
   "outputs": [
    {
     "data": {
      "text/plain": [
       "0.8301339718593281"
      ]
     },
     "execution_count": 4,
     "metadata": {},
     "output_type": "execute_result"
    }
   ],
   "source": [
    "df.AVG.std()"
   ]
  },
  {
   "cell_type": "code",
   "execution_count": 5,
   "id": "a127e546",
   "metadata": {},
   "outputs": [
    {
     "data": {
      "text/plain": [
       "70.96867724867725"
      ]
     },
     "execution_count": 5,
     "metadata": {},
     "output_type": "execute_result"
    }
   ],
   "source": [
    "df.AVG.mean()"
   ]
  },
  {
   "cell_type": "code",
   "execution_count": 6,
   "id": "4faa1f17",
   "metadata": {},
   "outputs": [
    {
     "data": {
      "text/html": [
       "<div>\n",
       "<style scoped>\n",
       "    .dataframe tbody tr th:only-of-type {\n",
       "        vertical-align: middle;\n",
       "    }\n",
       "\n",
       "    .dataframe tbody tr th {\n",
       "        vertical-align: top;\n",
       "    }\n",
       "\n",
       "    .dataframe thead th {\n",
       "        text-align: right;\n",
       "    }\n",
       "</style>\n",
       "<table border=\"1\" class=\"dataframe\">\n",
       "  <thead>\n",
       "    <tr style=\"text-align: right;\">\n",
       "      <th></th>\n",
       "      <th>RANK</th>\n",
       "      <th>MOVEMENT</th>\n",
       "      <th>PLAYER_ID</th>\n",
       "      <th>AVG</th>\n",
       "      <th>TOTAL STROKES</th>\n",
       "      <th>TOTAL ADJUSTMENT</th>\n",
       "      <th>TOTAL ROUNDS</th>\n",
       "    </tr>\n",
       "  </thead>\n",
       "  <tbody>\n",
       "    <tr>\n",
       "      <th>count</th>\n",
       "      <td>189.000000</td>\n",
       "      <td>189.000000</td>\n",
       "      <td>189.000000</td>\n",
       "      <td>189.000000</td>\n",
       "      <td>189.000000</td>\n",
       "      <td>189.000000</td>\n",
       "      <td>189.000000</td>\n",
       "    </tr>\n",
       "    <tr>\n",
       "      <th>mean</th>\n",
       "      <td>94.957672</td>\n",
       "      <td>-0.449735</td>\n",
       "      <td>39114.994709</td>\n",
       "      <td>70.968677</td>\n",
       "      <td>5977.037037</td>\n",
       "      <td>53.245196</td>\n",
       "      <td>85.026455</td>\n",
       "    </tr>\n",
       "    <tr>\n",
       "      <th>std</th>\n",
       "      <td>54.705579</td>\n",
       "      <td>3.487647</td>\n",
       "      <td>10294.967774</td>\n",
       "      <td>0.830134</td>\n",
       "      <td>1123.886273</td>\n",
       "      <td>26.348952</td>\n",
       "      <td>16.241670</td>\n",
       "    </tr>\n",
       "    <tr>\n",
       "      <th>min</th>\n",
       "      <td>1.000000</td>\n",
       "      <td>-13.000000</td>\n",
       "      <td>12716.000000</td>\n",
       "      <td>68.629000</td>\n",
       "      <td>3198.000000</td>\n",
       "      <td>-18.811000</td>\n",
       "      <td>45.000000</td>\n",
       "    </tr>\n",
       "    <tr>\n",
       "      <th>25%</th>\n",
       "      <td>48.000000</td>\n",
       "      <td>-2.000000</td>\n",
       "      <td>31560.000000</td>\n",
       "      <td>70.461000</td>\n",
       "      <td>5217.000000</td>\n",
       "      <td>35.723000</td>\n",
       "      <td>74.000000</td>\n",
       "    </tr>\n",
       "    <tr>\n",
       "      <th>50%</th>\n",
       "      <td>94.000000</td>\n",
       "      <td>0.000000</td>\n",
       "      <td>36699.000000</td>\n",
       "      <td>70.966000</td>\n",
       "      <td>6065.000000</td>\n",
       "      <td>55.784000</td>\n",
       "      <td>86.000000</td>\n",
       "    </tr>\n",
       "    <tr>\n",
       "      <th>75%</th>\n",
       "      <td>142.000000</td>\n",
       "      <td>2.000000</td>\n",
       "      <td>48117.000000</td>\n",
       "      <td>71.524000</td>\n",
       "      <td>6799.000000</td>\n",
       "      <td>73.356000</td>\n",
       "      <td>96.000000</td>\n",
       "    </tr>\n",
       "    <tr>\n",
       "      <th>max</th>\n",
       "      <td>189.000000</td>\n",
       "      <td>19.000000</td>\n",
       "      <td>59018.000000</td>\n",
       "      <td>73.153000</td>\n",
       "      <td>8450.000000</td>\n",
       "      <td>106.517000</td>\n",
       "      <td>122.000000</td>\n",
       "    </tr>\n",
       "  </tbody>\n",
       "</table>\n",
       "</div>"
      ],
      "text/plain": [
       "             RANK    MOVEMENT     PLAYER_ID         AVG  TOTAL STROKES  \\\n",
       "count  189.000000  189.000000    189.000000  189.000000     189.000000   \n",
       "mean    94.957672   -0.449735  39114.994709   70.968677    5977.037037   \n",
       "std     54.705579    3.487647  10294.967774    0.830134    1123.886273   \n",
       "min      1.000000  -13.000000  12716.000000   68.629000    3198.000000   \n",
       "25%     48.000000   -2.000000  31560.000000   70.461000    5217.000000   \n",
       "50%     94.000000    0.000000  36699.000000   70.966000    6065.000000   \n",
       "75%    142.000000    2.000000  48117.000000   71.524000    6799.000000   \n",
       "max    189.000000   19.000000  59018.000000   73.153000    8450.000000   \n",
       "\n",
       "       TOTAL ADJUSTMENT  TOTAL ROUNDS  \n",
       "count        189.000000    189.000000  \n",
       "mean          53.245196     85.026455  \n",
       "std           26.348952     16.241670  \n",
       "min          -18.811000     45.000000  \n",
       "25%           35.723000     74.000000  \n",
       "50%           55.784000     86.000000  \n",
       "75%           73.356000     96.000000  \n",
       "max          106.517000    122.000000  "
      ]
     },
     "execution_count": 6,
     "metadata": {},
     "output_type": "execute_result"
    }
   ],
   "source": [
    "df.describe()"
   ]
  },
  {
   "cell_type": "code",
   "execution_count": 7,
   "id": "d21a077b",
   "metadata": {},
   "outputs": [
    {
     "data": {
      "text/plain": [
       "RANK                189\n",
       "MOVEMENT            189\n",
       "PLAYER_ID           189\n",
       "PLAYER              189\n",
       "AVG                 189\n",
       "TOTAL STROKES       189\n",
       "TOTAL ADJUSTMENT    189\n",
       "TOTAL ROUNDS        189\n",
       "dtype: int64"
      ]
     },
     "execution_count": 7,
     "metadata": {},
     "output_type": "execute_result"
    }
   ],
   "source": [
    "df.count()"
   ]
  },
  {
   "cell_type": "code",
   "execution_count": 8,
   "id": "c5930fbf",
   "metadata": {},
   "outputs": [
    {
     "data": {
      "image/png": "[encoded data removed]",
      "text/plain": [
       "<Figure size 640x480 with 1 Axes>"
      ]
     },
     "metadata": {},
     "output_type": "display_data"
    }
   ],
   "source": [
    "# Synthesize a random normal distribution for Average Score and plot\n",
    "# I choose mu of 70.96 because this is the average score in pgatour_golfstats_2022-2023_averagescore.csv\n",
    "y = np.random.normal(70.96,0.83,189)\n",
    "plt.hist(y)\n",
    "plt.show()"
   ]
  },
  {
   "cell_type": "code",
   "execution_count": 9,
   "id": "1cab077a",
   "metadata": {},
   "outputs": [
    {
     "data": {
      "text/html": [
       "<div>\n",
       "<style scoped>\n",
       "    .dataframe tbody tr th:only-of-type {\n",
       "        vertical-align: middle;\n",
       "    }\n",
       "\n",
       "    .dataframe tbody tr th {\n",
       "        vertical-align: top;\n",
       "    }\n",
       "\n",
       "    .dataframe thead th {\n",
       "        text-align: right;\n",
       "    }\n",
       "</style>\n",
       "<table border=\"1\" class=\"dataframe\">\n",
       "  <thead>\n",
       "    <tr style=\"text-align: right;\">\n",
       "      <th></th>\n",
       "      <th>RANK</th>\n",
       "      <th>MOVEMENT</th>\n",
       "      <th>PLAYER_ID</th>\n",
       "      <th>PLAYER</th>\n",
       "      <th>AVG</th>\n",
       "      <th>TOTAL DISTANCE</th>\n",
       "      <th>TOTAL DRIVES</th>\n",
       "    </tr>\n",
       "  </thead>\n",
       "  <tbody>\n",
       "    <tr>\n",
       "      <th>0</th>\n",
       "      <td>1</td>\n",
       "      <td>0</td>\n",
       "      <td>28237</td>\n",
       "      <td>Rory McIlroy</td>\n",
       "      <td>326.3</td>\n",
       "      <td>41771</td>\n",
       "      <td>128</td>\n",
       "    </tr>\n",
       "    <tr>\n",
       "      <th>1</th>\n",
       "      <td>2</td>\n",
       "      <td>0</td>\n",
       "      <td>51491</td>\n",
       "      <td>Brandon Matthews</td>\n",
       "      <td>321.3</td>\n",
       "      <td>37915</td>\n",
       "      <td>118</td>\n",
       "    </tr>\n",
       "    <tr>\n",
       "      <th>2</th>\n",
       "      <td>3</td>\n",
       "      <td>0</td>\n",
       "      <td>52372</td>\n",
       "      <td>Cameron Champ</td>\n",
       "      <td>318.8</td>\n",
       "      <td>47180</td>\n",
       "      <td>148</td>\n",
       "    </tr>\n",
       "    <tr>\n",
       "      <th>3</th>\n",
       "      <td>4</td>\n",
       "      <td>0</td>\n",
       "      <td>52453</td>\n",
       "      <td>Nicolai Hojgaard</td>\n",
       "      <td>317.7</td>\n",
       "      <td>29227</td>\n",
       "      <td>92</td>\n",
       "    </tr>\n",
       "    <tr>\n",
       "      <th>4</th>\n",
       "      <td>5</td>\n",
       "      <td>0</td>\n",
       "      <td>57366</td>\n",
       "      <td>Cameron Young</td>\n",
       "      <td>316.5</td>\n",
       "      <td>51902</td>\n",
       "      <td>164</td>\n",
       "    </tr>\n",
       "    <tr>\n",
       "      <th>...</th>\n",
       "      <td>...</td>\n",
       "      <td>...</td>\n",
       "      <td>...</td>\n",
       "      <td>...</td>\n",
       "      <td>...</td>\n",
       "      <td>...</td>\n",
       "      <td>...</td>\n",
       "    </tr>\n",
       "    <tr>\n",
       "      <th>184</th>\n",
       "      <td>185</td>\n",
       "      <td>-2</td>\n",
       "      <td>30927</td>\n",
       "      <td>Brendon Todd</td>\n",
       "      <td>282.8</td>\n",
       "      <td>54300</td>\n",
       "      <td>192</td>\n",
       "    </tr>\n",
       "    <tr>\n",
       "      <th>185</th>\n",
       "      <td>186</td>\n",
       "      <td>-2</td>\n",
       "      <td>40058</td>\n",
       "      <td>Zac Blair</td>\n",
       "      <td>282.4</td>\n",
       "      <td>42920</td>\n",
       "      <td>152</td>\n",
       "    </tr>\n",
       "    <tr>\n",
       "      <th>186</th>\n",
       "      <td>187</td>\n",
       "      <td>-2</td>\n",
       "      <td>31202</td>\n",
       "      <td>William McGirt</td>\n",
       "      <td>281.0</td>\n",
       "      <td>25292</td>\n",
       "      <td>90</td>\n",
       "    </tr>\n",
       "    <tr>\n",
       "      <th>187</th>\n",
       "      <td>188</td>\n",
       "      <td>-2</td>\n",
       "      <td>34409</td>\n",
       "      <td>David Lingmerth</td>\n",
       "      <td>279.2</td>\n",
       "      <td>45789</td>\n",
       "      <td>164</td>\n",
       "    </tr>\n",
       "    <tr>\n",
       "      <th>188</th>\n",
       "      <td>189</td>\n",
       "      <td>-2</td>\n",
       "      <td>31560</td>\n",
       "      <td>Brian Stuard</td>\n",
       "      <td>272.5</td>\n",
       "      <td>36510</td>\n",
       "      <td>134</td>\n",
       "    </tr>\n",
       "  </tbody>\n",
       "</table>\n",
       "<p>189 rows × 7 columns</p>\n",
       "</div>"
      ],
      "text/plain": [
       "     RANK  MOVEMENT  PLAYER_ID            PLAYER    AVG  TOTAL DISTANCE  \\\n",
       "0       1         0      28237      Rory McIlroy  326.3           41771   \n",
       "1       2         0      51491  Brandon Matthews  321.3           37915   \n",
       "2       3         0      52372     Cameron Champ  318.8           47180   \n",
       "3       4         0      52453  Nicolai Hojgaard  317.7           29227   \n",
       "4       5         0      57366     Cameron Young  316.5           51902   \n",
       "..    ...       ...        ...               ...    ...             ...   \n",
       "184   185        -2      30927      Brendon Todd  282.8           54300   \n",
       "185   186        -2      40058         Zac Blair  282.4           42920   \n",
       "186   187        -2      31202    William McGirt  281.0           25292   \n",
       "187   188        -2      34409   David Lingmerth  279.2           45789   \n",
       "188   189        -2      31560      Brian Stuard  272.5           36510   \n",
       "\n",
       "     TOTAL DRIVES  \n",
       "0             128  \n",
       "1             118  \n",
       "2             148  \n",
       "3              92  \n",
       "4             164  \n",
       "..            ...  \n",
       "184           192  \n",
       "185           152  \n",
       "186            90  \n",
       "187           164  \n",
       "188           134  \n",
       "\n",
       "[189 rows x 7 columns]"
      ]
     },
     "execution_count": 9,
     "metadata": {},
     "output_type": "execute_result"
    }
   ],
   "source": [
    "# https://www.pgatour.com/stats/detail/101\n",
    "df1 = pd.read_csv('pgatour_golfstats_2022-2023_driving.csv')\n",
    "df1"
   ]
  },
  {
   "cell_type": "code",
   "execution_count": 10,
   "id": "9f6d7873",
   "metadata": {},
   "outputs": [
    {
     "data": {
      "image/png": "[encoded data removed]",
      "text/plain": [
       "<Figure size 640x480 with 1 Axes>"
      ]
     },
     "metadata": {},
     "output_type": "display_data"
    }
   ],
   "source": [
    "x = df1.RANK\n",
    "y = df1.AVG\n",
    "plt.plot(x,y)\n",
    "plt.show()"
   ]
  },
  {
   "cell_type": "code",
   "execution_count": 11,
   "id": "c7272a1c",
   "metadata": {},
   "outputs": [
    {
     "data": {
      "image/png": "[encoded data removed]",
      "text/plain": [
       "<Figure size 640x480 with 1 Axes>"
      ]
     },
     "metadata": {},
     "output_type": "display_data"
    }
   ],
   "source": [
    "# Plot Driving Distance data from pgatour_golfstats_2022-2023_driving.csv\n",
    "plt.hist(y, bins=10)\n",
    "plt.show()"
   ]
  },
  {
   "cell_type": "code",
   "execution_count": 12,
   "id": "a01547a6",
   "metadata": {},
   "outputs": [
    {
     "data": {
      "text/plain": [
       "8.66203975287581"
      ]
     },
     "execution_count": 12,
     "metadata": {},
     "output_type": "execute_result"
    }
   ],
   "source": [
    "df1.AVG.std()"
   ]
  },
  {
   "cell_type": "code",
   "execution_count": 13,
   "id": "841db014",
   "metadata": {},
   "outputs": [
    {
     "data": {
      "text/plain": [
       "300.96402116402106"
      ]
     },
     "execution_count": 13,
     "metadata": {},
     "output_type": "execute_result"
    }
   ],
   "source": [
    "df1.AVG.mean()"
   ]
  },
  {
   "cell_type": "code",
   "execution_count": 14,
   "id": "7fbd6326",
   "metadata": {},
   "outputs": [
    {
     "data": {
      "text/html": [
       "<div>\n",
       "<style scoped>\n",
       "    .dataframe tbody tr th:only-of-type {\n",
       "        vertical-align: middle;\n",
       "    }\n",
       "\n",
       "    .dataframe tbody tr th {\n",
       "        vertical-align: top;\n",
       "    }\n",
       "\n",
       "    .dataframe thead th {\n",
       "        text-align: right;\n",
       "    }\n",
       "</style>\n",
       "<table border=\"1\" class=\"dataframe\">\n",
       "  <thead>\n",
       "    <tr style=\"text-align: right;\">\n",
       "      <th></th>\n",
       "      <th>RANK</th>\n",
       "      <th>MOVEMENT</th>\n",
       "      <th>PLAYER_ID</th>\n",
       "      <th>AVG</th>\n",
       "      <th>TOTAL DISTANCE</th>\n",
       "      <th>TOTAL DRIVES</th>\n",
       "    </tr>\n",
       "  </thead>\n",
       "  <tbody>\n",
       "    <tr>\n",
       "      <th>count</th>\n",
       "      <td>189.000000</td>\n",
       "      <td>189.000000</td>\n",
       "      <td>189.000000</td>\n",
       "      <td>189.000000</td>\n",
       "      <td>189.000000</td>\n",
       "      <td>189.00000</td>\n",
       "    </tr>\n",
       "    <tr>\n",
       "      <th>mean</th>\n",
       "      <td>94.719577</td>\n",
       "      <td>-0.904762</td>\n",
       "      <td>39114.994709</td>\n",
       "      <td>300.964021</td>\n",
       "      <td>51175.285714</td>\n",
       "      <td>170.05291</td>\n",
       "    </tr>\n",
       "    <tr>\n",
       "      <th>std</th>\n",
       "      <td>54.711144</td>\n",
       "      <td>1.968212</td>\n",
       "      <td>10294.967774</td>\n",
       "      <td>8.662040</td>\n",
       "      <td>9840.011169</td>\n",
       "      <td>32.48334</td>\n",
       "    </tr>\n",
       "    <tr>\n",
       "      <th>min</th>\n",
       "      <td>1.000000</td>\n",
       "      <td>-5.000000</td>\n",
       "      <td>12716.000000</td>\n",
       "      <td>272.500000</td>\n",
       "      <td>25292.000000</td>\n",
       "      <td>90.00000</td>\n",
       "    </tr>\n",
       "    <tr>\n",
       "      <th>25%</th>\n",
       "      <td>48.000000</td>\n",
       "      <td>-2.000000</td>\n",
       "      <td>31560.000000</td>\n",
       "      <td>295.200000</td>\n",
       "      <td>44589.000000</td>\n",
       "      <td>148.00000</td>\n",
       "    </tr>\n",
       "    <tr>\n",
       "      <th>50%</th>\n",
       "      <td>94.000000</td>\n",
       "      <td>-1.000000</td>\n",
       "      <td>36699.000000</td>\n",
       "      <td>300.800000</td>\n",
       "      <td>51338.000000</td>\n",
       "      <td>172.00000</td>\n",
       "    </tr>\n",
       "    <tr>\n",
       "      <th>75%</th>\n",
       "      <td>142.000000</td>\n",
       "      <td>0.000000</td>\n",
       "      <td>48117.000000</td>\n",
       "      <td>306.400000</td>\n",
       "      <td>57791.000000</td>\n",
       "      <td>192.00000</td>\n",
       "    </tr>\n",
       "    <tr>\n",
       "      <th>max</th>\n",
       "      <td>189.000000</td>\n",
       "      <td>7.000000</td>\n",
       "      <td>59018.000000</td>\n",
       "      <td>326.300000</td>\n",
       "      <td>72978.000000</td>\n",
       "      <td>244.00000</td>\n",
       "    </tr>\n",
       "  </tbody>\n",
       "</table>\n",
       "</div>"
      ],
      "text/plain": [
       "             RANK    MOVEMENT     PLAYER_ID         AVG  TOTAL DISTANCE  \\\n",
       "count  189.000000  189.000000    189.000000  189.000000      189.000000   \n",
       "mean    94.719577   -0.904762  39114.994709  300.964021    51175.285714   \n",
       "std     54.711144    1.968212  10294.967774    8.662040     9840.011169   \n",
       "min      1.000000   -5.000000  12716.000000  272.500000    25292.000000   \n",
       "25%     48.000000   -2.000000  31560.000000  295.200000    44589.000000   \n",
       "50%     94.000000   -1.000000  36699.000000  300.800000    51338.000000   \n",
       "75%    142.000000    0.000000  48117.000000  306.400000    57791.000000   \n",
       "max    189.000000    7.000000  59018.000000  326.300000    72978.000000   \n",
       "\n",
       "       TOTAL DRIVES  \n",
       "count     189.00000  \n",
       "mean      170.05291  \n",
       "std        32.48334  \n",
       "min        90.00000  \n",
       "25%       148.00000  \n",
       "50%       172.00000  \n",
       "75%       192.00000  \n",
       "max       244.00000  "
      ]
     },
     "execution_count": 14,
     "metadata": {},
     "output_type": "execute_result"
    }
   ],
   "source": [
    "df1.describe()"
   ]
  },
  {
   "cell_type": "code",
   "execution_count": 15,
   "id": "fa49c97f",
   "metadata": {},
   "outputs": [
    {
     "data": {
      "text/plain": [
       "RANK              189\n",
       "MOVEMENT          189\n",
       "PLAYER_ID         189\n",
       "PLAYER            189\n",
       "AVG               189\n",
       "TOTAL DISTANCE    189\n",
       "TOTAL DRIVES      189\n",
       "dtype: int64"
      ]
     },
     "execution_count": 15,
     "metadata": {},
     "output_type": "execute_result"
    }
   ],
   "source": [
    "df1.count()"
   ]
  },
  {
   "cell_type": "code",
   "execution_count": 16,
   "id": "d0716673",
   "metadata": {},
   "outputs": [
    {
     "data": {
      "image/png": "[encoded data removed]",
      "text/plain": [
       "<Figure size 640x480 with 1 Axes>"
      ]
     },
     "metadata": {},
     "output_type": "display_data"
    }
   ],
   "source": [
    "# Synthesize a random normal distribution for Driving Distance and plot\n",
    "# I choose mu of 300.5 because this is the average drivage distance in pgatour_golfstats_2022-2023_driving.csv\n",
    "mu, sigma = 300.96, 8.66 # mean and standard deviation\n",
    "s = np.random.default_rng().normal(mu, sigma, 189)\n",
    "plt.hist(s)\n",
    "plt.show()"
   ]
  },
  {
   "cell_type": "code",
   "execution_count": 17,
   "id": "c7c94311",
   "metadata": {},
   "outputs": [],
   "source": [
    "def f(x):\n",
    "  A = 1.0 / np.sqrt(2.0 * np.pi)\n",
    "  B = np.exp(-(x**2) / 2.0)\n",
    "  return A * B"
   ]
  },
  {
   "cell_type": "code",
   "execution_count": 18,
   "id": "e5e8b5a0",
   "metadata": {},
   "outputs": [
    {
     "data": {
      "text/plain": [
       "0.3989422804014327"
      ]
     },
     "execution_count": 18,
     "metadata": {},
     "output_type": "execute_result"
    }
   ],
   "source": [
    "f(0.0)"
   ]
  },
  {
   "cell_type": "code",
   "execution_count": 19,
   "id": "454c628c",
   "metadata": {},
   "outputs": [
    {
     "data": {
      "text/plain": [
       "0.0044318484119380075"
      ]
     },
     "execution_count": 19,
     "metadata": {},
     "output_type": "execute_result"
    }
   ],
   "source": [
    "f(3.0)"
   ]
  },
  {
   "cell_type": "code",
   "execution_count": 20,
   "id": "44cbbc02",
   "metadata": {},
   "outputs": [
    {
     "data": {
      "text/plain": [
       "0.0"
      ]
     },
     "execution_count": 20,
     "metadata": {},
     "output_type": "execute_result"
    }
   ],
   "source": [
    "f(300.0)"
   ]
  },
  {
   "cell_type": "code",
   "execution_count": 21,
   "id": "1af6b88d",
   "metadata": {},
   "outputs": [
    {
     "data": {
      "image/png": "[encoded data removed]",
      "text/plain": [
       "<Figure size 1200x400 with 1 Axes>"
      ]
     },
     "metadata": {},
     "output_type": "display_data"
    }
   ],
   "source": [
    "# Range of x values for plotting.\n",
    "x = np.linspace(-5.0, 5.0, 1001)\n",
    "\n",
    "# Create empty plot.\n",
    "fig, ax = plt.subplots(figsize=(12, 4))\n",
    "\n",
    "# Plot f(x).\n",
    "ax.plot(x, f(x));"
   ]
  },
  {
   "cell_type": "code",
   "execution_count": 22,
   "id": "81c028a8",
   "metadata": {},
   "outputs": [
    {
     "data": {
      "image/png": "[encoded data removed]",
      "text/plain": [
       "<Figure size 1200x400 with 1 Axes>"
      ]
     },
     "metadata": {},
     "output_type": "display_data"
    }
   ],
   "source": [
    "# Range of x values for plotting.\n",
    "x = np.linspace(250.0, 350.0,350)\n",
    "y=  np.random.normal(300,20,350)\n",
    "\n",
    "# Create empty plot.\n",
    "fig, ax = plt.subplots(figsize=(12, 4))\n",
    "\n",
    "# Plot f(x).\n",
    "ax.hist(x)\n",
    "\n",
    "# Plot histogram of randomly generated normal values from above.\n",
    "ax.plot(x, y)\n",
    "\n",
    "plt.show()"
   ]
  },
  {
   "cell_type": "code",
   "execution_count": 23,
   "id": "812b1dba",
   "metadata": {
    "scrolled": true
   },
   "outputs": [
    {
     "data": {
      "text/plain": [
       "22"
      ]
     },
     "execution_count": 23,
     "metadata": {},
     "output_type": "execute_result"
    }
   ],
   "source": [
    "import numpy as np\n",
    "rng = np.random.default_rng()\n",
    "rng.integers(10,25)"
   ]
  },
  {
   "cell_type": "code",
   "execution_count": 24,
   "id": "bee009cd",
   "metadata": {},
   "outputs": [
    {
     "data": {
      "text/plain": [
       "array([18, 31,  1, 70, 64, 25, 91, 83, 54,  4], dtype=int64)"
      ]
     },
     "execution_count": 24,
     "metadata": {},
     "output_type": "execute_result"
    }
   ],
   "source": [
    "rng = np.random.default_rng()\n",
    "rng.integers(100, size=10)"
   ]
  },
  {
   "cell_type": "code",
   "execution_count": 25,
   "id": "cc6b2daa",
   "metadata": {},
   "outputs": [
    {
     "data": {
      "text/plain": [
       "array([65, 58, 66, 54, 91, 79, 92, 99, 92, 88], dtype=int64)"
      ]
     },
     "execution_count": 25,
     "metadata": {},
     "output_type": "execute_result"
    }
   ],
   "source": [
    "rng = np.random.default_rng()\n",
    "rng.integers(50,100, size=10)"
   ]
  },
  {
   "cell_type": "code",
   "execution_count": 26,
   "id": "8957aebb",
   "metadata": {},
   "outputs": [
    {
     "data": {
      "text/plain": [
       "array([[98, 88, 74, 51],\n",
       "       [22, 10, 76, 65]], dtype=int64)"
      ]
     },
     "execution_count": 26,
     "metadata": {},
     "output_type": "execute_result"
    }
   ],
   "source": [
    "rng = np.random.default_rng()\n",
    "rng.integers(100, size=(2,4))"
   ]
  },
  {
   "cell_type": "code",
   "execution_count": 27,
   "id": "191be29f",
   "metadata": {},
   "outputs": [
    {
     "data": {
      "text/plain": [
       "0.46092133812612857"
      ]
     },
     "execution_count": 27,
     "metadata": {},
     "output_type": "execute_result"
    }
   ],
   "source": [
    "rng = np.random.default_rng()\n",
    "rng.random()"
   ]
  },
  {
   "cell_type": "code",
   "execution_count": 28,
   "id": "4e63d121",
   "metadata": {},
   "outputs": [
    {
     "data": {
      "text/plain": [
       "array([0.97132388, 0.92913337, 0.62194204, 0.46999648, 0.45545344])"
      ]
     },
     "execution_count": 28,
     "metadata": {},
     "output_type": "execute_result"
    }
   ],
   "source": [
    "rng = np.random.default_rng()\n",
    "rng.random(5)"
   ]
  },
  {
   "cell_type": "code",
   "execution_count": 29,
   "id": "feecd71f",
   "metadata": {},
   "outputs": [
    {
     "data": {
      "text/plain": [
       "array([[0.31589846, 0.14772451, 0.06739528, 0.50565057],\n",
       "       [0.88476197, 0.9285973 , 0.99806196, 0.38505894],\n",
       "       [0.36542707, 0.85651044, 0.80888647, 0.52803257],\n",
       "       [0.04415893, 0.15266191, 0.56335301, 0.44581176],\n",
       "       [0.17835949, 0.36676165, 0.88121367, 0.41548321]])"
      ]
     },
     "execution_count": 29,
     "metadata": {},
     "output_type": "execute_result"
    }
   ],
   "source": [
    "rng = np.random.default_rng()\n",
    "rng.random((5,4))"
   ]
  },
  {
   "cell_type": "code",
   "execution_count": 30,
   "id": "51464077",
   "metadata": {},
   "outputs": [],
   "source": [
    "rng = np.random.default_rng()\n",
    "x = rng.random(1000000)"
   ]
  },
  {
   "cell_type": "code",
   "execution_count": 31,
   "id": "b723593d",
   "metadata": {},
   "outputs": [
    {
     "data": {
      "image/png": "[encoded data removed]",
      "text/plain": [
       "<Figure size 640x480 with 1 Axes>"
      ]
     },
     "metadata": {},
     "output_type": "display_data"
    }
   ],
   "source": [
    "import matplotlib.pyplot as plt\n",
    "plt.hist(x)\n",
    "plt.show()"
   ]
  },
  {
   "cell_type": "code",
   "execution_count": 32,
   "id": "299fd182",
   "metadata": {},
   "outputs": [
    {
     "name": "stdout",
     "output_type": "stream",
     "text": [
      "0.6522992627009107\n"
     ]
    }
   ],
   "source": [
    "rng = np.random.default_rng(seed=43)\n",
    "x = rng.random()\n",
    "print(x)"
   ]
  },
  {
   "cell_type": "code",
   "execution_count": 33,
   "id": "24b45be7",
   "metadata": {},
   "outputs": [
    {
     "name": "stdout",
     "output_type": "stream",
     "text": [
      "6\n"
     ]
    }
   ],
   "source": [
    "rng = np.random.default_rng(seed=44)\n",
    "x = rng.integers(10)\n",
    "print(x)"
   ]
  },
  {
   "cell_type": "code",
   "execution_count": 34,
   "id": "f9bb8a58",
   "metadata": {},
   "outputs": [
    {
     "name": "stdout",
     "output_type": "stream",
     "text": [
      "[[0.65229926 0.04377532 0.02002959 0.83921258]\n",
      " [0.58714305 0.22470523 0.75179227 0.2636922 ]]\n"
     ]
    }
   ],
   "source": [
    "rng = np.random.default_rng(seed=43)\n",
    "x = rng.random((2,4))\n",
    "print(x)"
   ]
  },
  {
   "cell_type": "code",
   "execution_count": 35,
   "id": "25e7a0e0",
   "metadata": {},
   "outputs": [
    {
     "name": "stdout",
     "output_type": "stream",
     "text": [
      "[[75 82 70]\n",
      " [52 78 51]\n",
      " [63 91 73]]\n"
     ]
    }
   ],
   "source": [
    "rng = np.random.default_rng(seed=43)\n",
    "x = rng.integers(50,100,size=(3,3))\n",
    "print(x)"
   ]
  }
 ],
 "metadata": {
  "kernelspec": {
   "display_name": "Python 3 (ipykernel)",
   "language": "python",
   "name": "python3"
  },
  "language_info": {
   "codemirror_mode": {
    "name": "ipython",
    "version": 3
   },
   "file_extension": ".py",
   "mimetype": "text/x-python",
   "name": "python",
   "nbconvert_exporter": "python",
   "pygments_lexer": "ipython3",
   "version": "3.9.13"
  }
 },
 "nbformat": 4,
 "nbformat_minor": 5
}
