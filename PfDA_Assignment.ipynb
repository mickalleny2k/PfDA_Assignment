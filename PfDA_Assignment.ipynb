{
 "cells": [
  {
   "cell_type": "markdown",
   "id": "64987554",
   "metadata": {},
   "source": [
    "# Programming for Data Analysis Assignment"
   ]
  },
  {
   "cell_type": "code",
   "execution_count": 1,
   "id": "32c66952",
   "metadata": {},
   "outputs": [
    {
     "data": {
      "text/html": [
       "<div>\n",
       "<style scoped>\n",
       "    .dataframe tbody tr th:only-of-type {\n",
       "        vertical-align: middle;\n",
       "    }\n",
       "\n",
       "    .dataframe tbody tr th {\n",
       "        vertical-align: top;\n",
       "    }\n",
       "\n",
       "    .dataframe thead th {\n",
       "        text-align: right;\n",
       "    }\n",
       "</style>\n",
       "<table border=\"1\" class=\"dataframe\">\n",
       "  <thead>\n",
       "    <tr style=\"text-align: right;\">\n",
       "      <th></th>\n",
       "      <th>RANK</th>\n",
       "      <th>MOVEMENT</th>\n",
       "      <th>PLAYER_ID</th>\n",
       "      <th>PLAYER</th>\n",
       "      <th>AVG</th>\n",
       "      <th>TOTAL STROKES</th>\n",
       "      <th>TOTAL ADJUSTMENT</th>\n",
       "      <th>TOTAL ROUNDS</th>\n",
       "    </tr>\n",
       "  </thead>\n",
       "  <tbody>\n",
       "    <tr>\n",
       "      <th>0</th>\n",
       "      <td>1</td>\n",
       "      <td>0</td>\n",
       "      <td>46046</td>\n",
       "      <td>Scottie Scheffler</td>\n",
       "      <td>68.629</td>\n",
       "      <td>6007</td>\n",
       "      <td>32.329</td>\n",
       "      <td>88</td>\n",
       "    </tr>\n",
       "    <tr>\n",
       "      <th>1</th>\n",
       "      <td>2</td>\n",
       "      <td>0</td>\n",
       "      <td>28237</td>\n",
       "      <td>Rory McIlroy</td>\n",
       "      <td>68.777</td>\n",
       "      <td>4411</td>\n",
       "      <td>-9.244</td>\n",
       "      <td>64</td>\n",
       "    </tr>\n",
       "    <tr>\n",
       "      <th>2</th>\n",
       "      <td>3</td>\n",
       "      <td>0</td>\n",
       "      <td>46970</td>\n",
       "      <td>Jon Rahm</td>\n",
       "      <td>69.037</td>\n",
       "      <td>4886</td>\n",
       "      <td>15.615</td>\n",
       "      <td>71</td>\n",
       "    </tr>\n",
       "    <tr>\n",
       "      <th>3</th>\n",
       "      <td>4</td>\n",
       "      <td>0</td>\n",
       "      <td>46717</td>\n",
       "      <td>Viktor Hovland</td>\n",
       "      <td>69.123</td>\n",
       "      <td>6065</td>\n",
       "      <td>17.843</td>\n",
       "      <td>88</td>\n",
       "    </tr>\n",
       "    <tr>\n",
       "      <th>4</th>\n",
       "      <td>5</td>\n",
       "      <td>0</td>\n",
       "      <td>48081</td>\n",
       "      <td>Xander Schauffele</td>\n",
       "      <td>69.127</td>\n",
       "      <td>5595</td>\n",
       "      <td>4.323</td>\n",
       "      <td>81</td>\n",
       "    </tr>\n",
       "    <tr>\n",
       "      <th>...</th>\n",
       "      <td>...</td>\n",
       "      <td>...</td>\n",
       "      <td>...</td>\n",
       "      <td>...</td>\n",
       "      <td>...</td>\n",
       "      <td>...</td>\n",
       "      <td>...</td>\n",
       "      <td>...</td>\n",
       "    </tr>\n",
       "    <tr>\n",
       "      <th>184</th>\n",
       "      <td>185</td>\n",
       "      <td>-2</td>\n",
       "      <td>51950</td>\n",
       "      <td>Max McGreevy</td>\n",
       "      <td>72.603</td>\n",
       "      <td>6170</td>\n",
       "      <td>73.869</td>\n",
       "      <td>86</td>\n",
       "    </tr>\n",
       "    <tr>\n",
       "      <th>185</th>\n",
       "      <td>186</td>\n",
       "      <td>-2</td>\n",
       "      <td>28420</td>\n",
       "      <td>Ryan Brehm</td>\n",
       "      <td>72.739</td>\n",
       "      <td>5740</td>\n",
       "      <td>79.134</td>\n",
       "      <td>80</td>\n",
       "    </tr>\n",
       "    <tr>\n",
       "      <th>186</th>\n",
       "      <td>187</td>\n",
       "      <td>-2</td>\n",
       "      <td>32662</td>\n",
       "      <td>Michael Gligic</td>\n",
       "      <td>72.775</td>\n",
       "      <td>4953</td>\n",
       "      <td>68.445</td>\n",
       "      <td>69</td>\n",
       "    </tr>\n",
       "    <tr>\n",
       "      <th>187</th>\n",
       "      <td>188</td>\n",
       "      <td>-2</td>\n",
       "      <td>27095</td>\n",
       "      <td>Nick Watney</td>\n",
       "      <td>72.936</td>\n",
       "      <td>5052</td>\n",
       "      <td>53.529</td>\n",
       "      <td>70</td>\n",
       "    </tr>\n",
       "    <tr>\n",
       "      <th>188</th>\n",
       "      <td>189</td>\n",
       "      <td>-2</td>\n",
       "      <td>51491</td>\n",
       "      <td>Brandon Matthews</td>\n",
       "      <td>73.153</td>\n",
       "      <td>4262</td>\n",
       "      <td>54.054</td>\n",
       "      <td>59</td>\n",
       "    </tr>\n",
       "  </tbody>\n",
       "</table>\n",
       "<p>189 rows × 8 columns</p>\n",
       "</div>"
      ],
      "text/plain": [
       "     RANK  MOVEMENT  PLAYER_ID             PLAYER     AVG  TOTAL STROKES  \\\n",
       "0       1         0      46046  Scottie Scheffler  68.629           6007   \n",
       "1       2         0      28237       Rory McIlroy  68.777           4411   \n",
       "2       3         0      46970           Jon Rahm  69.037           4886   \n",
       "3       4         0      46717     Viktor Hovland  69.123           6065   \n",
       "4       5         0      48081  Xander Schauffele  69.127           5595   \n",
       "..    ...       ...        ...                ...     ...            ...   \n",
       "184   185        -2      51950       Max McGreevy  72.603           6170   \n",
       "185   186        -2      28420         Ryan Brehm  72.739           5740   \n",
       "186   187        -2      32662     Michael Gligic  72.775           4953   \n",
       "187   188        -2      27095        Nick Watney  72.936           5052   \n",
       "188   189        -2      51491   Brandon Matthews  73.153           4262   \n",
       "\n",
       "     TOTAL ADJUSTMENT  TOTAL ROUNDS  \n",
       "0              32.329            88  \n",
       "1              -9.244            64  \n",
       "2              15.615            71  \n",
       "3              17.843            88  \n",
       "4               4.323            81  \n",
       "..                ...           ...  \n",
       "184            73.869            86  \n",
       "185            79.134            80  \n",
       "186            68.445            69  \n",
       "187            53.529            70  \n",
       "188            54.054            59  \n",
       "\n",
       "[189 rows x 8 columns]"
      ]
     },
     "execution_count": 1,
     "metadata": {},
     "output_type": "execute_result"
    }
   ],
   "source": [
    "import numpy as np\n",
    "import pandas as pd\n",
    "\n",
    "# https://www.pgatour.com/stats/detail/120\n",
    "df = pd.read_csv('pgatour_golfstats_2022-2023_averagescore.csv')\n",
    "df"
   ]
  },
  {
   "cell_type": "code",
   "execution_count": 2,
   "id": "4e990503",
   "metadata": {},
   "outputs": [
    {
     "data": {
      "image/png": "[encoded data removed]",
      "text/plain": [
       "<Figure size 640x480 with 1 Axes>"
      ]
     },
     "metadata": {},
     "output_type": "display_data"
    }
   ],
   "source": [
    "import matplotlib.pyplot as plt\n",
    "x = df.AVG\n",
    "plt.plot(df.AVG)\n",
    "plt.show()"
   ]
  },
  {
   "cell_type": "code",
   "execution_count": 3,
   "id": "7906d4e6",
   "metadata": {},
   "outputs": [
    {
     "data": {
      "image/png": "[encoded data removed]",
      "text/plain": [
       "<Figure size 640x480 with 1 Axes>"
      ]
     },
     "metadata": {},
     "output_type": "display_data"
    }
   ],
   "source": [
    "# Plot Average Score data from pgatour_golfstats_2022-2023_averagescore.csv\n",
    "plt.hist(x, bins=10)\n",
    "plt.show()"
   ]
  },
  {
   "cell_type": "code",
   "execution_count": 4,
   "id": "26226f0b",
   "metadata": {},
   "outputs": [
    {
     "data": {
      "text/plain": [
       "0      68.629\n",
       "1      68.777\n",
       "2      69.037\n",
       "3      69.123\n",
       "4      69.127\n",
       "        ...  \n",
       "184    72.603\n",
       "185    72.739\n",
       "186    72.775\n",
       "187    72.936\n",
       "188    73.153\n",
       "Name: AVG, Length: 189, dtype: float64"
      ]
     },
     "execution_count": 4,
     "metadata": {},
     "output_type": "execute_result"
    }
   ],
   "source": [
    "df.AVG"
   ]
  },
  {
   "cell_type": "code",
   "execution_count": 5,
   "id": "7d9ba81a",
   "metadata": {},
   "outputs": [
    {
     "data": {
      "text/plain": [
       "0.8301339718593281"
      ]
     },
     "execution_count": 5,
     "metadata": {},
     "output_type": "execute_result"
    }
   ],
   "source": [
    "std = df.AVG.std()\n",
    "std"
   ]
  },
  {
   "cell_type": "code",
   "execution_count": 6,
   "id": "a127e546",
   "metadata": {},
   "outputs": [
    {
     "data": {
      "text/plain": [
       "70.96867724867725"
      ]
     },
     "execution_count": 6,
     "metadata": {},
     "output_type": "execute_result"
    }
   ],
   "source": [
    "mean = df.AVG.mean()\n",
    "mean"
   ]
  },
  {
   "cell_type": "code",
   "execution_count": 7,
   "id": "4faa1f17",
   "metadata": {},
   "outputs": [
    {
     "data": {
      "text/html": [
       "<div>\n",
       "<style scoped>\n",
       "    .dataframe tbody tr th:only-of-type {\n",
       "        vertical-align: middle;\n",
       "    }\n",
       "\n",
       "    .dataframe tbody tr th {\n",
       "        vertical-align: top;\n",
       "    }\n",
       "\n",
       "    .dataframe thead th {\n",
       "        text-align: right;\n",
       "    }\n",
       "</style>\n",
       "<table border=\"1\" class=\"dataframe\">\n",
       "  <thead>\n",
       "    <tr style=\"text-align: right;\">\n",
       "      <th></th>\n",
       "      <th>RANK</th>\n",
       "      <th>MOVEMENT</th>\n",
       "      <th>PLAYER_ID</th>\n",
       "      <th>AVG</th>\n",
       "      <th>TOTAL STROKES</th>\n",
       "      <th>TOTAL ADJUSTMENT</th>\n",
       "      <th>TOTAL ROUNDS</th>\n",
       "    </tr>\n",
       "  </thead>\n",
       "  <tbody>\n",
       "    <tr>\n",
       "      <th>count</th>\n",
       "      <td>189.000000</td>\n",
       "      <td>189.000000</td>\n",
       "      <td>189.000000</td>\n",
       "      <td>189.000000</td>\n",
       "      <td>189.000000</td>\n",
       "      <td>189.000000</td>\n",
       "      <td>189.000000</td>\n",
       "    </tr>\n",
       "    <tr>\n",
       "      <th>mean</th>\n",
       "      <td>94.957672</td>\n",
       "      <td>-0.449735</td>\n",
       "      <td>39114.994709</td>\n",
       "      <td>70.968677</td>\n",
       "      <td>5977.037037</td>\n",
       "      <td>53.245196</td>\n",
       "      <td>85.026455</td>\n",
       "    </tr>\n",
       "    <tr>\n",
       "      <th>std</th>\n",
       "      <td>54.705579</td>\n",
       "      <td>3.487647</td>\n",
       "      <td>10294.967774</td>\n",
       "      <td>0.830134</td>\n",
       "      <td>1123.886273</td>\n",
       "      <td>26.348952</td>\n",
       "      <td>16.241670</td>\n",
       "    </tr>\n",
       "    <tr>\n",
       "      <th>min</th>\n",
       "      <td>1.000000</td>\n",
       "      <td>-13.000000</td>\n",
       "      <td>12716.000000</td>\n",
       "      <td>68.629000</td>\n",
       "      <td>3198.000000</td>\n",
       "      <td>-18.811000</td>\n",
       "      <td>45.000000</td>\n",
       "    </tr>\n",
       "    <tr>\n",
       "      <th>25%</th>\n",
       "      <td>48.000000</td>\n",
       "      <td>-2.000000</td>\n",
       "      <td>31560.000000</td>\n",
       "      <td>70.461000</td>\n",
       "      <td>5217.000000</td>\n",
       "      <td>35.723000</td>\n",
       "      <td>74.000000</td>\n",
       "    </tr>\n",
       "    <tr>\n",
       "      <th>50%</th>\n",
       "      <td>94.000000</td>\n",
       "      <td>0.000000</td>\n",
       "      <td>36699.000000</td>\n",
       "      <td>70.966000</td>\n",
       "      <td>6065.000000</td>\n",
       "      <td>55.784000</td>\n",
       "      <td>86.000000</td>\n",
       "    </tr>\n",
       "    <tr>\n",
       "      <th>75%</th>\n",
       "      <td>142.000000</td>\n",
       "      <td>2.000000</td>\n",
       "      <td>48117.000000</td>\n",
       "      <td>71.524000</td>\n",
       "      <td>6799.000000</td>\n",
       "      <td>73.356000</td>\n",
       "      <td>96.000000</td>\n",
       "    </tr>\n",
       "    <tr>\n",
       "      <th>max</th>\n",
       "      <td>189.000000</td>\n",
       "      <td>19.000000</td>\n",
       "      <td>59018.000000</td>\n",
       "      <td>73.153000</td>\n",
       "      <td>8450.000000</td>\n",
       "      <td>106.517000</td>\n",
       "      <td>122.000000</td>\n",
       "    </tr>\n",
       "  </tbody>\n",
       "</table>\n",
       "</div>"
      ],
      "text/plain": [
       "             RANK    MOVEMENT     PLAYER_ID         AVG  TOTAL STROKES  \\\n",
       "count  189.000000  189.000000    189.000000  189.000000     189.000000   \n",
       "mean    94.957672   -0.449735  39114.994709   70.968677    5977.037037   \n",
       "std     54.705579    3.487647  10294.967774    0.830134    1123.886273   \n",
       "min      1.000000  -13.000000  12716.000000   68.629000    3198.000000   \n",
       "25%     48.000000   -2.000000  31560.000000   70.461000    5217.000000   \n",
       "50%     94.000000    0.000000  36699.000000   70.966000    6065.000000   \n",
       "75%    142.000000    2.000000  48117.000000   71.524000    6799.000000   \n",
       "max    189.000000   19.000000  59018.000000   73.153000    8450.000000   \n",
       "\n",
       "       TOTAL ADJUSTMENT  TOTAL ROUNDS  \n",
       "count        189.000000    189.000000  \n",
       "mean          53.245196     85.026455  \n",
       "std           26.348952     16.241670  \n",
       "min          -18.811000     45.000000  \n",
       "25%           35.723000     74.000000  \n",
       "50%           55.784000     86.000000  \n",
       "75%           73.356000     96.000000  \n",
       "max          106.517000    122.000000  "
      ]
     },
     "execution_count": 7,
     "metadata": {},
     "output_type": "execute_result"
    }
   ],
   "source": [
    "df.describe()"
   ]
  },
  {
   "cell_type": "code",
   "execution_count": 8,
   "id": "d21a077b",
   "metadata": {},
   "outputs": [
    {
     "data": {
      "text/plain": [
       "RANK                189\n",
       "MOVEMENT            189\n",
       "PLAYER_ID           189\n",
       "PLAYER              189\n",
       "AVG                 189\n",
       "TOTAL STROKES       189\n",
       "TOTAL ADJUSTMENT    189\n",
       "TOTAL ROUNDS        189\n",
       "dtype: int64"
      ]
     },
     "execution_count": 8,
     "metadata": {},
     "output_type": "execute_result"
    }
   ],
   "source": [
    "count = df.count()\n",
    "count"
   ]
  },
  {
   "cell_type": "code",
   "execution_count": 9,
   "id": "c5930fbf",
   "metadata": {},
   "outputs": [
    {
     "data": {
      "text/plain": [
       "array([70.48575838, 71.40167195, 70.74133158, 70.85906234, 69.93124631,\n",
       "       70.70594392, 70.92547839, 70.57243723, 70.42786265, 70.4830489 ,\n",
       "       70.77846374, 72.15096908, 70.61070867, 71.78214507, 71.07950133,\n",
       "       70.93922455, 70.62859263, 70.06243984, 69.95234608, 71.13781919,\n",
       "       70.7685608 , 70.91292834, 71.0438412 , 69.10785563, 72.04233593,\n",
       "       70.3347294 , 69.85828066, 73.09050817, 71.68050485, 70.77703376,\n",
       "       69.04512622, 70.43746044, 69.24390306, 70.83193589, 68.65960551,\n",
       "       71.50767028, 69.65157279, 72.85843947, 70.79588951, 70.85601165,\n",
       "       69.86018507, 69.13221907, 71.27344989, 71.21288093, 71.62963939,\n",
       "       70.27505477, 70.96966752, 70.84019761, 69.22483985, 70.71064162,\n",
       "       69.54181356, 71.0916815 , 72.22872783, 70.15017674, 71.02829288,\n",
       "       69.65542984, 71.04346575, 71.38827897, 72.60554659, 70.29005346,\n",
       "       72.09463252, 70.85539968, 71.41517827, 71.10809697, 70.06905405,\n",
       "       72.32789892, 71.90072756, 71.68228274, 68.53020005, 69.50302618,\n",
       "       70.88293267, 71.36011368, 70.54827381, 71.19770794, 69.75337292,\n",
       "       70.25426009, 70.38716652, 70.8976275 , 72.29740122, 71.580274  ,\n",
       "       72.37362976, 70.39609232, 71.67469386, 72.30539443, 69.91647286,\n",
       "       71.05754733, 70.79720584, 71.46042855, 70.03622867, 69.91544705,\n",
       "       71.0228804 , 70.25833723, 69.75350357, 70.95130175, 71.55550046,\n",
       "       70.70551611, 72.27795225, 71.5878601 , 71.36012084, 71.13474626,\n",
       "       71.33200346, 71.90700079, 72.01536521, 71.40291529, 70.38203106,\n",
       "       70.39900253, 70.37914246, 70.59718358, 69.54268425, 71.30925142,\n",
       "       70.49059365, 71.58347142, 71.47918753, 69.20141079, 69.19053478,\n",
       "       71.25916459, 69.61398192, 70.21620092, 70.97300257, 71.55214741,\n",
       "       71.54984257, 71.22037486, 70.9186929 , 72.08665701, 69.30473023,\n",
       "       70.91810265, 68.75330925, 70.74942313, 69.05630362, 69.21893705,\n",
       "       71.93222008, 71.67622764, 70.7064288 , 70.97828305, 70.891492  ,\n",
       "       70.00108158, 70.99888898, 70.60541342, 69.91940048, 71.43074114,\n",
       "       71.43566697, 70.78001965, 70.82293971, 70.27527673, 72.05686848,\n",
       "       71.64792546, 71.66836974, 71.47403108, 70.48724309, 70.91338259,\n",
       "       70.87574121, 72.31028349, 70.18918568, 71.84850225, 72.40829604,\n",
       "       71.08859388, 70.29617679, 71.89732936, 68.73988545, 70.49852827,\n",
       "       71.24879501, 70.66769022, 70.39426284, 71.24052722, 70.63478112,\n",
       "       71.08642796, 69.84510831, 71.33200182, 71.1106341 , 69.80260384,\n",
       "       70.14880523, 70.17910499, 71.78598096, 70.97721348, 69.04607832,\n",
       "       70.94668688, 71.67996704, 69.72676929, 71.54226936, 71.58540899,\n",
       "       69.36062249, 71.62460377, 71.02926356, 72.03174795, 70.98795971,\n",
       "       71.55730557, 71.55294294, 71.10216871, 70.12176089])"
      ]
     },
     "execution_count": 9,
     "metadata": {},
     "output_type": "execute_result"
    }
   ],
   "source": [
    "# Synthesize a random normal distribution for Average Score\n",
    "# I choose mu of 70.96 because this is the average score in pgatour_golfstats_2022-2023_averagescore.csv\n",
    "y = np.random.normal(mean,std,189)\n",
    "y"
   ]
  },
  {
   "cell_type": "code",
   "execution_count": 10,
   "id": "93535482",
   "metadata": {},
   "outputs": [
    {
     "data": {
      "image/png": "[encoded data removed]",
      "text/plain": [
       "<Figure size 640x480 with 1 Axes>"
      ]
     },
     "metadata": {},
     "output_type": "display_data"
    }
   ],
   "source": [
    "# Plot random normal distribution for Average Score\n",
    "plt.hist(y)\n",
    "plt.show()"
   ]
  },
  {
   "cell_type": "code",
   "execution_count": 11,
   "id": "4d1a00e1",
   "metadata": {},
   "outputs": [
    {
     "data": {
      "text/plain": [
       "array([74, 74, 76, 67, 75, 82, 67, 74, 77, 59, 68, 66, 72, 81, 56, 60, 75,\n",
       "       65, 77, 81, 72, 71, 87, 78, 61, 60, 72, 74, 73, 73, 74, 76, 58, 60,\n",
       "       72, 64, 71, 64, 69, 58, 81, 66, 73, 63, 69, 80, 66, 67, 74, 67, 81,\n",
       "       75, 72, 68, 69, 81, 75, 63, 66, 68, 76, 66, 70, 67, 65, 82, 71, 72,\n",
       "       80, 68, 67, 80, 77, 84, 59, 58, 83, 74, 68, 74, 69, 74, 69, 78, 74,\n",
       "       73, 89, 87, 77, 83, 61, 87, 62, 80, 75, 65, 76, 74, 64, 64, 58, 72,\n",
       "       67, 79, 64, 72, 72, 75, 70, 62, 67, 81, 73, 81, 81, 68, 53, 78, 76,\n",
       "       55, 76, 76, 75, 75, 66, 60, 77, 64, 71, 70, 69, 68, 77, 60, 64, 66,\n",
       "       68, 59, 76, 76, 60, 81, 65, 66, 63, 71, 56, 64, 80, 74, 76, 79, 75,\n",
       "       78, 70, 86, 80, 64, 65, 82, 64, 73, 77, 66, 56, 69, 85, 66, 68, 67,\n",
       "       78, 93, 69, 69, 60, 72, 67, 81, 80, 69, 61, 76, 72, 66, 60, 80, 74,\n",
       "       66, 73], dtype=int64)"
      ]
     },
     "execution_count": 11,
     "metadata": {},
     "output_type": "execute_result"
    }
   ],
   "source": [
    "# Synthesize a poisson distribution for Average Score\n",
    "p = np.random.default_rng().poisson(mean, 189)\n",
    "p"
   ]
  },
  {
   "cell_type": "code",
   "execution_count": 12,
   "id": "6351350f",
   "metadata": {},
   "outputs": [
    {
     "data": {
      "image/png": "[encoded data removed]",
      "text/plain": [
       "<Figure size 640x480 with 1 Axes>"
      ]
     },
     "metadata": {},
     "output_type": "display_data"
    }
   ],
   "source": [
    "# Plot poisson distribution for Average Score\n",
    "plt.hist(p)\n",
    "plt.show()"
   ]
  },
  {
   "cell_type": "code",
   "execution_count": 13,
   "id": "1cab077a",
   "metadata": {},
   "outputs": [
    {
     "data": {
      "text/html": [
       "<div>\n",
       "<style scoped>\n",
       "    .dataframe tbody tr th:only-of-type {\n",
       "        vertical-align: middle;\n",
       "    }\n",
       "\n",
       "    .dataframe tbody tr th {\n",
       "        vertical-align: top;\n",
       "    }\n",
       "\n",
       "    .dataframe thead th {\n",
       "        text-align: right;\n",
       "    }\n",
       "</style>\n",
       "<table border=\"1\" class=\"dataframe\">\n",
       "  <thead>\n",
       "    <tr style=\"text-align: right;\">\n",
       "      <th></th>\n",
       "      <th>RANK</th>\n",
       "      <th>MOVEMENT</th>\n",
       "      <th>PLAYER_ID</th>\n",
       "      <th>PLAYER</th>\n",
       "      <th>AVG</th>\n",
       "      <th>TOTAL DISTANCE</th>\n",
       "      <th>TOTAL DRIVES</th>\n",
       "    </tr>\n",
       "  </thead>\n",
       "  <tbody>\n",
       "    <tr>\n",
       "      <th>0</th>\n",
       "      <td>1</td>\n",
       "      <td>0</td>\n",
       "      <td>28237</td>\n",
       "      <td>Rory McIlroy</td>\n",
       "      <td>326.3</td>\n",
       "      <td>41771</td>\n",
       "      <td>128</td>\n",
       "    </tr>\n",
       "    <tr>\n",
       "      <th>1</th>\n",
       "      <td>2</td>\n",
       "      <td>0</td>\n",
       "      <td>51491</td>\n",
       "      <td>Brandon Matthews</td>\n",
       "      <td>321.3</td>\n",
       "      <td>37915</td>\n",
       "      <td>118</td>\n",
       "    </tr>\n",
       "    <tr>\n",
       "      <th>2</th>\n",
       "      <td>3</td>\n",
       "      <td>0</td>\n",
       "      <td>52372</td>\n",
       "      <td>Cameron Champ</td>\n",
       "      <td>318.8</td>\n",
       "      <td>47180</td>\n",
       "      <td>148</td>\n",
       "    </tr>\n",
       "    <tr>\n",
       "      <th>3</th>\n",
       "      <td>4</td>\n",
       "      <td>0</td>\n",
       "      <td>52453</td>\n",
       "      <td>Nicolai Hojgaard</td>\n",
       "      <td>317.7</td>\n",
       "      <td>29227</td>\n",
       "      <td>92</td>\n",
       "    </tr>\n",
       "    <tr>\n",
       "      <th>4</th>\n",
       "      <td>5</td>\n",
       "      <td>0</td>\n",
       "      <td>57366</td>\n",
       "      <td>Cameron Young</td>\n",
       "      <td>316.5</td>\n",
       "      <td>51902</td>\n",
       "      <td>164</td>\n",
       "    </tr>\n",
       "    <tr>\n",
       "      <th>...</th>\n",
       "      <td>...</td>\n",
       "      <td>...</td>\n",
       "      <td>...</td>\n",
       "      <td>...</td>\n",
       "      <td>...</td>\n",
       "      <td>...</td>\n",
       "      <td>...</td>\n",
       "    </tr>\n",
       "    <tr>\n",
       "      <th>184</th>\n",
       "      <td>185</td>\n",
       "      <td>-2</td>\n",
       "      <td>30927</td>\n",
       "      <td>Brendon Todd</td>\n",
       "      <td>282.8</td>\n",
       "      <td>54300</td>\n",
       "      <td>192</td>\n",
       "    </tr>\n",
       "    <tr>\n",
       "      <th>185</th>\n",
       "      <td>186</td>\n",
       "      <td>-2</td>\n",
       "      <td>40058</td>\n",
       "      <td>Zac Blair</td>\n",
       "      <td>282.4</td>\n",
       "      <td>42920</td>\n",
       "      <td>152</td>\n",
       "    </tr>\n",
       "    <tr>\n",
       "      <th>186</th>\n",
       "      <td>187</td>\n",
       "      <td>-2</td>\n",
       "      <td>31202</td>\n",
       "      <td>William McGirt</td>\n",
       "      <td>281.0</td>\n",
       "      <td>25292</td>\n",
       "      <td>90</td>\n",
       "    </tr>\n",
       "    <tr>\n",
       "      <th>187</th>\n",
       "      <td>188</td>\n",
       "      <td>-2</td>\n",
       "      <td>34409</td>\n",
       "      <td>David Lingmerth</td>\n",
       "      <td>279.2</td>\n",
       "      <td>45789</td>\n",
       "      <td>164</td>\n",
       "    </tr>\n",
       "    <tr>\n",
       "      <th>188</th>\n",
       "      <td>189</td>\n",
       "      <td>-2</td>\n",
       "      <td>31560</td>\n",
       "      <td>Brian Stuard</td>\n",
       "      <td>272.5</td>\n",
       "      <td>36510</td>\n",
       "      <td>134</td>\n",
       "    </tr>\n",
       "  </tbody>\n",
       "</table>\n",
       "<p>189 rows × 7 columns</p>\n",
       "</div>"
      ],
      "text/plain": [
       "     RANK  MOVEMENT  PLAYER_ID            PLAYER    AVG  TOTAL DISTANCE  \\\n",
       "0       1         0      28237      Rory McIlroy  326.3           41771   \n",
       "1       2         0      51491  Brandon Matthews  321.3           37915   \n",
       "2       3         0      52372     Cameron Champ  318.8           47180   \n",
       "3       4         0      52453  Nicolai Hojgaard  317.7           29227   \n",
       "4       5         0      57366     Cameron Young  316.5           51902   \n",
       "..    ...       ...        ...               ...    ...             ...   \n",
       "184   185        -2      30927      Brendon Todd  282.8           54300   \n",
       "185   186        -2      40058         Zac Blair  282.4           42920   \n",
       "186   187        -2      31202    William McGirt  281.0           25292   \n",
       "187   188        -2      34409   David Lingmerth  279.2           45789   \n",
       "188   189        -2      31560      Brian Stuard  272.5           36510   \n",
       "\n",
       "     TOTAL DRIVES  \n",
       "0             128  \n",
       "1             118  \n",
       "2             148  \n",
       "3              92  \n",
       "4             164  \n",
       "..            ...  \n",
       "184           192  \n",
       "185           152  \n",
       "186            90  \n",
       "187           164  \n",
       "188           134  \n",
       "\n",
       "[189 rows x 7 columns]"
      ]
     },
     "execution_count": 13,
     "metadata": {},
     "output_type": "execute_result"
    }
   ],
   "source": [
    "# https://www.pgatour.com/stats/detail/101\n",
    "df1 = pd.read_csv('pgatour_golfstats_2022-2023_driving.csv')\n",
    "df1"
   ]
  },
  {
   "cell_type": "code",
   "execution_count": 14,
   "id": "9f6d7873",
   "metadata": {},
   "outputs": [
    {
     "data": {
      "image/png": "[encoded data removed]",
      "text/plain": [
       "<Figure size 640x480 with 1 Axes>"
      ]
     },
     "metadata": {},
     "output_type": "display_data"
    }
   ],
   "source": [
    "x = df1.RANK\n",
    "y = df1.AVG\n",
    "plt.plot(x,y)\n",
    "plt.show()"
   ]
  },
  {
   "cell_type": "code",
   "execution_count": 15,
   "id": "c7272a1c",
   "metadata": {},
   "outputs": [
    {
     "data": {
      "image/png": "[encoded data removed]",
      "text/plain": [
       "<Figure size 640x480 with 1 Axes>"
      ]
     },
     "metadata": {},
     "output_type": "display_data"
    }
   ],
   "source": [
    "# Plot Driving Distance data from pgatour_golfstats_2022-2023_driving.csv\n",
    "plt.hist(y, bins=10)\n",
    "plt.show()"
   ]
  },
  {
   "cell_type": "code",
   "execution_count": 16,
   "id": "498a8253",
   "metadata": {},
   "outputs": [
    {
     "data": {
      "text/plain": [
       "0      326.3\n",
       "1      321.3\n",
       "2      318.8\n",
       "3      317.7\n",
       "4      316.5\n",
       "       ...  \n",
       "184    282.8\n",
       "185    282.4\n",
       "186    281.0\n",
       "187    279.2\n",
       "188    272.5\n",
       "Name: AVG, Length: 189, dtype: float64"
      ]
     },
     "execution_count": 16,
     "metadata": {},
     "output_type": "execute_result"
    }
   ],
   "source": [
    "df1.AVG"
   ]
  },
  {
   "cell_type": "code",
   "execution_count": 17,
   "id": "a01547a6",
   "metadata": {},
   "outputs": [
    {
     "data": {
      "text/plain": [
       "8.66203975287581"
      ]
     },
     "execution_count": 17,
     "metadata": {},
     "output_type": "execute_result"
    }
   ],
   "source": [
    "std = df1.AVG.std()\n",
    "std"
   ]
  },
  {
   "cell_type": "code",
   "execution_count": 18,
   "id": "841db014",
   "metadata": {},
   "outputs": [
    {
     "data": {
      "text/plain": [
       "300.96402116402106"
      ]
     },
     "execution_count": 18,
     "metadata": {},
     "output_type": "execute_result"
    }
   ],
   "source": [
    "mean = df1.AVG.mean()\n",
    "mean"
   ]
  },
  {
   "cell_type": "code",
   "execution_count": 19,
   "id": "7fbd6326",
   "metadata": {},
   "outputs": [
    {
     "data": {
      "text/html": [
       "<div>\n",
       "<style scoped>\n",
       "    .dataframe tbody tr th:only-of-type {\n",
       "        vertical-align: middle;\n",
       "    }\n",
       "\n",
       "    .dataframe tbody tr th {\n",
       "        vertical-align: top;\n",
       "    }\n",
       "\n",
       "    .dataframe thead th {\n",
       "        text-align: right;\n",
       "    }\n",
       "</style>\n",
       "<table border=\"1\" class=\"dataframe\">\n",
       "  <thead>\n",
       "    <tr style=\"text-align: right;\">\n",
       "      <th></th>\n",
       "      <th>RANK</th>\n",
       "      <th>MOVEMENT</th>\n",
       "      <th>PLAYER_ID</th>\n",
       "      <th>AVG</th>\n",
       "      <th>TOTAL DISTANCE</th>\n",
       "      <th>TOTAL DRIVES</th>\n",
       "    </tr>\n",
       "  </thead>\n",
       "  <tbody>\n",
       "    <tr>\n",
       "      <th>count</th>\n",
       "      <td>189.000000</td>\n",
       "      <td>189.000000</td>\n",
       "      <td>189.000000</td>\n",
       "      <td>189.000000</td>\n",
       "      <td>189.000000</td>\n",
       "      <td>189.00000</td>\n",
       "    </tr>\n",
       "    <tr>\n",
       "      <th>mean</th>\n",
       "      <td>94.719577</td>\n",
       "      <td>-0.904762</td>\n",
       "      <td>39114.994709</td>\n",
       "      <td>300.964021</td>\n",
       "      <td>51175.285714</td>\n",
       "      <td>170.05291</td>\n",
       "    </tr>\n",
       "    <tr>\n",
       "      <th>std</th>\n",
       "      <td>54.711144</td>\n",
       "      <td>1.968212</td>\n",
       "      <td>10294.967774</td>\n",
       "      <td>8.662040</td>\n",
       "      <td>9840.011169</td>\n",
       "      <td>32.48334</td>\n",
       "    </tr>\n",
       "    <tr>\n",
       "      <th>min</th>\n",
       "      <td>1.000000</td>\n",
       "      <td>-5.000000</td>\n",
       "      <td>12716.000000</td>\n",
       "      <td>272.500000</td>\n",
       "      <td>25292.000000</td>\n",
       "      <td>90.00000</td>\n",
       "    </tr>\n",
       "    <tr>\n",
       "      <th>25%</th>\n",
       "      <td>48.000000</td>\n",
       "      <td>-2.000000</td>\n",
       "      <td>31560.000000</td>\n",
       "      <td>295.200000</td>\n",
       "      <td>44589.000000</td>\n",
       "      <td>148.00000</td>\n",
       "    </tr>\n",
       "    <tr>\n",
       "      <th>50%</th>\n",
       "      <td>94.000000</td>\n",
       "      <td>-1.000000</td>\n",
       "      <td>36699.000000</td>\n",
       "      <td>300.800000</td>\n",
       "      <td>51338.000000</td>\n",
       "      <td>172.00000</td>\n",
       "    </tr>\n",
       "    <tr>\n",
       "      <th>75%</th>\n",
       "      <td>142.000000</td>\n",
       "      <td>0.000000</td>\n",
       "      <td>48117.000000</td>\n",
       "      <td>306.400000</td>\n",
       "      <td>57791.000000</td>\n",
       "      <td>192.00000</td>\n",
       "    </tr>\n",
       "    <tr>\n",
       "      <th>max</th>\n",
       "      <td>189.000000</td>\n",
       "      <td>7.000000</td>\n",
       "      <td>59018.000000</td>\n",
       "      <td>326.300000</td>\n",
       "      <td>72978.000000</td>\n",
       "      <td>244.00000</td>\n",
       "    </tr>\n",
       "  </tbody>\n",
       "</table>\n",
       "</div>"
      ],
      "text/plain": [
       "             RANK    MOVEMENT     PLAYER_ID         AVG  TOTAL DISTANCE  \\\n",
       "count  189.000000  189.000000    189.000000  189.000000      189.000000   \n",
       "mean    94.719577   -0.904762  39114.994709  300.964021    51175.285714   \n",
       "std     54.711144    1.968212  10294.967774    8.662040     9840.011169   \n",
       "min      1.000000   -5.000000  12716.000000  272.500000    25292.000000   \n",
       "25%     48.000000   -2.000000  31560.000000  295.200000    44589.000000   \n",
       "50%     94.000000   -1.000000  36699.000000  300.800000    51338.000000   \n",
       "75%    142.000000    0.000000  48117.000000  306.400000    57791.000000   \n",
       "max    189.000000    7.000000  59018.000000  326.300000    72978.000000   \n",
       "\n",
       "       TOTAL DRIVES  \n",
       "count     189.00000  \n",
       "mean      170.05291  \n",
       "std        32.48334  \n",
       "min        90.00000  \n",
       "25%       148.00000  \n",
       "50%       172.00000  \n",
       "75%       192.00000  \n",
       "max       244.00000  "
      ]
     },
     "execution_count": 19,
     "metadata": {},
     "output_type": "execute_result"
    }
   ],
   "source": [
    "df1.describe()"
   ]
  },
  {
   "cell_type": "code",
   "execution_count": 20,
   "id": "fa49c97f",
   "metadata": {},
   "outputs": [
    {
     "data": {
      "text/plain": [
       "RANK              189\n",
       "MOVEMENT          189\n",
       "PLAYER_ID         189\n",
       "PLAYER            189\n",
       "AVG               189\n",
       "TOTAL DISTANCE    189\n",
       "TOTAL DRIVES      189\n",
       "dtype: int64"
      ]
     },
     "execution_count": 20,
     "metadata": {},
     "output_type": "execute_result"
    }
   ],
   "source": [
    "count = df1.count()\n",
    "count"
   ]
  },
  {
   "cell_type": "code",
   "execution_count": 21,
   "id": "d0716673",
   "metadata": {},
   "outputs": [
    {
     "data": {
      "text/plain": [
       "array([278.8835742 , 305.36183367, 296.82831772, 299.1363726 ,\n",
       "       301.1530215 , 306.0816048 , 300.20272868, 318.28472349,\n",
       "       299.09664717, 297.99357187, 282.37593174, 303.15500018,\n",
       "       289.27123383, 303.40821841, 309.76724034, 295.05209002,\n",
       "       300.12661443, 291.61380071, 289.89796457, 287.57894296,\n",
       "       292.93034327, 304.18891547, 289.36480147, 313.19080278,\n",
       "       313.19892145, 296.48483496, 298.20412712, 304.1312885 ,\n",
       "       294.94781354, 315.52999147, 292.90016109, 300.08478288,\n",
       "       288.02086484, 292.35101984, 297.91017817, 313.65545834,\n",
       "       305.03323615, 303.86468324, 294.00535499, 295.44362505,\n",
       "       288.44841042, 294.93027961, 303.43537489, 305.40874201,\n",
       "       287.56134735, 301.00415431, 302.02265189, 306.13331011,\n",
       "       290.90164808, 298.51369182, 292.1206057 , 301.34451466,\n",
       "       296.62267285, 305.05991294, 315.91125851, 311.70214182,\n",
       "       296.958403  , 296.66443843, 302.82501333, 279.21568621,\n",
       "       312.88372345, 303.65635192, 286.2111514 , 299.49102641,\n",
       "       285.43641649, 305.52351329, 303.90816703, 305.22316651,\n",
       "       305.07723059, 311.22267029, 296.75581117, 305.47626264,\n",
       "       301.40101769, 298.15041773, 297.40935145, 301.03966989,\n",
       "       300.28374125, 303.77346374, 293.40602338, 321.13073738,\n",
       "       322.53307312, 290.74801281, 302.90018813, 296.203087  ,\n",
       "       315.34585369, 297.23864666, 299.26800908, 306.10370124,\n",
       "       304.02957241, 301.53675859, 294.75959387, 300.01626702,\n",
       "       296.59527428, 312.15589135, 310.89879918, 289.64162578,\n",
       "       301.14693546, 306.82884776, 306.57470323, 295.28505959,\n",
       "       283.67222451, 321.17714617, 302.64413536, 301.09466508,\n",
       "       278.09728445, 297.34188067, 302.54705209, 311.67827958,\n",
       "       316.75252409, 292.64983892, 300.10568024, 305.85025103,\n",
       "       302.86241263, 298.16451908, 301.30578788, 318.59613689,\n",
       "       309.38911057, 287.11366203, 309.08611374, 317.98963175,\n",
       "       301.57876808, 319.97723516, 301.40455842, 300.14835409,\n",
       "       305.13074932, 313.83189873, 294.01057818, 300.89993003,\n",
       "       303.84595563, 295.16612097, 290.87817584, 304.09690066,\n",
       "       324.60622033, 308.6242941 , 299.15403305, 295.67546473,\n",
       "       298.42084983, 289.98750109, 293.72444103, 310.17153694,\n",
       "       308.3618742 , 295.08419258, 293.39377531, 309.85837752,\n",
       "       308.18207081, 308.06474751, 298.99527126, 304.16929646,\n",
       "       312.6075341 , 291.26747685, 300.55311671, 306.07513047,\n",
       "       308.77425958, 303.33783149, 293.70382571, 294.45886988,\n",
       "       289.94929163, 289.50749405, 304.12822415, 296.59701822,\n",
       "       291.08747806, 301.75324123, 300.57214349, 317.35355812,\n",
       "       296.16787427, 308.2588214 , 297.1692716 , 310.45681893,\n",
       "       300.92470532, 295.26417317, 310.39499554, 302.4207665 ,\n",
       "       288.82387386, 319.39777034, 304.05787621, 315.97186962,\n",
       "       298.29407011, 298.04435077, 294.05450606, 304.38904193,\n",
       "       302.83424303, 292.90858763, 310.83374257, 299.9625921 ,\n",
       "       305.90849815, 310.96470328, 301.83545396, 313.32550608,\n",
       "       298.45585938])"
      ]
     },
     "execution_count": 21,
     "metadata": {},
     "output_type": "execute_result"
    }
   ],
   "source": [
    "# Synthesize a random normal distribution for Driving Distance\n",
    "# I choose mu of 300.5 because this is the average drivage distance in pgatour_golfstats_2022-2023_driving.csv\n",
    "mu, sigma = 300.96, 8.66 # mean and standard deviation\n",
    "s = np.random.default_rng().normal(mu, sigma, 189)\n",
    "s"
   ]
  },
  {
   "cell_type": "code",
   "execution_count": 22,
   "id": "9ba5bf02",
   "metadata": {},
   "outputs": [
    {
     "data": {
      "image/png": "[encoded data removed]",
      "text/plain": [
       "<Figure size 640x480 with 1 Axes>"
      ]
     },
     "metadata": {},
     "output_type": "display_data"
    }
   ],
   "source": [
    "# Plot random normal distribution for Driving Distance\n",
    "plt.hist(s)\n",
    "plt.show()"
   ]
  },
  {
   "cell_type": "code",
   "execution_count": 23,
   "id": "f0557c60",
   "metadata": {},
   "outputs": [
    {
     "data": {
      "text/plain": [
       "array([287, 293, 296, 295, 280, 334, 315, 314, 329, 274, 314, 294, 278,\n",
       "       306, 278, 308, 304, 313, 308, 307, 317, 301, 298, 297, 299, 305,\n",
       "       284, 298, 266, 310, 278, 312, 264, 311, 306, 296, 317, 305, 297,\n",
       "       298, 312, 281, 306, 298, 339, 311, 302, 262, 304, 323, 296, 323,\n",
       "       287, 275, 311, 312, 305, 310, 326, 325, 288, 293, 290, 301, 298,\n",
       "       307, 312, 330, 293, 309, 296, 293, 352, 300, 305, 291, 313, 312,\n",
       "       284, 287, 288, 299, 269, 305, 287, 284, 311, 326, 331, 321, 286,\n",
       "       322, 304, 274, 273, 323, 326, 303, 296, 317, 305, 307, 327, 266,\n",
       "       296, 290, 296, 340, 292, 332, 306, 320, 288, 302, 303, 321, 315,\n",
       "       302, 305, 325, 297, 288, 265, 322, 304, 321, 294, 288, 283, 316,\n",
       "       296, 333, 319, 292, 309, 308, 312, 320, 276, 285, 298, 295, 291,\n",
       "       303, 306, 309, 293, 299, 287, 268, 290, 317, 313, 289, 292, 290,\n",
       "       288, 331, 333, 337, 284, 272, 326, 310, 325, 299, 279, 294, 310,\n",
       "       293, 304, 273, 280, 302, 336, 295, 310, 303, 301, 321, 315, 315,\n",
       "       327, 275, 326, 293, 275, 295, 314], dtype=int64)"
      ]
     },
     "execution_count": 23,
     "metadata": {},
     "output_type": "execute_result"
    }
   ],
   "source": [
    "# Synthesize a poisson distribution for Driving Distance\n",
    "p = np.random.default_rng().poisson(mu,189)\n",
    "p"
   ]
  },
  {
   "cell_type": "code",
   "execution_count": 24,
   "id": "d7315327",
   "metadata": {},
   "outputs": [
    {
     "data": {
      "image/png": "[encoded data removed]",
      "text/plain": [
       "<Figure size 640x480 with 1 Axes>"
      ]
     },
     "metadata": {},
     "output_type": "display_data"
    }
   ],
   "source": [
    "# Plot poisson distribution for Driving Distance\n",
    "plt.hist(p)\n",
    "plt.show()"
   ]
  },
  {
   "cell_type": "code",
   "execution_count": 25,
   "id": "bca68da1",
   "metadata": {},
   "outputs": [
    {
     "data": {
      "text/html": [
       "<div>\n",
       "<style scoped>\n",
       "    .dataframe tbody tr th:only-of-type {\n",
       "        vertical-align: middle;\n",
       "    }\n",
       "\n",
       "    .dataframe tbody tr th {\n",
       "        vertical-align: top;\n",
       "    }\n",
       "\n",
       "    .dataframe thead th {\n",
       "        text-align: right;\n",
       "    }\n",
       "</style>\n",
       "<table border=\"1\" class=\"dataframe\">\n",
       "  <thead>\n",
       "    <tr style=\"text-align: right;\">\n",
       "      <th></th>\n",
       "      <th>1</th>\n",
       "      <th>Unnamed: 1</th>\n",
       "      <th>MCILROY, Rory</th>\n",
       "      <th>30</th>\n",
       "      <th>68.8</th>\n",
       "      <th>DP World Tour</th>\n",
       "    </tr>\n",
       "  </thead>\n",
       "  <tbody>\n",
       "    <tr>\n",
       "      <th>0</th>\n",
       "      <td>2</td>\n",
       "      <td>NaN</td>\n",
       "      <td>BJÖRK, Alexander</td>\n",
       "      <td>88</td>\n",
       "      <td>69.53</td>\n",
       "      <td>DP World Tour</td>\n",
       "    </tr>\n",
       "    <tr>\n",
       "      <th>1</th>\n",
       "      <td>3</td>\n",
       "      <td>NaN</td>\n",
       "      <td>HØJGAARD, Nicolai</td>\n",
       "      <td>61</td>\n",
       "      <td>69.59</td>\n",
       "      <td>DP World Tour</td>\n",
       "    </tr>\n",
       "    <tr>\n",
       "      <th>2</th>\n",
       "      <td>4</td>\n",
       "      <td>NaN</td>\n",
       "      <td>KIMSEY, Nathan</td>\n",
       "      <td>76</td>\n",
       "      <td>69.74</td>\n",
       "      <td>DP World Tour</td>\n",
       "    </tr>\n",
       "    <tr>\n",
       "      <th>3</th>\n",
       "      <td>5</td>\n",
       "      <td>NaN</td>\n",
       "      <td>OLESEN, Thorbjørn</td>\n",
       "      <td>84</td>\n",
       "      <td>69.80</td>\n",
       "      <td>DP World Tour</td>\n",
       "    </tr>\n",
       "    <tr>\n",
       "      <th>4</th>\n",
       "      <td>6</td>\n",
       "      <td>NaN</td>\n",
       "      <td>MERONK, Adrian</td>\n",
       "      <td>77</td>\n",
       "      <td>69.81</td>\n",
       "      <td>DP World Tour</td>\n",
       "    </tr>\n",
       "    <tr>\n",
       "      <th>...</th>\n",
       "      <td>...</td>\n",
       "      <td>...</td>\n",
       "      <td>...</td>\n",
       "      <td>...</td>\n",
       "      <td>...</td>\n",
       "      <td>...</td>\n",
       "    </tr>\n",
       "    <tr>\n",
       "      <th>168</th>\n",
       "      <td>170</td>\n",
       "      <td>NaN</td>\n",
       "      <td>MURPHY, John</td>\n",
       "      <td>51</td>\n",
       "      <td>73.86</td>\n",
       "      <td>DP World Tour</td>\n",
       "    </tr>\n",
       "    <tr>\n",
       "      <th>169</th>\n",
       "      <td>171</td>\n",
       "      <td>NaN</td>\n",
       "      <td>LI, Haotong</td>\n",
       "      <td>43</td>\n",
       "      <td>74.07</td>\n",
       "      <td>DP World Tour</td>\n",
       "    </tr>\n",
       "    <tr>\n",
       "      <th>170</th>\n",
       "      <td>172</td>\n",
       "      <td>NaN</td>\n",
       "      <td>WINDRED, Blake</td>\n",
       "      <td>34</td>\n",
       "      <td>74.18</td>\n",
       "      <td>DP World Tour</td>\n",
       "    </tr>\n",
       "    <tr>\n",
       "      <th>171</th>\n",
       "      <td>173</td>\n",
       "      <td>NaN</td>\n",
       "      <td>CHENGYAO, Ma</td>\n",
       "      <td>40</td>\n",
       "      <td>74.83</td>\n",
       "      <td>DP World Tour</td>\n",
       "    </tr>\n",
       "    <tr>\n",
       "      <th>172</th>\n",
       "      <td>174</td>\n",
       "      <td>NaN</td>\n",
       "      <td>EDÉN, Tobias</td>\n",
       "      <td>41</td>\n",
       "      <td>75.07</td>\n",
       "      <td>DP World Tour</td>\n",
       "    </tr>\n",
       "  </tbody>\n",
       "</table>\n",
       "<p>173 rows × 6 columns</p>\n",
       "</div>"
      ],
      "text/plain": [
       "       1  Unnamed: 1      MCILROY, Rory  30   68.8  DP World Tour\n",
       "0      2         NaN   BJÖRK, Alexander  88  69.53  DP World Tour\n",
       "1      3         NaN  HØJGAARD, Nicolai  61  69.59  DP World Tour\n",
       "2      4         NaN     KIMSEY, Nathan  76  69.74  DP World Tour\n",
       "3      5         NaN  OLESEN, Thorbjørn  84  69.80  DP World Tour\n",
       "4      6         NaN     MERONK, Adrian  77  69.81  DP World Tour\n",
       "..   ...         ...                ...  ..    ...            ...\n",
       "168  170         NaN       MURPHY, John  51  73.86  DP World Tour\n",
       "169  171         NaN        LI, Haotong  43  74.07  DP World Tour\n",
       "170  172         NaN     WINDRED, Blake  34  74.18  DP World Tour\n",
       "171  173         NaN       CHENGYAO, Ma  40  74.83  DP World Tour\n",
       "172  174         NaN       EDÉN, Tobias  41  75.07  DP World Tour\n",
       "\n",
       "[173 rows x 6 columns]"
      ]
     },
     "execution_count": 25,
     "metadata": {},
     "output_type": "execute_result"
    }
   ],
   "source": [
    "dataframe1 = pd.read_excel('dpworldtour_2022-2023_scoringaverage.xlsx')\n",
    "dataframe1"
   ]
  },
  {
   "cell_type": "code",
   "execution_count": 26,
   "id": "00f96699",
   "metadata": {},
   "outputs": [
    {
     "data": {
      "text/html": [
       "<div>\n",
       "<style scoped>\n",
       "    .dataframe tbody tr th:only-of-type {\n",
       "        vertical-align: middle;\n",
       "    }\n",
       "\n",
       "    .dataframe tbody tr th {\n",
       "        vertical-align: top;\n",
       "    }\n",
       "\n",
       "    .dataframe thead th {\n",
       "        text-align: right;\n",
       "    }\n",
       "</style>\n",
       "<table border=\"1\" class=\"dataframe\">\n",
       "  <thead>\n",
       "    <tr style=\"text-align: right;\">\n",
       "      <th></th>\n",
       "      <th>DATE</th>\n",
       "      <th>TOURNAMENT</th>\n",
       "      <th>POS</th>\n",
       "      <th>R1</th>\n",
       "      <th>R2</th>\n",
       "      <th>R3</th>\n",
       "      <th>R4</th>\n",
       "      <th>R5</th>\n",
       "      <th>TOTAL</th>\n",
       "      <th>TO PAR</th>\n",
       "      <th>RANK</th>\n",
       "      <th>PTS</th>\n",
       "      <th>Unnamed: 12</th>\n",
       "      <th>RANK.1</th>\n",
       "      <th>PTS.1</th>\n",
       "      <th>WINNINGS</th>\n",
       "      <th>Unnamed: 16</th>\n",
       "    </tr>\n",
       "  </thead>\n",
       "  <tbody>\n",
       "    <tr>\n",
       "      <th>0</th>\n",
       "      <td>10.23.2022</td>\n",
       "      <td>THE CJ CUP in South Carolina</td>\n",
       "      <td>T23</td>\n",
       "      <td>68</td>\n",
       "      <td>67</td>\n",
       "      <td>71</td>\n",
       "      <td>72</td>\n",
       "      <td>-</td>\n",
       "      <td>278.0</td>\n",
       "      <td>-6</td>\n",
       "      <td>99</td>\n",
       "      <td>34.833</td>\n",
       "      <td>NaN</td>\n",
       "      <td>-</td>\n",
       "      <td>-</td>\n",
       "      <td>$88,305.00</td>\n",
       "      <td>NaN</td>\n",
       "    </tr>\n",
       "    <tr>\n",
       "      <th>1</th>\n",
       "      <td>12.4.2022</td>\n",
       "      <td>Hero World Challenge*</td>\n",
       "      <td>18</td>\n",
       "      <td>74</td>\n",
       "      <td>77</td>\n",
       "      <td>71</td>\n",
       "      <td>71</td>\n",
       "      <td>-</td>\n",
       "      <td>293.0</td>\n",
       "      <td>5</td>\n",
       "      <td>-</td>\n",
       "      <td>-</td>\n",
       "      <td>NaN</td>\n",
       "      <td>-</td>\n",
       "      <td>-</td>\n",
       "      <td>$102,000.00</td>\n",
       "      <td>-</td>\n",
       "    </tr>\n",
       "    <tr>\n",
       "      <th>2</th>\n",
       "      <td>2.12.2023</td>\n",
       "      <td>WM Phoenix Open</td>\n",
       "      <td>CUT</td>\n",
       "      <td>75</td>\n",
       "      <td>76</td>\n",
       "      <td>-</td>\n",
       "      <td>-</td>\n",
       "      <td>-</td>\n",
       "      <td>151.0</td>\n",
       "      <td>9</td>\n",
       "      <td>180</td>\n",
       "      <td>-</td>\n",
       "      <td>NaN</td>\n",
       "      <td>-</td>\n",
       "      <td>-</td>\n",
       "      <td>-</td>\n",
       "      <td>NaN</td>\n",
       "    </tr>\n",
       "    <tr>\n",
       "      <th>3</th>\n",
       "      <td>2.19.2023</td>\n",
       "      <td>The Genesis Invitational</td>\n",
       "      <td>T14</td>\n",
       "      <td>69</td>\n",
       "      <td>69</td>\n",
       "      <td>71</td>\n",
       "      <td>68</td>\n",
       "      <td>-</td>\n",
       "      <td>277.0</td>\n",
       "      <td>-7</td>\n",
       "      <td>131</td>\n",
       "      <td>58.25</td>\n",
       "      <td>NaN</td>\n",
       "      <td>-</td>\n",
       "      <td>-</td>\n",
       "      <td>$355,000.00</td>\n",
       "      <td>NaN</td>\n",
       "    </tr>\n",
       "    <tr>\n",
       "      <th>4</th>\n",
       "      <td>2.26.2023</td>\n",
       "      <td>The Honda Classic</td>\n",
       "      <td>T5</td>\n",
       "      <td>68</td>\n",
       "      <td>68</td>\n",
       "      <td>65</td>\n",
       "      <td>70</td>\n",
       "      <td>-</td>\n",
       "      <td>271.0</td>\n",
       "      <td>-9</td>\n",
       "      <td>89</td>\n",
       "      <td>93</td>\n",
       "      <td>NaN</td>\n",
       "      <td>-</td>\n",
       "      <td>-</td>\n",
       "      <td>$288,120.00</td>\n",
       "      <td>NaN</td>\n",
       "    </tr>\n",
       "    <tr>\n",
       "      <th>5</th>\n",
       "      <td>3.5.2023</td>\n",
       "      <td>Arnold Palmer Invitational presented by Master...</td>\n",
       "      <td>67</td>\n",
       "      <td>72</td>\n",
       "      <td>70</td>\n",
       "      <td>80</td>\n",
       "      <td>71</td>\n",
       "      <td>-</td>\n",
       "      <td>293.0</td>\n",
       "      <td>5</td>\n",
       "      <td>97</td>\n",
       "      <td>4.08</td>\n",
       "      <td>NaN</td>\n",
       "      <td>-</td>\n",
       "      <td>-</td>\n",
       "      <td>$42,600.00</td>\n",
       "      <td>NaN</td>\n",
       "    </tr>\n",
       "    <tr>\n",
       "      <th>6</th>\n",
       "      <td>3.12.2023</td>\n",
       "      <td>THE PLAYERS Championship</td>\n",
       "      <td>T35</td>\n",
       "      <td>77</td>\n",
       "      <td>69</td>\n",
       "      <td>68</td>\n",
       "      <td>70</td>\n",
       "      <td>-</td>\n",
       "      <td>284.0</td>\n",
       "      <td>-4</td>\n",
       "      <td>96</td>\n",
       "      <td>19.267</td>\n",
       "      <td>NaN</td>\n",
       "      <td>-</td>\n",
       "      <td>-</td>\n",
       "      <td>$114,166.67</td>\n",
       "      <td>NaN</td>\n",
       "    </tr>\n",
       "    <tr>\n",
       "      <th>7</th>\n",
       "      <td>3.26.2023</td>\n",
       "      <td>World Golf Championships-Dell Technologies Mat...</td>\n",
       "      <td>T31</td>\n",
       "      <td>-</td>\n",
       "      <td>-</td>\n",
       "      <td>-</td>\n",
       "      <td>-</td>\n",
       "      <td>-</td>\n",
       "      <td>0.0</td>\n",
       "      <td>NaN</td>\n",
       "      <td>97</td>\n",
       "      <td>17.729</td>\n",
       "      <td>NaN</td>\n",
       "      <td>-</td>\n",
       "      <td>-</td>\n",
       "      <td>$113,761.91</td>\n",
       "      <td>NaN</td>\n",
       "    </tr>\n",
       "    <tr>\n",
       "      <th>8</th>\n",
       "      <td>4.9.2023</td>\n",
       "      <td>Masters Tournament</td>\n",
       "      <td>T16</td>\n",
       "      <td>68</td>\n",
       "      <td>72</td>\n",
       "      <td>73</td>\n",
       "      <td>73</td>\n",
       "      <td>-</td>\n",
       "      <td>286.0</td>\n",
       "      <td>-2</td>\n",
       "      <td>88</td>\n",
       "      <td>52.886</td>\n",
       "      <td>NaN</td>\n",
       "      <td>-</td>\n",
       "      <td>-</td>\n",
       "      <td>$261,000.00</td>\n",
       "      <td>-</td>\n",
       "    </tr>\n",
       "    <tr>\n",
       "      <th>9</th>\n",
       "      <td>4.16.2023</td>\n",
       "      <td>RBC Heritage</td>\n",
       "      <td>T67</td>\n",
       "      <td>70</td>\n",
       "      <td>69</td>\n",
       "      <td>74</td>\n",
       "      <td>72</td>\n",
       "      <td>-</td>\n",
       "      <td>285.0</td>\n",
       "      <td>1</td>\n",
       "      <td>90</td>\n",
       "      <td>3.3</td>\n",
       "      <td>NaN</td>\n",
       "      <td>-</td>\n",
       "      <td>-</td>\n",
       "      <td>$41,600.00</td>\n",
       "      <td>NaN</td>\n",
       "    </tr>\n",
       "    <tr>\n",
       "      <th>10</th>\n",
       "      <td>5.7.2023</td>\n",
       "      <td>Wells Fargo Championship</td>\n",
       "      <td>CUT</td>\n",
       "      <td>72</td>\n",
       "      <td>72</td>\n",
       "      <td>-</td>\n",
       "      <td>-</td>\n",
       "      <td>-</td>\n",
       "      <td>144.0</td>\n",
       "      <td>2</td>\n",
       "      <td>99</td>\n",
       "      <td>-</td>\n",
       "      <td>NaN</td>\n",
       "      <td>-</td>\n",
       "      <td>-</td>\n",
       "      <td>-</td>\n",
       "      <td>NaN</td>\n",
       "    </tr>\n",
       "    <tr>\n",
       "      <th>11</th>\n",
       "      <td>5.21.2023</td>\n",
       "      <td>PGA Championship</td>\n",
       "      <td>T12</td>\n",
       "      <td>73</td>\n",
       "      <td>67</td>\n",
       "      <td>71</td>\n",
       "      <td>69</td>\n",
       "      <td>-</td>\n",
       "      <td>280.0</td>\n",
       "      <td>E</td>\n",
       "      <td>89</td>\n",
       "      <td>68</td>\n",
       "      <td>NaN</td>\n",
       "      <td>-</td>\n",
       "      <td>-</td>\n",
       "      <td>$365,000.00</td>\n",
       "      <td>-</td>\n",
       "    </tr>\n",
       "    <tr>\n",
       "      <th>12</th>\n",
       "      <td>6.4.2023</td>\n",
       "      <td>the Memorial Tournament presented by Workday</td>\n",
       "      <td>T16</td>\n",
       "      <td>69</td>\n",
       "      <td>76</td>\n",
       "      <td>70</td>\n",
       "      <td>73</td>\n",
       "      <td>-</td>\n",
       "      <td>288.0</td>\n",
       "      <td>E</td>\n",
       "      <td>88</td>\n",
       "      <td>50.925</td>\n",
       "      <td>NaN</td>\n",
       "      <td>-</td>\n",
       "      <td>-</td>\n",
       "      <td>$275,500.00</td>\n",
       "      <td>NaN</td>\n",
       "    </tr>\n",
       "    <tr>\n",
       "      <th>13</th>\n",
       "      <td>6.11.2023</td>\n",
       "      <td>RBC Canadian Open</td>\n",
       "      <td>T43</td>\n",
       "      <td>72</td>\n",
       "      <td>69</td>\n",
       "      <td>70</td>\n",
       "      <td>73</td>\n",
       "      <td>-</td>\n",
       "      <td>284.0</td>\n",
       "      <td>-4</td>\n",
       "      <td>87</td>\n",
       "      <td>10.714</td>\n",
       "      <td>NaN</td>\n",
       "      <td>-</td>\n",
       "      <td>-</td>\n",
       "      <td>$28,530.00</td>\n",
       "      <td>NaN</td>\n",
       "    </tr>\n",
       "    <tr>\n",
       "      <th>14</th>\n",
       "      <td>6.18.2023</td>\n",
       "      <td>U.S. Open</td>\n",
       "      <td>T20</td>\n",
       "      <td>72</td>\n",
       "      <td>70</td>\n",
       "      <td>68</td>\n",
       "      <td>71</td>\n",
       "      <td>-</td>\n",
       "      <td>281.0</td>\n",
       "      <td>1</td>\n",
       "      <td>81</td>\n",
       "      <td>44.443</td>\n",
       "      <td>NaN</td>\n",
       "      <td>-</td>\n",
       "      <td>-</td>\n",
       "      <td>$200,152.00</td>\n",
       "      <td>-</td>\n",
       "    </tr>\n",
       "    <tr>\n",
       "      <th>15</th>\n",
       "      <td>6.25.2023</td>\n",
       "      <td>Travelers Championship</td>\n",
       "      <td>T19</td>\n",
       "      <td>64</td>\n",
       "      <td>69</td>\n",
       "      <td>69</td>\n",
       "      <td>64</td>\n",
       "      <td>-</td>\n",
       "      <td>266.0</td>\n",
       "      <td>-14</td>\n",
       "      <td>74</td>\n",
       "      <td>43</td>\n",
       "      <td>NaN</td>\n",
       "      <td>-</td>\n",
       "      <td>-</td>\n",
       "      <td>$245,800.00</td>\n",
       "      <td>NaN</td>\n",
       "    </tr>\n",
       "    <tr>\n",
       "      <th>16</th>\n",
       "      <td>7.16.2023</td>\n",
       "      <td>Genesis Scottish Open</td>\n",
       "      <td>T12</td>\n",
       "      <td>71</td>\n",
       "      <td>64</td>\n",
       "      <td>65</td>\n",
       "      <td>73</td>\n",
       "      <td>-</td>\n",
       "      <td>273.0</td>\n",
       "      <td>-7</td>\n",
       "      <td>72</td>\n",
       "      <td>55.714</td>\n",
       "      <td>NaN</td>\n",
       "      <td>-</td>\n",
       "      <td>-</td>\n",
       "      <td>$151,007.14</td>\n",
       "      <td>NaN</td>\n",
       "    </tr>\n",
       "    <tr>\n",
       "      <th>17</th>\n",
       "      <td>7.23.2023</td>\n",
       "      <td>The Open Championship</td>\n",
       "      <td>CUT</td>\n",
       "      <td>72</td>\n",
       "      <td>77</td>\n",
       "      <td>-</td>\n",
       "      <td>-</td>\n",
       "      <td>-</td>\n",
       "      <td>149.0</td>\n",
       "      <td>7</td>\n",
       "      <td>73</td>\n",
       "      <td>-</td>\n",
       "      <td>NaN</td>\n",
       "      <td>-</td>\n",
       "      <td>-</td>\n",
       "      <td>-</td>\n",
       "      <td>-</td>\n",
       "    </tr>\n",
       "    <tr>\n",
       "      <th>18</th>\n",
       "      <td>8.6.2023</td>\n",
       "      <td>Wyndham Championship</td>\n",
       "      <td>T51</td>\n",
       "      <td>68</td>\n",
       "      <td>69</td>\n",
       "      <td>70</td>\n",
       "      <td>70</td>\n",
       "      <td>-</td>\n",
       "      <td>277.0</td>\n",
       "      <td>-3</td>\n",
       "      <td>78</td>\n",
       "      <td>6.629</td>\n",
       "      <td>NaN</td>\n",
       "      <td>-</td>\n",
       "      <td>-</td>\n",
       "      <td>$18,164.00</td>\n",
       "      <td>NaN</td>\n",
       "    </tr>\n",
       "    <tr>\n",
       "      <th>19</th>\n",
       "      <td>10.1.2023</td>\n",
       "      <td>Ryder Cup*</td>\n",
       "      <td>1</td>\n",
       "      <td>-</td>\n",
       "      <td>-</td>\n",
       "      <td>-</td>\n",
       "      <td>-</td>\n",
       "      <td>-</td>\n",
       "      <td>NaN</td>\n",
       "      <td>NaN</td>\n",
       "      <td>-</td>\n",
       "      <td>-</td>\n",
       "      <td>NaN</td>\n",
       "      <td>-</td>\n",
       "      <td>-</td>\n",
       "      <td>-</td>\n",
       "      <td>NaN</td>\n",
       "    </tr>\n",
       "  </tbody>\n",
       "</table>\n",
       "</div>"
      ],
      "text/plain": [
       "          DATE                                         TOURNAMENT  POS  R1  \\\n",
       "0   10.23.2022                       THE CJ CUP in South Carolina  T23  68   \n",
       "1    12.4.2022                              Hero World Challenge*   18  74   \n",
       "2    2.12.2023                                    WM Phoenix Open  CUT  75   \n",
       "3    2.19.2023                           The Genesis Invitational  T14  69   \n",
       "4    2.26.2023                                  The Honda Classic   T5  68   \n",
       "5     3.5.2023  Arnold Palmer Invitational presented by Master...   67  72   \n",
       "6    3.12.2023                           THE PLAYERS Championship  T35  77   \n",
       "7    3.26.2023  World Golf Championships-Dell Technologies Mat...  T31   -   \n",
       "8     4.9.2023                                 Masters Tournament  T16  68   \n",
       "9    4.16.2023                                       RBC Heritage  T67  70   \n",
       "10    5.7.2023                           Wells Fargo Championship  CUT  72   \n",
       "11   5.21.2023                                   PGA Championship  T12  73   \n",
       "12    6.4.2023       the Memorial Tournament presented by Workday  T16  69   \n",
       "13   6.11.2023                                  RBC Canadian Open  T43  72   \n",
       "14   6.18.2023                                          U.S. Open  T20  72   \n",
       "15   6.25.2023                             Travelers Championship  T19  64   \n",
       "16   7.16.2023                              Genesis Scottish Open  T12  71   \n",
       "17   7.23.2023                              The Open Championship  CUT  72   \n",
       "18    8.6.2023                               Wyndham Championship  T51  68   \n",
       "19   10.1.2023                                         Ryder Cup*    1   -   \n",
       "\n",
       "    R2  R3  R4 R5  TOTAL TO PAR RANK     PTS  Unnamed: 12 RANK.1 PTS.1  \\\n",
       "0   67  71  72  -  278.0     -6   99  34.833          NaN      -     -   \n",
       "1   77  71  71  -  293.0      5    -       -          NaN      -     -   \n",
       "2   76   -   -  -  151.0      9  180       -          NaN      -     -   \n",
       "3   69  71  68  -  277.0     -7  131   58.25          NaN      -     -   \n",
       "4   68  65  70  -  271.0     -9   89      93          NaN      -     -   \n",
       "5   70  80  71  -  293.0      5   97    4.08          NaN      -     -   \n",
       "6   69  68  70  -  284.0     -4   96  19.267          NaN      -     -   \n",
       "7    -   -   -  -    0.0    NaN   97  17.729          NaN      -     -   \n",
       "8   72  73  73  -  286.0     -2   88  52.886          NaN      -     -   \n",
       "9   69  74  72  -  285.0      1   90     3.3          NaN      -     -   \n",
       "10  72   -   -  -  144.0      2   99       -          NaN      -     -   \n",
       "11  67  71  69  -  280.0      E   89      68          NaN      -     -   \n",
       "12  76  70  73  -  288.0      E   88  50.925          NaN      -     -   \n",
       "13  69  70  73  -  284.0     -4   87  10.714          NaN      -     -   \n",
       "14  70  68  71  -  281.0      1   81  44.443          NaN      -     -   \n",
       "15  69  69  64  -  266.0    -14   74      43          NaN      -     -   \n",
       "16  64  65  73  -  273.0     -7   72  55.714          NaN      -     -   \n",
       "17  77   -   -  -  149.0      7   73       -          NaN      -     -   \n",
       "18  69  70  70  -  277.0     -3   78   6.629          NaN      -     -   \n",
       "19   -   -   -  -    NaN    NaN    -       -          NaN      -     -   \n",
       "\n",
       "       WINNINGS Unnamed: 16  \n",
       "0    $88,305.00         NaN  \n",
       "1   $102,000.00           -  \n",
       "2             -         NaN  \n",
       "3   $355,000.00         NaN  \n",
       "4   $288,120.00         NaN  \n",
       "5    $42,600.00         NaN  \n",
       "6   $114,166.67         NaN  \n",
       "7   $113,761.91         NaN  \n",
       "8   $261,000.00           -  \n",
       "9    $41,600.00         NaN  \n",
       "10            -         NaN  \n",
       "11  $365,000.00           -  \n",
       "12  $275,500.00         NaN  \n",
       "13   $28,530.00         NaN  \n",
       "14  $200,152.00           -  \n",
       "15  $245,800.00         NaN  \n",
       "16  $151,007.14         NaN  \n",
       "17            -           -  \n",
       "18   $18,164.00         NaN  \n",
       "19            -         NaN  "
      ]
     },
     "execution_count": 26,
     "metadata": {},
     "output_type": "execute_result"
    }
   ],
   "source": [
    "dataframe2 = pd.read_excel('Shane Lowry_2022-2-23_Results_time-series.xlsx')\n",
    "dataframe2"
   ]
  },
  {
   "cell_type": "code",
   "execution_count": 27,
   "id": "e0f58cbb",
   "metadata": {},
   "outputs": [
    {
     "data": {
      "text/html": [
       "<div>\n",
       "<style scoped>\n",
       "    .dataframe tbody tr th:only-of-type {\n",
       "        vertical-align: middle;\n",
       "    }\n",
       "\n",
       "    .dataframe tbody tr th {\n",
       "        vertical-align: top;\n",
       "    }\n",
       "\n",
       "    .dataframe thead th {\n",
       "        text-align: right;\n",
       "    }\n",
       "</style>\n",
       "<table border=\"1\" class=\"dataframe\">\n",
       "  <thead>\n",
       "    <tr style=\"text-align: right;\">\n",
       "      <th></th>\n",
       "      <th>DATE</th>\n",
       "      <th>TOURNAMENT</th>\n",
       "      <th>POS</th>\n",
       "      <th>R1</th>\n",
       "      <th>R2</th>\n",
       "      <th>R3</th>\n",
       "      <th>R4</th>\n",
       "      <th>R5</th>\n",
       "      <th>TOTAL</th>\n",
       "      <th>TO PAR</th>\n",
       "      <th>RANK</th>\n",
       "      <th>PTS</th>\n",
       "      <th>Unnamed: 12</th>\n",
       "      <th>RANK.1</th>\n",
       "      <th>PTS.1</th>\n",
       "      <th>WINNINGS</th>\n",
       "      <th>Unnamed: 16</th>\n",
       "      <th>datetime</th>\n",
       "    </tr>\n",
       "  </thead>\n",
       "  <tbody>\n",
       "    <tr>\n",
       "      <th>0</th>\n",
       "      <td>10.23.2022</td>\n",
       "      <td>THE CJ CUP in South Carolina</td>\n",
       "      <td>T23</td>\n",
       "      <td>68</td>\n",
       "      <td>67</td>\n",
       "      <td>71</td>\n",
       "      <td>72</td>\n",
       "      <td>-</td>\n",
       "      <td>278.0</td>\n",
       "      <td>-6</td>\n",
       "      <td>99</td>\n",
       "      <td>34.833</td>\n",
       "      <td>NaN</td>\n",
       "      <td>-</td>\n",
       "      <td>-</td>\n",
       "      <td>$88,305.00</td>\n",
       "      <td>NaN</td>\n",
       "      <td>2022-10-23</td>\n",
       "    </tr>\n",
       "    <tr>\n",
       "      <th>1</th>\n",
       "      <td>12.4.2022</td>\n",
       "      <td>Hero World Challenge*</td>\n",
       "      <td>18</td>\n",
       "      <td>74</td>\n",
       "      <td>77</td>\n",
       "      <td>71</td>\n",
       "      <td>71</td>\n",
       "      <td>-</td>\n",
       "      <td>293.0</td>\n",
       "      <td>5</td>\n",
       "      <td>-</td>\n",
       "      <td>-</td>\n",
       "      <td>NaN</td>\n",
       "      <td>-</td>\n",
       "      <td>-</td>\n",
       "      <td>$102,000.00</td>\n",
       "      <td>-</td>\n",
       "      <td>2022-12-04</td>\n",
       "    </tr>\n",
       "    <tr>\n",
       "      <th>2</th>\n",
       "      <td>2.12.2023</td>\n",
       "      <td>WM Phoenix Open</td>\n",
       "      <td>CUT</td>\n",
       "      <td>75</td>\n",
       "      <td>76</td>\n",
       "      <td>-</td>\n",
       "      <td>-</td>\n",
       "      <td>-</td>\n",
       "      <td>151.0</td>\n",
       "      <td>9</td>\n",
       "      <td>180</td>\n",
       "      <td>-</td>\n",
       "      <td>NaN</td>\n",
       "      <td>-</td>\n",
       "      <td>-</td>\n",
       "      <td>-</td>\n",
       "      <td>NaN</td>\n",
       "      <td>2023-02-12</td>\n",
       "    </tr>\n",
       "    <tr>\n",
       "      <th>3</th>\n",
       "      <td>2.19.2023</td>\n",
       "      <td>The Genesis Invitational</td>\n",
       "      <td>T14</td>\n",
       "      <td>69</td>\n",
       "      <td>69</td>\n",
       "      <td>71</td>\n",
       "      <td>68</td>\n",
       "      <td>-</td>\n",
       "      <td>277.0</td>\n",
       "      <td>-7</td>\n",
       "      <td>131</td>\n",
       "      <td>58.25</td>\n",
       "      <td>NaN</td>\n",
       "      <td>-</td>\n",
       "      <td>-</td>\n",
       "      <td>$355,000.00</td>\n",
       "      <td>NaN</td>\n",
       "      <td>2023-02-19</td>\n",
       "    </tr>\n",
       "    <tr>\n",
       "      <th>4</th>\n",
       "      <td>2.26.2023</td>\n",
       "      <td>The Honda Classic</td>\n",
       "      <td>T5</td>\n",
       "      <td>68</td>\n",
       "      <td>68</td>\n",
       "      <td>65</td>\n",
       "      <td>70</td>\n",
       "      <td>-</td>\n",
       "      <td>271.0</td>\n",
       "      <td>-9</td>\n",
       "      <td>89</td>\n",
       "      <td>93</td>\n",
       "      <td>NaN</td>\n",
       "      <td>-</td>\n",
       "      <td>-</td>\n",
       "      <td>$288,120.00</td>\n",
       "      <td>NaN</td>\n",
       "      <td>2023-02-26</td>\n",
       "    </tr>\n",
       "    <tr>\n",
       "      <th>5</th>\n",
       "      <td>3.5.2023</td>\n",
       "      <td>Arnold Palmer Invitational presented by Master...</td>\n",
       "      <td>67</td>\n",
       "      <td>72</td>\n",
       "      <td>70</td>\n",
       "      <td>80</td>\n",
       "      <td>71</td>\n",
       "      <td>-</td>\n",
       "      <td>293.0</td>\n",
       "      <td>5</td>\n",
       "      <td>97</td>\n",
       "      <td>4.08</td>\n",
       "      <td>NaN</td>\n",
       "      <td>-</td>\n",
       "      <td>-</td>\n",
       "      <td>$42,600.00</td>\n",
       "      <td>NaN</td>\n",
       "      <td>2023-03-05</td>\n",
       "    </tr>\n",
       "    <tr>\n",
       "      <th>6</th>\n",
       "      <td>3.12.2023</td>\n",
       "      <td>THE PLAYERS Championship</td>\n",
       "      <td>T35</td>\n",
       "      <td>77</td>\n",
       "      <td>69</td>\n",
       "      <td>68</td>\n",
       "      <td>70</td>\n",
       "      <td>-</td>\n",
       "      <td>284.0</td>\n",
       "      <td>-4</td>\n",
       "      <td>96</td>\n",
       "      <td>19.267</td>\n",
       "      <td>NaN</td>\n",
       "      <td>-</td>\n",
       "      <td>-</td>\n",
       "      <td>$114,166.67</td>\n",
       "      <td>NaN</td>\n",
       "      <td>2023-03-12</td>\n",
       "    </tr>\n",
       "    <tr>\n",
       "      <th>7</th>\n",
       "      <td>3.26.2023</td>\n",
       "      <td>World Golf Championships-Dell Technologies Mat...</td>\n",
       "      <td>T31</td>\n",
       "      <td>-</td>\n",
       "      <td>-</td>\n",
       "      <td>-</td>\n",
       "      <td>-</td>\n",
       "      <td>-</td>\n",
       "      <td>0.0</td>\n",
       "      <td>NaN</td>\n",
       "      <td>97</td>\n",
       "      <td>17.729</td>\n",
       "      <td>NaN</td>\n",
       "      <td>-</td>\n",
       "      <td>-</td>\n",
       "      <td>$113,761.91</td>\n",
       "      <td>NaN</td>\n",
       "      <td>2023-03-26</td>\n",
       "    </tr>\n",
       "    <tr>\n",
       "      <th>8</th>\n",
       "      <td>4.9.2023</td>\n",
       "      <td>Masters Tournament</td>\n",
       "      <td>T16</td>\n",
       "      <td>68</td>\n",
       "      <td>72</td>\n",
       "      <td>73</td>\n",
       "      <td>73</td>\n",
       "      <td>-</td>\n",
       "      <td>286.0</td>\n",
       "      <td>-2</td>\n",
       "      <td>88</td>\n",
       "      <td>52.886</td>\n",
       "      <td>NaN</td>\n",
       "      <td>-</td>\n",
       "      <td>-</td>\n",
       "      <td>$261,000.00</td>\n",
       "      <td>-</td>\n",
       "      <td>2023-04-09</td>\n",
       "    </tr>\n",
       "    <tr>\n",
       "      <th>9</th>\n",
       "      <td>4.16.2023</td>\n",
       "      <td>RBC Heritage</td>\n",
       "      <td>T67</td>\n",
       "      <td>70</td>\n",
       "      <td>69</td>\n",
       "      <td>74</td>\n",
       "      <td>72</td>\n",
       "      <td>-</td>\n",
       "      <td>285.0</td>\n",
       "      <td>1</td>\n",
       "      <td>90</td>\n",
       "      <td>3.3</td>\n",
       "      <td>NaN</td>\n",
       "      <td>-</td>\n",
       "      <td>-</td>\n",
       "      <td>$41,600.00</td>\n",
       "      <td>NaN</td>\n",
       "      <td>2023-04-16</td>\n",
       "    </tr>\n",
       "    <tr>\n",
       "      <th>10</th>\n",
       "      <td>5.7.2023</td>\n",
       "      <td>Wells Fargo Championship</td>\n",
       "      <td>CUT</td>\n",
       "      <td>72</td>\n",
       "      <td>72</td>\n",
       "      <td>-</td>\n",
       "      <td>-</td>\n",
       "      <td>-</td>\n",
       "      <td>144.0</td>\n",
       "      <td>2</td>\n",
       "      <td>99</td>\n",
       "      <td>-</td>\n",
       "      <td>NaN</td>\n",
       "      <td>-</td>\n",
       "      <td>-</td>\n",
       "      <td>-</td>\n",
       "      <td>NaN</td>\n",
       "      <td>2023-05-07</td>\n",
       "    </tr>\n",
       "    <tr>\n",
       "      <th>11</th>\n",
       "      <td>5.21.2023</td>\n",
       "      <td>PGA Championship</td>\n",
       "      <td>T12</td>\n",
       "      <td>73</td>\n",
       "      <td>67</td>\n",
       "      <td>71</td>\n",
       "      <td>69</td>\n",
       "      <td>-</td>\n",
       "      <td>280.0</td>\n",
       "      <td>E</td>\n",
       "      <td>89</td>\n",
       "      <td>68</td>\n",
       "      <td>NaN</td>\n",
       "      <td>-</td>\n",
       "      <td>-</td>\n",
       "      <td>$365,000.00</td>\n",
       "      <td>-</td>\n",
       "      <td>2023-05-21</td>\n",
       "    </tr>\n",
       "    <tr>\n",
       "      <th>12</th>\n",
       "      <td>6.4.2023</td>\n",
       "      <td>the Memorial Tournament presented by Workday</td>\n",
       "      <td>T16</td>\n",
       "      <td>69</td>\n",
       "      <td>76</td>\n",
       "      <td>70</td>\n",
       "      <td>73</td>\n",
       "      <td>-</td>\n",
       "      <td>288.0</td>\n",
       "      <td>E</td>\n",
       "      <td>88</td>\n",
       "      <td>50.925</td>\n",
       "      <td>NaN</td>\n",
       "      <td>-</td>\n",
       "      <td>-</td>\n",
       "      <td>$275,500.00</td>\n",
       "      <td>NaN</td>\n",
       "      <td>2023-06-04</td>\n",
       "    </tr>\n",
       "    <tr>\n",
       "      <th>13</th>\n",
       "      <td>6.11.2023</td>\n",
       "      <td>RBC Canadian Open</td>\n",
       "      <td>T43</td>\n",
       "      <td>72</td>\n",
       "      <td>69</td>\n",
       "      <td>70</td>\n",
       "      <td>73</td>\n",
       "      <td>-</td>\n",
       "      <td>284.0</td>\n",
       "      <td>-4</td>\n",
       "      <td>87</td>\n",
       "      <td>10.714</td>\n",
       "      <td>NaN</td>\n",
       "      <td>-</td>\n",
       "      <td>-</td>\n",
       "      <td>$28,530.00</td>\n",
       "      <td>NaN</td>\n",
       "      <td>2023-06-11</td>\n",
       "    </tr>\n",
       "    <tr>\n",
       "      <th>14</th>\n",
       "      <td>6.18.2023</td>\n",
       "      <td>U.S. Open</td>\n",
       "      <td>T20</td>\n",
       "      <td>72</td>\n",
       "      <td>70</td>\n",
       "      <td>68</td>\n",
       "      <td>71</td>\n",
       "      <td>-</td>\n",
       "      <td>281.0</td>\n",
       "      <td>1</td>\n",
       "      <td>81</td>\n",
       "      <td>44.443</td>\n",
       "      <td>NaN</td>\n",
       "      <td>-</td>\n",
       "      <td>-</td>\n",
       "      <td>$200,152.00</td>\n",
       "      <td>-</td>\n",
       "      <td>2023-06-18</td>\n",
       "    </tr>\n",
       "    <tr>\n",
       "      <th>15</th>\n",
       "      <td>6.25.2023</td>\n",
       "      <td>Travelers Championship</td>\n",
       "      <td>T19</td>\n",
       "      <td>64</td>\n",
       "      <td>69</td>\n",
       "      <td>69</td>\n",
       "      <td>64</td>\n",
       "      <td>-</td>\n",
       "      <td>266.0</td>\n",
       "      <td>-14</td>\n",
       "      <td>74</td>\n",
       "      <td>43</td>\n",
       "      <td>NaN</td>\n",
       "      <td>-</td>\n",
       "      <td>-</td>\n",
       "      <td>$245,800.00</td>\n",
       "      <td>NaN</td>\n",
       "      <td>2023-06-25</td>\n",
       "    </tr>\n",
       "    <tr>\n",
       "      <th>16</th>\n",
       "      <td>7.16.2023</td>\n",
       "      <td>Genesis Scottish Open</td>\n",
       "      <td>T12</td>\n",
       "      <td>71</td>\n",
       "      <td>64</td>\n",
       "      <td>65</td>\n",
       "      <td>73</td>\n",
       "      <td>-</td>\n",
       "      <td>273.0</td>\n",
       "      <td>-7</td>\n",
       "      <td>72</td>\n",
       "      <td>55.714</td>\n",
       "      <td>NaN</td>\n",
       "      <td>-</td>\n",
       "      <td>-</td>\n",
       "      <td>$151,007.14</td>\n",
       "      <td>NaN</td>\n",
       "      <td>2023-07-16</td>\n",
       "    </tr>\n",
       "    <tr>\n",
       "      <th>17</th>\n",
       "      <td>7.23.2023</td>\n",
       "      <td>The Open Championship</td>\n",
       "      <td>CUT</td>\n",
       "      <td>72</td>\n",
       "      <td>77</td>\n",
       "      <td>-</td>\n",
       "      <td>-</td>\n",
       "      <td>-</td>\n",
       "      <td>149.0</td>\n",
       "      <td>7</td>\n",
       "      <td>73</td>\n",
       "      <td>-</td>\n",
       "      <td>NaN</td>\n",
       "      <td>-</td>\n",
       "      <td>-</td>\n",
       "      <td>-</td>\n",
       "      <td>-</td>\n",
       "      <td>2023-07-23</td>\n",
       "    </tr>\n",
       "    <tr>\n",
       "      <th>18</th>\n",
       "      <td>8.6.2023</td>\n",
       "      <td>Wyndham Championship</td>\n",
       "      <td>T51</td>\n",
       "      <td>68</td>\n",
       "      <td>69</td>\n",
       "      <td>70</td>\n",
       "      <td>70</td>\n",
       "      <td>-</td>\n",
       "      <td>277.0</td>\n",
       "      <td>-3</td>\n",
       "      <td>78</td>\n",
       "      <td>6.629</td>\n",
       "      <td>NaN</td>\n",
       "      <td>-</td>\n",
       "      <td>-</td>\n",
       "      <td>$18,164.00</td>\n",
       "      <td>NaN</td>\n",
       "      <td>2023-08-06</td>\n",
       "    </tr>\n",
       "    <tr>\n",
       "      <th>19</th>\n",
       "      <td>10.1.2023</td>\n",
       "      <td>Ryder Cup*</td>\n",
       "      <td>1</td>\n",
       "      <td>-</td>\n",
       "      <td>-</td>\n",
       "      <td>-</td>\n",
       "      <td>-</td>\n",
       "      <td>-</td>\n",
       "      <td>NaN</td>\n",
       "      <td>NaN</td>\n",
       "      <td>-</td>\n",
       "      <td>-</td>\n",
       "      <td>NaN</td>\n",
       "      <td>-</td>\n",
       "      <td>-</td>\n",
       "      <td>-</td>\n",
       "      <td>NaN</td>\n",
       "      <td>2023-10-01</td>\n",
       "    </tr>\n",
       "  </tbody>\n",
       "</table>\n",
       "</div>"
      ],
      "text/plain": [
       "          DATE                                         TOURNAMENT  POS  R1  \\\n",
       "0   10.23.2022                       THE CJ CUP in South Carolina  T23  68   \n",
       "1    12.4.2022                              Hero World Challenge*   18  74   \n",
       "2    2.12.2023                                    WM Phoenix Open  CUT  75   \n",
       "3    2.19.2023                           The Genesis Invitational  T14  69   \n",
       "4    2.26.2023                                  The Honda Classic   T5  68   \n",
       "5     3.5.2023  Arnold Palmer Invitational presented by Master...   67  72   \n",
       "6    3.12.2023                           THE PLAYERS Championship  T35  77   \n",
       "7    3.26.2023  World Golf Championships-Dell Technologies Mat...  T31   -   \n",
       "8     4.9.2023                                 Masters Tournament  T16  68   \n",
       "9    4.16.2023                                       RBC Heritage  T67  70   \n",
       "10    5.7.2023                           Wells Fargo Championship  CUT  72   \n",
       "11   5.21.2023                                   PGA Championship  T12  73   \n",
       "12    6.4.2023       the Memorial Tournament presented by Workday  T16  69   \n",
       "13   6.11.2023                                  RBC Canadian Open  T43  72   \n",
       "14   6.18.2023                                          U.S. Open  T20  72   \n",
       "15   6.25.2023                             Travelers Championship  T19  64   \n",
       "16   7.16.2023                              Genesis Scottish Open  T12  71   \n",
       "17   7.23.2023                              The Open Championship  CUT  72   \n",
       "18    8.6.2023                               Wyndham Championship  T51  68   \n",
       "19   10.1.2023                                         Ryder Cup*    1   -   \n",
       "\n",
       "    R2  R3  R4 R5  TOTAL TO PAR RANK     PTS  Unnamed: 12 RANK.1 PTS.1  \\\n",
       "0   67  71  72  -  278.0     -6   99  34.833          NaN      -     -   \n",
       "1   77  71  71  -  293.0      5    -       -          NaN      -     -   \n",
       "2   76   -   -  -  151.0      9  180       -          NaN      -     -   \n",
       "3   69  71  68  -  277.0     -7  131   58.25          NaN      -     -   \n",
       "4   68  65  70  -  271.0     -9   89      93          NaN      -     -   \n",
       "5   70  80  71  -  293.0      5   97    4.08          NaN      -     -   \n",
       "6   69  68  70  -  284.0     -4   96  19.267          NaN      -     -   \n",
       "7    -   -   -  -    0.0    NaN   97  17.729          NaN      -     -   \n",
       "8   72  73  73  -  286.0     -2   88  52.886          NaN      -     -   \n",
       "9   69  74  72  -  285.0      1   90     3.3          NaN      -     -   \n",
       "10  72   -   -  -  144.0      2   99       -          NaN      -     -   \n",
       "11  67  71  69  -  280.0      E   89      68          NaN      -     -   \n",
       "12  76  70  73  -  288.0      E   88  50.925          NaN      -     -   \n",
       "13  69  70  73  -  284.0     -4   87  10.714          NaN      -     -   \n",
       "14  70  68  71  -  281.0      1   81  44.443          NaN      -     -   \n",
       "15  69  69  64  -  266.0    -14   74      43          NaN      -     -   \n",
       "16  64  65  73  -  273.0     -7   72  55.714          NaN      -     -   \n",
       "17  77   -   -  -  149.0      7   73       -          NaN      -     -   \n",
       "18  69  70  70  -  277.0     -3   78   6.629          NaN      -     -   \n",
       "19   -   -   -  -    NaN    NaN    -       -          NaN      -     -   \n",
       "\n",
       "       WINNINGS Unnamed: 16   datetime  \n",
       "0    $88,305.00         NaN 2022-10-23  \n",
       "1   $102,000.00           - 2022-12-04  \n",
       "2             -         NaN 2023-02-12  \n",
       "3   $355,000.00         NaN 2023-02-19  \n",
       "4   $288,120.00         NaN 2023-02-26  \n",
       "5    $42,600.00         NaN 2023-03-05  \n",
       "6   $114,166.67         NaN 2023-03-12  \n",
       "7   $113,761.91         NaN 2023-03-26  \n",
       "8   $261,000.00           - 2023-04-09  \n",
       "9    $41,600.00         NaN 2023-04-16  \n",
       "10            -         NaN 2023-05-07  \n",
       "11  $365,000.00           - 2023-05-21  \n",
       "12  $275,500.00         NaN 2023-06-04  \n",
       "13   $28,530.00         NaN 2023-06-11  \n",
       "14  $200,152.00           - 2023-06-18  \n",
       "15  $245,800.00         NaN 2023-06-25  \n",
       "16  $151,007.14         NaN 2023-07-16  \n",
       "17            -           - 2023-07-23  \n",
       "18   $18,164.00         NaN 2023-08-06  \n",
       "19            -         NaN 2023-10-01  "
      ]
     },
     "execution_count": 27,
     "metadata": {},
     "output_type": "execute_result"
    }
   ],
   "source": [
    "dataframe2['datetime'] = pd.to_datetime(dataframe2['DATE'])\n",
    "dataframe2"
   ]
  },
  {
   "cell_type": "code",
   "execution_count": 28,
   "id": "a50a4eeb",
   "metadata": {},
   "outputs": [
    {
     "data": {
      "text/plain": [
       "0    2022-10-23\n",
       "1    2022-12-04\n",
       "2    2023-02-12\n",
       "3    2023-02-19\n",
       "4    2023-02-26\n",
       "5    2023-03-05\n",
       "6    2023-03-12\n",
       "7    2023-03-26\n",
       "8    2023-04-09\n",
       "9    2023-04-16\n",
       "10   2023-05-07\n",
       "11   2023-05-21\n",
       "12   2023-06-04\n",
       "13   2023-06-11\n",
       "14   2023-06-18\n",
       "15   2023-06-25\n",
       "16   2023-07-16\n",
       "17   2023-07-23\n",
       "18   2023-08-06\n",
       "19   2023-10-01\n",
       "Name: datetime, dtype: datetime64[ns]"
      ]
     },
     "execution_count": 28,
     "metadata": {},
     "output_type": "execute_result"
    }
   ],
   "source": [
    "dataframe2['datetime']"
   ]
  },
  {
   "cell_type": "code",
   "execution_count": 29,
   "id": "839bff2c",
   "metadata": {},
   "outputs": [
    {
     "data": {
      "text/plain": [
       "<AxesSubplot:xlabel='datetime', ylabel='WINNINGS'>"
      ]
     },
     "execution_count": 29,
     "metadata": {},
     "output_type": "execute_result"
    },
    {
     "data": {
      "image/png": "[encoded data removed]",
      "text/plain": [
       "<Figure size 640x480 with 1 Axes>"
      ]
     },
     "metadata": {},
     "output_type": "display_data"
    }
   ],
   "source": [
    "import seaborn as sns\n",
    "sns.lineplot(data=dataframe2, x=\"datetime\", y=\"WINNINGS\")"
   ]
  },
  {
   "cell_type": "code",
   "execution_count": 30,
   "id": "de0178af",
   "metadata": {},
   "outputs": [
    {
     "data": {
      "text/plain": [
       "DatetimeIndex(['2022-10-23', '2022-10-30', '2022-11-06', '2022-11-13',\n",
       "               '2022-11-20', '2022-11-27', '2022-12-04', '2022-12-11',\n",
       "               '2022-12-18', '2022-12-25', '2023-01-01', '2023-01-08',\n",
       "               '2023-01-15', '2023-01-22', '2023-01-29', '2023-02-05',\n",
       "               '2023-02-12', '2023-02-19', '2023-02-26', '2023-03-05',\n",
       "               '2023-03-12', '2023-03-19', '2023-03-26', '2023-04-02',\n",
       "               '2023-04-09', '2023-04-16', '2023-04-23', '2023-04-30',\n",
       "               '2023-05-07', '2023-05-14', '2023-05-21', '2023-05-28',\n",
       "               '2023-06-04', '2023-06-11', '2023-06-18', '2023-06-25',\n",
       "               '2023-07-02', '2023-07-09', '2023-07-16', '2023-07-23',\n",
       "               '2023-07-30', '2023-08-06', '2023-08-13', '2023-08-20',\n",
       "               '2023-08-27', '2023-09-03', '2023-09-10', '2023-09-17',\n",
       "               '2023-09-24', '2023-10-01', '2023-10-08', '2023-10-15'],\n",
       "              dtype='datetime64[ns]', freq='W-SUN')"
      ]
     },
     "execution_count": 30,
     "metadata": {},
     "output_type": "execute_result"
    }
   ],
   "source": [
    "dti = pd.date_range(\"2022-10-23\", periods=52, freq=\"W\")\n",
    "len(dti)\n",
    "dti"
   ]
  },
  {
   "cell_type": "code",
   "execution_count": 31,
   "id": "b906c203",
   "metadata": {},
   "outputs": [
    {
     "data": {
      "text/plain": [
       "0      $88,305.00\n",
       "1     $102,000.00\n",
       "2               -\n",
       "3     $355,000.00\n",
       "4     $288,120.00\n",
       "5      $42,600.00\n",
       "6     $114,166.67\n",
       "7     $113,761.91\n",
       "8     $261,000.00\n",
       "9      $41,600.00\n",
       "10              -\n",
       "11    $365,000.00\n",
       "12    $275,500.00\n",
       "13     $28,530.00\n",
       "14    $200,152.00\n",
       "15    $245,800.00\n",
       "16    $151,007.14\n",
       "17              -\n",
       "18     $18,164.00\n",
       "19              -\n",
       "Name: WINNINGS, dtype: object"
      ]
     },
     "execution_count": 31,
     "metadata": {},
     "output_type": "execute_result"
    }
   ],
   "source": [
    "winnings = dataframe2['WINNINGS']\n",
    "winnings"
   ]
  },
  {
   "cell_type": "code",
   "execution_count": 32,
   "id": "6d7cb3d5",
   "metadata": {},
   "outputs": [
    {
     "data": {
      "text/plain": [
       "0      88305.00\n",
       "1     102000.00\n",
       "2             0\n",
       "3     355000.00\n",
       "4     288120.00\n",
       "5      42600.00\n",
       "6     114166.67\n",
       "7     113761.91\n",
       "8     261000.00\n",
       "9      41600.00\n",
       "10            0\n",
       "11    365000.00\n",
       "12    275500.00\n",
       "13     28530.00\n",
       "14    200152.00\n",
       "15    245800.00\n",
       "16    151007.14\n",
       "17            0\n",
       "18     18164.00\n",
       "19            0\n",
       "Name: WINNINGS, dtype: object"
      ]
     },
     "execution_count": 32,
     "metadata": {},
     "output_type": "execute_result"
    }
   ],
   "source": [
    "dataframe2['WINNINGS'] = dataframe2['WINNINGS'].replace({r'\\$':''}, regex = True)\n",
    "dataframe2['WINNINGS'] = dataframe2['WINNINGS'].replace({r'\\,':''}, regex = True)\n",
    "dataframe2['WINNINGS'] = dataframe2['WINNINGS'].replace({r'\\-':'0'}, regex = True)\n",
    "winnings = dataframe2['WINNINGS']\n",
    "winnings"
   ]
  },
  {
   "cell_type": "code",
   "execution_count": 33,
   "id": "bfcb2a1d",
   "metadata": {},
   "outputs": [
    {
     "data": {
      "text/plain": [
       "0      88305.00\n",
       "1     102000.00\n",
       "2          0.00\n",
       "3     355000.00\n",
       "4     288120.00\n",
       "5      42600.00\n",
       "6     114166.67\n",
       "7     113761.91\n",
       "8     261000.00\n",
       "9      41600.00\n",
       "10         0.00\n",
       "11    365000.00\n",
       "12    275500.00\n",
       "13     28530.00\n",
       "14    200152.00\n",
       "15    245800.00\n",
       "16    151007.14\n",
       "17         0.00\n",
       "18     18164.00\n",
       "19         0.00\n",
       "Name: WINNINGS, dtype: float64"
      ]
     },
     "execution_count": 33,
     "metadata": {},
     "output_type": "execute_result"
    }
   ],
   "source": [
    "dataframe2['WINNINGS'] = pd.to_numeric(dataframe2['WINNINGS'])\n",
    "dataframe2['WINNINGS']"
   ]
  },
  {
   "cell_type": "code",
   "execution_count": 34,
   "id": "0b196248",
   "metadata": {},
   "outputs": [
    {
     "data": {
      "text/plain": [
       "<AxesSubplot:xlabel='datetime', ylabel='WINNINGS'>"
      ]
     },
     "execution_count": 34,
     "metadata": {},
     "output_type": "execute_result"
    },
    {
     "data": {
      "image/png": "[encoded data removed]",
      "text/plain": [
       "<Figure size 640x480 with 1 Axes>"
      ]
     },
     "metadata": {},
     "output_type": "display_data"
    }
   ],
   "source": [
    "sns.lineplot(data=dataframe2, x=\"datetime\", y=\"WINNINGS\")"
   ]
  },
  {
   "cell_type": "code",
   "execution_count": 35,
   "id": "5af5f80a",
   "metadata": {},
   "outputs": [
    {
     "data": {
      "text/plain": [
       "134535.336"
      ]
     },
     "execution_count": 35,
     "metadata": {},
     "output_type": "execute_result"
    }
   ],
   "source": [
    "mean = dataframe2.WINNINGS.mean()\n",
    "mean"
   ]
  },
  {
   "cell_type": "code",
   "execution_count": 36,
   "id": "980b3917",
   "metadata": {},
   "outputs": [
    {
     "data": {
      "text/plain": [
       "124907.89379401015"
      ]
     },
     "execution_count": 36,
     "metadata": {},
     "output_type": "execute_result"
    }
   ],
   "source": [
    "sigma = dataframe2.WINNINGS.std()\n",
    "sigma"
   ]
  },
  {
   "cell_type": "code",
   "execution_count": 37,
   "id": "7dee7d47",
   "metadata": {},
   "outputs": [
    {
     "data": {
      "text/html": [
       "<div>\n",
       "<style scoped>\n",
       "    .dataframe tbody tr th:only-of-type {\n",
       "        vertical-align: middle;\n",
       "    }\n",
       "\n",
       "    .dataframe tbody tr th {\n",
       "        vertical-align: top;\n",
       "    }\n",
       "\n",
       "    .dataframe thead th {\n",
       "        text-align: right;\n",
       "    }\n",
       "</style>\n",
       "<table border=\"1\" class=\"dataframe\">\n",
       "  <thead>\n",
       "    <tr style=\"text-align: right;\">\n",
       "      <th></th>\n",
       "      <th>0</th>\n",
       "    </tr>\n",
       "  </thead>\n",
       "  <tbody>\n",
       "    <tr>\n",
       "      <th>2022-10-23</th>\n",
       "      <td>134420</td>\n",
       "    </tr>\n",
       "    <tr>\n",
       "      <th>2022-10-30</th>\n",
       "      <td>133946</td>\n",
       "    </tr>\n",
       "    <tr>\n",
       "      <th>2022-11-06</th>\n",
       "      <td>134533</td>\n",
       "    </tr>\n",
       "    <tr>\n",
       "      <th>2022-11-13</th>\n",
       "      <td>134292</td>\n",
       "    </tr>\n",
       "    <tr>\n",
       "      <th>2022-11-20</th>\n",
       "      <td>135175</td>\n",
       "    </tr>\n",
       "  </tbody>\n",
       "</table>\n",
       "</div>"
      ],
      "text/plain": [
       "                 0\n",
       "2022-10-23  134420\n",
       "2022-10-30  133946\n",
       "2022-11-06  134533\n",
       "2022-11-13  134292\n",
       "2022-11-20  135175"
      ]
     },
     "execution_count": 37,
     "metadata": {},
     "output_type": "execute_result"
    }
   ],
   "source": [
    "rng = np.random.default_rng() \n",
    "d = rng.poisson(mean, len(dti))\n",
    "df = pd.DataFrame(data=d, index = dti)\n",
    "df.head()"
   ]
  },
  {
   "cell_type": "code",
   "execution_count": 38,
   "id": "4d255ec8",
   "metadata": {},
   "outputs": [
    {
     "data": {
      "text/html": [
       "<div>\n",
       "<style scoped>\n",
       "    .dataframe tbody tr th:only-of-type {\n",
       "        vertical-align: middle;\n",
       "    }\n",
       "\n",
       "    .dataframe tbody tr th {\n",
       "        vertical-align: top;\n",
       "    }\n",
       "\n",
       "    .dataframe thead th {\n",
       "        text-align: right;\n",
       "    }\n",
       "</style>\n",
       "<table border=\"1\" class=\"dataframe\">\n",
       "  <thead>\n",
       "    <tr style=\"text-align: right;\">\n",
       "      <th></th>\n",
       "      <th>WINNINGS</th>\n",
       "    </tr>\n",
       "  </thead>\n",
       "  <tbody>\n",
       "    <tr>\n",
       "      <th>2022-10-23</th>\n",
       "      <td>134420</td>\n",
       "    </tr>\n",
       "    <tr>\n",
       "      <th>2022-10-30</th>\n",
       "      <td>133946</td>\n",
       "    </tr>\n",
       "    <tr>\n",
       "      <th>2022-11-06</th>\n",
       "      <td>134533</td>\n",
       "    </tr>\n",
       "    <tr>\n",
       "      <th>2022-11-13</th>\n",
       "      <td>134292</td>\n",
       "    </tr>\n",
       "    <tr>\n",
       "      <th>2022-11-20</th>\n",
       "      <td>135175</td>\n",
       "    </tr>\n",
       "  </tbody>\n",
       "</table>\n",
       "</div>"
      ],
      "text/plain": [
       "            WINNINGS\n",
       "2022-10-23    134420\n",
       "2022-10-30    133946\n",
       "2022-11-06    134533\n",
       "2022-11-13    134292\n",
       "2022-11-20    135175"
      ]
     },
     "execution_count": 38,
     "metadata": {},
     "output_type": "execute_result"
    }
   ],
   "source": [
    "df.columns =['WINNINGS']\n",
    "df.head()"
   ]
  },
  {
   "cell_type": "code",
   "execution_count": 39,
   "id": "8dacf984",
   "metadata": {},
   "outputs": [
    {
     "data": {
      "text/plain": [
       "<AxesSubplot:ylabel='WINNINGS'>"
      ]
     },
     "execution_count": 39,
     "metadata": {},
     "output_type": "execute_result"
    },
    {
     "data": {
      "image/png": "[encoded data removed]",
      "text/plain": [
       "<Figure size 640x480 with 1 Axes>"
      ]
     },
     "metadata": {},
     "output_type": "display_data"
    }
   ],
   "source": [
    "sns.lineplot(data=df, x=df.index, y=\"WINNINGS\")"
   ]
  },
  {
   "cell_type": "code",
   "execution_count": 40,
   "id": "d9a82357",
   "metadata": {},
   "outputs": [
    {
     "data": {
      "text/plain": [
       "<AxesSubplot:>"
      ]
     },
     "execution_count": 40,
     "metadata": {},
     "output_type": "execute_result"
    },
    {
     "data": {
      "image/png": "[encoded data removed]",
      "text/plain": [
       "<Figure size 640x480 with 1 Axes>"
      ]
     },
     "metadata": {},
     "output_type": "display_data"
    }
   ],
   "source": [
    "df.plot(y=\"WINNINGS\")"
   ]
  },
  {
   "cell_type": "code",
   "execution_count": 41,
   "id": "13d76454",
   "metadata": {},
   "outputs": [
    {
     "data": {
      "text/html": [
       "<div>\n",
       "<style scoped>\n",
       "    .dataframe tbody tr th:only-of-type {\n",
       "        vertical-align: middle;\n",
       "    }\n",
       "\n",
       "    .dataframe tbody tr th {\n",
       "        vertical-align: top;\n",
       "    }\n",
       "\n",
       "    .dataframe thead th {\n",
       "        text-align: right;\n",
       "    }\n",
       "</style>\n",
       "<table border=\"1\" class=\"dataframe\">\n",
       "  <thead>\n",
       "    <tr style=\"text-align: right;\">\n",
       "      <th></th>\n",
       "      <th>0</th>\n",
       "    </tr>\n",
       "  </thead>\n",
       "  <tbody>\n",
       "    <tr>\n",
       "      <th>2022-10-23</th>\n",
       "      <td>154510.216249</td>\n",
       "    </tr>\n",
       "    <tr>\n",
       "      <th>2022-10-30</th>\n",
       "      <td>140937.391532</td>\n",
       "    </tr>\n",
       "    <tr>\n",
       "      <th>2022-11-06</th>\n",
       "      <td>-34827.554241</td>\n",
       "    </tr>\n",
       "    <tr>\n",
       "      <th>2022-11-13</th>\n",
       "      <td>194979.010658</td>\n",
       "    </tr>\n",
       "    <tr>\n",
       "      <th>2022-11-20</th>\n",
       "      <td>102325.302222</td>\n",
       "    </tr>\n",
       "  </tbody>\n",
       "</table>\n",
       "</div>"
      ],
      "text/plain": [
       "                        0\n",
       "2022-10-23  154510.216249\n",
       "2022-10-30  140937.391532\n",
       "2022-11-06  -34827.554241\n",
       "2022-11-13  194979.010658\n",
       "2022-11-20  102325.302222"
      ]
     },
     "execution_count": 41,
     "metadata": {},
     "output_type": "execute_result"
    }
   ],
   "source": [
    "d = rng.normal(mean,sigma,len(dti))\n",
    "df = pd.DataFrame(data=d, index = dti)\n",
    "df.head()"
   ]
  },
  {
   "cell_type": "code",
   "execution_count": 42,
   "id": "982e8904",
   "metadata": {},
   "outputs": [
    {
     "data": {
      "text/html": [
       "<div>\n",
       "<style scoped>\n",
       "    .dataframe tbody tr th:only-of-type {\n",
       "        vertical-align: middle;\n",
       "    }\n",
       "\n",
       "    .dataframe tbody tr th {\n",
       "        vertical-align: top;\n",
       "    }\n",
       "\n",
       "    .dataframe thead th {\n",
       "        text-align: right;\n",
       "    }\n",
       "</style>\n",
       "<table border=\"1\" class=\"dataframe\">\n",
       "  <thead>\n",
       "    <tr style=\"text-align: right;\">\n",
       "      <th></th>\n",
       "      <th>WINNINGS</th>\n",
       "    </tr>\n",
       "  </thead>\n",
       "  <tbody>\n",
       "    <tr>\n",
       "      <th>2022-10-23</th>\n",
       "      <td>154510.216249</td>\n",
       "    </tr>\n",
       "    <tr>\n",
       "      <th>2022-10-30</th>\n",
       "      <td>140937.391532</td>\n",
       "    </tr>\n",
       "    <tr>\n",
       "      <th>2022-11-06</th>\n",
       "      <td>-34827.554241</td>\n",
       "    </tr>\n",
       "    <tr>\n",
       "      <th>2022-11-13</th>\n",
       "      <td>194979.010658</td>\n",
       "    </tr>\n",
       "    <tr>\n",
       "      <th>2022-11-20</th>\n",
       "      <td>102325.302222</td>\n",
       "    </tr>\n",
       "  </tbody>\n",
       "</table>\n",
       "</div>"
      ],
      "text/plain": [
       "                 WINNINGS\n",
       "2022-10-23  154510.216249\n",
       "2022-10-30  140937.391532\n",
       "2022-11-06  -34827.554241\n",
       "2022-11-13  194979.010658\n",
       "2022-11-20  102325.302222"
      ]
     },
     "execution_count": 42,
     "metadata": {},
     "output_type": "execute_result"
    }
   ],
   "source": [
    "df.columns =['WINNINGS']\n",
    "df.head()"
   ]
  },
  {
   "cell_type": "code",
   "execution_count": 43,
   "id": "a20e91d6",
   "metadata": {},
   "outputs": [
    {
     "data": {
      "text/plain": [
       "<AxesSubplot:>"
      ]
     },
     "execution_count": 43,
     "metadata": {},
     "output_type": "execute_result"
    },
    {
     "data": {
      "image/png": "[encoded data removed]",
      "text/plain": [
       "<Figure size 640x480 with 1 Axes>"
      ]
     },
     "metadata": {},
     "output_type": "display_data"
    }
   ],
   "source": [
    "df.plot(y=\"WINNINGS\")"
   ]
  },
  {
   "cell_type": "code",
   "execution_count": 63,
   "id": "66bc31d5",
   "metadata": {},
   "outputs": [
    {
     "data": {
      "text/plain": [
       "<AxesSubplot:ylabel='WINNINGS'>"
      ]
     },
     "execution_count": 63,
     "metadata": {},
     "output_type": "execute_result"
    },
    {
     "data": {
      "image/png": "[encoded data removed]",
      "text/plain": [
       "<Figure size 640x480 with 1 Axes>"
      ]
     },
     "metadata": {},
     "output_type": "display_data"
    }
   ],
   "source": [
    "sns.lineplot(data=df, x=df.index, y=\"WINNINGS\")"
   ]
  },
  {
   "cell_type": "code",
   "execution_count": 44,
   "id": "c7c94311",
   "metadata": {},
   "outputs": [],
   "source": [
    "def f(x):\n",
    "  A = 1.0 / np.sqrt(2.0 * np.pi)\n",
    "  B = np.exp(-(x**2) / 2.0)\n",
    "  return A * B"
   ]
  },
  {
   "cell_type": "code",
   "execution_count": 45,
   "id": "e5e8b5a0",
   "metadata": {},
   "outputs": [
    {
     "data": {
      "text/plain": [
       "0.3989422804014327"
      ]
     },
     "execution_count": 45,
     "metadata": {},
     "output_type": "execute_result"
    }
   ],
   "source": [
    "f(0.0)"
   ]
  },
  {
   "cell_type": "code",
   "execution_count": 46,
   "id": "454c628c",
   "metadata": {},
   "outputs": [
    {
     "data": {
      "text/plain": [
       "0.0044318484119380075"
      ]
     },
     "execution_count": 46,
     "metadata": {},
     "output_type": "execute_result"
    }
   ],
   "source": [
    "f(3.0)"
   ]
  },
  {
   "cell_type": "code",
   "execution_count": 47,
   "id": "44cbbc02",
   "metadata": {},
   "outputs": [
    {
     "data": {
      "text/plain": [
       "0.0"
      ]
     },
     "execution_count": 47,
     "metadata": {},
     "output_type": "execute_result"
    }
   ],
   "source": [
    "f(300.0)"
   ]
  },
  {
   "cell_type": "code",
   "execution_count": 48,
   "id": "1af6b88d",
   "metadata": {},
   "outputs": [
    {
     "data": {
      "image/png": "[encoded data removed]",
      "text/plain": [
       "<Figure size 1200x400 with 1 Axes>"
      ]
     },
     "metadata": {},
     "output_type": "display_data"
    }
   ],
   "source": [
    "# Range of x values for plotting.\n",
    "x = np.linspace(-5.0, 5.0, 1001)\n",
    "\n",
    "# Create empty plot.\n",
    "fig, ax = plt.subplots(figsize=(12, 4))\n",
    "\n",
    "# Plot f(x).\n",
    "ax.plot(x, f(x));"
   ]
  },
  {
   "cell_type": "code",
   "execution_count": 49,
   "id": "81c028a8",
   "metadata": {},
   "outputs": [
    {
     "data": {
      "image/png": "[encoded data removed]",
      "text/plain": [
       "<Figure size 1200x400 with 1 Axes>"
      ]
     },
     "metadata": {},
     "output_type": "display_data"
    }
   ],
   "source": [
    "# Range of x values for plotting.\n",
    "x = np.linspace(250.0, 350.0,350)\n",
    "y=  np.random.normal(300,20,350)\n",
    "\n",
    "# Create empty plot.\n",
    "fig, ax = plt.subplots(figsize=(12, 4))\n",
    "\n",
    "# Plot f(x).\n",
    "ax.hist(x)\n",
    "\n",
    "# Plot histogram of randomly generated normal values from above.\n",
    "ax.plot(x, y)\n",
    "\n",
    "plt.show()"
   ]
  },
  {
   "cell_type": "code",
   "execution_count": 50,
   "id": "812b1dba",
   "metadata": {
    "scrolled": true
   },
   "outputs": [
    {
     "data": {
      "text/plain": [
       "19"
      ]
     },
     "execution_count": 50,
     "metadata": {},
     "output_type": "execute_result"
    }
   ],
   "source": [
    "import numpy as np\n",
    "rng.integers(10,25)"
   ]
  },
  {
   "cell_type": "code",
   "execution_count": 51,
   "id": "bee009cd",
   "metadata": {},
   "outputs": [
    {
     "data": {
      "text/plain": [
       "array([ 1, 81, 93, 71, 58, 83, 25, 96, 70, 38], dtype=int64)"
      ]
     },
     "execution_count": 51,
     "metadata": {},
     "output_type": "execute_result"
    }
   ],
   "source": [
    "rng.integers(100, size=10)"
   ]
  },
  {
   "cell_type": "code",
   "execution_count": 52,
   "id": "cc6b2daa",
   "metadata": {},
   "outputs": [
    {
     "data": {
      "text/plain": [
       "array([84, 88, 51, 58, 82, 87, 97, 77, 95, 88], dtype=int64)"
      ]
     },
     "execution_count": 52,
     "metadata": {},
     "output_type": "execute_result"
    }
   ],
   "source": [
    "rng.integers(50,100, size=10)"
   ]
  },
  {
   "cell_type": "code",
   "execution_count": 53,
   "id": "8957aebb",
   "metadata": {},
   "outputs": [
    {
     "data": {
      "text/plain": [
       "array([[ 8, 61, 43, 22],\n",
       "       [59,  0, 23, 70]], dtype=int64)"
      ]
     },
     "execution_count": 53,
     "metadata": {},
     "output_type": "execute_result"
    }
   ],
   "source": [
    "rng.integers(100, size=(2,4))"
   ]
  },
  {
   "cell_type": "code",
   "execution_count": 54,
   "id": "191be29f",
   "metadata": {},
   "outputs": [
    {
     "data": {
      "text/plain": [
       "0.19457278535471556"
      ]
     },
     "execution_count": 54,
     "metadata": {},
     "output_type": "execute_result"
    }
   ],
   "source": [
    "rng.random()"
   ]
  },
  {
   "cell_type": "code",
   "execution_count": 55,
   "id": "4e63d121",
   "metadata": {},
   "outputs": [
    {
     "data": {
      "text/plain": [
       "array([0.734726  , 0.84816044, 0.26354195, 0.87070485, 0.59485546])"
      ]
     },
     "execution_count": 55,
     "metadata": {},
     "output_type": "execute_result"
    }
   ],
   "source": [
    "rng.random(5)"
   ]
  },
  {
   "cell_type": "code",
   "execution_count": 56,
   "id": "feecd71f",
   "metadata": {},
   "outputs": [
    {
     "data": {
      "text/plain": [
       "array([[0.93884535, 0.94122278, 0.40692989, 0.74050807],\n",
       "       [0.58200203, 0.80689865, 0.03779134, 0.22430667],\n",
       "       [0.2154028 , 0.77811507, 0.90461423, 0.33981909],\n",
       "       [0.83068819, 0.25911107, 0.98762406, 0.82991971],\n",
       "       [0.71211561, 0.24824532, 0.56894285, 0.03062686]])"
      ]
     },
     "execution_count": 56,
     "metadata": {},
     "output_type": "execute_result"
    }
   ],
   "source": [
    "rng.random((5,4))"
   ]
  },
  {
   "cell_type": "code",
   "execution_count": 57,
   "id": "51464077",
   "metadata": {},
   "outputs": [
    {
     "data": {
      "text/plain": [
       "array([0.59622424, 0.00290357, 0.10593549, ..., 0.5235309 , 0.548402  ,\n",
       "       0.51736599])"
      ]
     },
     "execution_count": 57,
     "metadata": {},
     "output_type": "execute_result"
    }
   ],
   "source": [
    "x = rng.random(1000000)\n",
    "x"
   ]
  },
  {
   "cell_type": "code",
   "execution_count": 58,
   "id": "b723593d",
   "metadata": {},
   "outputs": [
    {
     "data": {
      "image/png": "[encoded data removed]",
      "text/plain": [
       "<Figure size 640x480 with 1 Axes>"
      ]
     },
     "metadata": {},
     "output_type": "display_data"
    }
   ],
   "source": [
    "import matplotlib.pyplot as plt\n",
    "plt.hist(x)\n",
    "plt.show()"
   ]
  },
  {
   "cell_type": "code",
   "execution_count": 59,
   "id": "299fd182",
   "metadata": {},
   "outputs": [
    {
     "name": "stdout",
     "output_type": "stream",
     "text": [
      "0.6522992627009107\n"
     ]
    }
   ],
   "source": [
    "rng = np.random.default_rng(seed=43)\n",
    "x = rng.random()\n",
    "print(x)"
   ]
  },
  {
   "cell_type": "code",
   "execution_count": 60,
   "id": "24b45be7",
   "metadata": {},
   "outputs": [
    {
     "name": "stdout",
     "output_type": "stream",
     "text": [
      "6\n"
     ]
    }
   ],
   "source": [
    "rng = np.random.default_rng(seed=44)\n",
    "x = rng.integers(10)\n",
    "print(x)"
   ]
  },
  {
   "cell_type": "code",
   "execution_count": 61,
   "id": "f9bb8a58",
   "metadata": {},
   "outputs": [
    {
     "name": "stdout",
     "output_type": "stream",
     "text": [
      "[[0.65229926 0.04377532 0.02002959 0.83921258]\n",
      " [0.58714305 0.22470523 0.75179227 0.2636922 ]]\n"
     ]
    }
   ],
   "source": [
    "rng = np.random.default_rng(seed=43)\n",
    "x = rng.random((2,4))\n",
    "print(x)"
   ]
  },
  {
   "cell_type": "code",
   "execution_count": 62,
   "id": "25e7a0e0",
   "metadata": {},
   "outputs": [
    {
     "name": "stdout",
     "output_type": "stream",
     "text": [
      "[[75 82 70]\n",
      " [52 78 51]\n",
      " [63 91 73]]\n"
     ]
    }
   ],
   "source": [
    "rng = np.random.default_rng(seed=43)\n",
    "x = rng.integers(50,100,size=(3,3))\n",
    "print(x)"
   ]
  }
 ],
 "metadata": {
  "kernelspec": {
   "display_name": "Python 3 (ipykernel)",
   "language": "python",
   "name": "python3"
  },
  "language_info": {
   "codemirror_mode": {
    "name": "ipython",
    "version": 3
   },
   "file_extension": ".py",
   "mimetype": "text/x-python",
   "name": "python",
   "nbconvert_exporter": "python",
   "pygments_lexer": "ipython3",
   "version": "3.9.13"
  }
 },
 "nbformat": 4,
 "nbformat_minor": 5
}
